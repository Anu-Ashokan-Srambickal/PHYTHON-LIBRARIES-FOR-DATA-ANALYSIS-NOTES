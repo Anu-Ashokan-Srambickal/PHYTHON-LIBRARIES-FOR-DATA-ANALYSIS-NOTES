{
 "cells": [
  {
   "cell_type": "code",
   "execution_count": 2,
   "id": "ec73cc66-33a9-499d-bdf0-884a18f97955",
   "metadata": {},
   "outputs": [],
   "source": [
    "import numpy as np\n",
    "import pandas as pd"
   ]
  },
  {
   "cell_type": "code",
   "execution_count": 3,
   "id": "870c5df4-542f-46ff-a753-04e4195cf362",
   "metadata": {},
   "outputs": [
    {
     "data": {
      "text/html": [
       "<div>\n",
       "<style scoped>\n",
       "    .dataframe tbody tr th:only-of-type {\n",
       "        vertical-align: middle;\n",
       "    }\n",
       "\n",
       "    .dataframe tbody tr th {\n",
       "        vertical-align: top;\n",
       "    }\n",
       "\n",
       "    .dataframe thead th {\n",
       "        text-align: right;\n",
       "    }\n",
       "</style>\n",
       "<table border=\"1\" class=\"dataframe\">\n",
       "  <thead>\n",
       "    <tr style=\"text-align: right;\">\n",
       "      <th></th>\n",
       "      <th>LocationID</th>\n",
       "      <th>Country</th>\n",
       "      <th>Category</th>\n",
       "      <th>Visitors</th>\n",
       "      <th>Rating</th>\n",
       "    </tr>\n",
       "  </thead>\n",
       "  <tbody>\n",
       "    <tr>\n",
       "      <th>0</th>\n",
       "      <td>L0001</td>\n",
       "      <td>Egypt</td>\n",
       "      <td>City Break</td>\n",
       "      <td>4094924</td>\n",
       "      <td>1.7</td>\n",
       "    </tr>\n",
       "  </tbody>\n",
       "</table>\n",
       "</div>"
      ],
      "text/plain": [
       "  LocationID Country    Category  Visitors  Rating\n",
       "0      L0001   Egypt  City Break   4094924     1.7"
      ]
     },
     "execution_count": 3,
     "metadata": {},
     "output_type": "execute_result"
    }
   ],
   "source": [
    "df = pd.read_csv(r'C:\\Users\\Surface Pro\\Desktop\\ENTRI APP\\phython\\seaborn-matplotlib\\tourism_data.csv')\n",
    "df.head(1)"
   ]
  },
  {
   "cell_type": "code",
   "execution_count": null,
   "id": "aadfb245-0b30-4b98-9518-c871dc9d35b7",
   "metadata": {},
   "outputs": [],
   "source": [
    "1.\n",
    "Top 5 Countries by Total Visitors:\n",
    "Identify the top 5 countries with the highest total number of visitors.\n",
    "The result should be a list of dictionaries, where each dictionary contains the 'Country' name and the 'Total_Visitors'."
   ]
  },
  {
   "cell_type": "code",
   "execution_count": 10,
   "id": "d6f36967-3a66-40e6-8c28-4502b9651bf5",
   "metadata": {},
   "outputs": [
    {
     "data": {
      "text/plain": [
       "Country\n",
       "India           159013770\n",
       "France          151257005\n",
       "South Africa    149498186\n",
       "Egypt           144341427\n",
       "Turkey          142451805\n",
       "Name: Visitors, dtype: int64"
      ]
     },
     "execution_count": 10,
     "metadata": {},
     "output_type": "execute_result"
    }
   ],
   "source": [
    "top_5_countries = df.groupby('Country')['Visitors'].sum().nlargest(5).sort_values(ascending=False)\n",
    "top_5_countries"
   ]
  },
  {
   "cell_type": "code",
   "execution_count": 8,
   "id": "2d5540b1-ad95-428b-93cc-f4c20672e6e2",
   "metadata": {},
   "outputs": [
    {
     "data": {
      "text/plain": [
       "{'country': ['India', 'France', 'South Africa', 'Egypt', 'Turkey'],\n",
       " 'total_visitors': [159013770, 151257005, 149498186, 144341427, 142451805]}"
      ]
     },
     "execution_count": 8,
     "metadata": {},
     "output_type": "execute_result"
    }
   ],
   "source": [
    "top5countryvisitors = {'country' : ['India', 'France', 'South Africa', 'Egypt', 'Turkey'], \n",
    "                       'total_visitors' : [159013770, 151257005, 149498186, 144341427, 142451805]} \n",
    "top5countryvisitors"
   ]
  },
  {
   "cell_type": "markdown",
   "id": "92064794-3dea-4c94-8009-a1e691640e7c",
   "metadata": {},
   "source": [
    "______________"
   ]
  },
  {
   "cell_type": "code",
   "execution_count": null,
   "id": "82e46cc3-e8e8-4388-965c-5531fe6e06a4",
   "metadata": {},
   "outputs": [],
   "source": [
    "Average Rating per Category:\n",
    "Calculate the average rating for each Category.\n",
    "The result should be a dictionary where the keys are the Category names and the values are their corresponding average ratings, \n",
    "rounded to two decimal places."
   ]
  },
  {
   "cell_type": "code",
   "execution_count": 11,
   "id": "29bc3f0c-5842-406b-8e7f-e79f94ad5150",
   "metadata": {},
   "outputs": [
    {
     "data": {
      "text/html": [
       "<div>\n",
       "<style scoped>\n",
       "    .dataframe tbody tr th:only-of-type {\n",
       "        vertical-align: middle;\n",
       "    }\n",
       "\n",
       "    .dataframe tbody tr th {\n",
       "        vertical-align: top;\n",
       "    }\n",
       "\n",
       "    .dataframe thead th {\n",
       "        text-align: right;\n",
       "    }\n",
       "</style>\n",
       "<table border=\"1\" class=\"dataframe\">\n",
       "  <thead>\n",
       "    <tr style=\"text-align: right;\">\n",
       "      <th></th>\n",
       "      <th>LocationID</th>\n",
       "      <th>Country</th>\n",
       "      <th>Category</th>\n",
       "      <th>Visitors</th>\n",
       "      <th>Rating</th>\n",
       "    </tr>\n",
       "  </thead>\n",
       "  <tbody>\n",
       "    <tr>\n",
       "      <th>0</th>\n",
       "      <td>L0001</td>\n",
       "      <td>Egypt</td>\n",
       "      <td>City Break</td>\n",
       "      <td>4094924</td>\n",
       "      <td>1.7</td>\n",
       "    </tr>\n",
       "  </tbody>\n",
       "</table>\n",
       "</div>"
      ],
      "text/plain": [
       "  LocationID Country    Category  Visitors  Rating\n",
       "0      L0001   Egypt  City Break   4094924     1.7"
      ]
     },
     "execution_count": 11,
     "metadata": {},
     "output_type": "execute_result"
    }
   ],
   "source": [
    "df.head(1)"
   ]
  },
  {
   "cell_type": "code",
   "execution_count": 14,
   "id": "3f63e8f0-19c1-4dee-8b1a-85d10d77b192",
   "metadata": {},
   "outputs": [
    {
     "data": {
      "text/plain": [
       "Category\n",
       "Skiing        2.87\n",
       "City Break    2.93\n",
       "Beach         2.94\n",
       "Nature        2.95\n",
       "Historical    3.02\n",
       "Cultural      3.05\n",
       "Adventure     3.14\n",
       "Name: Rating, dtype: float64"
      ]
     },
     "execution_count": 14,
     "metadata": {},
     "output_type": "execute_result"
    }
   ],
   "source": [
    "average_rating_per_categeory = df.groupby('Category')['Rating'].mean().round(2).sort_values()\n",
    "average_rating_per_categeory"
   ]
  },
  {
   "cell_type": "code",
   "execution_count": 15,
   "id": "aaa388d7-f392-433b-a576-7c0f31d10f79",
   "metadata": {},
   "outputs": [
    {
     "data": {
      "text/plain": [
       "{'categeory': ['skiing',\n",
       "  'city break',\n",
       "  'beach',\n",
       "  'nature',\n",
       "  'historical',\n",
       "  'cultural',\n",
       "  'adventure'],\n",
       " 'rating': [2.87, 2.93, 2.94, 2.95, 3.02, 3.05, 3.14]}"
      ]
     },
     "execution_count": 15,
     "metadata": {},
     "output_type": "execute_result"
    }
   ],
   "source": [
    "avg_ratingPerCategeory = {'categeory' : ['skiing', 'city break', 'beach', 'nature', 'historical', 'cultural', 'adventure'],\n",
    "                          'rating' : [2.87, 2.93, 2.94, 2.95, 3.02, 3.05, 3.14]}\n",
    "avg_ratingPerCategeory"
   ]
  },
  {
   "cell_type": "markdown",
   "id": "9f398d59-da1b-4332-9406-c7163be33662",
   "metadata": {},
   "source": [
    "__________"
   ]
  },
  {
   "cell_type": "code",
   "execution_count": null,
   "id": "9c04f1c2-ce36-4391-94f9-601a27789b87",
   "metadata": {},
   "outputs": [],
   "source": [
    "3. Country with the Highest-Rated Location:\n",
    "Find the country that has the single highest-rated tourist location.\n",
    "Return a dictionary with the 'Country' and the 'Location' name of this highest-rated spot.\n",
    "If there's a tie, any one of the tied locations is an acceptable answer."
   ]
  },
  {
   "cell_type": "code",
   "execution_count": 22,
   "id": "592e6fea-b6c7-4077-ba51-94639ef16204",
   "metadata": {},
   "outputs": [
    {
     "data": {
      "text/html": [
       "<div>\n",
       "<style scoped>\n",
       "    .dataframe tbody tr th:only-of-type {\n",
       "        vertical-align: middle;\n",
       "    }\n",
       "\n",
       "    .dataframe tbody tr th {\n",
       "        vertical-align: top;\n",
       "    }\n",
       "\n",
       "    .dataframe thead th {\n",
       "        text-align: right;\n",
       "    }\n",
       "</style>\n",
       "<table border=\"1\" class=\"dataframe\">\n",
       "  <thead>\n",
       "    <tr style=\"text-align: right;\">\n",
       "      <th></th>\n",
       "      <th>LocationID</th>\n",
       "      <th>Country</th>\n",
       "      <th>Category</th>\n",
       "      <th>Visitors</th>\n",
       "      <th>Rating</th>\n",
       "    </tr>\n",
       "  </thead>\n",
       "  <tbody>\n",
       "    <tr>\n",
       "      <th>0</th>\n",
       "      <td>L0001</td>\n",
       "      <td>Egypt</td>\n",
       "      <td>City Break</td>\n",
       "      <td>4094924</td>\n",
       "      <td>1.7</td>\n",
       "    </tr>\n",
       "  </tbody>\n",
       "</table>\n",
       "</div>"
      ],
      "text/plain": [
       "  LocationID Country    Category  Visitors  Rating\n",
       "0      L0001   Egypt  City Break   4094924     1.7"
      ]
     },
     "execution_count": 22,
     "metadata": {},
     "output_type": "execute_result"
    }
   ],
   "source": [
    "df.head(1)"
   ]
  },
  {
   "cell_type": "code",
   "execution_count": 27,
   "id": "74d809d0-e2b2-4dc0-a7e2-0e52785c0643",
   "metadata": {},
   "outputs": [
    {
     "data": {
      "text/plain": [
       "LocationID       L0004\n",
       "Country        Germany\n",
       "Category      Cultural\n",
       "Visitors       1410578\n",
       "Rating             5.0\n",
       "Name: 3, dtype: object"
      ]
     },
     "execution_count": 27,
     "metadata": {},
     "output_type": "execute_result"
    }
   ],
   "source": [
    "df.loc[df['Rating'].idxmax()]"
   ]
  },
  {
   "cell_type": "code",
   "execution_count": 29,
   "id": "296e45b0-8ad9-4ad7-bffc-0e6e392cc875",
   "metadata": {},
   "outputs": [
    {
     "data": {
      "text/plain": [
       "{'country': 'Germany', 'location': 'cultural'}"
      ]
     },
     "execution_count": 29,
     "metadata": {},
     "output_type": "execute_result"
    }
   ],
   "source": [
    "highest_rated_spot = { 'country' :'Germany', 'location' : 'cultural' } \n",
    "highest_rated_spot"
   ]
  },
  {
   "cell_type": "markdown",
   "id": "1953a3e3-3ebd-46db-a646-9d01866ea4ec",
   "metadata": {},
   "source": [
    "___________"
   ]
  },
  {
   "cell_type": "code",
   "execution_count": null,
   "id": "56aeb039-3abd-406f-91b8-c8b7f8ea8a43",
   "metadata": {},
   "outputs": [],
   "source": [
    "Correlation between Visitors and Rating:\n",
    "\n",
    "Calculate the Pearson correlation coefficient between the 'Visitors' and 'Rating' columns.\n",
    "The result should be a single floating-point number, rounded to three decimal places."
   ]
  },
  {
   "cell_type": "code",
   "execution_count": 30,
   "id": "d76cc66a-e8d8-402c-a5a2-8f6f56cc8818",
   "metadata": {},
   "outputs": [
    {
     "data": {
      "text/html": [
       "<div>\n",
       "<style scoped>\n",
       "    .dataframe tbody tr th:only-of-type {\n",
       "        vertical-align: middle;\n",
       "    }\n",
       "\n",
       "    .dataframe tbody tr th {\n",
       "        vertical-align: top;\n",
       "    }\n",
       "\n",
       "    .dataframe thead th {\n",
       "        text-align: right;\n",
       "    }\n",
       "</style>\n",
       "<table border=\"1\" class=\"dataframe\">\n",
       "  <thead>\n",
       "    <tr style=\"text-align: right;\">\n",
       "      <th></th>\n",
       "      <th>LocationID</th>\n",
       "      <th>Country</th>\n",
       "      <th>Category</th>\n",
       "      <th>Visitors</th>\n",
       "      <th>Rating</th>\n",
       "    </tr>\n",
       "  </thead>\n",
       "  <tbody>\n",
       "    <tr>\n",
       "      <th>0</th>\n",
       "      <td>L0001</td>\n",
       "      <td>Egypt</td>\n",
       "      <td>City Break</td>\n",
       "      <td>4094924</td>\n",
       "      <td>1.7</td>\n",
       "    </tr>\n",
       "  </tbody>\n",
       "</table>\n",
       "</div>"
      ],
      "text/plain": [
       "  LocationID Country    Category  Visitors  Rating\n",
       "0      L0001   Egypt  City Break   4094924     1.7"
      ]
     },
     "execution_count": 30,
     "metadata": {},
     "output_type": "execute_result"
    }
   ],
   "source": [
    "df.head(1)"
   ]
  },
  {
   "cell_type": "code",
   "execution_count": 36,
   "id": "13978e4a-b746-4d1e-a071-1e4690379573",
   "metadata": {},
   "outputs": [
    {
     "data": {
      "text/plain": [
       "-0.053"
      ]
     },
     "execution_count": 36,
     "metadata": {},
     "output_type": "execute_result"
    }
   ],
   "source": [
    "df['Visitors'].corr(df['Rating']).round(3)"
   ]
  },
  {
   "cell_type": "markdown",
   "id": "27e0deb5-1a6b-4992-bc6f-67264e7e2fb6",
   "metadata": {},
   "source": [
    "____________"
   ]
  },
  {
   "cell_type": "markdown",
   "id": "8e62bd09-6e5d-4240-bbc1-8f8a95012ac2",
   "metadata": {},
   "source": [
    "## Retail Sales Data Analysis"
   ]
  },
  {
   "cell_type": "code",
   "execution_count": 5,
   "id": "b615dbe3-8a29-4dbb-910d-c597fa03f1ba",
   "metadata": {},
   "outputs": [
    {
     "data": {
      "text/html": [
       "<div>\n",
       "<style scoped>\n",
       "    .dataframe tbody tr th:only-of-type {\n",
       "        vertical-align: middle;\n",
       "    }\n",
       "\n",
       "    .dataframe tbody tr th {\n",
       "        vertical-align: top;\n",
       "    }\n",
       "\n",
       "    .dataframe thead th {\n",
       "        text-align: right;\n",
       "    }\n",
       "</style>\n",
       "<table border=\"1\" class=\"dataframe\">\n",
       "  <thead>\n",
       "    <tr style=\"text-align: right;\">\n",
       "      <th></th>\n",
       "      <th>OrderID</th>\n",
       "      <th>ProductID</th>\n",
       "      <th>Category</th>\n",
       "      <th>Quantity</th>\n",
       "      <th>UnitPrice</th>\n",
       "      <th>CustomerID</th>\n",
       "      <th>Date</th>\n",
       "    </tr>\n",
       "  </thead>\n",
       "  <tbody>\n",
       "    <tr>\n",
       "      <th>0</th>\n",
       "      <td>1</td>\n",
       "      <td>P124</td>\n",
       "      <td>Food &amp; Beverage</td>\n",
       "      <td>3</td>\n",
       "      <td>73.89</td>\n",
       "      <td>C0407</td>\n",
       "      <td>2025-07-26</td>\n",
       "    </tr>\n",
       "  </tbody>\n",
       "</table>\n",
       "</div>"
      ],
      "text/plain": [
       "   OrderID ProductID         Category  Quantity  UnitPrice CustomerID  \\\n",
       "0        1      P124  Food & Beverage         3      73.89      C0407   \n",
       "\n",
       "         Date  \n",
       "0  2025-07-26  "
      ]
     },
     "execution_count": 5,
     "metadata": {},
     "output_type": "execute_result"
    }
   ],
   "source": [
    "df1 = pd.read_csv(r'C:\\Users\\Surface Pro\\Desktop\\ENTRI APP\\phython\\seaborn-matplotlib\\retail_sales.csv')\n",
    "df1.head(1)"
   ]
  },
  {
   "cell_type": "code",
   "execution_count": null,
   "id": "233ea42b-066c-402b-a27a-724e8acf718f",
   "metadata": {},
   "outputs": [],
   "source": [
    "•Top3 Best-Selling Categories:\n",
    "\n",
    "Find the top 3 product categories based on the total revenue they generated.\n",
    "The result should be a list of dictionaries, where each dictionary contains the 'Category' name and the 'Total_Revenue',\n",
    "rounded to two decimal places."
   ]
  },
  {
   "cell_type": "code",
   "execution_count": 13,
   "id": "a6994d77-a2c1-422f-8ec6-0f1eca6e3722",
   "metadata": {},
   "outputs": [
    {
     "data": {
      "text/html": [
       "<div>\n",
       "<style scoped>\n",
       "    .dataframe tbody tr th:only-of-type {\n",
       "        vertical-align: middle;\n",
       "    }\n",
       "\n",
       "    .dataframe tbody tr th {\n",
       "        vertical-align: top;\n",
       "    }\n",
       "\n",
       "    .dataframe thead th {\n",
       "        text-align: right;\n",
       "    }\n",
       "</style>\n",
       "<table border=\"1\" class=\"dataframe\">\n",
       "  <thead>\n",
       "    <tr style=\"text-align: right;\">\n",
       "      <th></th>\n",
       "      <th>OrderID</th>\n",
       "      <th>ProductID</th>\n",
       "      <th>Category</th>\n",
       "      <th>Quantity</th>\n",
       "      <th>UnitPrice</th>\n",
       "      <th>CustomerID</th>\n",
       "      <th>Date</th>\n",
       "      <th>Total_Revenue</th>\n",
       "    </tr>\n",
       "  </thead>\n",
       "  <tbody>\n",
       "    <tr>\n",
       "      <th>0</th>\n",
       "      <td>1</td>\n",
       "      <td>P124</td>\n",
       "      <td>Food &amp; Beverage</td>\n",
       "      <td>3</td>\n",
       "      <td>73.89</td>\n",
       "      <td>C0407</td>\n",
       "      <td>2025-07-26</td>\n",
       "      <td>221.67</td>\n",
       "    </tr>\n",
       "  </tbody>\n",
       "</table>\n",
       "</div>"
      ],
      "text/plain": [
       "   OrderID ProductID         Category  Quantity  UnitPrice CustomerID  \\\n",
       "0        1      P124  Food & Beverage         3      73.89      C0407   \n",
       "\n",
       "         Date  Total_Revenue  \n",
       "0  2025-07-26         221.67  "
      ]
     },
     "execution_count": 13,
     "metadata": {},
     "output_type": "execute_result"
    }
   ],
   "source": [
    "df1['Total_Revenue'] = df1['Quantity'] * df1['UnitPrice']\n",
    "df1.head(1)"
   ]
  },
  {
   "cell_type": "code",
   "execution_count": 41,
   "id": "1b672cd7-264d-4d93-9f54-45010dd78d99",
   "metadata": {},
   "outputs": [],
   "source": [
    "categeoryperrevenue = df1.groupby('Category')['Total_Revenue'].sum()"
   ]
  },
  {
   "cell_type": "code",
   "execution_count": 45,
   "id": "2f875fb5-bfd1-45ca-a56a-0a5c2fce1217",
   "metadata": {},
   "outputs": [
    {
     "data": {
      "text/plain": [
       "Category\n",
       "Apparel       263648.72\n",
       "Beauty        247853.21\n",
       "Home Goods    232926.31\n",
       "Name: Total_Revenue, dtype: float64"
      ]
     },
     "execution_count": 45,
     "metadata": {},
     "output_type": "execute_result"
    }
   ],
   "source": [
    "top3categoryperrevenue = categeoryperrevenue.nlargest(3).sort_values(ascending=False).round(2)\n",
    "top3categoryperrevenue "
   ]
  },
  {
   "cell_type": "code",
   "execution_count": 47,
   "id": "7b61c206-c225-4c44-8bdf-de21573d5222",
   "metadata": {},
   "outputs": [
    {
     "data": {
      "text/plain": [
       "{'Category': ['Apparel', 'Beauty', 'Home Goods'],\n",
       " 'Revenue': [263648.72, 247853.21, 232926.31]}"
      ]
     },
     "execution_count": 47,
     "metadata": {},
     "output_type": "execute_result"
    }
   ],
   "source": [
    "top3catrev = { 'Category' : ['Apparel', 'Beauty', 'Home Goods'], 'Revenue' : [263648.72, 247853.21, 232926.31]}\n",
    "top3catrev"
   ]
  },
  {
   "cell_type": "markdown",
   "id": "f1b52b52-fb1e-494e-90e4-c2a312a55414",
   "metadata": {},
   "source": [
    "_____________"
   ]
  },
  {
   "cell_type": "code",
   "execution_count": null,
   "id": "888dd19b-c3c6-4cc1-841b-5caaa869e9df",
   "metadata": {},
   "outputs": [],
   "source": [
    "Average Order Value (AOV):\n",
    "\n",
    "Calculate the average total value of an order.\n",
    "The result should be a single float value, rounded to two decimal places. \n",
    "You will need to calculate the total value for each OrderID first."
   ]
  },
  {
   "cell_type": "code",
   "execution_count": 6,
   "id": "5bfd8e0a-2043-458d-8afe-7157800a30a5",
   "metadata": {},
   "outputs": [
    {
     "data": {
      "text/html": [
       "<div>\n",
       "<style scoped>\n",
       "    .dataframe tbody tr th:only-of-type {\n",
       "        vertical-align: middle;\n",
       "    }\n",
       "\n",
       "    .dataframe tbody tr th {\n",
       "        vertical-align: top;\n",
       "    }\n",
       "\n",
       "    .dataframe thead th {\n",
       "        text-align: right;\n",
       "    }\n",
       "</style>\n",
       "<table border=\"1\" class=\"dataframe\">\n",
       "  <thead>\n",
       "    <tr style=\"text-align: right;\">\n",
       "      <th></th>\n",
       "      <th>OrderID</th>\n",
       "      <th>ProductID</th>\n",
       "      <th>Category</th>\n",
       "      <th>Quantity</th>\n",
       "      <th>UnitPrice</th>\n",
       "      <th>CustomerID</th>\n",
       "      <th>Date</th>\n",
       "    </tr>\n",
       "  </thead>\n",
       "  <tbody>\n",
       "    <tr>\n",
       "      <th>0</th>\n",
       "      <td>1</td>\n",
       "      <td>P124</td>\n",
       "      <td>Food &amp; Beverage</td>\n",
       "      <td>3</td>\n",
       "      <td>73.89</td>\n",
       "      <td>C0407</td>\n",
       "      <td>2025-07-26</td>\n",
       "    </tr>\n",
       "  </tbody>\n",
       "</table>\n",
       "</div>"
      ],
      "text/plain": [
       "   OrderID ProductID         Category  Quantity  UnitPrice CustomerID  \\\n",
       "0        1      P124  Food & Beverage         3      73.89      C0407   \n",
       "\n",
       "         Date  \n",
       "0  2025-07-26  "
      ]
     },
     "execution_count": 6,
     "metadata": {},
     "output_type": "execute_result"
    }
   ],
   "source": [
    "df1.head(1)"
   ]
  },
  {
   "cell_type": "code",
   "execution_count": 11,
   "id": "799ed5e2-bb69-4a22-ac2b-018e05065bb3",
   "metadata": {},
   "outputs": [
    {
     "data": {
      "text/plain": [
       "1000"
      ]
     },
     "execution_count": 11,
     "metadata": {},
     "output_type": "execute_result"
    }
   ],
   "source": [
    "no_of_orders = df1['OrderID'].count()\n",
    "no_of_orders"
   ]
  },
  {
   "cell_type": "code",
   "execution_count": 14,
   "id": "6b13e508-8cfb-4872-8461-e9d930499b22",
   "metadata": {},
   "outputs": [
    {
     "data": {
      "text/plain": [
       "1366703.83"
      ]
     },
     "execution_count": 14,
     "metadata": {},
     "output_type": "execute_result"
    }
   ],
   "source": [
    "sum_of_total_revenue = df1['Total_Revenue'].sum()\n",
    "sum_of_total_revenue"
   ]
  },
  {
   "cell_type": "code",
   "execution_count": 15,
   "id": "ffb83c5d-e39e-420d-8328-a7c5f512bad9",
   "metadata": {},
   "outputs": [
    {
     "data": {
      "text/plain": [
       "1366.7"
      ]
     },
     "execution_count": 15,
     "metadata": {},
     "output_type": "execute_result"
    }
   ],
   "source": [
    "AOV = sum_of_total_revenue / no_of_orders\n",
    "AOV.round(2)"
   ]
  },
  {
   "cell_type": "markdown",
   "id": "72cda032-58fd-4575-a984-bb7f2a0de912",
   "metadata": {},
   "source": [
    "------"
   ]
  },
  {
   "cell_type": "code",
   "execution_count": 16,
   "id": "624be6be-fc01-4f37-9b6c-c3a352cb94a2",
   "metadata": {},
   "outputs": [
    {
     "ename": "SyntaxError",
     "evalue": "invalid syntax (3633831918.py, line 1)",
     "output_type": "error",
     "traceback": [
      "\u001b[1;36m  Cell \u001b[1;32mIn[16], line 1\u001b[1;36m\u001b[0m\n\u001b[1;33m    Most Frequent Customer:\u001b[0m\n\u001b[1;37m         ^\u001b[0m\n\u001b[1;31mSyntaxError\u001b[0m\u001b[1;31m:\u001b[0m invalid syntax\n"
     ]
    }
   ],
   "source": [
    "Most Frequent Customer:\n",
    "\n",
    "Identify the CustomerID who made the most number of purchases (i.e., the most number of distinct OrderIDs).\n",
    "Return a dictionary with the 'CustomerID' and the 'Number_of_Orders' they placed."
   ]
  },
  {
   "cell_type": "code",
   "execution_count": 57,
   "id": "40fbc44c-5058-4961-99cd-6f993b46cafe",
   "metadata": {},
   "outputs": [
    {
     "data": {
      "text/html": [
       "<div>\n",
       "<style scoped>\n",
       "    .dataframe tbody tr th:only-of-type {\n",
       "        vertical-align: middle;\n",
       "    }\n",
       "\n",
       "    .dataframe tbody tr th {\n",
       "        vertical-align: top;\n",
       "    }\n",
       "\n",
       "    .dataframe thead th {\n",
       "        text-align: right;\n",
       "    }\n",
       "</style>\n",
       "<table border=\"1\" class=\"dataframe\">\n",
       "  <thead>\n",
       "    <tr style=\"text-align: right;\">\n",
       "      <th></th>\n",
       "      <th>OrderID</th>\n",
       "      <th>ProductID</th>\n",
       "      <th>Category</th>\n",
       "      <th>Quantity</th>\n",
       "      <th>UnitPrice</th>\n",
       "      <th>CustomerID</th>\n",
       "      <th>Date</th>\n",
       "      <th>Total_Revenue</th>\n",
       "    </tr>\n",
       "  </thead>\n",
       "  <tbody>\n",
       "    <tr>\n",
       "      <th>0</th>\n",
       "      <td>1</td>\n",
       "      <td>P124</td>\n",
       "      <td>Food &amp; Beverage</td>\n",
       "      <td>3</td>\n",
       "      <td>73.89</td>\n",
       "      <td>C0407</td>\n",
       "      <td>2025-07-26</td>\n",
       "      <td>221.67</td>\n",
       "    </tr>\n",
       "  </tbody>\n",
       "</table>\n",
       "</div>"
      ],
      "text/plain": [
       "   OrderID ProductID         Category  Quantity  UnitPrice CustomerID  \\\n",
       "0        1      P124  Food & Beverage         3      73.89      C0407   \n",
       "\n",
       "         Date  Total_Revenue  \n",
       "0  2025-07-26         221.67  "
      ]
     },
     "execution_count": 57,
     "metadata": {},
     "output_type": "execute_result"
    }
   ],
   "source": [
    "df1.head(1)"
   ]
  },
  {
   "cell_type": "code",
   "execution_count": 66,
   "id": "313c68bc-d28c-4749-a35d-4addd7ae83fb",
   "metadata": {},
   "outputs": [],
   "source": [
    "cust_order = df1.groupby('CustomerID')['OrderID'].nunique()\n"
   ]
  },
  {
   "cell_type": "code",
   "execution_count": 62,
   "id": "3b190633-fbb6-460b-872f-42a9f6c0c216",
   "metadata": {},
   "outputs": [
    {
     "data": {
      "text/plain": [
       "'C0049'"
      ]
     },
     "execution_count": 62,
     "metadata": {},
     "output_type": "execute_result"
    }
   ],
   "source": [
    "cust_order.idxmax()"
   ]
  },
  {
   "cell_type": "code",
   "execution_count": 65,
   "id": "9351850c-4860-4245-bf82-93cc4d13014c",
   "metadata": {},
   "outputs": [
    {
     "data": {
      "text/plain": [
       "6"
      ]
     },
     "execution_count": 65,
     "metadata": {},
     "output_type": "execute_result"
    }
   ],
   "source": [
    "cust_order.max()"
   ]
  },
  {
   "cell_type": "code",
   "execution_count": 67,
   "id": "b7bd7a1f-0ac9-4723-a01a-419fd2ee93b1",
   "metadata": {},
   "outputs": [],
   "source": [
    "most_frequent_customer = {'customerid' : 'C0049', 'number_of_orders' : 6}"
   ]
  },
  {
   "cell_type": "markdown",
   "id": "0f96ccbd-5da7-41a9-b610-f17362412c7a",
   "metadata": {},
   "source": [
    "______"
   ]
  },
  {
   "cell_type": "code",
   "execution_count": null,
   "id": "b032e71a-7ab1-40cc-9769-ae59378f8292",
   "metadata": {},
   "outputs": [],
   "source": [
    "* category for highest revenvue"
   ]
  },
  {
   "cell_type": "code",
   "execution_count": 75,
   "id": "55c64fc8-865a-4be9-8fff-56d510e58270",
   "metadata": {},
   "outputs": [
    {
     "data": {
      "text/plain": [
       "OrderID                   6\n",
       "ProductID              P053\n",
       "Category         Home Goods\n",
       "Quantity                  9\n",
       "UnitPrice            354.15\n",
       "CustomerID            C0033\n",
       "Date             2024-12-12\n",
       "Total_Revenue       3187.35\n",
       "Name: 5, dtype: object"
      ]
     },
     "execution_count": 75,
     "metadata": {},
     "output_type": "execute_result"
    }
   ],
   "source": [
    "df1.loc[df1['Category'].idxmax()]"
   ]
  },
  {
   "cell_type": "code",
   "execution_count": 74,
   "id": "de90f916-4dc7-43e2-8d47-9306beae3e95",
   "metadata": {},
   "outputs": [
    {
     "data": {
      "text/plain": [
       "OrderID                  19\n",
       "ProductID              P148\n",
       "Category            Apparel\n",
       "Quantity                  9\n",
       "UnitPrice            459.79\n",
       "CustomerID            C0133\n",
       "Date             2024-11-11\n",
       "Total_Revenue       4138.11\n",
       "Name: 18, dtype: object"
      ]
     },
     "execution_count": 74,
     "metadata": {},
     "output_type": "execute_result"
    }
   ],
   "source": [
    "df1.loc[df1['Category'].idxmin()]"
   ]
  },
  {
   "cell_type": "code",
   "execution_count": 73,
   "id": "6cc1bc04-f76e-4fce-be99-7a25cda3bace",
   "metadata": {},
   "outputs": [
    {
     "data": {
      "text/plain": [
       "OrderID                  86\n",
       "ProductID              P051\n",
       "Category            Apparel\n",
       "Quantity                 10\n",
       "UnitPrice            416.88\n",
       "CustomerID            C0500\n",
       "Date             2025-02-07\n",
       "Total_Revenue        4168.8\n",
       "Name: 85, dtype: object"
      ]
     },
     "execution_count": 73,
     "metadata": {},
     "output_type": "execute_result"
    }
   ],
   "source": [
    "df1.loc[df1['CustomerID'].idxmax()]"
   ]
  },
  {
   "cell_type": "code",
   "execution_count": 76,
   "id": "51b9e24a-51a4-48f9-b200-fd72f4f15527",
   "metadata": {},
   "outputs": [
    {
     "data": {
      "text/html": [
       "<div>\n",
       "<style scoped>\n",
       "    .dataframe tbody tr th:only-of-type {\n",
       "        vertical-align: middle;\n",
       "    }\n",
       "\n",
       "    .dataframe tbody tr th {\n",
       "        vertical-align: top;\n",
       "    }\n",
       "\n",
       "    .dataframe thead th {\n",
       "        text-align: right;\n",
       "    }\n",
       "</style>\n",
       "<table border=\"1\" class=\"dataframe\">\n",
       "  <thead>\n",
       "    <tr style=\"text-align: right;\">\n",
       "      <th></th>\n",
       "      <th>OrderID</th>\n",
       "      <th>ProductID</th>\n",
       "      <th>Category</th>\n",
       "      <th>Quantity</th>\n",
       "      <th>UnitPrice</th>\n",
       "      <th>CustomerID</th>\n",
       "      <th>Date</th>\n",
       "      <th>Total_Revenue</th>\n",
       "    </tr>\n",
       "  </thead>\n",
       "  <tbody>\n",
       "    <tr>\n",
       "      <th>0</th>\n",
       "      <td>1</td>\n",
       "      <td>P124</td>\n",
       "      <td>Food &amp; Beverage</td>\n",
       "      <td>3</td>\n",
       "      <td>73.89</td>\n",
       "      <td>C0407</td>\n",
       "      <td>2025-07-26</td>\n",
       "      <td>221.67</td>\n",
       "    </tr>\n",
       "  </tbody>\n",
       "</table>\n",
       "</div>"
      ],
      "text/plain": [
       "   OrderID ProductID         Category  Quantity  UnitPrice CustomerID  \\\n",
       "0        1      P124  Food & Beverage         3      73.89      C0407   \n",
       "\n",
       "         Date  Total_Revenue  \n",
       "0  2025-07-26         221.67  "
      ]
     },
     "execution_count": 76,
     "metadata": {},
     "output_type": "execute_result"
    }
   ],
   "source": [
    "df1.head(1)"
   ]
  },
  {
   "cell_type": "code",
   "execution_count": 79,
   "id": "2cb69252-625a-463b-ac63-af6963940cfb",
   "metadata": {},
   "outputs": [
    {
     "data": {
      "text/plain": [
       "OrderID                  31\n",
       "ProductID              P078\n",
       "Category              Books\n",
       "Quantity                  6\n",
       "UnitPrice            451.47\n",
       "CustomerID            C0001\n",
       "Date             2024-11-23\n",
       "Total_Revenue       2708.82\n",
       "Name: 30, dtype: object"
      ]
     },
     "execution_count": 79,
     "metadata": {},
     "output_type": "execute_result"
    }
   ],
   "source": [
    "df1.loc[df1['CustomerID'].idxmin()]"
   ]
  },
  {
   "cell_type": "code",
   "execution_count": 82,
   "id": "21e75f89-281c-4cea-b134-577ebf3b0977",
   "metadata": {},
   "outputs": [
    {
     "data": {
      "text/plain": [
       "OrderID                        2\n",
       "ProductID                   P119\n",
       "Category         Food & Beverage\n",
       "Quantity                       1\n",
       "UnitPrice                 196.59\n",
       "CustomerID                 C0178\n",
       "Date                  2025-02-12\n",
       "Total_Revenue             196.59\n",
       "Name: 1, dtype: object"
      ]
     },
     "execution_count": 82,
     "metadata": {},
     "output_type": "execute_result"
    }
   ],
   "source": [
    "df1.loc[df1['Quantity'].idxmin()]"
   ]
  },
  {
   "cell_type": "code",
   "execution_count": null,
   "id": "9d687d3f-90d3-4bb7-aa4f-df457eb1cd29",
   "metadata": {},
   "outputs": [],
   "source": [
    "Sales Trend Over Time:\n",
    "\n",
    "Calculate the total revenue for each month and year.\n",
    "    \n",
    "The result should be a dictionary where the keys are a Year-Month string (e.g., '2024-01') and the values are the total revenue for that period, \n",
    "    rounded to two decimal places.\n",
    "    \n",
    "You will need to use pandas to extract the year and month from the Date column."
   ]
  },
  {
   "cell_type": "code",
   "execution_count": 84,
   "id": "d7507942-6619-493c-b9bb-fa8c2c9c8a65",
   "metadata": {},
   "outputs": [
    {
     "data": {
      "text/html": [
       "<div>\n",
       "<style scoped>\n",
       "    .dataframe tbody tr th:only-of-type {\n",
       "        vertical-align: middle;\n",
       "    }\n",
       "\n",
       "    .dataframe tbody tr th {\n",
       "        vertical-align: top;\n",
       "    }\n",
       "\n",
       "    .dataframe thead th {\n",
       "        text-align: right;\n",
       "    }\n",
       "</style>\n",
       "<table border=\"1\" class=\"dataframe\">\n",
       "  <thead>\n",
       "    <tr style=\"text-align: right;\">\n",
       "      <th></th>\n",
       "      <th>OrderID</th>\n",
       "      <th>ProductID</th>\n",
       "      <th>Category</th>\n",
       "      <th>Quantity</th>\n",
       "      <th>UnitPrice</th>\n",
       "      <th>CustomerID</th>\n",
       "      <th>Date</th>\n",
       "      <th>Total_Revenue</th>\n",
       "    </tr>\n",
       "  </thead>\n",
       "  <tbody>\n",
       "    <tr>\n",
       "      <th>0</th>\n",
       "      <td>1</td>\n",
       "      <td>P124</td>\n",
       "      <td>Food &amp; Beverage</td>\n",
       "      <td>3</td>\n",
       "      <td>73.89</td>\n",
       "      <td>C0407</td>\n",
       "      <td>2025-07-26</td>\n",
       "      <td>221.67</td>\n",
       "    </tr>\n",
       "  </tbody>\n",
       "</table>\n",
       "</div>"
      ],
      "text/plain": [
       "   OrderID ProductID         Category  Quantity  UnitPrice CustomerID  \\\n",
       "0        1      P124  Food & Beverage         3      73.89      C0407   \n",
       "\n",
       "         Date  Total_Revenue  \n",
       "0  2025-07-26         221.67  "
      ]
     },
     "execution_count": 84,
     "metadata": {},
     "output_type": "execute_result"
    }
   ],
   "source": [
    "df1.head(1)"
   ]
  },
  {
   "cell_type": "code",
   "execution_count": 90,
   "id": "2eb2463b-4d26-4094-8ba9-a0a98f0ddab8",
   "metadata": {},
   "outputs": [],
   "source": [
    "df1['Date'] = pd.to_datetime(df1['Date'])"
   ]
  },
  {
   "cell_type": "code",
   "execution_count": 92,
   "id": "8da581a8-df0b-4f31-9a7a-af2c4adc726f",
   "metadata": {},
   "outputs": [],
   "source": [
    "df1['Month'] = df1['Date'].dt.month"
   ]
  },
  {
   "cell_type": "code",
   "execution_count": 105,
   "id": "eebcffa7-f30f-403d-8b61-a4fc243ce600",
   "metadata": {},
   "outputs": [],
   "source": [
    "df1['Year'] = df1['Date'].dt.year"
   ]
  },
  {
   "cell_type": "code",
   "execution_count": 107,
   "id": "5eef18b9-96c3-4500-b69a-3fbd92e61c0e",
   "metadata": {},
   "outputs": [],
   "source": [
    "df1['Year-Month'] = df1['Year'].astype(str)+'-'+df1['Month'].astype(str)"
   ]
  },
  {
   "cell_type": "code",
   "execution_count": 108,
   "id": "7e6e4689-b3b8-4785-9b8a-6e04038c972d",
   "metadata": {},
   "outputs": [
    {
     "data": {
      "text/html": [
       "<div>\n",
       "<style scoped>\n",
       "    .dataframe tbody tr th:only-of-type {\n",
       "        vertical-align: middle;\n",
       "    }\n",
       "\n",
       "    .dataframe tbody tr th {\n",
       "        vertical-align: top;\n",
       "    }\n",
       "\n",
       "    .dataframe thead th {\n",
       "        text-align: right;\n",
       "    }\n",
       "</style>\n",
       "<table border=\"1\" class=\"dataframe\">\n",
       "  <thead>\n",
       "    <tr style=\"text-align: right;\">\n",
       "      <th></th>\n",
       "      <th>OrderID</th>\n",
       "      <th>ProductID</th>\n",
       "      <th>Category</th>\n",
       "      <th>Quantity</th>\n",
       "      <th>UnitPrice</th>\n",
       "      <th>CustomerID</th>\n",
       "      <th>Date</th>\n",
       "      <th>Total_Revenue</th>\n",
       "      <th>Month</th>\n",
       "      <th>Year</th>\n",
       "      <th>Year-Month</th>\n",
       "    </tr>\n",
       "  </thead>\n",
       "  <tbody>\n",
       "    <tr>\n",
       "      <th>0</th>\n",
       "      <td>1</td>\n",
       "      <td>P124</td>\n",
       "      <td>Food &amp; Beverage</td>\n",
       "      <td>3</td>\n",
       "      <td>73.89</td>\n",
       "      <td>C0407</td>\n",
       "      <td>2025-07-26</td>\n",
       "      <td>221.67</td>\n",
       "      <td>7</td>\n",
       "      <td>2025</td>\n",
       "      <td>2025-7</td>\n",
       "    </tr>\n",
       "  </tbody>\n",
       "</table>\n",
       "</div>"
      ],
      "text/plain": [
       "   OrderID ProductID         Category  Quantity  UnitPrice CustomerID  \\\n",
       "0        1      P124  Food & Beverage         3      73.89      C0407   \n",
       "\n",
       "        Date  Total_Revenue  Month  Year Year-Month  \n",
       "0 2025-07-26         221.67      7  2025     2025-7  "
      ]
     },
     "execution_count": 108,
     "metadata": {},
     "output_type": "execute_result"
    }
   ],
   "source": [
    "df1.head(1)"
   ]
  },
  {
   "cell_type": "code",
   "execution_count": 114,
   "id": "ffbf61bf-21f3-45fe-8d3d-843639d402b7",
   "metadata": {},
   "outputs": [
    {
     "data": {
      "text/plain": [
       "Year-Month\n",
       "2024-10    108752.11\n",
       "2024-11    112093.03\n",
       "2024-12    136301.90\n",
       "2024-8     102144.79\n",
       "2024-9     131848.01\n",
       "2025-1     102097.57\n",
       "2025-2      90980.56\n",
       "2025-3     126556.54\n",
       "2025-4      86597.07\n",
       "2025-5     112506.20\n",
       "2025-6     111257.68\n",
       "2025-7     115851.76\n",
       "2025-8      29716.61\n",
       "Name: Total_Revenue, dtype: float64"
      ]
     },
     "execution_count": 114,
     "metadata": {},
     "output_type": "execute_result"
    }
   ],
   "source": [
    "df1.groupby('Year-Month')['Total_Revenue'].sum().round(2)"
   ]
  },
  {
   "cell_type": "code",
   "execution_count": 119,
   "id": "139ff3d4-707f-4bd5-ab02-173f3738f57f",
   "metadata": {},
   "outputs": [],
   "source": [
    "year_month_revenue = {'Year-month' : [2024-10, 2024-11, 2024-12, 2024-8, 2024-9, 2025-1, 2025-2, 2025-3, 2025-4, 2025-5, 2025-6, 2025-7, 2025-8],\n",
    "                      'total_revenue' : [108752.11, 112093.03, 136301.90, 102144.79, 131848.01, 102097.57, 90980.56, 126556.54, 86597.07, \n",
    "                                         112506.20, 111257.68,  115851.76,29716.61]}   "
   ]
  },
  {
   "cell_type": "markdown",
   "id": "c865143c-c1fd-4e2e-9980-c22d4a377beb",
   "metadata": {},
   "source": [
    "__________"
   ]
  },
  {
   "cell_type": "markdown",
   "id": "97ffc2cb-8368-490f-92af-b495fe49cb3a",
   "metadata": {},
   "source": [
    "## E-commerce Customer Data Analysis"
   ]
  },
  {
   "cell_type": "code",
   "execution_count": 123,
   "id": "3b585172-56a3-4e7c-9479-d156c1a6bff4",
   "metadata": {},
   "outputs": [
    {
     "data": {
      "text/html": [
       "<div>\n",
       "<style scoped>\n",
       "    .dataframe tbody tr th:only-of-type {\n",
       "        vertical-align: middle;\n",
       "    }\n",
       "\n",
       "    .dataframe tbody tr th {\n",
       "        vertical-align: top;\n",
       "    }\n",
       "\n",
       "    .dataframe thead th {\n",
       "        text-align: right;\n",
       "    }\n",
       "</style>\n",
       "<table border=\"1\" class=\"dataframe\">\n",
       "  <thead>\n",
       "    <tr style=\"text-align: right;\">\n",
       "      <th></th>\n",
       "      <th>customer_id</th>\n",
       "      <th>name</th>\n",
       "      <th>email</th>\n",
       "      <th>age</th>\n",
       "      <th>city</th>\n",
       "      <th>join_date</th>\n",
       "    </tr>\n",
       "  </thead>\n",
       "  <tbody>\n",
       "    <tr>\n",
       "      <th>0</th>\n",
       "      <td>1</td>\n",
       "      <td>Customer_1</td>\n",
       "      <td>customer_1@example.com</td>\n",
       "      <td>56</td>\n",
       "      <td>Chicago</td>\n",
       "      <td>2022-08-04</td>\n",
       "    </tr>\n",
       "  </tbody>\n",
       "</table>\n",
       "</div>"
      ],
      "text/plain": [
       "   customer_id        name                   email  age     city   join_date\n",
       "0            1  Customer_1  customer_1@example.com   56  Chicago  2022-08-04"
      ]
     },
     "execution_count": 123,
     "metadata": {},
     "output_type": "execute_result"
    }
   ],
   "source": [
    "df2 = pd.read_csv(r'C:\\Users\\Surface Pro\\Desktop\\ENTRI APP\\phython\\seaborn-matplotlib\\customers.csv')\n",
    "df2.head(1)"
   ]
  },
  {
   "cell_type": "code",
   "execution_count": 122,
   "id": "aece5d22-7367-484d-ae1c-f9facfcd7083",
   "metadata": {},
   "outputs": [],
   "source": [
    "df3 = pd.read_csv(r'C:\\Users\\Surface Pro\\Desktop\\ENTRI APP\\phython\\seaborn-matplotlib\\orders.csv')"
   ]
  },
  {
   "cell_type": "code",
   "execution_count": 125,
   "id": "a5098433-c7e0-472e-8ce3-71581303bffb",
   "metadata": {},
   "outputs": [
    {
     "data": {
      "text/html": [
       "<div>\n",
       "<style scoped>\n",
       "    .dataframe tbody tr th:only-of-type {\n",
       "        vertical-align: middle;\n",
       "    }\n",
       "\n",
       "    .dataframe tbody tr th {\n",
       "        vertical-align: top;\n",
       "    }\n",
       "\n",
       "    .dataframe thead th {\n",
       "        text-align: right;\n",
       "    }\n",
       "</style>\n",
       "<table border=\"1\" class=\"dataframe\">\n",
       "  <thead>\n",
       "    <tr style=\"text-align: right;\">\n",
       "      <th></th>\n",
       "      <th>customer_id</th>\n",
       "      <th>name</th>\n",
       "      <th>email</th>\n",
       "      <th>age</th>\n",
       "      <th>city</th>\n",
       "      <th>join_date</th>\n",
       "      <th>order_id</th>\n",
       "      <th>order_date</th>\n",
       "      <th>product_category</th>\n",
       "      <th>total_price</th>\n",
       "    </tr>\n",
       "  </thead>\n",
       "  <tbody>\n",
       "    <tr>\n",
       "      <th>0</th>\n",
       "      <td>1</td>\n",
       "      <td>Customer_1</td>\n",
       "      <td>customer_1@example.com</td>\n",
       "      <td>56</td>\n",
       "      <td>Chicago</td>\n",
       "      <td>2022-08-04</td>\n",
       "      <td>82</td>\n",
       "      <td>2023-03-15</td>\n",
       "      <td>Electronics</td>\n",
       "      <td>388.0</td>\n",
       "    </tr>\n",
       "  </tbody>\n",
       "</table>\n",
       "</div>"
      ],
      "text/plain": [
       "   customer_id        name                   email  age     city   join_date  \\\n",
       "0            1  Customer_1  customer_1@example.com   56  Chicago  2022-08-04   \n",
       "\n",
       "   order_id  order_date product_category  total_price  \n",
       "0        82  2023-03-15      Electronics        388.0  "
      ]
     },
     "execution_count": 125,
     "metadata": {},
     "output_type": "execute_result"
    }
   ],
   "source": [
    "df_merged = pd.merge(df2, df3, on = 'customer_id')\n",
    "df_merged.head(1)"
   ]
  },
  {
   "cell_type": "code",
   "execution_count": null,
   "id": "409ae551-b4d7-4fff-8d68-8bf15a1f4bc5",
   "metadata": {},
   "outputs": [],
   "source": [
    "Advanced Customer Behavior Analysis:\n",
    "•\n",
    "Identify customers who have made more than 5 orders. List their customer_id and the total number of orders they made.\n",
    "•\n",
    "For each month of the year, calculate the total revenue.\n",
    "•\n",
    "Find the average total_price of orders for customers older than 40."
   ]
  },
  {
   "cell_type": "code",
   "execution_count": 127,
   "id": "e041b609-c7ad-45d5-960e-af267601c458",
   "metadata": {},
   "outputs": [
    {
     "data": {
      "text/html": [
       "<div>\n",
       "<style scoped>\n",
       "    .dataframe tbody tr th:only-of-type {\n",
       "        vertical-align: middle;\n",
       "    }\n",
       "\n",
       "    .dataframe tbody tr th {\n",
       "        vertical-align: top;\n",
       "    }\n",
       "\n",
       "    .dataframe thead th {\n",
       "        text-align: right;\n",
       "    }\n",
       "</style>\n",
       "<table border=\"1\" class=\"dataframe\">\n",
       "  <thead>\n",
       "    <tr style=\"text-align: right;\">\n",
       "      <th></th>\n",
       "      <th>customer_id</th>\n",
       "      <th>name</th>\n",
       "      <th>email</th>\n",
       "      <th>age</th>\n",
       "      <th>city</th>\n",
       "      <th>join_date</th>\n",
       "      <th>order_id</th>\n",
       "      <th>order_date</th>\n",
       "      <th>product_category</th>\n",
       "      <th>total_price</th>\n",
       "    </tr>\n",
       "  </thead>\n",
       "  <tbody>\n",
       "    <tr>\n",
       "      <th>0</th>\n",
       "      <td>1</td>\n",
       "      <td>Customer_1</td>\n",
       "      <td>customer_1@example.com</td>\n",
       "      <td>56</td>\n",
       "      <td>Chicago</td>\n",
       "      <td>2022-08-04</td>\n",
       "      <td>82</td>\n",
       "      <td>2023-03-15</td>\n",
       "      <td>Electronics</td>\n",
       "      <td>388.0</td>\n",
       "    </tr>\n",
       "  </tbody>\n",
       "</table>\n",
       "</div>"
      ],
      "text/plain": [
       "   customer_id        name                   email  age     city   join_date  \\\n",
       "0            1  Customer_1  customer_1@example.com   56  Chicago  2022-08-04   \n",
       "\n",
       "   order_id  order_date product_category  total_price  \n",
       "0        82  2023-03-15      Electronics        388.0  "
      ]
     },
     "execution_count": 127,
     "metadata": {},
     "output_type": "execute_result"
    }
   ],
   "source": [
    "df_merged.head(1)"
   ]
  },
  {
   "cell_type": "code",
   "execution_count": null,
   "id": "d99ae6da-b933-478c-b572-4cd4bb707036",
   "metadata": {},
   "outputs": [],
   "source": [
    "Identify customers who have made more than 5 orders. List their customer_id and the total number of orders they made."
   ]
  },
  {
   "cell_type": "code",
   "execution_count": 139,
   "id": "a88b1714-b259-435a-bfa8-5263a40d7f03",
   "metadata": {},
   "outputs": [
    {
     "data": {
      "text/plain": [
       "name\n",
       "Customer_1       9\n",
       "Customer_10      5\n",
       "Customer_100     4\n",
       "Customer_1000    2\n",
       "Customer_101     5\n",
       "                ..\n",
       "Customer_995     2\n",
       "Customer_996     4\n",
       "Customer_997     2\n",
       "Customer_998     3\n",
       "Customer_999     4\n",
       "Name: order_id, Length: 990, dtype: int64"
      ]
     },
     "execution_count": 139,
     "metadata": {},
     "output_type": "execute_result"
    }
   ],
   "source": [
    "name_order_count = df_merged.groupby('name')['order_id'].count()\n",
    "name_order_count"
   ]
  },
  {
   "cell_type": "code",
   "execution_count": 144,
   "id": "ed757d82-93c9-495d-ab1f-8a33da1c4ec3",
   "metadata": {},
   "outputs": [
    {
     "data": {
      "text/html": [
       "<div>\n",
       "<style scoped>\n",
       "    .dataframe tbody tr th:only-of-type {\n",
       "        vertical-align: middle;\n",
       "    }\n",
       "\n",
       "    .dataframe tbody tr th {\n",
       "        vertical-align: top;\n",
       "    }\n",
       "\n",
       "    .dataframe thead th {\n",
       "        text-align: right;\n",
       "    }\n",
       "</style>\n",
       "<table border=\"1\" class=\"dataframe\">\n",
       "  <thead>\n",
       "    <tr style=\"text-align: right;\">\n",
       "      <th></th>\n",
       "      <th>name</th>\n",
       "      <th>order_id</th>\n",
       "    </tr>\n",
       "  </thead>\n",
       "  <tbody>\n",
       "    <tr>\n",
       "      <th>0</th>\n",
       "      <td>Customer_1</td>\n",
       "      <td>9</td>\n",
       "    </tr>\n",
       "    <tr>\n",
       "      <th>1</th>\n",
       "      <td>Customer_104</td>\n",
       "      <td>8</td>\n",
       "    </tr>\n",
       "    <tr>\n",
       "      <th>2</th>\n",
       "      <td>Customer_109</td>\n",
       "      <td>10</td>\n",
       "    </tr>\n",
       "    <tr>\n",
       "      <th>3</th>\n",
       "      <td>Customer_111</td>\n",
       "      <td>12</td>\n",
       "    </tr>\n",
       "    <tr>\n",
       "      <th>4</th>\n",
       "      <td>Customer_112</td>\n",
       "      <td>8</td>\n",
       "    </tr>\n",
       "    <tr>\n",
       "      <th>...</th>\n",
       "      <td>...</td>\n",
       "      <td>...</td>\n",
       "    </tr>\n",
       "    <tr>\n",
       "      <th>385</th>\n",
       "      <td>Customer_984</td>\n",
       "      <td>6</td>\n",
       "    </tr>\n",
       "    <tr>\n",
       "      <th>386</th>\n",
       "      <td>Customer_986</td>\n",
       "      <td>6</td>\n",
       "    </tr>\n",
       "    <tr>\n",
       "      <th>387</th>\n",
       "      <td>Customer_988</td>\n",
       "      <td>10</td>\n",
       "    </tr>\n",
       "    <tr>\n",
       "      <th>388</th>\n",
       "      <td>Customer_991</td>\n",
       "      <td>6</td>\n",
       "    </tr>\n",
       "    <tr>\n",
       "      <th>389</th>\n",
       "      <td>Customer_992</td>\n",
       "      <td>7</td>\n",
       "    </tr>\n",
       "  </tbody>\n",
       "</table>\n",
       "<p>390 rows × 2 columns</p>\n",
       "</div>"
      ],
      "text/plain": [
       "             name  order_id\n",
       "0      Customer_1         9\n",
       "1    Customer_104         8\n",
       "2    Customer_109        10\n",
       "3    Customer_111        12\n",
       "4    Customer_112         8\n",
       "..            ...       ...\n",
       "385  Customer_984         6\n",
       "386  Customer_986         6\n",
       "387  Customer_988        10\n",
       "388  Customer_991         6\n",
       "389  Customer_992         7\n",
       "\n",
       "[390 rows x 2 columns]"
      ]
     },
     "execution_count": 144,
     "metadata": {},
     "output_type": "execute_result"
    }
   ],
   "source": [
    "filter_cust_morethan5orders = name_order_count[name_order_count > 5].reset_index()\n",
    "filter_cust_morethan5orders"
   ]
  },
  {
   "cell_type": "code",
   "execution_count": 152,
   "id": "5cf56758-cf15-4072-acb8-291ad4a9ae6c",
   "metadata": {},
   "outputs": [
    {
     "data": {
      "text/plain": [
       "[{'name': 'Customer_1', 'order_id': 9},\n",
       " {'name': 'Customer_104', 'order_id': 8},\n",
       " {'name': 'Customer_109', 'order_id': 10},\n",
       " {'name': 'Customer_111', 'order_id': 12},\n",
       " {'name': 'Customer_112', 'order_id': 8},\n",
       " {'name': 'Customer_113', 'order_id': 7},\n",
       " {'name': 'Customer_116', 'order_id': 7},\n",
       " {'name': 'Customer_118', 'order_id': 8},\n",
       " {'name': 'Customer_12', 'order_id': 7},\n",
       " {'name': 'Customer_124', 'order_id': 6},\n",
       " {'name': 'Customer_125', 'order_id': 7},\n",
       " {'name': 'Customer_126', 'order_id': 6},\n",
       " {'name': 'Customer_127', 'order_id': 8},\n",
       " {'name': 'Customer_128', 'order_id': 6},\n",
       " {'name': 'Customer_129', 'order_id': 7},\n",
       " {'name': 'Customer_13', 'order_id': 9},\n",
       " {'name': 'Customer_134', 'order_id': 6},\n",
       " {'name': 'Customer_137', 'order_id': 9},\n",
       " {'name': 'Customer_139', 'order_id': 7},\n",
       " {'name': 'Customer_141', 'order_id': 9},\n",
       " {'name': 'Customer_144', 'order_id': 6},\n",
       " {'name': 'Customer_147', 'order_id': 8},\n",
       " {'name': 'Customer_154', 'order_id': 8},\n",
       " {'name': 'Customer_155', 'order_id': 7},\n",
       " {'name': 'Customer_156', 'order_id': 10},\n",
       " {'name': 'Customer_162', 'order_id': 6},\n",
       " {'name': 'Customer_164', 'order_id': 9},\n",
       " {'name': 'Customer_166', 'order_id': 8},\n",
       " {'name': 'Customer_171', 'order_id': 9},\n",
       " {'name': 'Customer_175', 'order_id': 9},\n",
       " {'name': 'Customer_177', 'order_id': 6},\n",
       " {'name': 'Customer_179', 'order_id': 7},\n",
       " {'name': 'Customer_181', 'order_id': 7},\n",
       " {'name': 'Customer_183', 'order_id': 6},\n",
       " {'name': 'Customer_184', 'order_id': 7},\n",
       " {'name': 'Customer_185', 'order_id': 6},\n",
       " {'name': 'Customer_187', 'order_id': 8},\n",
       " {'name': 'Customer_188', 'order_id': 10},\n",
       " {'name': 'Customer_189', 'order_id': 6},\n",
       " {'name': 'Customer_19', 'order_id': 8},\n",
       " {'name': 'Customer_190', 'order_id': 7},\n",
       " {'name': 'Customer_191', 'order_id': 9},\n",
       " {'name': 'Customer_192', 'order_id': 7},\n",
       " {'name': 'Customer_193', 'order_id': 7},\n",
       " {'name': 'Customer_194', 'order_id': 8},\n",
       " {'name': 'Customer_195', 'order_id': 10},\n",
       " {'name': 'Customer_201', 'order_id': 10},\n",
       " {'name': 'Customer_206', 'order_id': 8},\n",
       " {'name': 'Customer_207', 'order_id': 9},\n",
       " {'name': 'Customer_210', 'order_id': 6},\n",
       " {'name': 'Customer_211', 'order_id': 7},\n",
       " {'name': 'Customer_214', 'order_id': 6},\n",
       " {'name': 'Customer_215', 'order_id': 6},\n",
       " {'name': 'Customer_218', 'order_id': 6},\n",
       " {'name': 'Customer_22', 'order_id': 8},\n",
       " {'name': 'Customer_222', 'order_id': 6},\n",
       " {'name': 'Customer_227', 'order_id': 6},\n",
       " {'name': 'Customer_232', 'order_id': 6},\n",
       " {'name': 'Customer_233', 'order_id': 6},\n",
       " {'name': 'Customer_235', 'order_id': 7},\n",
       " {'name': 'Customer_237', 'order_id': 10},\n",
       " {'name': 'Customer_239', 'order_id': 7},\n",
       " {'name': 'Customer_245', 'order_id': 8},\n",
       " {'name': 'Customer_247', 'order_id': 11},\n",
       " {'name': 'Customer_248', 'order_id': 6},\n",
       " {'name': 'Customer_25', 'order_id': 10},\n",
       " {'name': 'Customer_256', 'order_id': 6},\n",
       " {'name': 'Customer_260', 'order_id': 7},\n",
       " {'name': 'Customer_262', 'order_id': 6},\n",
       " {'name': 'Customer_265', 'order_id': 7},\n",
       " {'name': 'Customer_268', 'order_id': 7},\n",
       " {'name': 'Customer_269', 'order_id': 6},\n",
       " {'name': 'Customer_270', 'order_id': 6},\n",
       " {'name': 'Customer_271', 'order_id': 6},\n",
       " {'name': 'Customer_273', 'order_id': 8},\n",
       " {'name': 'Customer_276', 'order_id': 7},\n",
       " {'name': 'Customer_277', 'order_id': 6},\n",
       " {'name': 'Customer_278', 'order_id': 7},\n",
       " {'name': 'Customer_283', 'order_id': 11},\n",
       " {'name': 'Customer_287', 'order_id': 6},\n",
       " {'name': 'Customer_294', 'order_id': 7},\n",
       " {'name': 'Customer_296', 'order_id': 7},\n",
       " {'name': 'Customer_30', 'order_id': 6},\n",
       " {'name': 'Customer_302', 'order_id': 6},\n",
       " {'name': 'Customer_303', 'order_id': 7},\n",
       " {'name': 'Customer_304', 'order_id': 7},\n",
       " {'name': 'Customer_313', 'order_id': 8},\n",
       " {'name': 'Customer_314', 'order_id': 8},\n",
       " {'name': 'Customer_315', 'order_id': 6},\n",
       " {'name': 'Customer_317', 'order_id': 7},\n",
       " {'name': 'Customer_325', 'order_id': 6},\n",
       " {'name': 'Customer_327', 'order_id': 9},\n",
       " {'name': 'Customer_331', 'order_id': 10},\n",
       " {'name': 'Customer_333', 'order_id': 6},\n",
       " {'name': 'Customer_335', 'order_id': 6},\n",
       " {'name': 'Customer_337', 'order_id': 6},\n",
       " {'name': 'Customer_338', 'order_id': 6},\n",
       " {'name': 'Customer_339', 'order_id': 6},\n",
       " {'name': 'Customer_340', 'order_id': 7},\n",
       " {'name': 'Customer_343', 'order_id': 10},\n",
       " {'name': 'Customer_345', 'order_id': 7},\n",
       " {'name': 'Customer_348', 'order_id': 6},\n",
       " {'name': 'Customer_35', 'order_id': 7},\n",
       " {'name': 'Customer_354', 'order_id': 6},\n",
       " {'name': 'Customer_355', 'order_id': 11},\n",
       " {'name': 'Customer_361', 'order_id': 6},\n",
       " {'name': 'Customer_363', 'order_id': 6},\n",
       " {'name': 'Customer_364', 'order_id': 9},\n",
       " {'name': 'Customer_366', 'order_id': 6},\n",
       " {'name': 'Customer_367', 'order_id': 9},\n",
       " {'name': 'Customer_368', 'order_id': 6},\n",
       " {'name': 'Customer_369', 'order_id': 7},\n",
       " {'name': 'Customer_375', 'order_id': 9},\n",
       " {'name': 'Customer_376', 'order_id': 8},\n",
       " {'name': 'Customer_378', 'order_id': 6},\n",
       " {'name': 'Customer_381', 'order_id': 6},\n",
       " {'name': 'Customer_383', 'order_id': 8},\n",
       " {'name': 'Customer_384', 'order_id': 8},\n",
       " {'name': 'Customer_387', 'order_id': 9},\n",
       " {'name': 'Customer_388', 'order_id': 8},\n",
       " {'name': 'Customer_39', 'order_id': 6},\n",
       " {'name': 'Customer_390', 'order_id': 9},\n",
       " {'name': 'Customer_401', 'order_id': 9},\n",
       " {'name': 'Customer_41', 'order_id': 7},\n",
       " {'name': 'Customer_412', 'order_id': 8},\n",
       " {'name': 'Customer_414', 'order_id': 7},\n",
       " {'name': 'Customer_416', 'order_id': 6},\n",
       " {'name': 'Customer_419', 'order_id': 7},\n",
       " {'name': 'Customer_420', 'order_id': 8},\n",
       " {'name': 'Customer_421', 'order_id': 9},\n",
       " {'name': 'Customer_424', 'order_id': 7},\n",
       " {'name': 'Customer_427', 'order_id': 6},\n",
       " {'name': 'Customer_428', 'order_id': 6},\n",
       " {'name': 'Customer_429', 'order_id': 9},\n",
       " {'name': 'Customer_431', 'order_id': 6},\n",
       " {'name': 'Customer_432', 'order_id': 6},\n",
       " {'name': 'Customer_434', 'order_id': 7},\n",
       " {'name': 'Customer_438', 'order_id': 8},\n",
       " {'name': 'Customer_439', 'order_id': 11},\n",
       " {'name': 'Customer_44', 'order_id': 6},\n",
       " {'name': 'Customer_441', 'order_id': 8},\n",
       " {'name': 'Customer_443', 'order_id': 9},\n",
       " {'name': 'Customer_444', 'order_id': 6},\n",
       " {'name': 'Customer_445', 'order_id': 6},\n",
       " {'name': 'Customer_446', 'order_id': 6},\n",
       " {'name': 'Customer_45', 'order_id': 6},\n",
       " {'name': 'Customer_450', 'order_id': 9},\n",
       " {'name': 'Customer_451', 'order_id': 8},\n",
       " {'name': 'Customer_452', 'order_id': 8},\n",
       " {'name': 'Customer_453', 'order_id': 6},\n",
       " {'name': 'Customer_457', 'order_id': 6},\n",
       " {'name': 'Customer_465', 'order_id': 7},\n",
       " {'name': 'Customer_467', 'order_id': 6},\n",
       " {'name': 'Customer_471', 'order_id': 11},\n",
       " {'name': 'Customer_474', 'order_id': 6},\n",
       " {'name': 'Customer_48', 'order_id': 6},\n",
       " {'name': 'Customer_480', 'order_id': 10},\n",
       " {'name': 'Customer_481', 'order_id': 8},\n",
       " {'name': 'Customer_483', 'order_id': 6},\n",
       " {'name': 'Customer_485', 'order_id': 7},\n",
       " {'name': 'Customer_487', 'order_id': 6},\n",
       " {'name': 'Customer_489', 'order_id': 7},\n",
       " {'name': 'Customer_49', 'order_id': 6},\n",
       " {'name': 'Customer_490', 'order_id': 8},\n",
       " {'name': 'Customer_491', 'order_id': 7},\n",
       " {'name': 'Customer_494', 'order_id': 10},\n",
       " {'name': 'Customer_495', 'order_id': 7},\n",
       " {'name': 'Customer_496', 'order_id': 6},\n",
       " {'name': 'Customer_499', 'order_id': 9},\n",
       " {'name': 'Customer_50', 'order_id': 7},\n",
       " {'name': 'Customer_500', 'order_id': 6},\n",
       " {'name': 'Customer_503', 'order_id': 6},\n",
       " {'name': 'Customer_504', 'order_id': 7},\n",
       " {'name': 'Customer_505', 'order_id': 7},\n",
       " {'name': 'Customer_508', 'order_id': 8},\n",
       " {'name': 'Customer_509', 'order_id': 7},\n",
       " {'name': 'Customer_511', 'order_id': 7},\n",
       " {'name': 'Customer_514', 'order_id': 6},\n",
       " {'name': 'Customer_518', 'order_id': 6},\n",
       " {'name': 'Customer_519', 'order_id': 6},\n",
       " {'name': 'Customer_520', 'order_id': 8},\n",
       " {'name': 'Customer_523', 'order_id': 7},\n",
       " {'name': 'Customer_525', 'order_id': 6},\n",
       " {'name': 'Customer_528', 'order_id': 10},\n",
       " {'name': 'Customer_529', 'order_id': 6},\n",
       " {'name': 'Customer_530', 'order_id': 8},\n",
       " {'name': 'Customer_533', 'order_id': 7},\n",
       " {'name': 'Customer_537', 'order_id': 6},\n",
       " {'name': 'Customer_54', 'order_id': 6},\n",
       " {'name': 'Customer_540', 'order_id': 12},\n",
       " {'name': 'Customer_541', 'order_id': 6},\n",
       " {'name': 'Customer_542', 'order_id': 9},\n",
       " {'name': 'Customer_547', 'order_id': 6},\n",
       " {'name': 'Customer_549', 'order_id': 8},\n",
       " {'name': 'Customer_550', 'order_id': 7},\n",
       " {'name': 'Customer_551', 'order_id': 8},\n",
       " {'name': 'Customer_553', 'order_id': 6},\n",
       " {'name': 'Customer_557', 'order_id': 7},\n",
       " {'name': 'Customer_558', 'order_id': 10},\n",
       " {'name': 'Customer_559', 'order_id': 10},\n",
       " {'name': 'Customer_560', 'order_id': 8},\n",
       " {'name': 'Customer_563', 'order_id': 7},\n",
       " {'name': 'Customer_566', 'order_id': 7},\n",
       " {'name': 'Customer_567', 'order_id': 6},\n",
       " {'name': 'Customer_571', 'order_id': 8},\n",
       " {'name': 'Customer_573', 'order_id': 8},\n",
       " {'name': 'Customer_574', 'order_id': 6},\n",
       " {'name': 'Customer_575', 'order_id': 7},\n",
       " {'name': 'Customer_582', 'order_id': 8},\n",
       " {'name': 'Customer_584', 'order_id': 6},\n",
       " {'name': 'Customer_588', 'order_id': 7},\n",
       " {'name': 'Customer_589', 'order_id': 6},\n",
       " {'name': 'Customer_59', 'order_id': 9},\n",
       " {'name': 'Customer_596', 'order_id': 7},\n",
       " {'name': 'Customer_6', 'order_id': 6},\n",
       " {'name': 'Customer_601', 'order_id': 6},\n",
       " {'name': 'Customer_602', 'order_id': 6},\n",
       " {'name': 'Customer_605', 'order_id': 6},\n",
       " {'name': 'Customer_606', 'order_id': 10},\n",
       " {'name': 'Customer_607', 'order_id': 8},\n",
       " {'name': 'Customer_608', 'order_id': 6},\n",
       " {'name': 'Customer_610', 'order_id': 6},\n",
       " {'name': 'Customer_611', 'order_id': 9},\n",
       " {'name': 'Customer_613', 'order_id': 6},\n",
       " {'name': 'Customer_615', 'order_id': 6},\n",
       " {'name': 'Customer_616', 'order_id': 6},\n",
       " {'name': 'Customer_618', 'order_id': 8},\n",
       " {'name': 'Customer_620', 'order_id': 7},\n",
       " {'name': 'Customer_621', 'order_id': 7},\n",
       " {'name': 'Customer_622', 'order_id': 8},\n",
       " {'name': 'Customer_628', 'order_id': 8},\n",
       " {'name': 'Customer_629', 'order_id': 6},\n",
       " {'name': 'Customer_630', 'order_id': 7},\n",
       " {'name': 'Customer_634', 'order_id': 6},\n",
       " {'name': 'Customer_638', 'order_id': 7},\n",
       " {'name': 'Customer_639', 'order_id': 6},\n",
       " {'name': 'Customer_645', 'order_id': 6},\n",
       " {'name': 'Customer_646', 'order_id': 7},\n",
       " {'name': 'Customer_65', 'order_id': 8},\n",
       " {'name': 'Customer_650', 'order_id': 8},\n",
       " {'name': 'Customer_651', 'order_id': 6},\n",
       " {'name': 'Customer_653', 'order_id': 7},\n",
       " {'name': 'Customer_658', 'order_id': 11},\n",
       " {'name': 'Customer_659', 'order_id': 8},\n",
       " {'name': 'Customer_660', 'order_id': 7},\n",
       " {'name': 'Customer_661', 'order_id': 8},\n",
       " {'name': 'Customer_662', 'order_id': 8},\n",
       " {'name': 'Customer_663', 'order_id': 7},\n",
       " {'name': 'Customer_666', 'order_id': 6},\n",
       " {'name': 'Customer_669', 'order_id': 6},\n",
       " {'name': 'Customer_674', 'order_id': 7},\n",
       " {'name': 'Customer_675', 'order_id': 8},\n",
       " {'name': 'Customer_679', 'order_id': 6},\n",
       " {'name': 'Customer_68', 'order_id': 6},\n",
       " {'name': 'Customer_681', 'order_id': 6},\n",
       " {'name': 'Customer_685', 'order_id': 10},\n",
       " {'name': 'Customer_687', 'order_id': 7},\n",
       " {'name': 'Customer_688', 'order_id': 7},\n",
       " {'name': 'Customer_69', 'order_id': 6},\n",
       " {'name': 'Customer_691', 'order_id': 6},\n",
       " {'name': 'Customer_693', 'order_id': 7},\n",
       " {'name': 'Customer_694', 'order_id': 7},\n",
       " {'name': 'Customer_699', 'order_id': 9},\n",
       " {'name': 'Customer_700', 'order_id': 7},\n",
       " {'name': 'Customer_701', 'order_id': 6},\n",
       " {'name': 'Customer_702', 'order_id': 8},\n",
       " {'name': 'Customer_709', 'order_id': 6},\n",
       " {'name': 'Customer_718', 'order_id': 6},\n",
       " {'name': 'Customer_72', 'order_id': 6},\n",
       " {'name': 'Customer_720', 'order_id': 11},\n",
       " {'name': 'Customer_721', 'order_id': 8},\n",
       " {'name': 'Customer_722', 'order_id': 7},\n",
       " {'name': 'Customer_726', 'order_id': 14},\n",
       " {'name': 'Customer_728', 'order_id': 8},\n",
       " {'name': 'Customer_73', 'order_id': 13},\n",
       " {'name': 'Customer_731', 'order_id': 6},\n",
       " {'name': 'Customer_732', 'order_id': 7},\n",
       " {'name': 'Customer_733', 'order_id': 6},\n",
       " {'name': 'Customer_734', 'order_id': 6},\n",
       " {'name': 'Customer_736', 'order_id': 6},\n",
       " {'name': 'Customer_749', 'order_id': 7},\n",
       " {'name': 'Customer_75', 'order_id': 9},\n",
       " {'name': 'Customer_751', 'order_id': 7},\n",
       " {'name': 'Customer_753', 'order_id': 8},\n",
       " {'name': 'Customer_754', 'order_id': 7},\n",
       " {'name': 'Customer_758', 'order_id': 12},\n",
       " {'name': 'Customer_76', 'order_id': 8},\n",
       " {'name': 'Customer_761', 'order_id': 7},\n",
       " {'name': 'Customer_763', 'order_id': 6},\n",
       " {'name': 'Customer_768', 'order_id': 6},\n",
       " {'name': 'Customer_772', 'order_id': 7},\n",
       " {'name': 'Customer_776', 'order_id': 9},\n",
       " {'name': 'Customer_781', 'order_id': 6},\n",
       " {'name': 'Customer_783', 'order_id': 9},\n",
       " {'name': 'Customer_785', 'order_id': 9},\n",
       " {'name': 'Customer_787', 'order_id': 7},\n",
       " {'name': 'Customer_790', 'order_id': 7},\n",
       " {'name': 'Customer_791', 'order_id': 7},\n",
       " {'name': 'Customer_792', 'order_id': 6},\n",
       " {'name': 'Customer_794', 'order_id': 6},\n",
       " {'name': 'Customer_796', 'order_id': 6},\n",
       " {'name': 'Customer_8', 'order_id': 6},\n",
       " {'name': 'Customer_800', 'order_id': 7},\n",
       " {'name': 'Customer_802', 'order_id': 6},\n",
       " {'name': 'Customer_804', 'order_id': 8},\n",
       " {'name': 'Customer_807', 'order_id': 6},\n",
       " {'name': 'Customer_810', 'order_id': 6},\n",
       " {'name': 'Customer_817', 'order_id': 7},\n",
       " {'name': 'Customer_820', 'order_id': 6},\n",
       " {'name': 'Customer_822', 'order_id': 9},\n",
       " {'name': 'Customer_825', 'order_id': 11},\n",
       " {'name': 'Customer_83', 'order_id': 7},\n",
       " {'name': 'Customer_830', 'order_id': 7},\n",
       " {'name': 'Customer_832', 'order_id': 6},\n",
       " {'name': 'Customer_833', 'order_id': 11},\n",
       " {'name': 'Customer_834', 'order_id': 6},\n",
       " {'name': 'Customer_835', 'order_id': 6},\n",
       " {'name': 'Customer_836', 'order_id': 6},\n",
       " {'name': 'Customer_837', 'order_id': 6},\n",
       " {'name': 'Customer_840', 'order_id': 6},\n",
       " {'name': 'Customer_844', 'order_id': 6},\n",
       " {'name': 'Customer_846', 'order_id': 6},\n",
       " {'name': 'Customer_849', 'order_id': 11},\n",
       " {'name': 'Customer_850', 'order_id': 10},\n",
       " {'name': 'Customer_852', 'order_id': 8},\n",
       " {'name': 'Customer_853', 'order_id': 6},\n",
       " {'name': 'Customer_855', 'order_id': 9},\n",
       " {'name': 'Customer_856', 'order_id': 6},\n",
       " {'name': 'Customer_858', 'order_id': 10},\n",
       " {'name': 'Customer_864', 'order_id': 8},\n",
       " {'name': 'Customer_869', 'order_id': 7},\n",
       " {'name': 'Customer_87', 'order_id': 6},\n",
       " {'name': 'Customer_871', 'order_id': 6},\n",
       " {'name': 'Customer_872', 'order_id': 6},\n",
       " {'name': 'Customer_877', 'order_id': 6},\n",
       " {'name': 'Customer_88', 'order_id': 6},\n",
       " {'name': 'Customer_881', 'order_id': 10},\n",
       " {'name': 'Customer_883', 'order_id': 6},\n",
       " {'name': 'Customer_884', 'order_id': 9},\n",
       " {'name': 'Customer_886', 'order_id': 6},\n",
       " {'name': 'Customer_887', 'order_id': 6},\n",
       " {'name': 'Customer_889', 'order_id': 7},\n",
       " {'name': 'Customer_890', 'order_id': 8},\n",
       " {'name': 'Customer_891', 'order_id': 9},\n",
       " {'name': 'Customer_893', 'order_id': 6},\n",
       " {'name': 'Customer_897', 'order_id': 7},\n",
       " {'name': 'Customer_899', 'order_id': 7},\n",
       " {'name': 'Customer_90', 'order_id': 7},\n",
       " {'name': 'Customer_901', 'order_id': 6},\n",
       " {'name': 'Customer_902', 'order_id': 7},\n",
       " {'name': 'Customer_904', 'order_id': 6},\n",
       " {'name': 'Customer_909', 'order_id': 9},\n",
       " {'name': 'Customer_911', 'order_id': 6},\n",
       " {'name': 'Customer_912', 'order_id': 6},\n",
       " {'name': 'Customer_913', 'order_id': 7},\n",
       " {'name': 'Customer_914', 'order_id': 6},\n",
       " {'name': 'Customer_915', 'order_id': 7},\n",
       " {'name': 'Customer_917', 'order_id': 7},\n",
       " {'name': 'Customer_919', 'order_id': 7},\n",
       " {'name': 'Customer_920', 'order_id': 9},\n",
       " {'name': 'Customer_921', 'order_id': 9},\n",
       " {'name': 'Customer_923', 'order_id': 8},\n",
       " {'name': 'Customer_925', 'order_id': 12},\n",
       " {'name': 'Customer_929', 'order_id': 9},\n",
       " {'name': 'Customer_93', 'order_id': 9},\n",
       " {'name': 'Customer_930', 'order_id': 8},\n",
       " {'name': 'Customer_935', 'order_id': 6},\n",
       " {'name': 'Customer_936', 'order_id': 9},\n",
       " {'name': 'Customer_937', 'order_id': 10},\n",
       " {'name': 'Customer_938', 'order_id': 10},\n",
       " {'name': 'Customer_940', 'order_id': 8},\n",
       " {'name': 'Customer_942', 'order_id': 8},\n",
       " {'name': 'Customer_943', 'order_id': 6},\n",
       " {'name': 'Customer_944', 'order_id': 6},\n",
       " {'name': 'Customer_945', 'order_id': 9},\n",
       " {'name': 'Customer_946', 'order_id': 7},\n",
       " {'name': 'Customer_947', 'order_id': 10},\n",
       " {'name': 'Customer_950', 'order_id': 6},\n",
       " {'name': 'Customer_96', 'order_id': 7},\n",
       " {'name': 'Customer_962', 'order_id': 7},\n",
       " {'name': 'Customer_963', 'order_id': 9},\n",
       " {'name': 'Customer_968', 'order_id': 6},\n",
       " {'name': 'Customer_973', 'order_id': 9},\n",
       " {'name': 'Customer_974', 'order_id': 9},\n",
       " {'name': 'Customer_981', 'order_id': 6},\n",
       " {'name': 'Customer_984', 'order_id': 6},\n",
       " {'name': 'Customer_986', 'order_id': 6},\n",
       " {'name': 'Customer_988', 'order_id': 10},\n",
       " {'name': 'Customer_991', 'order_id': 6},\n",
       " {'name': 'Customer_992', 'order_id': 7}]"
      ]
     },
     "execution_count": 152,
     "metadata": {},
     "output_type": "execute_result"
    }
   ],
   "source": [
    "orders5cust = filter_cust_morethan5orders.to_dict('records')\n",
    "orders5cust"
   ]
  },
  {
   "cell_type": "code",
   "execution_count": null,
   "id": "27791b9a-fce9-49f0-9bac-c90a3a1fce6c",
   "metadata": {},
   "outputs": [],
   "source": [
    "\n",
    "For each month of the year, calculate the total revenue."
   ]
  },
  {
   "cell_type": "code",
   "execution_count": 166,
   "id": "2cab10d6-cf1a-4941-b413-5d5986798b8a",
   "metadata": {},
   "outputs": [
    {
     "data": {
      "text/html": [
       "<div>\n",
       "<style scoped>\n",
       "    .dataframe tbody tr th:only-of-type {\n",
       "        vertical-align: middle;\n",
       "    }\n",
       "\n",
       "    .dataframe tbody tr th {\n",
       "        vertical-align: top;\n",
       "    }\n",
       "\n",
       "    .dataframe thead th {\n",
       "        text-align: right;\n",
       "    }\n",
       "</style>\n",
       "<table border=\"1\" class=\"dataframe\">\n",
       "  <thead>\n",
       "    <tr style=\"text-align: right;\">\n",
       "      <th></th>\n",
       "      <th>customer_id</th>\n",
       "      <th>name</th>\n",
       "      <th>email</th>\n",
       "      <th>age</th>\n",
       "      <th>city</th>\n",
       "      <th>join_date</th>\n",
       "      <th>order_id</th>\n",
       "      <th>order_date</th>\n",
       "      <th>product_category</th>\n",
       "      <th>total_price</th>\n",
       "      <th>year</th>\n",
       "      <th>Month</th>\n",
       "      <th>Year-Month</th>\n",
       "    </tr>\n",
       "  </thead>\n",
       "  <tbody>\n",
       "    <tr>\n",
       "      <th>0</th>\n",
       "      <td>1</td>\n",
       "      <td>Customer_1</td>\n",
       "      <td>customer_1@example.com</td>\n",
       "      <td>56</td>\n",
       "      <td>Chicago</td>\n",
       "      <td>2022-08-04</td>\n",
       "      <td>82</td>\n",
       "      <td>2023-03-15</td>\n",
       "      <td>Electronics</td>\n",
       "      <td>388.0</td>\n",
       "      <td>2023</td>\n",
       "      <td>3</td>\n",
       "      <td>2023-3</td>\n",
       "    </tr>\n",
       "  </tbody>\n",
       "</table>\n",
       "</div>"
      ],
      "text/plain": [
       "   customer_id        name                   email  age     city   join_date  \\\n",
       "0            1  Customer_1  customer_1@example.com   56  Chicago  2022-08-04   \n",
       "\n",
       "   order_id order_date product_category  total_price  year  Month Year-Month  \n",
       "0        82 2023-03-15      Electronics        388.0  2023      3     2023-3  "
      ]
     },
     "execution_count": 166,
     "metadata": {},
     "output_type": "execute_result"
    }
   ],
   "source": [
    "df_merged.head(1)"
   ]
  },
  {
   "cell_type": "code",
   "execution_count": 154,
   "id": "4a8b7c64-5a3f-416f-898c-7db3eec95892",
   "metadata": {},
   "outputs": [],
   "source": [
    "df_merged['order_date'] = pd.to_datetime(df_merged['order_date'])"
   ]
  },
  {
   "cell_type": "code",
   "execution_count": 167,
   "id": "a84155cb-4fc7-4163-85c8-265d280639d1",
   "metadata": {},
   "outputs": [],
   "source": [
    "df_merged['year'] = df_merged['order_date'].dt.year\n"
   ]
  },
  {
   "cell_type": "code",
   "execution_count": 156,
   "id": "facc16c5-93cc-4d31-87fe-8687059a36d5",
   "metadata": {},
   "outputs": [],
   "source": [
    "df_merged['Month'] = df_merged['order_date'].dt.month"
   ]
  },
  {
   "cell_type": "code",
   "execution_count": 165,
   "id": "01c2f7a0-7cdc-4630-98a9-152c348f61b2",
   "metadata": {},
   "outputs": [],
   "source": [
    "df_merged['Year-Month'] = df_merged['year'].astype(str)+'-'+df_merged['Month'].astype(str)\n"
   ]
  },
  {
   "cell_type": "code",
   "execution_count": 182,
   "id": "a60de74c-fe3f-4978-a587-3902021e18f6",
   "metadata": {},
   "outputs": [
    {
     "data": {
      "text/html": [
       "<div>\n",
       "<style scoped>\n",
       "    .dataframe tbody tr th:only-of-type {\n",
       "        vertical-align: middle;\n",
       "    }\n",
       "\n",
       "    .dataframe tbody tr th {\n",
       "        vertical-align: top;\n",
       "    }\n",
       "\n",
       "    .dataframe thead th {\n",
       "        text-align: right;\n",
       "    }\n",
       "</style>\n",
       "<table border=\"1\" class=\"dataframe\">\n",
       "  <thead>\n",
       "    <tr style=\"text-align: right;\">\n",
       "      <th></th>\n",
       "      <th>Year-Month</th>\n",
       "      <th>total_price</th>\n",
       "    </tr>\n",
       "  </thead>\n",
       "  <tbody>\n",
       "    <tr>\n",
       "      <th>0</th>\n",
       "      <td>2022-1</td>\n",
       "      <td>51660.83</td>\n",
       "    </tr>\n",
       "    <tr>\n",
       "      <th>1</th>\n",
       "      <td>2022-10</td>\n",
       "      <td>51048.24</td>\n",
       "    </tr>\n",
       "    <tr>\n",
       "      <th>2</th>\n",
       "      <td>2022-11</td>\n",
       "      <td>56021.95</td>\n",
       "    </tr>\n",
       "    <tr>\n",
       "      <th>3</th>\n",
       "      <td>2022-12</td>\n",
       "      <td>47582.06</td>\n",
       "    </tr>\n",
       "    <tr>\n",
       "      <th>4</th>\n",
       "      <td>2022-2</td>\n",
       "      <td>48645.59</td>\n",
       "    </tr>\n",
       "    <tr>\n",
       "      <th>5</th>\n",
       "      <td>2022-3</td>\n",
       "      <td>59214.04</td>\n",
       "    </tr>\n",
       "    <tr>\n",
       "      <th>6</th>\n",
       "      <td>2022-4</td>\n",
       "      <td>56304.86</td>\n",
       "    </tr>\n",
       "    <tr>\n",
       "      <th>7</th>\n",
       "      <td>2022-5</td>\n",
       "      <td>53122.75</td>\n",
       "    </tr>\n",
       "    <tr>\n",
       "      <th>8</th>\n",
       "      <td>2022-6</td>\n",
       "      <td>54118.21</td>\n",
       "    </tr>\n",
       "    <tr>\n",
       "      <th>9</th>\n",
       "      <td>2022-7</td>\n",
       "      <td>53473.15</td>\n",
       "    </tr>\n",
       "    <tr>\n",
       "      <th>10</th>\n",
       "      <td>2022-8</td>\n",
       "      <td>55460.04</td>\n",
       "    </tr>\n",
       "    <tr>\n",
       "      <th>11</th>\n",
       "      <td>2022-9</td>\n",
       "      <td>49267.99</td>\n",
       "    </tr>\n",
       "    <tr>\n",
       "      <th>12</th>\n",
       "      <td>2023-1</td>\n",
       "      <td>51969.58</td>\n",
       "    </tr>\n",
       "    <tr>\n",
       "      <th>13</th>\n",
       "      <td>2023-10</td>\n",
       "      <td>54680.22</td>\n",
       "    </tr>\n",
       "    <tr>\n",
       "      <th>14</th>\n",
       "      <td>2023-11</td>\n",
       "      <td>55287.34</td>\n",
       "    </tr>\n",
       "    <tr>\n",
       "      <th>15</th>\n",
       "      <td>2023-12</td>\n",
       "      <td>54821.20</td>\n",
       "    </tr>\n",
       "    <tr>\n",
       "      <th>16</th>\n",
       "      <td>2023-2</td>\n",
       "      <td>45671.69</td>\n",
       "    </tr>\n",
       "    <tr>\n",
       "      <th>17</th>\n",
       "      <td>2023-3</td>\n",
       "      <td>54905.58</td>\n",
       "    </tr>\n",
       "    <tr>\n",
       "      <th>18</th>\n",
       "      <td>2023-4</td>\n",
       "      <td>51017.47</td>\n",
       "    </tr>\n",
       "    <tr>\n",
       "      <th>19</th>\n",
       "      <td>2023-5</td>\n",
       "      <td>49037.58</td>\n",
       "    </tr>\n",
       "    <tr>\n",
       "      <th>20</th>\n",
       "      <td>2023-6</td>\n",
       "      <td>55164.97</td>\n",
       "    </tr>\n",
       "    <tr>\n",
       "      <th>21</th>\n",
       "      <td>2023-7</td>\n",
       "      <td>56976.16</td>\n",
       "    </tr>\n",
       "    <tr>\n",
       "      <th>22</th>\n",
       "      <td>2023-8</td>\n",
       "      <td>57901.75</td>\n",
       "    </tr>\n",
       "    <tr>\n",
       "      <th>23</th>\n",
       "      <td>2023-9</td>\n",
       "      <td>54011.55</td>\n",
       "    </tr>\n",
       "  </tbody>\n",
       "</table>\n",
       "</div>"
      ],
      "text/plain": [
       "   Year-Month  total_price\n",
       "0      2022-1     51660.83\n",
       "1     2022-10     51048.24\n",
       "2     2022-11     56021.95\n",
       "3     2022-12     47582.06\n",
       "4      2022-2     48645.59\n",
       "5      2022-3     59214.04\n",
       "6      2022-4     56304.86\n",
       "7      2022-5     53122.75\n",
       "8      2022-6     54118.21\n",
       "9      2022-7     53473.15\n",
       "10     2022-8     55460.04\n",
       "11     2022-9     49267.99\n",
       "12     2023-1     51969.58\n",
       "13    2023-10     54680.22\n",
       "14    2023-11     55287.34\n",
       "15    2023-12     54821.20\n",
       "16     2023-2     45671.69\n",
       "17     2023-3     54905.58\n",
       "18     2023-4     51017.47\n",
       "19     2023-5     49037.58\n",
       "20     2023-6     55164.97\n",
       "21     2023-7     56976.16\n",
       "22     2023-8     57901.75\n",
       "23     2023-9     54011.55"
      ]
     },
     "execution_count": 182,
     "metadata": {},
     "output_type": "execute_result"
    }
   ],
   "source": [
    "rev_month_year = df_merged.groupby('Year-Month')['total_price'].sum().reset_index()\n",
    "rev_month_year"
   ]
  },
  {
   "cell_type": "code",
   "execution_count": 183,
   "id": "d35574e9-e8b4-43ba-aa05-314424418161",
   "metadata": {},
   "outputs": [
    {
     "data": {
      "text/plain": [
       "[{'Year-Month': '2022-1', 'total_price': 51660.83},\n",
       " {'Year-Month': '2022-10', 'total_price': 51048.24},\n",
       " {'Year-Month': '2022-11', 'total_price': 56021.95},\n",
       " {'Year-Month': '2022-12', 'total_price': 47582.06},\n",
       " {'Year-Month': '2022-2', 'total_price': 48645.59},\n",
       " {'Year-Month': '2022-3', 'total_price': 59214.04},\n",
       " {'Year-Month': '2022-4', 'total_price': 56304.86},\n",
       " {'Year-Month': '2022-5', 'total_price': 53122.75},\n",
       " {'Year-Month': '2022-6', 'total_price': 54118.21},\n",
       " {'Year-Month': '2022-7', 'total_price': 53473.15},\n",
       " {'Year-Month': '2022-8', 'total_price': 55460.04},\n",
       " {'Year-Month': '2022-9', 'total_price': 49267.99},\n",
       " {'Year-Month': '2023-1', 'total_price': 51969.58},\n",
       " {'Year-Month': '2023-10', 'total_price': 54680.22},\n",
       " {'Year-Month': '2023-11', 'total_price': 55287.340000000004},\n",
       " {'Year-Month': '2023-12', 'total_price': 54821.2},\n",
       " {'Year-Month': '2023-2', 'total_price': 45671.69},\n",
       " {'Year-Month': '2023-3', 'total_price': 54905.58},\n",
       " {'Year-Month': '2023-4', 'total_price': 51017.47},\n",
       " {'Year-Month': '2023-5', 'total_price': 49037.58},\n",
       " {'Year-Month': '2023-6', 'total_price': 55164.97},\n",
       " {'Year-Month': '2023-7', 'total_price': 56976.16},\n",
       " {'Year-Month': '2023-8', 'total_price': 57901.75},\n",
       " {'Year-Month': '2023-9', 'total_price': 54011.55}]"
      ]
     },
     "execution_count": 183,
     "metadata": {},
     "output_type": "execute_result"
    }
   ],
   "source": [
    "revmonyear = rev_month_year.to_dict('records')\n",
    "revmonyear"
   ]
  },
  {
   "cell_type": "code",
   "execution_count": null,
   "id": "af73e9f9-e6cb-4ea3-aa53-e8e8642763ee",
   "metadata": {},
   "outputs": [],
   "source": [
    "Find the average total_price of orders for customers older than 40."
   ]
  },
  {
   "cell_type": "code",
   "execution_count": 184,
   "id": "15607e0f-30bc-4ce4-afcd-96b122c447c3",
   "metadata": {},
   "outputs": [
    {
     "data": {
      "text/html": [
       "<div>\n",
       "<style scoped>\n",
       "    .dataframe tbody tr th:only-of-type {\n",
       "        vertical-align: middle;\n",
       "    }\n",
       "\n",
       "    .dataframe tbody tr th {\n",
       "        vertical-align: top;\n",
       "    }\n",
       "\n",
       "    .dataframe thead th {\n",
       "        text-align: right;\n",
       "    }\n",
       "</style>\n",
       "<table border=\"1\" class=\"dataframe\">\n",
       "  <thead>\n",
       "    <tr style=\"text-align: right;\">\n",
       "      <th></th>\n",
       "      <th>customer_id</th>\n",
       "      <th>name</th>\n",
       "      <th>email</th>\n",
       "      <th>age</th>\n",
       "      <th>city</th>\n",
       "      <th>join_date</th>\n",
       "      <th>order_id</th>\n",
       "      <th>order_date</th>\n",
       "      <th>product_category</th>\n",
       "      <th>total_price</th>\n",
       "      <th>year</th>\n",
       "      <th>Month</th>\n",
       "      <th>Year-Month</th>\n",
       "    </tr>\n",
       "  </thead>\n",
       "  <tbody>\n",
       "    <tr>\n",
       "      <th>0</th>\n",
       "      <td>1</td>\n",
       "      <td>Customer_1</td>\n",
       "      <td>customer_1@example.com</td>\n",
       "      <td>56</td>\n",
       "      <td>Chicago</td>\n",
       "      <td>2022-08-04</td>\n",
       "      <td>82</td>\n",
       "      <td>2023-03-15</td>\n",
       "      <td>Electronics</td>\n",
       "      <td>388.0</td>\n",
       "      <td>2023</td>\n",
       "      <td>3</td>\n",
       "      <td>2023-3</td>\n",
       "    </tr>\n",
       "  </tbody>\n",
       "</table>\n",
       "</div>"
      ],
      "text/plain": [
       "   customer_id        name                   email  age     city   join_date  \\\n",
       "0            1  Customer_1  customer_1@example.com   56  Chicago  2022-08-04   \n",
       "\n",
       "   order_id order_date product_category  total_price  year  Month Year-Month  \n",
       "0        82 2023-03-15      Electronics        388.0  2023      3     2023-3  "
      ]
     },
     "execution_count": 184,
     "metadata": {},
     "output_type": "execute_result"
    }
   ],
   "source": [
    "df_merged.head(1)"
   ]
  },
  {
   "cell_type": "code",
   "execution_count": 188,
   "id": "6cad901b-cbb0-4284-ab4d-6ce8c4d0d2d7",
   "metadata": {},
   "outputs": [
    {
     "data": {
      "text/plain": [
       "order_id\n",
       "1        28.92\n",
       "2        72.86\n",
       "3       120.07\n",
       "4       407.44\n",
       "5       440.47\n",
       "         ...  \n",
       "4996    302.71\n",
       "4997     88.58\n",
       "4998    151.80\n",
       "4999    311.17\n",
       "5000    279.28\n",
       "Name: total_price, Length: 5000, dtype: float64"
      ]
     },
     "execution_count": 188,
     "metadata": {},
     "output_type": "execute_result"
    }
   ],
   "source": [
    "total_price_orders = df_merged.groupby('order_id')['total_price'].sum()\n",
    "total_price_orders"
   ]
  },
  {
   "cell_type": "code",
   "execution_count": 191,
   "id": "32b8b7a0-3974-45c5-b35a-778a7ce427f1",
   "metadata": {},
   "outputs": [
    {
     "data": {
      "text/html": [
       "<div>\n",
       "<style scoped>\n",
       "    .dataframe tbody tr th:only-of-type {\n",
       "        vertical-align: middle;\n",
       "    }\n",
       "\n",
       "    .dataframe tbody tr th {\n",
       "        vertical-align: top;\n",
       "    }\n",
       "\n",
       "    .dataframe thead th {\n",
       "        text-align: right;\n",
       "    }\n",
       "</style>\n",
       "<table border=\"1\" class=\"dataframe\">\n",
       "  <thead>\n",
       "    <tr style=\"text-align: right;\">\n",
       "      <th></th>\n",
       "      <th>order_id</th>\n",
       "      <th>total_price</th>\n",
       "    </tr>\n",
       "  </thead>\n",
       "  <tbody>\n",
       "    <tr>\n",
       "      <th>0</th>\n",
       "      <td>2</td>\n",
       "      <td>72.86</td>\n",
       "    </tr>\n",
       "    <tr>\n",
       "      <th>1</th>\n",
       "      <td>3</td>\n",
       "      <td>120.07</td>\n",
       "    </tr>\n",
       "    <tr>\n",
       "      <th>2</th>\n",
       "      <td>4</td>\n",
       "      <td>407.44</td>\n",
       "    </tr>\n",
       "    <tr>\n",
       "      <th>3</th>\n",
       "      <td>5</td>\n",
       "      <td>440.47</td>\n",
       "    </tr>\n",
       "    <tr>\n",
       "      <th>4</th>\n",
       "      <td>6</td>\n",
       "      <td>45.01</td>\n",
       "    </tr>\n",
       "    <tr>\n",
       "      <th>...</th>\n",
       "      <td>...</td>\n",
       "      <td>...</td>\n",
       "    </tr>\n",
       "    <tr>\n",
       "      <th>4701</th>\n",
       "      <td>4996</td>\n",
       "      <td>302.71</td>\n",
       "    </tr>\n",
       "    <tr>\n",
       "      <th>4702</th>\n",
       "      <td>4997</td>\n",
       "      <td>88.58</td>\n",
       "    </tr>\n",
       "    <tr>\n",
       "      <th>4703</th>\n",
       "      <td>4998</td>\n",
       "      <td>151.80</td>\n",
       "    </tr>\n",
       "    <tr>\n",
       "      <th>4704</th>\n",
       "      <td>4999</td>\n",
       "      <td>311.17</td>\n",
       "    </tr>\n",
       "    <tr>\n",
       "      <th>4705</th>\n",
       "      <td>5000</td>\n",
       "      <td>279.28</td>\n",
       "    </tr>\n",
       "  </tbody>\n",
       "</table>\n",
       "<p>4706 rows × 2 columns</p>\n",
       "</div>"
      ],
      "text/plain": [
       "      order_id  total_price\n",
       "0            2        72.86\n",
       "1            3       120.07\n",
       "2            4       407.44\n",
       "3            5       440.47\n",
       "4            6        45.01\n",
       "...        ...          ...\n",
       "4701      4996       302.71\n",
       "4702      4997        88.58\n",
       "4703      4998       151.80\n",
       "4704      4999       311.17\n",
       "4705      5000       279.28\n",
       "\n",
       "[4706 rows x 2 columns]"
      ]
     },
     "execution_count": 191,
     "metadata": {},
     "output_type": "execute_result"
    }
   ],
   "source": [
    "filter_40 = total_price_orders[total_price_orders > 40].reset_index()\n",
    "filter_40"
   ]
  },
  {
   "cell_type": "code",
   "execution_count": 194,
   "id": "852f9f8d-d596-445f-af19-fae8ad994a68",
   "metadata": {},
   "outputs": [],
   "source": [
    "total_revenue_greaterthan_40 = filter_40.to_dict('records')\n"
   ]
  },
  {
   "cell_type": "markdown",
   "id": "4d56bc79-2b4c-48cd-a0ef-dfabddc83226",
   "metadata": {},
   "source": [
    "## Product and Revenue Analysis:"
   ]
  },
  {
   "cell_type": "code",
   "execution_count": null,
   "id": "fc74834f-2e6c-4ff9-b483-ef94a66718f3",
   "metadata": {},
   "outputs": [],
   "source": [
    "What is the total revenue for each product category?"
   ]
  },
  {
   "cell_type": "code",
   "execution_count": 196,
   "id": "8e344e5a-b437-45d3-8562-1aba5e936909",
   "metadata": {},
   "outputs": [
    {
     "data": {
      "text/html": [
       "<div>\n",
       "<style scoped>\n",
       "    .dataframe tbody tr th:only-of-type {\n",
       "        vertical-align: middle;\n",
       "    }\n",
       "\n",
       "    .dataframe tbody tr th {\n",
       "        vertical-align: top;\n",
       "    }\n",
       "\n",
       "    .dataframe thead th {\n",
       "        text-align: right;\n",
       "    }\n",
       "</style>\n",
       "<table border=\"1\" class=\"dataframe\">\n",
       "  <thead>\n",
       "    <tr style=\"text-align: right;\">\n",
       "      <th></th>\n",
       "      <th>customer_id</th>\n",
       "      <th>name</th>\n",
       "      <th>email</th>\n",
       "      <th>age</th>\n",
       "      <th>city</th>\n",
       "      <th>join_date</th>\n",
       "      <th>order_id</th>\n",
       "      <th>order_date</th>\n",
       "      <th>product_category</th>\n",
       "      <th>total_price</th>\n",
       "      <th>year</th>\n",
       "      <th>Month</th>\n",
       "      <th>Year-Month</th>\n",
       "    </tr>\n",
       "  </thead>\n",
       "  <tbody>\n",
       "    <tr>\n",
       "      <th>0</th>\n",
       "      <td>1</td>\n",
       "      <td>Customer_1</td>\n",
       "      <td>customer_1@example.com</td>\n",
       "      <td>56</td>\n",
       "      <td>Chicago</td>\n",
       "      <td>2022-08-04</td>\n",
       "      <td>82</td>\n",
       "      <td>2023-03-15</td>\n",
       "      <td>Electronics</td>\n",
       "      <td>388.0</td>\n",
       "      <td>2023</td>\n",
       "      <td>3</td>\n",
       "      <td>2023-3</td>\n",
       "    </tr>\n",
       "  </tbody>\n",
       "</table>\n",
       "</div>"
      ],
      "text/plain": [
       "   customer_id        name                   email  age     city   join_date  \\\n",
       "0            1  Customer_1  customer_1@example.com   56  Chicago  2022-08-04   \n",
       "\n",
       "   order_id order_date product_category  total_price  year  Month Year-Month  \n",
       "0        82 2023-03-15      Electronics        388.0  2023      3     2023-3  "
      ]
     },
     "execution_count": 196,
     "metadata": {},
     "output_type": "execute_result"
    }
   ],
   "source": [
    "df_merged.head(1)"
   ]
  },
  {
   "cell_type": "code",
   "execution_count": 202,
   "id": "c5d68673-b600-4ff3-862a-b3eb88fecb51",
   "metadata": {},
   "outputs": [
    {
     "data": {
      "text/html": [
       "<div>\n",
       "<style scoped>\n",
       "    .dataframe tbody tr th:only-of-type {\n",
       "        vertical-align: middle;\n",
       "    }\n",
       "\n",
       "    .dataframe tbody tr th {\n",
       "        vertical-align: top;\n",
       "    }\n",
       "\n",
       "    .dataframe thead th {\n",
       "        text-align: right;\n",
       "    }\n",
       "</style>\n",
       "<table border=\"1\" class=\"dataframe\">\n",
       "  <thead>\n",
       "    <tr style=\"text-align: right;\">\n",
       "      <th></th>\n",
       "      <th>product_category</th>\n",
       "      <th>total_price</th>\n",
       "    </tr>\n",
       "  </thead>\n",
       "  <tbody>\n",
       "    <tr>\n",
       "      <th>0</th>\n",
       "      <td>Apparel</td>\n",
       "      <td>319685.88</td>\n",
       "    </tr>\n",
       "    <tr>\n",
       "      <th>1</th>\n",
       "      <td>Books</td>\n",
       "      <td>306464.12</td>\n",
       "    </tr>\n",
       "    <tr>\n",
       "      <th>2</th>\n",
       "      <td>Electronics</td>\n",
       "      <td>315515.49</td>\n",
       "    </tr>\n",
       "    <tr>\n",
       "      <th>3</th>\n",
       "      <td>Home Goods</td>\n",
       "      <td>335699.31</td>\n",
       "    </tr>\n",
       "  </tbody>\n",
       "</table>\n",
       "</div>"
      ],
      "text/plain": [
       "  product_category  total_price\n",
       "0          Apparel    319685.88\n",
       "1            Books    306464.12\n",
       "2      Electronics    315515.49\n",
       "3       Home Goods    335699.31"
      ]
     },
     "execution_count": 202,
     "metadata": {},
     "output_type": "execute_result"
    }
   ],
   "source": [
    "total_rev_cat = df_merged.groupby('product_category')['total_price'].sum().reset_index().round(2)\n",
    "total_rev_cat"
   ]
  },
  {
   "cell_type": "code",
   "execution_count": 203,
   "id": "11fa69a8-4367-43d5-b49e-1a0e8fcfa000",
   "metadata": {},
   "outputs": [],
   "source": [
    "total_revenue_per_categeory = total_rev_cat.to_dict('records')"
   ]
  },
  {
   "cell_type": "markdown",
   "id": "de162840-ddae-419e-b129-c3932da56e52",
   "metadata": {},
   "source": [
    "- What are the top 3 product categories by revenue?"
   ]
  },
  {
   "cell_type": "code",
   "execution_count": 208,
   "id": "8b4cfa00-94ba-4772-a1fa-a504a53602f2",
   "metadata": {},
   "outputs": [],
   "source": [
    "rev_cat =  df_merged.groupby('product_category')['total_price'].sum()"
   ]
  },
  {
   "cell_type": "code",
   "execution_count": 213,
   "id": "d940299a-7cbf-4a3b-87c3-c44ce6ce3a73",
   "metadata": {},
   "outputs": [
    {
     "data": {
      "text/html": [
       "<div>\n",
       "<style scoped>\n",
       "    .dataframe tbody tr th:only-of-type {\n",
       "        vertical-align: middle;\n",
       "    }\n",
       "\n",
       "    .dataframe tbody tr th {\n",
       "        vertical-align: top;\n",
       "    }\n",
       "\n",
       "    .dataframe thead th {\n",
       "        text-align: right;\n",
       "    }\n",
       "</style>\n",
       "<table border=\"1\" class=\"dataframe\">\n",
       "  <thead>\n",
       "    <tr style=\"text-align: right;\">\n",
       "      <th></th>\n",
       "      <th>product_category</th>\n",
       "      <th>total_price</th>\n",
       "    </tr>\n",
       "  </thead>\n",
       "  <tbody>\n",
       "    <tr>\n",
       "      <th>0</th>\n",
       "      <td>Home Goods</td>\n",
       "      <td>335699.31</td>\n",
       "    </tr>\n",
       "    <tr>\n",
       "      <th>1</th>\n",
       "      <td>Apparel</td>\n",
       "      <td>319685.88</td>\n",
       "    </tr>\n",
       "    <tr>\n",
       "      <th>2</th>\n",
       "      <td>Electronics</td>\n",
       "      <td>315515.49</td>\n",
       "    </tr>\n",
       "  </tbody>\n",
       "</table>\n",
       "</div>"
      ],
      "text/plain": [
       "  product_category  total_price\n",
       "0       Home Goods    335699.31\n",
       "1          Apparel    319685.88\n",
       "2      Electronics    315515.49"
      ]
     },
     "execution_count": 213,
     "metadata": {},
     "output_type": "execute_result"
    }
   ],
   "source": [
    "rc = rev_cat.nlargest(3).reset_index()\n",
    "rc"
   ]
  },
  {
   "cell_type": "code",
   "execution_count": 212,
   "id": "c2d0a9ea-9eec-4b9b-acdd-c5a4d888670c",
   "metadata": {},
   "outputs": [],
   "source": [
    "cr = rc.to_dict('records')"
   ]
  },
  {
   "cell_type": "code",
   "execution_count": null,
   "id": "ee95a0eb-637f-436a-a70d-a1ec7549381f",
   "metadata": {},
   "outputs": [],
   "source": [
    "What is the total number of orders for each product category?"
   ]
  },
  {
   "cell_type": "code",
   "execution_count": 214,
   "id": "4d4e7ee4-d8bd-440b-8fdb-87bdbae5fde8",
   "metadata": {},
   "outputs": [
    {
     "data": {
      "text/html": [
       "<div>\n",
       "<style scoped>\n",
       "    .dataframe tbody tr th:only-of-type {\n",
       "        vertical-align: middle;\n",
       "    }\n",
       "\n",
       "    .dataframe tbody tr th {\n",
       "        vertical-align: top;\n",
       "    }\n",
       "\n",
       "    .dataframe thead th {\n",
       "        text-align: right;\n",
       "    }\n",
       "</style>\n",
       "<table border=\"1\" class=\"dataframe\">\n",
       "  <thead>\n",
       "    <tr style=\"text-align: right;\">\n",
       "      <th></th>\n",
       "      <th>customer_id</th>\n",
       "      <th>name</th>\n",
       "      <th>email</th>\n",
       "      <th>age</th>\n",
       "      <th>city</th>\n",
       "      <th>join_date</th>\n",
       "      <th>order_id</th>\n",
       "      <th>order_date</th>\n",
       "      <th>product_category</th>\n",
       "      <th>total_price</th>\n",
       "      <th>year</th>\n",
       "      <th>Month</th>\n",
       "      <th>Year-Month</th>\n",
       "    </tr>\n",
       "  </thead>\n",
       "  <tbody>\n",
       "    <tr>\n",
       "      <th>0</th>\n",
       "      <td>1</td>\n",
       "      <td>Customer_1</td>\n",
       "      <td>customer_1@example.com</td>\n",
       "      <td>56</td>\n",
       "      <td>Chicago</td>\n",
       "      <td>2022-08-04</td>\n",
       "      <td>82</td>\n",
       "      <td>2023-03-15</td>\n",
       "      <td>Electronics</td>\n",
       "      <td>388.0</td>\n",
       "      <td>2023</td>\n",
       "      <td>3</td>\n",
       "      <td>2023-3</td>\n",
       "    </tr>\n",
       "  </tbody>\n",
       "</table>\n",
       "</div>"
      ],
      "text/plain": [
       "   customer_id        name                   email  age     city   join_date  \\\n",
       "0            1  Customer_1  customer_1@example.com   56  Chicago  2022-08-04   \n",
       "\n",
       "   order_id order_date product_category  total_price  year  Month Year-Month  \n",
       "0        82 2023-03-15      Electronics        388.0  2023      3     2023-3  "
      ]
     },
     "execution_count": 214,
     "metadata": {},
     "output_type": "execute_result"
    }
   ],
   "source": [
    "df_merged.head(1)"
   ]
  },
  {
   "cell_type": "code",
   "execution_count": 216,
   "id": "aaa62b7a-885e-4767-bf84-1ebc72c41187",
   "metadata": {},
   "outputs": [
    {
     "data": {
      "text/html": [
       "<div>\n",
       "<style scoped>\n",
       "    .dataframe tbody tr th:only-of-type {\n",
       "        vertical-align: middle;\n",
       "    }\n",
       "\n",
       "    .dataframe tbody tr th {\n",
       "        vertical-align: top;\n",
       "    }\n",
       "\n",
       "    .dataframe thead th {\n",
       "        text-align: right;\n",
       "    }\n",
       "</style>\n",
       "<table border=\"1\" class=\"dataframe\">\n",
       "  <thead>\n",
       "    <tr style=\"text-align: right;\">\n",
       "      <th></th>\n",
       "      <th>product_category</th>\n",
       "      <th>order_id</th>\n",
       "    </tr>\n",
       "  </thead>\n",
       "  <tbody>\n",
       "    <tr>\n",
       "      <th>0</th>\n",
       "      <td>Apparel</td>\n",
       "      <td>3157146</td>\n",
       "    </tr>\n",
       "    <tr>\n",
       "      <th>1</th>\n",
       "      <td>Books</td>\n",
       "      <td>3006506</td>\n",
       "    </tr>\n",
       "    <tr>\n",
       "      <th>2</th>\n",
       "      <td>Electronics</td>\n",
       "      <td>3049402</td>\n",
       "    </tr>\n",
       "    <tr>\n",
       "      <th>3</th>\n",
       "      <td>Home Goods</td>\n",
       "      <td>3289446</td>\n",
       "    </tr>\n",
       "  </tbody>\n",
       "</table>\n",
       "</div>"
      ],
      "text/plain": [
       "  product_category  order_id\n",
       "0          Apparel   3157146\n",
       "1            Books   3006506\n",
       "2      Electronics   3049402\n",
       "3       Home Goods   3289446"
      ]
     },
     "execution_count": 216,
     "metadata": {},
     "output_type": "execute_result"
    }
   ],
   "source": [
    "oders_products = df_merged.groupby('product_category')['order_id'].sum()\n",
    "oders_products.reset_index()"
   ]
  },
  {
   "cell_type": "code",
   "execution_count": null,
   "id": "88451336-3c32-4433-a2c5-ec879b7267a5",
   "metadata": {},
   "outputs": [],
   "source": [
    "orders_per_product_category = oders_products.to_dict('results')"
   ]
  },
  {
   "cell_type": "markdown",
   "id": "b0511753-ba3f-4fd3-91bf-c031cd9f91b0",
   "metadata": {},
   "source": [
    "## 2. Customer Demographics Analysis:"
   ]
  },
  {
   "cell_type": "code",
   "execution_count": null,
   "id": "ce7687e4-4ae2-4196-bb61-b995ef52efa3",
   "metadata": {},
   "outputs": [],
   "source": [
    "•\n",
    "What is the average age of customers in each city?"
   ]
  },
  {
   "cell_type": "code",
   "execution_count": 219,
   "id": "d5ba5f24-3014-4cc7-9446-ec483ec2d56f",
   "metadata": {},
   "outputs": [
    {
     "data": {
      "text/html": [
       "<div>\n",
       "<style scoped>\n",
       "    .dataframe tbody tr th:only-of-type {\n",
       "        vertical-align: middle;\n",
       "    }\n",
       "\n",
       "    .dataframe tbody tr th {\n",
       "        vertical-align: top;\n",
       "    }\n",
       "\n",
       "    .dataframe thead th {\n",
       "        text-align: right;\n",
       "    }\n",
       "</style>\n",
       "<table border=\"1\" class=\"dataframe\">\n",
       "  <thead>\n",
       "    <tr style=\"text-align: right;\">\n",
       "      <th></th>\n",
       "      <th>customer_id</th>\n",
       "      <th>name</th>\n",
       "      <th>email</th>\n",
       "      <th>age</th>\n",
       "      <th>city</th>\n",
       "      <th>join_date</th>\n",
       "      <th>order_id</th>\n",
       "      <th>order_date</th>\n",
       "      <th>product_category</th>\n",
       "      <th>total_price</th>\n",
       "      <th>year</th>\n",
       "      <th>Month</th>\n",
       "      <th>Year-Month</th>\n",
       "    </tr>\n",
       "  </thead>\n",
       "  <tbody>\n",
       "    <tr>\n",
       "      <th>0</th>\n",
       "      <td>1</td>\n",
       "      <td>Customer_1</td>\n",
       "      <td>customer_1@example.com</td>\n",
       "      <td>56</td>\n",
       "      <td>Chicago</td>\n",
       "      <td>2022-08-04</td>\n",
       "      <td>82</td>\n",
       "      <td>2023-03-15</td>\n",
       "      <td>Electronics</td>\n",
       "      <td>388.0</td>\n",
       "      <td>2023</td>\n",
       "      <td>3</td>\n",
       "      <td>2023-3</td>\n",
       "    </tr>\n",
       "  </tbody>\n",
       "</table>\n",
       "</div>"
      ],
      "text/plain": [
       "   customer_id        name                   email  age     city   join_date  \\\n",
       "0            1  Customer_1  customer_1@example.com   56  Chicago  2022-08-04   \n",
       "\n",
       "   order_id order_date product_category  total_price  year  Month Year-Month  \n",
       "0        82 2023-03-15      Electronics        388.0  2023      3     2023-3  "
      ]
     },
     "execution_count": 219,
     "metadata": {},
     "output_type": "execute_result"
    }
   ],
   "source": [
    "df_merged.head(1)"
   ]
  },
  {
   "cell_type": "code",
   "execution_count": 223,
   "id": "ca4f8b07-7e02-492f-a962-a6b1ab8ec025",
   "metadata": {},
   "outputs": [
    {
     "data": {
      "text/plain": [
       "city\n",
       "Los Angeles    42.26\n",
       "Chicago        43.40\n",
       "Houston        43.79\n",
       "Phoenix        44.12\n",
       "New York       44.69\n",
       "Name: age, dtype: float64"
      ]
     },
     "execution_count": 223,
     "metadata": {},
     "output_type": "execute_result"
    }
   ],
   "source": [
    "age_city = df_merged.groupby('city')['age'].mean().sort_values().round(2)\n",
    "age_city"
   ]
  },
  {
   "cell_type": "code",
   "execution_count": 224,
   "id": "65a5d18c-27b0-4650-b65f-8e1188143440",
   "metadata": {},
   "outputs": [],
   "source": [
    "av_age_city = age_city.reset_index()"
   ]
  },
  {
   "cell_type": "code",
   "execution_count": 225,
   "id": "d54a8ad2-8289-42cf-bde9-5099ef428956",
   "metadata": {},
   "outputs": [],
   "source": [
    "average_age_per_city = av_age_city.to_dict('records')"
   ]
  },
  {
   "cell_type": "markdown",
   "id": "b23ae61e-d2c8-4f03-ae15-e23085648d71",
   "metadata": {},
   "source": [
    "•\n",
    "### What are the top 3 cities by total number of orders?"
   ]
  },
  {
   "cell_type": "code",
   "execution_count": 227,
   "id": "3bf46416-d8c0-4144-b58e-9edf0ddb792f",
   "metadata": {},
   "outputs": [],
   "source": [
    "cityorders = df_merged.groupby('city')['order_id'].sum()"
   ]
  },
  {
   "cell_type": "code",
   "execution_count": 228,
   "id": "eddb43d8-1548-437a-9a29-5e61ac384f7b",
   "metadata": {},
   "outputs": [],
   "source": [
    "top3cities = cityorders.nlargest(3)"
   ]
  },
  {
   "cell_type": "code",
   "execution_count": 229,
   "id": "d45923b0-125c-454d-82cf-02c32987a94f",
   "metadata": {},
   "outputs": [
    {
     "data": {
      "text/html": [
       "<div>\n",
       "<style scoped>\n",
       "    .dataframe tbody tr th:only-of-type {\n",
       "        vertical-align: middle;\n",
       "    }\n",
       "\n",
       "    .dataframe tbody tr th {\n",
       "        vertical-align: top;\n",
       "    }\n",
       "\n",
       "    .dataframe thead th {\n",
       "        text-align: right;\n",
       "    }\n",
       "</style>\n",
       "<table border=\"1\" class=\"dataframe\">\n",
       "  <thead>\n",
       "    <tr style=\"text-align: right;\">\n",
       "      <th></th>\n",
       "      <th>city</th>\n",
       "      <th>order_id</th>\n",
       "    </tr>\n",
       "  </thead>\n",
       "  <tbody>\n",
       "    <tr>\n",
       "      <th>0</th>\n",
       "      <td>New York</td>\n",
       "      <td>2594967</td>\n",
       "    </tr>\n",
       "    <tr>\n",
       "      <th>1</th>\n",
       "      <td>Houston</td>\n",
       "      <td>2537481</td>\n",
       "    </tr>\n",
       "    <tr>\n",
       "      <th>2</th>\n",
       "      <td>Phoenix</td>\n",
       "      <td>2536799</td>\n",
       "    </tr>\n",
       "  </tbody>\n",
       "</table>\n",
       "</div>"
      ],
      "text/plain": [
       "       city  order_id\n",
       "0  New York   2594967\n",
       "1   Houston   2537481\n",
       "2   Phoenix   2536799"
      ]
     },
     "execution_count": 229,
     "metadata": {},
     "output_type": "execute_result"
    }
   ],
   "source": [
    "top3cities.reset_index()"
   ]
  },
  {
   "cell_type": "markdown",
   "id": "68908de7-15e4-49ec-946e-6b4b28e45aa7",
   "metadata": {},
   "source": [
    "### Find the median age of customers who have made at least one order."
   ]
  },
  {
   "cell_type": "code",
   "execution_count": 230,
   "id": "b0f9895f-b96e-4bd1-9b81-bbb9582c0f56",
   "metadata": {},
   "outputs": [
    {
     "data": {
      "text/html": [
       "<div>\n",
       "<style scoped>\n",
       "    .dataframe tbody tr th:only-of-type {\n",
       "        vertical-align: middle;\n",
       "    }\n",
       "\n",
       "    .dataframe tbody tr th {\n",
       "        vertical-align: top;\n",
       "    }\n",
       "\n",
       "    .dataframe thead th {\n",
       "        text-align: right;\n",
       "    }\n",
       "</style>\n",
       "<table border=\"1\" class=\"dataframe\">\n",
       "  <thead>\n",
       "    <tr style=\"text-align: right;\">\n",
       "      <th></th>\n",
       "      <th>customer_id</th>\n",
       "      <th>name</th>\n",
       "      <th>email</th>\n",
       "      <th>age</th>\n",
       "      <th>city</th>\n",
       "      <th>join_date</th>\n",
       "      <th>order_id</th>\n",
       "      <th>order_date</th>\n",
       "      <th>product_category</th>\n",
       "      <th>total_price</th>\n",
       "      <th>year</th>\n",
       "      <th>Month</th>\n",
       "      <th>Year-Month</th>\n",
       "    </tr>\n",
       "  </thead>\n",
       "  <tbody>\n",
       "    <tr>\n",
       "      <th>0</th>\n",
       "      <td>1</td>\n",
       "      <td>Customer_1</td>\n",
       "      <td>customer_1@example.com</td>\n",
       "      <td>56</td>\n",
       "      <td>Chicago</td>\n",
       "      <td>2022-08-04</td>\n",
       "      <td>82</td>\n",
       "      <td>2023-03-15</td>\n",
       "      <td>Electronics</td>\n",
       "      <td>388.0</td>\n",
       "      <td>2023</td>\n",
       "      <td>3</td>\n",
       "      <td>2023-3</td>\n",
       "    </tr>\n",
       "  </tbody>\n",
       "</table>\n",
       "</div>"
      ],
      "text/plain": [
       "   customer_id        name                   email  age     city   join_date  \\\n",
       "0            1  Customer_1  customer_1@example.com   56  Chicago  2022-08-04   \n",
       "\n",
       "   order_id order_date product_category  total_price  year  Month Year-Month  \n",
       "0        82 2023-03-15      Electronics        388.0  2023      3     2023-3  "
      ]
     },
     "execution_count": 230,
     "metadata": {},
     "output_type": "execute_result"
    }
   ],
   "source": [
    "df_merged.head(1)"
   ]
  },
  {
   "cell_type": "code",
   "execution_count": 231,
   "id": "92c00756-37c3-40e1-a3ed-5c7162bf7e20",
   "metadata": {},
   "outputs": [],
   "source": [
    "age_orders = df_merged.groupby('age')['order_id'].mean()"
   ]
  },
  {
   "cell_type": "code",
   "execution_count": 236,
   "id": "632fc5f6-19be-4c47-a7cd-3f49ae85d0eb",
   "metadata": {},
   "outputs": [],
   "source": [
    "filter_age = age_orders[age_orders >= 1].round(2).reset_index\n"
   ]
  },
  {
   "cell_type": "code",
   "execution_count": 238,
   "id": "fb60e9a9-ef06-440c-820e-d53364c5404c",
   "metadata": {},
   "outputs": [
    {
     "ename": "AttributeError",
     "evalue": "'function' object has no attribute 'to_dict'",
     "output_type": "error",
     "traceback": [
      "\u001b[1;31m---------------------------------------------------------------------------\u001b[0m",
      "\u001b[1;31mAttributeError\u001b[0m                            Traceback (most recent call last)",
      "Cell \u001b[1;32mIn[238], line 1\u001b[0m\n\u001b[1;32m----> 1\u001b[0m average_age_with_1_order \u001b[38;5;241m=\u001b[39m filter_age\u001b[38;5;241m.\u001b[39mto_dict(\u001b[38;5;124m'\u001b[39m\u001b[38;5;124mrecords\u001b[39m\u001b[38;5;124m'\u001b[39m)\n",
      "\u001b[1;31mAttributeError\u001b[0m: 'function' object has no attribute 'to_dict'"
     ]
    }
   ],
   "source": [
    "average_age_with_1_order = filter_age.to_dict('records')"
   ]
  },
  {
   "cell_type": "markdown",
   "id": "db4044da-a562-4f70-85a2-cdd4ba24bb7e",
   "metadata": {},
   "source": [
    "## 1.Customer and Order Summary:"
   ]
  },
  {
   "cell_type": "markdown",
   "id": "d179aeae-50ad-4064-ac94-a00dcf855038",
   "metadata": {},
   "source": [
    "### How many unique customers are there?"
   ]
  },
  {
   "cell_type": "code",
   "execution_count": 239,
   "id": "513aa1d3-d7dd-42d1-a440-fe1e8f33911d",
   "metadata": {},
   "outputs": [
    {
     "data": {
      "text/html": [
       "<div>\n",
       "<style scoped>\n",
       "    .dataframe tbody tr th:only-of-type {\n",
       "        vertical-align: middle;\n",
       "    }\n",
       "\n",
       "    .dataframe tbody tr th {\n",
       "        vertical-align: top;\n",
       "    }\n",
       "\n",
       "    .dataframe thead th {\n",
       "        text-align: right;\n",
       "    }\n",
       "</style>\n",
       "<table border=\"1\" class=\"dataframe\">\n",
       "  <thead>\n",
       "    <tr style=\"text-align: right;\">\n",
       "      <th></th>\n",
       "      <th>customer_id</th>\n",
       "      <th>name</th>\n",
       "      <th>email</th>\n",
       "      <th>age</th>\n",
       "      <th>city</th>\n",
       "      <th>join_date</th>\n",
       "      <th>order_id</th>\n",
       "      <th>order_date</th>\n",
       "      <th>product_category</th>\n",
       "      <th>total_price</th>\n",
       "      <th>year</th>\n",
       "      <th>Month</th>\n",
       "      <th>Year-Month</th>\n",
       "    </tr>\n",
       "  </thead>\n",
       "  <tbody>\n",
       "    <tr>\n",
       "      <th>0</th>\n",
       "      <td>1</td>\n",
       "      <td>Customer_1</td>\n",
       "      <td>customer_1@example.com</td>\n",
       "      <td>56</td>\n",
       "      <td>Chicago</td>\n",
       "      <td>2022-08-04</td>\n",
       "      <td>82</td>\n",
       "      <td>2023-03-15</td>\n",
       "      <td>Electronics</td>\n",
       "      <td>388.0</td>\n",
       "      <td>2023</td>\n",
       "      <td>3</td>\n",
       "      <td>2023-3</td>\n",
       "    </tr>\n",
       "  </tbody>\n",
       "</table>\n",
       "</div>"
      ],
      "text/plain": [
       "   customer_id        name                   email  age     city   join_date  \\\n",
       "0            1  Customer_1  customer_1@example.com   56  Chicago  2022-08-04   \n",
       "\n",
       "   order_id order_date product_category  total_price  year  Month Year-Month  \n",
       "0        82 2023-03-15      Electronics        388.0  2023      3     2023-3  "
      ]
     },
     "execution_count": 239,
     "metadata": {},
     "output_type": "execute_result"
    }
   ],
   "source": [
    "df_merged.head(1)"
   ]
  },
  {
   "cell_type": "code",
   "execution_count": 241,
   "id": "fc1e2b2f-5a2a-4140-88ce-64e032256c68",
   "metadata": {},
   "outputs": [
    {
     "data": {
      "text/plain": [
       "990"
      ]
     },
     "execution_count": 241,
     "metadata": {},
     "output_type": "execute_result"
    }
   ],
   "source": [
    "unique_customers = df_merged['name'].nunique()\n",
    "unique_customers"
   ]
  },
  {
   "cell_type": "markdown",
   "id": "ec0bed5e-45b0-4ba2-ac5a-65faf0883e98",
   "metadata": {},
   "source": [
    "### What is the total revenue generated from all orders?"
   ]
  },
  {
   "cell_type": "code",
   "execution_count": 243,
   "id": "3f8a6586-490f-41c4-9f66-0d22f3b47915",
   "metadata": {},
   "outputs": [
    {
     "data": {
      "text/html": [
       "<div>\n",
       "<style scoped>\n",
       "    .dataframe tbody tr th:only-of-type {\n",
       "        vertical-align: middle;\n",
       "    }\n",
       "\n",
       "    .dataframe tbody tr th {\n",
       "        vertical-align: top;\n",
       "    }\n",
       "\n",
       "    .dataframe thead th {\n",
       "        text-align: right;\n",
       "    }\n",
       "</style>\n",
       "<table border=\"1\" class=\"dataframe\">\n",
       "  <thead>\n",
       "    <tr style=\"text-align: right;\">\n",
       "      <th></th>\n",
       "      <th>order_id</th>\n",
       "      <th>total_price</th>\n",
       "    </tr>\n",
       "  </thead>\n",
       "  <tbody>\n",
       "    <tr>\n",
       "      <th>0</th>\n",
       "      <td>1</td>\n",
       "      <td>28.92</td>\n",
       "    </tr>\n",
       "    <tr>\n",
       "      <th>1</th>\n",
       "      <td>2</td>\n",
       "      <td>72.86</td>\n",
       "    </tr>\n",
       "    <tr>\n",
       "      <th>2</th>\n",
       "      <td>3</td>\n",
       "      <td>120.07</td>\n",
       "    </tr>\n",
       "    <tr>\n",
       "      <th>3</th>\n",
       "      <td>4</td>\n",
       "      <td>407.44</td>\n",
       "    </tr>\n",
       "    <tr>\n",
       "      <th>4</th>\n",
       "      <td>5</td>\n",
       "      <td>440.47</td>\n",
       "    </tr>\n",
       "    <tr>\n",
       "      <th>...</th>\n",
       "      <td>...</td>\n",
       "      <td>...</td>\n",
       "    </tr>\n",
       "    <tr>\n",
       "      <th>4995</th>\n",
       "      <td>4996</td>\n",
       "      <td>302.71</td>\n",
       "    </tr>\n",
       "    <tr>\n",
       "      <th>4996</th>\n",
       "      <td>4997</td>\n",
       "      <td>88.58</td>\n",
       "    </tr>\n",
       "    <tr>\n",
       "      <th>4997</th>\n",
       "      <td>4998</td>\n",
       "      <td>151.80</td>\n",
       "    </tr>\n",
       "    <tr>\n",
       "      <th>4998</th>\n",
       "      <td>4999</td>\n",
       "      <td>311.17</td>\n",
       "    </tr>\n",
       "    <tr>\n",
       "      <th>4999</th>\n",
       "      <td>5000</td>\n",
       "      <td>279.28</td>\n",
       "    </tr>\n",
       "  </tbody>\n",
       "</table>\n",
       "<p>5000 rows × 2 columns</p>\n",
       "</div>"
      ],
      "text/plain": [
       "      order_id  total_price\n",
       "0            1        28.92\n",
       "1            2        72.86\n",
       "2            3       120.07\n",
       "3            4       407.44\n",
       "4            5       440.47\n",
       "...        ...          ...\n",
       "4995      4996       302.71\n",
       "4996      4997        88.58\n",
       "4997      4998       151.80\n",
       "4998      4999       311.17\n",
       "4999      5000       279.28\n",
       "\n",
       "[5000 rows x 2 columns]"
      ]
     },
     "execution_count": 243,
     "metadata": {},
     "output_type": "execute_result"
    }
   ],
   "source": [
    "revenue_orders = df_merged.groupby('order_id')['total_price'].sum()\n",
    "revenue_orders.reset_index()"
   ]
  },
  {
   "cell_type": "markdown",
   "id": "de7d063c-e3d0-4ddd-80c6-54d3d845df29",
   "metadata": {},
   "source": [
    "### What is the average order value (AOV)?"
   ]
  },
  {
   "cell_type": "code",
   "execution_count": 244,
   "id": "13a7a108-c74c-4fd9-981e-2e8ec1453645",
   "metadata": {},
   "outputs": [
    {
     "data": {
      "text/html": [
       "<div>\n",
       "<style scoped>\n",
       "    .dataframe tbody tr th:only-of-type {\n",
       "        vertical-align: middle;\n",
       "    }\n",
       "\n",
       "    .dataframe tbody tr th {\n",
       "        vertical-align: top;\n",
       "    }\n",
       "\n",
       "    .dataframe thead th {\n",
       "        text-align: right;\n",
       "    }\n",
       "</style>\n",
       "<table border=\"1\" class=\"dataframe\">\n",
       "  <thead>\n",
       "    <tr style=\"text-align: right;\">\n",
       "      <th></th>\n",
       "      <th>customer_id</th>\n",
       "      <th>name</th>\n",
       "      <th>email</th>\n",
       "      <th>age</th>\n",
       "      <th>city</th>\n",
       "      <th>join_date</th>\n",
       "      <th>order_id</th>\n",
       "      <th>order_date</th>\n",
       "      <th>product_category</th>\n",
       "      <th>total_price</th>\n",
       "      <th>year</th>\n",
       "      <th>Month</th>\n",
       "      <th>Year-Month</th>\n",
       "    </tr>\n",
       "  </thead>\n",
       "  <tbody>\n",
       "    <tr>\n",
       "      <th>0</th>\n",
       "      <td>1</td>\n",
       "      <td>Customer_1</td>\n",
       "      <td>customer_1@example.com</td>\n",
       "      <td>56</td>\n",
       "      <td>Chicago</td>\n",
       "      <td>2022-08-04</td>\n",
       "      <td>82</td>\n",
       "      <td>2023-03-15</td>\n",
       "      <td>Electronics</td>\n",
       "      <td>388.0</td>\n",
       "      <td>2023</td>\n",
       "      <td>3</td>\n",
       "      <td>2023-3</td>\n",
       "    </tr>\n",
       "  </tbody>\n",
       "</table>\n",
       "</div>"
      ],
      "text/plain": [
       "   customer_id        name                   email  age     city   join_date  \\\n",
       "0            1  Customer_1  customer_1@example.com   56  Chicago  2022-08-04   \n",
       "\n",
       "   order_id order_date product_category  total_price  year  Month Year-Month  \n",
       "0        82 2023-03-15      Electronics        388.0  2023      3     2023-3  "
      ]
     },
     "execution_count": 244,
     "metadata": {},
     "output_type": "execute_result"
    }
   ],
   "source": [
    "df_merged.head(1)"
   ]
  },
  {
   "cell_type": "code",
   "execution_count": 245,
   "id": "4978a71f-caf5-41c2-965b-70e1590cdd84",
   "metadata": {},
   "outputs": [],
   "source": [
    "total_orders = df_merged['order_id']"
   ]
  },
  {
   "cell_type": "code",
   "execution_count": 246,
   "id": "16256f13-91e8-48d9-b913-406eeb3cd159",
   "metadata": {},
   "outputs": [],
   "source": [
    "total_revenue = df_merged['total_price']"
   ]
  },
  {
   "cell_type": "code",
   "execution_count": 249,
   "id": "bfec4c1d-7e69-49b6-bc67-57440690096c",
   "metadata": {},
   "outputs": [
    {
     "data": {
      "text/html": [
       "<div>\n",
       "<style scoped>\n",
       "    .dataframe tbody tr th:only-of-type {\n",
       "        vertical-align: middle;\n",
       "    }\n",
       "\n",
       "    .dataframe tbody tr th {\n",
       "        vertical-align: top;\n",
       "    }\n",
       "\n",
       "    .dataframe thead th {\n",
       "        text-align: right;\n",
       "    }\n",
       "</style>\n",
       "<table border=\"1\" class=\"dataframe\">\n",
       "  <thead>\n",
       "    <tr style=\"text-align: right;\">\n",
       "      <th></th>\n",
       "      <th>index</th>\n",
       "      <th>0</th>\n",
       "    </tr>\n",
       "  </thead>\n",
       "  <tbody>\n",
       "    <tr>\n",
       "      <th>0</th>\n",
       "      <td>0</td>\n",
       "      <td>4.731707</td>\n",
       "    </tr>\n",
       "    <tr>\n",
       "      <th>1</th>\n",
       "      <td>1</td>\n",
       "      <td>0.257688</td>\n",
       "    </tr>\n",
       "    <tr>\n",
       "      <th>2</th>\n",
       "      <td>2</td>\n",
       "      <td>0.109540</td>\n",
       "    </tr>\n",
       "    <tr>\n",
       "      <th>3</th>\n",
       "      <td>3</td>\n",
       "      <td>0.220399</td>\n",
       "    </tr>\n",
       "    <tr>\n",
       "      <th>4</th>\n",
       "      <td>4</td>\n",
       "      <td>0.096501</td>\n",
       "    </tr>\n",
       "    <tr>\n",
       "      <th>...</th>\n",
       "      <td>...</td>\n",
       "      <td>...</td>\n",
       "    </tr>\n",
       "    <tr>\n",
       "      <th>4995</th>\n",
       "      <td>4995</td>\n",
       "      <td>0.118623</td>\n",
       "    </tr>\n",
       "    <tr>\n",
       "      <th>4996</th>\n",
       "      <td>4996</td>\n",
       "      <td>0.006562</td>\n",
       "    </tr>\n",
       "    <tr>\n",
       "      <th>4997</th>\n",
       "      <td>4997</td>\n",
       "      <td>0.068079</td>\n",
       "    </tr>\n",
       "    <tr>\n",
       "      <th>4998</th>\n",
       "      <td>4998</td>\n",
       "      <td>0.151475</td>\n",
       "    </tr>\n",
       "    <tr>\n",
       "      <th>4999</th>\n",
       "      <td>4999</td>\n",
       "      <td>0.075265</td>\n",
       "    </tr>\n",
       "  </tbody>\n",
       "</table>\n",
       "<p>5000 rows × 2 columns</p>\n",
       "</div>"
      ],
      "text/plain": [
       "      index         0\n",
       "0         0  4.731707\n",
       "1         1  0.257688\n",
       "2         2  0.109540\n",
       "3         3  0.220399\n",
       "4         4  0.096501\n",
       "...     ...       ...\n",
       "4995   4995  0.118623\n",
       "4996   4996  0.006562\n",
       "4997   4997  0.068079\n",
       "4998   4998  0.151475\n",
       "4999   4999  0.075265\n",
       "\n",
       "[5000 rows x 2 columns]"
      ]
     },
     "execution_count": 249,
     "metadata": {},
     "output_type": "execute_result"
    }
   ],
   "source": [
    "aov = total_revenue / total_orders\n",
    "aov.reset_index()"
   ]
  },
  {
   "cell_type": "code",
   "execution_count": 253,
   "id": "1a8ad12c-6c1f-429a-bf28-d4ec53daf399",
   "metadata": {},
   "outputs": [
    {
     "data": {
      "text/plain": [
       "product_category\n",
       "Home Goods     0.2646\n",
       "Electronics    0.2478\n",
       "Apparel        0.2470\n",
       "Books          0.2406\n",
       "Name: proportion, dtype: float64"
      ]
     },
     "execution_count": 253,
     "metadata": {},
     "output_type": "execute_result"
    }
   ],
   "source": [
    "df_merged['product_category'].value_counts(normalize=True)"
   ]
  },
  {
   "cell_type": "code",
   "execution_count": 251,
   "id": "ef781625-1ac4-407d-a1f1-601bedf56133",
   "metadata": {},
   "outputs": [
    {
     "data": {
      "text/html": [
       "<div>\n",
       "<style scoped>\n",
       "    .dataframe tbody tr th:only-of-type {\n",
       "        vertical-align: middle;\n",
       "    }\n",
       "\n",
       "    .dataframe tbody tr th {\n",
       "        vertical-align: top;\n",
       "    }\n",
       "\n",
       "    .dataframe thead th {\n",
       "        text-align: right;\n",
       "    }\n",
       "</style>\n",
       "<table border=\"1\" class=\"dataframe\">\n",
       "  <thead>\n",
       "    <tr style=\"text-align: right;\">\n",
       "      <th></th>\n",
       "      <th>customer_id</th>\n",
       "      <th>name</th>\n",
       "      <th>email</th>\n",
       "      <th>age</th>\n",
       "      <th>city</th>\n",
       "      <th>join_date</th>\n",
       "      <th>order_id</th>\n",
       "      <th>order_date</th>\n",
       "      <th>product_category</th>\n",
       "      <th>total_price</th>\n",
       "      <th>year</th>\n",
       "      <th>Month</th>\n",
       "      <th>Year-Month</th>\n",
       "    </tr>\n",
       "  </thead>\n",
       "  <tbody>\n",
       "    <tr>\n",
       "      <th>0</th>\n",
       "      <td>1</td>\n",
       "      <td>Customer_1</td>\n",
       "      <td>customer_1@example.com</td>\n",
       "      <td>56</td>\n",
       "      <td>Chicago</td>\n",
       "      <td>2022-08-04</td>\n",
       "      <td>82</td>\n",
       "      <td>2023-03-15</td>\n",
       "      <td>Electronics</td>\n",
       "      <td>388.0</td>\n",
       "      <td>2023</td>\n",
       "      <td>3</td>\n",
       "      <td>2023-3</td>\n",
       "    </tr>\n",
       "  </tbody>\n",
       "</table>\n",
       "</div>"
      ],
      "text/plain": [
       "   customer_id        name                   email  age     city   join_date  \\\n",
       "0            1  Customer_1  customer_1@example.com   56  Chicago  2022-08-04   \n",
       "\n",
       "   order_id order_date product_category  total_price  year  Month Year-Month  \n",
       "0        82 2023-03-15      Electronics        388.0  2023      3     2023-3  "
      ]
     },
     "execution_count": 251,
     "metadata": {},
     "output_type": "execute_result"
    }
   ],
   "source": [
    "df_merged.head(1)"
   ]
  },
  {
   "cell_type": "code",
   "execution_count": 254,
   "id": "b5ec97e5-bea6-4742-bd97-147255d330bd",
   "metadata": {},
   "outputs": [
    {
     "data": {
      "text/plain": [
       "product_category\n",
       "Apparel        1235\n",
       "Books          1203\n",
       "Electronics    1239\n",
       "Home Goods     1323\n",
       "dtype: int64"
      ]
     },
     "execution_count": 254,
     "metadata": {},
     "output_type": "execute_result"
    }
   ],
   "source": [
    "df_merged.groupby('product_category').size()"
   ]
  },
  {
   "cell_type": "code",
   "execution_count": 260,
   "id": "9e79c3d5-9468-4a90-bf0d-4a30ff8f79b9",
   "metadata": {},
   "outputs": [
    {
     "data": {
      "text/plain": [
       "product_category\n",
       "Home Goods    1323\n",
       "Name: count, dtype: int64"
      ]
     },
     "execution_count": 260,
     "metadata": {},
     "output_type": "execute_result"
    }
   ],
   "source": [
    "df_merged['product_category'].value_counts().head(1)"
   ]
  },
  {
   "cell_type": "code",
   "execution_count": 259,
   "id": "8f36316c-21d4-44ee-b50f-67827dcfb556",
   "metadata": {},
   "outputs": [
    {
     "data": {
      "text/plain": [
       "array(['Electronics', 'Books', 'Apparel', 'Home Goods'], dtype=object)"
      ]
     },
     "execution_count": 259,
     "metadata": {},
     "output_type": "execute_result"
    }
   ],
   "source": [
    "df_merged['product_category'].unique()"
   ]
  },
  {
   "cell_type": "code",
   "execution_count": 267,
   "id": "15f35102-2d51-4882-8b37-dd361df7a7a0",
   "metadata": {},
   "outputs": [
    {
     "data": {
      "text/html": [
       "<div>\n",
       "<style scoped>\n",
       "    .dataframe tbody tr th:only-of-type {\n",
       "        vertical-align: middle;\n",
       "    }\n",
       "\n",
       "    .dataframe tbody tr th {\n",
       "        vertical-align: top;\n",
       "    }\n",
       "\n",
       "    .dataframe thead th {\n",
       "        text-align: right;\n",
       "    }\n",
       "</style>\n",
       "<table border=\"1\" class=\"dataframe\">\n",
       "  <thead>\n",
       "    <tr style=\"text-align: right;\">\n",
       "      <th></th>\n",
       "      <th>customer_id</th>\n",
       "      <th>name</th>\n",
       "      <th>email</th>\n",
       "      <th>age</th>\n",
       "      <th>city</th>\n",
       "      <th>join_date</th>\n",
       "      <th>order_id</th>\n",
       "      <th>order_date</th>\n",
       "      <th>product_category</th>\n",
       "      <th>total_price</th>\n",
       "      <th>year</th>\n",
       "      <th>Month</th>\n",
       "      <th>Year-Month</th>\n",
       "    </tr>\n",
       "  </thead>\n",
       "  <tbody>\n",
       "    <tr>\n",
       "      <th>10</th>\n",
       "      <td>3</td>\n",
       "      <td>Customer_3</td>\n",
       "      <td>customer_3@example.com</td>\n",
       "      <td>46</td>\n",
       "      <td>New York</td>\n",
       "      <td>2022-05-06</td>\n",
       "      <td>1043</td>\n",
       "      <td>2022-01-04</td>\n",
       "      <td>Apparel</td>\n",
       "      <td>352.45</td>\n",
       "      <td>2022</td>\n",
       "      <td>1</td>\n",
       "      <td>2022-1</td>\n",
       "    </tr>\n",
       "    <tr>\n",
       "      <th>11</th>\n",
       "      <td>3</td>\n",
       "      <td>Customer_3</td>\n",
       "      <td>customer_3@example.com</td>\n",
       "      <td>46</td>\n",
       "      <td>New York</td>\n",
       "      <td>2022-05-06</td>\n",
       "      <td>1257</td>\n",
       "      <td>2023-03-02</td>\n",
       "      <td>Home Goods</td>\n",
       "      <td>58.21</td>\n",
       "      <td>2023</td>\n",
       "      <td>3</td>\n",
       "      <td>2023-3</td>\n",
       "    </tr>\n",
       "    <tr>\n",
       "      <th>12</th>\n",
       "      <td>3</td>\n",
       "      <td>Customer_3</td>\n",
       "      <td>customer_3@example.com</td>\n",
       "      <td>46</td>\n",
       "      <td>New York</td>\n",
       "      <td>2022-05-06</td>\n",
       "      <td>2026</td>\n",
       "      <td>2023-07-21</td>\n",
       "      <td>Home Goods</td>\n",
       "      <td>391.46</td>\n",
       "      <td>2023</td>\n",
       "      <td>7</td>\n",
       "      <td>2023-7</td>\n",
       "    </tr>\n",
       "    <tr>\n",
       "      <th>13</th>\n",
       "      <td>3</td>\n",
       "      <td>Customer_3</td>\n",
       "      <td>customer_3@example.com</td>\n",
       "      <td>46</td>\n",
       "      <td>New York</td>\n",
       "      <td>2022-05-06</td>\n",
       "      <td>2289</td>\n",
       "      <td>2023-05-15</td>\n",
       "      <td>Electronics</td>\n",
       "      <td>153.70</td>\n",
       "      <td>2023</td>\n",
       "      <td>5</td>\n",
       "      <td>2023-5</td>\n",
       "    </tr>\n",
       "    <tr>\n",
       "      <th>14</th>\n",
       "      <td>3</td>\n",
       "      <td>Customer_3</td>\n",
       "      <td>customer_3@example.com</td>\n",
       "      <td>46</td>\n",
       "      <td>New York</td>\n",
       "      <td>2022-05-06</td>\n",
       "      <td>4950</td>\n",
       "      <td>2022-04-09</td>\n",
       "      <td>Electronics</td>\n",
       "      <td>450.69</td>\n",
       "      <td>2022</td>\n",
       "      <td>4</td>\n",
       "      <td>2022-4</td>\n",
       "    </tr>\n",
       "    <tr>\n",
       "      <th>...</th>\n",
       "      <td>...</td>\n",
       "      <td>...</td>\n",
       "      <td>...</td>\n",
       "      <td>...</td>\n",
       "      <td>...</td>\n",
       "      <td>...</td>\n",
       "      <td>...</td>\n",
       "      <td>...</td>\n",
       "      <td>...</td>\n",
       "      <td>...</td>\n",
       "      <td>...</td>\n",
       "      <td>...</td>\n",
       "      <td>...</td>\n",
       "    </tr>\n",
       "    <tr>\n",
       "      <th>4978</th>\n",
       "      <td>993</td>\n",
       "      <td>Customer_993</td>\n",
       "      <td>customer_993@example.com</td>\n",
       "      <td>64</td>\n",
       "      <td>New York</td>\n",
       "      <td>2022-09-17</td>\n",
       "      <td>2476</td>\n",
       "      <td>2022-03-20</td>\n",
       "      <td>Apparel</td>\n",
       "      <td>273.13</td>\n",
       "      <td>2022</td>\n",
       "      <td>3</td>\n",
       "      <td>2022-3</td>\n",
       "    </tr>\n",
       "    <tr>\n",
       "      <th>4979</th>\n",
       "      <td>994</td>\n",
       "      <td>Customer_994</td>\n",
       "      <td>customer_994@example.com</td>\n",
       "      <td>40</td>\n",
       "      <td>New York</td>\n",
       "      <td>2022-04-12</td>\n",
       "      <td>1483</td>\n",
       "      <td>2022-02-18</td>\n",
       "      <td>Books</td>\n",
       "      <td>311.23</td>\n",
       "      <td>2022</td>\n",
       "      <td>2</td>\n",
       "      <td>2022-2</td>\n",
       "    </tr>\n",
       "    <tr>\n",
       "      <th>4980</th>\n",
       "      <td>994</td>\n",
       "      <td>Customer_994</td>\n",
       "      <td>customer_994@example.com</td>\n",
       "      <td>40</td>\n",
       "      <td>New York</td>\n",
       "      <td>2022-04-12</td>\n",
       "      <td>2556</td>\n",
       "      <td>2023-01-14</td>\n",
       "      <td>Electronics</td>\n",
       "      <td>223.77</td>\n",
       "      <td>2023</td>\n",
       "      <td>1</td>\n",
       "      <td>2023-1</td>\n",
       "    </tr>\n",
       "    <tr>\n",
       "      <th>4981</th>\n",
       "      <td>994</td>\n",
       "      <td>Customer_994</td>\n",
       "      <td>customer_994@example.com</td>\n",
       "      <td>40</td>\n",
       "      <td>New York</td>\n",
       "      <td>2022-04-12</td>\n",
       "      <td>3530</td>\n",
       "      <td>2022-06-12</td>\n",
       "      <td>Home Goods</td>\n",
       "      <td>279.94</td>\n",
       "      <td>2022</td>\n",
       "      <td>6</td>\n",
       "      <td>2022-6</td>\n",
       "    </tr>\n",
       "    <tr>\n",
       "      <th>4982</th>\n",
       "      <td>994</td>\n",
       "      <td>Customer_994</td>\n",
       "      <td>customer_994@example.com</td>\n",
       "      <td>40</td>\n",
       "      <td>New York</td>\n",
       "      <td>2022-04-12</td>\n",
       "      <td>4474</td>\n",
       "      <td>2022-02-28</td>\n",
       "      <td>Books</td>\n",
       "      <td>71.60</td>\n",
       "      <td>2022</td>\n",
       "      <td>2</td>\n",
       "      <td>2022-2</td>\n",
       "    </tr>\n",
       "  </tbody>\n",
       "</table>\n",
       "<p>1015 rows × 13 columns</p>\n",
       "</div>"
      ],
      "text/plain": [
       "      customer_id          name                     email  age      city  \\\n",
       "10              3    Customer_3    customer_3@example.com   46  New York   \n",
       "11              3    Customer_3    customer_3@example.com   46  New York   \n",
       "12              3    Customer_3    customer_3@example.com   46  New York   \n",
       "13              3    Customer_3    customer_3@example.com   46  New York   \n",
       "14              3    Customer_3    customer_3@example.com   46  New York   \n",
       "...           ...           ...                       ...  ...       ...   \n",
       "4978          993  Customer_993  customer_993@example.com   64  New York   \n",
       "4979          994  Customer_994  customer_994@example.com   40  New York   \n",
       "4980          994  Customer_994  customer_994@example.com   40  New York   \n",
       "4981          994  Customer_994  customer_994@example.com   40  New York   \n",
       "4982          994  Customer_994  customer_994@example.com   40  New York   \n",
       "\n",
       "       join_date  order_id order_date product_category  total_price  year  \\\n",
       "10    2022-05-06      1043 2022-01-04          Apparel       352.45  2022   \n",
       "11    2022-05-06      1257 2023-03-02       Home Goods        58.21  2023   \n",
       "12    2022-05-06      2026 2023-07-21       Home Goods       391.46  2023   \n",
       "13    2022-05-06      2289 2023-05-15      Electronics       153.70  2023   \n",
       "14    2022-05-06      4950 2022-04-09      Electronics       450.69  2022   \n",
       "...          ...       ...        ...              ...          ...   ...   \n",
       "4978  2022-09-17      2476 2022-03-20          Apparel       273.13  2022   \n",
       "4979  2022-04-12      1483 2022-02-18            Books       311.23  2022   \n",
       "4980  2022-04-12      2556 2023-01-14      Electronics       223.77  2023   \n",
       "4981  2022-04-12      3530 2022-06-12       Home Goods       279.94  2022   \n",
       "4982  2022-04-12      4474 2022-02-28            Books        71.60  2022   \n",
       "\n",
       "      Month Year-Month  \n",
       "10        1     2022-1  \n",
       "11        3     2023-3  \n",
       "12        7     2023-7  \n",
       "13        5     2023-5  \n",
       "14        4     2022-4  \n",
       "...     ...        ...  \n",
       "4978      3     2022-3  \n",
       "4979      2     2022-2  \n",
       "4980      1     2023-1  \n",
       "4981      6     2022-6  \n",
       "4982      2     2022-2  \n",
       "\n",
       "[1015 rows x 13 columns]"
      ]
     },
     "execution_count": 267,
     "metadata": {},
     "output_type": "execute_result"
    }
   ],
   "source": [
    "df_merged[df_merged['city'].str.contains('New')]"
   ]
  },
  {
   "cell_type": "code",
   "execution_count": 268,
   "id": "356d29d6-91fc-447a-89a3-b16519a404e9",
   "metadata": {},
   "outputs": [
    {
     "data": {
      "text/plain": [
       "94"
      ]
     },
     "execution_count": 268,
     "metadata": {},
     "output_type": "execute_result"
    }
   ],
   "source": [
    "len(df_merged[(df_merged['product_category'] == 'Apparel') & (df_merged['total_price'] < 50)])"
   ]
  },
  {
   "cell_type": "code",
   "execution_count": 270,
   "id": "93fcbde6-662a-4253-a5c6-0587ce617902",
   "metadata": {},
   "outputs": [
    {
     "data": {
      "text/plain": [
       "product_category\n",
       "Apparel        1235\n",
       "Books          1203\n",
       "Electronics    1239\n",
       "Home Goods     1323\n",
       "dtype: int64"
      ]
     },
     "execution_count": 270,
     "metadata": {},
     "output_type": "execute_result"
    }
   ],
   "source": [
    "\n",
    "df_merged.groupby('product_category').size()"
   ]
  },
  {
   "cell_type": "code",
   "execution_count": null,
   "id": "050df02f-ed7c-4626-974f-c0e433f691bf",
   "metadata": {},
   "outputs": [],
   "source": []
  },
  {
   "cell_type": "code",
   "execution_count": null,
   "id": "a3380d59-b47c-4c9d-bc3a-7ee1bc40b0ac",
   "metadata": {},
   "outputs": [],
   "source": []
  },
  {
   "cell_type": "code",
   "execution_count": null,
   "id": "499f169c-ca9e-48f1-b46a-a196fed88ba0",
   "metadata": {},
   "outputs": [],
   "source": []
  },
  {
   "cell_type": "code",
   "execution_count": null,
   "id": "e1bab46e-1e5a-450b-87b3-879ac604e62f",
   "metadata": {},
   "outputs": [],
   "source": []
  },
  {
   "cell_type": "code",
   "execution_count": null,
   "id": "55859640-ceb5-4b12-8857-d7d039584899",
   "metadata": {},
   "outputs": [],
   "source": []
  },
  {
   "cell_type": "code",
   "execution_count": null,
   "id": "1de6bdef-a605-41ac-9d5b-7c2352527fa9",
   "metadata": {},
   "outputs": [],
   "source": []
  },
  {
   "cell_type": "code",
   "execution_count": null,
   "id": "12834a51-e98b-4e19-906b-02a4112e4d5b",
   "metadata": {},
   "outputs": [],
   "source": []
  },
  {
   "cell_type": "code",
   "execution_count": null,
   "id": "1e8652fc-6004-44fb-ba67-01380e260775",
   "metadata": {},
   "outputs": [],
   "source": []
  },
  {
   "cell_type": "code",
   "execution_count": null,
   "id": "75e9ea3e-31b6-489a-90ee-1f7c30a1cb96",
   "metadata": {},
   "outputs": [],
   "source": []
  },
  {
   "cell_type": "code",
   "execution_count": null,
   "id": "be1d113c-c47a-48c1-88ec-95f55a43f7f3",
   "metadata": {},
   "outputs": [],
   "source": []
  },
  {
   "cell_type": "code",
   "execution_count": null,
   "id": "a6a39b58-8cda-46c3-904e-2c9f4c547016",
   "metadata": {},
   "outputs": [],
   "source": []
  },
  {
   "cell_type": "code",
   "execution_count": null,
   "id": "8dc7a813-72af-4d64-b973-37fced932dd1",
   "metadata": {},
   "outputs": [],
   "source": []
  },
  {
   "cell_type": "code",
   "execution_count": null,
   "id": "bd5c8ff7-ec76-448f-a100-ae192911ca11",
   "metadata": {},
   "outputs": [],
   "source": []
  },
  {
   "cell_type": "code",
   "execution_count": null,
   "id": "e0fa30c5-c9b0-4b87-9689-f8326601de35",
   "metadata": {},
   "outputs": [],
   "source": []
  },
  {
   "cell_type": "code",
   "execution_count": null,
   "id": "b56b2386-62e9-4d28-bd87-64f9483ba999",
   "metadata": {},
   "outputs": [],
   "source": []
  },
  {
   "cell_type": "code",
   "execution_count": null,
   "id": "75c409b2-2943-4337-91dc-ce86cf16c35e",
   "metadata": {},
   "outputs": [],
   "source": []
  },
  {
   "cell_type": "code",
   "execution_count": null,
   "id": "06bfff8a-a943-4739-991a-db09ae1ceb75",
   "metadata": {},
   "outputs": [],
   "source": []
  },
  {
   "cell_type": "code",
   "execution_count": null,
   "id": "952460dc-80e9-4cab-8ca4-28161618967f",
   "metadata": {},
   "outputs": [],
   "source": []
  },
  {
   "cell_type": "code",
   "execution_count": null,
   "id": "a3d8f180-31dc-47d8-8b4f-2cdf2c39657d",
   "metadata": {},
   "outputs": [],
   "source": []
  },
  {
   "cell_type": "code",
   "execution_count": null,
   "id": "81c52706-d342-4723-b8bd-e28db3a234ee",
   "metadata": {},
   "outputs": [],
   "source": []
  },
  {
   "cell_type": "code",
   "execution_count": null,
   "id": "d960e5e4-f4ce-40cc-9662-0890e62a33c8",
   "metadata": {},
   "outputs": [],
   "source": []
  },
  {
   "cell_type": "code",
   "execution_count": null,
   "id": "9ba9d089-a970-4e6d-8860-abf3dc560655",
   "metadata": {},
   "outputs": [],
   "source": []
  },
  {
   "cell_type": "code",
   "execution_count": null,
   "id": "fd985fd1-de16-49a9-a37b-fdd14b36b3b6",
   "metadata": {},
   "outputs": [],
   "source": []
  },
  {
   "cell_type": "code",
   "execution_count": null,
   "id": "37429928-34b6-4db6-94e0-d2def924c075",
   "metadata": {},
   "outputs": [],
   "source": []
  },
  {
   "cell_type": "code",
   "execution_count": null,
   "id": "3111b190-05e3-4d91-9653-6627191ccbd8",
   "metadata": {},
   "outputs": [],
   "source": []
  },
  {
   "cell_type": "code",
   "execution_count": null,
   "id": "a120615b-04c2-4774-bc1c-6d1a01f09d0c",
   "metadata": {},
   "outputs": [],
   "source": []
  },
  {
   "cell_type": "code",
   "execution_count": null,
   "id": "92234de8-b7d1-4518-9b97-3d92a782f8d9",
   "metadata": {},
   "outputs": [],
   "source": []
  },
  {
   "cell_type": "code",
   "execution_count": null,
   "id": "f14b17c5-327f-4865-81e5-a501d4763e9c",
   "metadata": {},
   "outputs": [],
   "source": []
  },
  {
   "cell_type": "code",
   "execution_count": null,
   "id": "f543c11a-2456-4b05-afa2-37de12643825",
   "metadata": {},
   "outputs": [],
   "source": []
  },
  {
   "cell_type": "code",
   "execution_count": null,
   "id": "fe7786cb-aec9-4739-931e-28d1a3d0b58d",
   "metadata": {},
   "outputs": [],
   "source": []
  },
  {
   "cell_type": "code",
   "execution_count": null,
   "id": "d1059e30-2f6d-442e-a3e4-111fee0f9a2b",
   "metadata": {},
   "outputs": [],
   "source": []
  },
  {
   "cell_type": "code",
   "execution_count": null,
   "id": "d04af2d1-9a6a-440d-9f04-e64602c5057c",
   "metadata": {},
   "outputs": [],
   "source": []
  },
  {
   "cell_type": "code",
   "execution_count": null,
   "id": "426fa30d-44a0-41c4-af7b-782cf0ac7eca",
   "metadata": {},
   "outputs": [],
   "source": []
  },
  {
   "cell_type": "code",
   "execution_count": null,
   "id": "c01cbb35-a016-4e69-ab9e-3600b7c6ede4",
   "metadata": {},
   "outputs": [],
   "source": []
  },
  {
   "cell_type": "code",
   "execution_count": null,
   "id": "fa51e44c-4a74-4bc0-b155-3cbd31be3478",
   "metadata": {},
   "outputs": [],
   "source": []
  },
  {
   "cell_type": "code",
   "execution_count": null,
   "id": "ecd7d533-b369-4593-8c03-e2a1a271d254",
   "metadata": {},
   "outputs": [],
   "source": []
  },
  {
   "cell_type": "code",
   "execution_count": null,
   "id": "74531da7-ab88-4beb-8c34-b86f72437526",
   "metadata": {},
   "outputs": [],
   "source": []
  },
  {
   "cell_type": "code",
   "execution_count": null,
   "id": "2e709efb-af82-4f64-bb9e-62113007b75e",
   "metadata": {},
   "outputs": [],
   "source": []
  },
  {
   "cell_type": "code",
   "execution_count": null,
   "id": "9613496f-7ae3-49f6-811d-51d4be9a2eef",
   "metadata": {},
   "outputs": [],
   "source": []
  },
  {
   "cell_type": "code",
   "execution_count": null,
   "id": "0ddd1f62-f8ca-485b-8d78-8429bf40b420",
   "metadata": {},
   "outputs": [],
   "source": []
  },
  {
   "cell_type": "code",
   "execution_count": null,
   "id": "00b676a2-63ce-4152-b2ba-6dfbd116c842",
   "metadata": {},
   "outputs": [],
   "source": []
  },
  {
   "cell_type": "code",
   "execution_count": null,
   "id": "73cba2f6-a260-42fa-8861-cb73e4b55b73",
   "metadata": {},
   "outputs": [],
   "source": []
  },
  {
   "cell_type": "code",
   "execution_count": null,
   "id": "6608e82c-a038-4262-b306-3727e3cb2601",
   "metadata": {},
   "outputs": [],
   "source": []
  }
 ],
 "metadata": {
  "kernelspec": {
   "display_name": "Python 3 (ipykernel)",
   "language": "python",
   "name": "python3"
  },
  "language_info": {
   "codemirror_mode": {
    "name": "ipython",
    "version": 3
   },
   "file_extension": ".py",
   "mimetype": "text/x-python",
   "name": "python",
   "nbconvert_exporter": "python",
   "pygments_lexer": "ipython3",
   "version": "3.12.7"
  }
 },
 "nbformat": 4,
 "nbformat_minor": 5
}
