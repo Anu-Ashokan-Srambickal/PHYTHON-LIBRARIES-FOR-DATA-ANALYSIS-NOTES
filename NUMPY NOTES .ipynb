{
 "cells": [
  {
   "cell_type": "markdown",
   "id": "3eb0e8e3-b39e-46f8-a7f6-d96c5066232a",
   "metadata": {},
   "source": [
    "### 🍁 NUMPY - NUMERICAL PHYTHON"
   ]
  },
  {
   "cell_type": "markdown",
   "id": "408b79bf-f1bd-4843-b0df-3e856448f2c1",
   "metadata": {},
   "source": [
    "- NumPy (short for Numerical Python) is a library used for working with arrays, performing mathematical operations, and handling large datasets efficiently.\n",
    "\n",
    "- It’s the foundation for many scientific computing libraries like Pandas, SciPy, and even machine learning frameworks like TensorFlow."
   ]
  },
  {
   "cell_type": "markdown",
   "id": "ec94c2f1-0ac7-4c56-8746-e22788afd86f",
   "metadata": {},
   "source": [
    "#### 🧠 Why Use NumPy?"
   ]
  },
  {
   "cell_type": "markdown",
   "id": "a6a04e1d-3820-4f67-b42c-edd3da8f12f5",
   "metadata": {},
   "source": [
    "\n",
    "- Speed: Much faster than native Python lists for numerical tasks\n",
    "- Memory efficiency: Uses less memory and supports large datasets\n",
    "- Convenience: Tons of built-in functions for complex operations\n"
   ]
  },
  {
   "cell_type": "markdown",
   "id": "02e39573-2015-4da4-9c44-08894312ed7b",
   "metadata": {},
   "source": [
    "#### 🔧 Key Features"
   ]
  },
  {
   "cell_type": "markdown",
   "id": "742d813e-3072-4bb1-971a-e363a20f67b6",
   "metadata": {},
   "source": [
    "\n",
    "- N-dimensional arrays (ndarray)\n",
    "- Fast mathematical operations (vectorized computations)\n",
    "- Linear algebra, Fourier transforms, and random number generation\n",
    "- Broadcasting (automatic shape adjustment for operations)\n",
    "- Integration with C/C++ and Fortran code\n"
   ]
  },
  {
   "cell_type": "markdown",
   "id": "e3ccaed2-ee3d-4eb5-995f-d9b74a6a1c42",
   "metadata": {},
   "source": [
    "_________________"
   ]
  },
  {
   "cell_type": "markdown",
   "id": "efdfe580-aaee-42aa-8f83-074393debfa9",
   "metadata": {},
   "source": [
    "#### 📦 Common Functions "
   ]
  },
  {
   "cell_type": "markdown",
   "id": "09fda218-8748-45ea-b9a6-1f37d8e2de3a",
   "metadata": {},
   "source": [
    "_________\n",
    "| Function | Description | \n",
    "|----------|--------|\n",
    "| np.array() | Create an array | \n",
    "| np.zeros() | Create an array of zeros | \n",
    "| np.ones() | Create an array of ones | \n",
    "| np.arange() | Create a range of numbers | \n",
    "| np.reshape() | Change the shape of an array | \n",
    "| np.mean() | Calculate the mean | \n",
    "| np.dot() | Matrix multiplication | \n",
    "| np.linalg.inv() | Inverse of a matrix | \n",
    "___________\n",
    "\n",
    "\n",
    "\n"
   ]
  },
  {
   "cell_type": "markdown",
   "id": "cb467d0c-f7d2-470a-8e15-dfff2956d496",
   "metadata": {},
   "source": [
    "### 🍂 ARRAYS"
   ]
  },
  {
   "cell_type": "markdown",
   "id": "5a99eb17-6f3d-47b4-88da-0d90e548be11",
   "metadata": {},
   "source": [
    "- Arrays are the backbone of numerical computing in Python, especially when using libraries like NumPy. \n"
   ]
  },
  {
   "cell_type": "markdown",
   "id": "f76c845b-6ff3-43c3-879e-d62f7087845e",
   "metadata": {},
   "source": [
    "#### 🧠 What Is an Array?"
   ]
  },
  {
   "cell_type": "markdown",
   "id": "dff81a0f-8144-4584-aff8-ead46db41a07",
   "metadata": {},
   "source": [
    "- An array is a data structure that stores elements of the same type in a grid-like format."
   ]
  },
  {
   "cell_type": "markdown",
   "id": "06d75068-536c-4040-944f-7ca70cb0f9e9",
   "metadata": {},
   "source": [
    "\n",
    " In NumPy, arrays are called ndarray (n-dimensional array), and they can be:\n",
    "- 1D: Like a list → [1, 2, 3]\n",
    "- 2D: Like a matrix → [[1, 2], [3, 4]]\n",
    "- 3D and beyond: For tensors, images, or complex datasets\n"
   ]
  },
  {
   "cell_type": "markdown",
   "id": "07f0b215-0f79-45ce-aae5-85f2eadcf5ef",
   "metadata": {},
   "source": [
    "__________"
   ]
  },
  {
   "cell_type": "code",
   "execution_count": 2,
   "id": "c852fbe2-3dad-41ac-8e4f-19551574cfc2",
   "metadata": {},
   "outputs": [],
   "source": [
    "import numpy as np\n"
   ]
  },
  {
   "cell_type": "markdown",
   "id": "c75dbe69-f4d5-40c4-9984-a2ee79da5fca",
   "metadata": {},
   "source": [
    "#### 🔰 Converting list to Numpy Array"
   ]
  },
  {
   "cell_type": "markdown",
   "id": "44615f6e-ec19-4cb4-a478-05fc300d3d71",
   "metadata": {},
   "source": [
    "#### 💠 METHOD 1"
   ]
  },
  {
   "cell_type": "code",
   "execution_count": 20,
   "id": "45879b49-b082-470b-aec1-cee62a353a49",
   "metadata": {},
   "outputs": [
    {
     "data": {
      "text/plain": [
       "list"
      ]
     },
     "execution_count": 20,
     "metadata": {},
     "output_type": "execute_result"
    }
   ],
   "source": [
    "numbers =[10,20,30,40,50,60,70,80,90]\n",
    "type(numbers)"
   ]
  },
  {
   "cell_type": "code",
   "execution_count": 21,
   "id": "c457de30-91c7-4a31-848b-6d253de861ee",
   "metadata": {},
   "outputs": [
    {
     "data": {
      "text/plain": [
       "array([10, 20, 30, 40, 50, 60, 70, 80, 90])"
      ]
     },
     "execution_count": 21,
     "metadata": {},
     "output_type": "execute_result"
    }
   ],
   "source": [
    "arr = np.array(numbers)\n",
    "arr"
   ]
  },
  {
   "cell_type": "code",
   "execution_count": 8,
   "id": "1f83db3c-09bb-4bf1-8d6b-67bffae6c9ba",
   "metadata": {},
   "outputs": [
    {
     "data": {
      "text/plain": [
       "numpy.ndarray"
      ]
     },
     "execution_count": 8,
     "metadata": {},
     "output_type": "execute_result"
    }
   ],
   "source": [
    "type(arr)"
   ]
  },
  {
   "cell_type": "markdown",
   "id": "43e99125-c87c-48d2-940c-0e4e96441d4f",
   "metadata": {},
   "source": [
    "#### 💠 METHOD 2"
   ]
  },
  {
   "cell_type": "code",
   "execution_count": 10,
   "id": "17a620d2-5872-4c2f-b112-38d9edd88a45",
   "metadata": {},
   "outputs": [
    {
     "data": {
      "text/plain": [
       "array([11, 12, 13, 14, 15])"
      ]
     },
     "execution_count": 10,
     "metadata": {},
     "output_type": "execute_result"
    }
   ],
   "source": [
    "arr1 = np.array([11, 12, 13, 14, 15])\n",
    "arr1"
   ]
  },
  {
   "cell_type": "code",
   "execution_count": 11,
   "id": "371c1041-7ea6-4d71-8224-cad12319de7c",
   "metadata": {},
   "outputs": [
    {
     "data": {
      "text/plain": [
       "numpy.ndarray"
      ]
     },
     "execution_count": 11,
     "metadata": {},
     "output_type": "execute_result"
    }
   ],
   "source": [
    "type(arr1)"
   ]
  },
  {
   "cell_type": "markdown",
   "id": "668658a9-75e3-4bae-b664-b4f95f634e80",
   "metadata": {},
   "source": [
    "### .ndim USED TO ANALYSE DIMENSION OF ARRAY"
   ]
  },
  {
   "cell_type": "code",
   "execution_count": 17,
   "id": "e620c60f-4ba5-4dd1-bdf7-3018ba28adaa",
   "metadata": {},
   "outputs": [
    {
     "data": {
      "text/plain": [
       "1"
      ]
     },
     "execution_count": 17,
     "metadata": {},
     "output_type": "execute_result"
    }
   ],
   "source": [
    "arr.ndim"
   ]
  },
  {
   "cell_type": "markdown",
   "id": "9044d754-7375-496b-a366-de7e53f27ffb",
   "metadata": {},
   "source": [
    "#### .shape TO UNDERSTAND THE SHAPE OF ARRAY"
   ]
  },
  {
   "cell_type": "code",
   "execution_count": 23,
   "id": "9861a204-bdfd-4345-8099-5c251896d545",
   "metadata": {},
   "outputs": [
    {
     "data": {
      "text/plain": [
       "(9,)"
      ]
     },
     "execution_count": 23,
     "metadata": {},
     "output_type": "execute_result"
    }
   ],
   "source": [
    "arr.shape"
   ]
  },
  {
   "cell_type": "markdown",
   "id": "61ced6f8-7c9e-49dd-9eb4-232d18f69319",
   "metadata": {},
   "source": [
    "#### .size O UNDERSTAND TOTAL NUMBER OF ELEMENTS"
   ]
  },
  {
   "cell_type": "code",
   "execution_count": 24,
   "id": "69c6333f-706e-41cb-a3b5-c75b7d3df146",
   "metadata": {},
   "outputs": [
    {
     "data": {
      "text/plain": [
       "9"
      ]
     },
     "execution_count": 24,
     "metadata": {},
     "output_type": "execute_result"
    }
   ],
   "source": [
    "arr.size"
   ]
  },
  {
   "cell_type": "markdown",
   "id": "d8931dc5-dc54-4e7b-a5bb-85821b8cd8c8",
   "metadata": {},
   "source": [
    "__________________"
   ]
  },
  {
   "cell_type": "markdown",
   "id": "08ea0076-c48a-4534-ac19-3fae5dd4d731",
   "metadata": {},
   "source": [
    "### 📊 NumPy Array Features Table"
   ]
  },
  {
   "cell_type": "markdown",
   "id": "4269dc1b-3bfa-4056-8534-bf035bfce22b",
   "metadata": {},
   "source": [
    "\n",
    "| Feature | Description | Example / Notes | \n",
    "|-----|-----|-----|\n",
    "| ndarray Object | Core data structure for storing elements in N dimensions | np.array([1, 2, 3]) | \n",
    "| Homogeneous Data | All elements in a NumPy array must be of the same data type | Faster and more memory-efficient | \n",
    "| Shape (.shape) | Tuple indicating dimensions of the array | (3,), (2, 3) | \n",
    "| Size (.size) | Total number of elements | array.size | \n",
    "| Data Type (.dtype) | Type of elements stored (e.g., int32, float64) | array.dtype | \n",
    "| Item Size (.itemsize) | Size in bytes of each element | Useful for memory profiling | \n",
    "| Dimensionality (.ndim) | Number of dimensions | 1D, 2D, 3D, etc. | \n",
    "| Indexing & Slicing | Access elements using indices and slices | array[0:2], array[:, 1] | \n",
    "| Broadcasting | Automatic expansion of arrays for arithmetic operations | array + scalar | \n",
    "| Vectorized Operations | Element-wise operations without explicit loops | array * 2, np.sqrt(array) | \n",
    "| Reshaping (.reshape) | Change the shape of an array without changing data | array.reshape(2, 3) | \n",
    "| Copy vs View | copy() creates a new array; slicing creates a view | array.copy() vs array[::2] | \n",
    "| Boolean Indexing | Filter elements based on condition | array[array > 5] | \n",
    "| Fancy Indexing | Use arrays of indices to access elements | array[[0, 2]] | \n",
    "| Aggregation Functions | Built-in functions like sum, mean, std, min, max | np.mean(array) | \n",
    "| Memory Efficiency | Arrays are stored in contiguous blocks of memory | Faster access and computation | \n",
    "\n",
    "\n",
    "\n",
    "\n"
   ]
  },
  {
   "cell_type": "markdown",
   "id": "4f5ded95-6ccd-40dd-83b2-461932ad105e",
   "metadata": {},
   "source": [
    "_______________"
   ]
  },
  {
   "cell_type": "markdown",
   "id": "3eb7cc47-481d-4278-b126-e8dfc3aee86c",
   "metadata": {},
   "source": [
    "### 🔰 CREATING 2-D ARRAY"
   ]
  },
  {
   "cell_type": "code",
   "execution_count": 25,
   "id": "9218a7cb-7371-4c1c-a363-ebad9fe6b4d3",
   "metadata": {},
   "outputs": [],
   "source": [
    "numbers = [[5,10,15,20], [25,30,35,40]]"
   ]
  },
  {
   "cell_type": "code",
   "execution_count": 29,
   "id": "55535c36-1a6c-41f7-88d3-a97268f7199f",
   "metadata": {},
   "outputs": [
    {
     "data": {
      "text/plain": [
       "array([[ 5, 10, 15, 20],\n",
       "       [25, 30, 35, 40]])"
      ]
     },
     "execution_count": 29,
     "metadata": {},
     "output_type": "execute_result"
    }
   ],
   "source": [
    "num = np.array(numbers)\n",
    "num"
   ]
  },
  {
   "cell_type": "code",
   "execution_count": 30,
   "id": "27ec01ec-de5e-4334-ae67-083df2d32870",
   "metadata": {},
   "outputs": [
    {
     "data": {
      "text/plain": [
       "numpy.ndarray"
      ]
     },
     "execution_count": 30,
     "metadata": {},
     "output_type": "execute_result"
    }
   ],
   "source": [
    "type(num)"
   ]
  },
  {
   "cell_type": "code",
   "execution_count": 32,
   "id": "e2656db4-92d2-440f-b5b8-c678ea05f273",
   "metadata": {},
   "outputs": [
    {
     "data": {
      "text/plain": [
       "2"
      ]
     },
     "execution_count": 32,
     "metadata": {},
     "output_type": "execute_result"
    }
   ],
   "source": [
    "num.ndim"
   ]
  },
  {
   "cell_type": "code",
   "execution_count": 33,
   "id": "c3cd9b4c-a27f-4419-96ca-272825a47789",
   "metadata": {},
   "outputs": [
    {
     "data": {
      "text/plain": [
       "(2, 4)"
      ]
     },
     "execution_count": 33,
     "metadata": {},
     "output_type": "execute_result"
    }
   ],
   "source": [
    "num.shape"
   ]
  },
  {
   "cell_type": "code",
   "execution_count": 34,
   "id": "46302b9e-462c-4810-a889-a041d470ed7e",
   "metadata": {},
   "outputs": [
    {
     "data": {
      "text/plain": [
       "8"
      ]
     },
     "execution_count": 34,
     "metadata": {},
     "output_type": "execute_result"
    }
   ],
   "source": [
    "num.size"
   ]
  },
  {
   "cell_type": "markdown",
   "id": "c9a2ee48-661a-4adc-bc9b-075fa9966a32",
   "metadata": {},
   "source": [
    "_____________________"
   ]
  },
  {
   "cell_type": "markdown",
   "id": "41e3e88d-b309-4924-b699-1e8cc975353c",
   "metadata": {},
   "source": [
    "### 🔰 CREATING 3-D ARRAY"
   ]
  },
  {
   "cell_type": "code",
   "execution_count": 37,
   "id": "6cb08b38-97a0-464f-a0fd-0008616be1f6",
   "metadata": {},
   "outputs": [],
   "source": [
    "arr = np.array([\n",
    "    [[1, 2, 3, 4],\n",
    "     [5, 6, 7, 8],\n",
    "     [9, 10, 11, 12]],\n",
    "    \n",
    "    [[13, 14, 15, 16],\n",
    "     [17, 18, 19, 20],\n",
    "     [21, 22, 23, 24]]\n",
    "])\n"
   ]
  },
  {
   "cell_type": "code",
   "execution_count": 38,
   "id": "922a1044-b685-43fb-9729-cfb1420fcdfb",
   "metadata": {},
   "outputs": [
    {
     "data": {
      "text/plain": [
       "numpy.ndarray"
      ]
     },
     "execution_count": 38,
     "metadata": {},
     "output_type": "execute_result"
    }
   ],
   "source": [
    "type(arr)"
   ]
  },
  {
   "cell_type": "code",
   "execution_count": 39,
   "id": "bf0cbf98-2c00-46ff-aac6-644b91bf2b23",
   "metadata": {},
   "outputs": [
    {
     "data": {
      "text/plain": [
       "3"
      ]
     },
     "execution_count": 39,
     "metadata": {},
     "output_type": "execute_result"
    }
   ],
   "source": [
    "arr.ndim"
   ]
  },
  {
   "cell_type": "code",
   "execution_count": 40,
   "id": "a661fd3a-c56f-4a08-9f8c-bcc3f31aecd1",
   "metadata": {},
   "outputs": [
    {
     "data": {
      "text/plain": [
       "(2, 3, 4)"
      ]
     },
     "execution_count": 40,
     "metadata": {},
     "output_type": "execute_result"
    }
   ],
   "source": [
    "arr.shape"
   ]
  },
  {
   "cell_type": "code",
   "execution_count": 41,
   "id": "1999e718-b493-4aec-96d0-88809db53b8a",
   "metadata": {},
   "outputs": [
    {
     "data": {
      "text/plain": [
       "24"
      ]
     },
     "execution_count": 41,
     "metadata": {},
     "output_type": "execute_result"
    }
   ],
   "source": [
    "arr.size"
   ]
  },
  {
   "cell_type": "markdown",
   "id": "a37ff94f-40ca-4a47-b207-892a32ce0d8c",
   "metadata": {},
   "source": [
    "_________________"
   ]
  },
  {
   "cell_type": "markdown",
   "id": "08afdf07-ec64-49c4-a4f5-c34433adea0c",
   "metadata": {},
   "source": [
    "### CREATING ARRAY WITH:"
   ]
  },
  {
   "cell_type": "markdown",
   "id": "96cab643-fa87-47fc-955f-2c28b4e3e990",
   "metadata": {},
   "source": [
    "### ⚜️ 1. np.arange METHOD"
   ]
  },
  {
   "cell_type": "markdown",
   "id": "9eeae5c4-8b2b-4a69-b6f6-14cff4e9c208",
   "metadata": {},
   "source": [
    "-  np.arange—the trusty workhorse of NumPy for generating sequences of numbers with precision and control 🔧.\n",
    "\n",
    "- If you need precise control over the number of points, use np.linspace.\n",
    "\n"
   ]
  },
  {
   "cell_type": "markdown",
   "id": "5ea18edb-7d79-4e66-817a-7b2a39dc7a61",
   "metadata": {},
   "source": [
    "### 📏 What Is np.arange?\n",
    "\n",
    "- np.arange(start, stop, step) creates an array of evenly spaced values from start up to (but not including) stop, incremented by step.\n"
   ]
  },
  {
   "cell_type": "code",
   "execution_count": 42,
   "id": "45cbfd6d-39a5-49b2-ad4a-299753234e1f",
   "metadata": {},
   "outputs": [
    {
     "data": {
      "text/plain": [
       "array([0, 1, 2, 3, 4, 5, 6, 7, 8, 9])"
      ]
     },
     "execution_count": 42,
     "metadata": {},
     "output_type": "execute_result"
    }
   ],
   "source": [
    "np.arange(0,10)"
   ]
  },
  {
   "cell_type": "code",
   "execution_count": 43,
   "id": "9dff0a31-e998-4bd1-8fcc-14f09ef77eaa",
   "metadata": {},
   "outputs": [
    {
     "data": {
      "text/plain": [
       "array([100, 101, 102, 103, 104, 105, 106, 107, 108, 109])"
      ]
     },
     "execution_count": 43,
     "metadata": {},
     "output_type": "execute_result"
    }
   ],
   "source": [
    "np.arange(100, 110)"
   ]
  },
  {
   "cell_type": "code",
   "execution_count": 52,
   "id": "2f64d325-da17-4729-9c95-a270529da2a5",
   "metadata": {},
   "outputs": [
    {
     "data": {
      "text/plain": [
       "array([ 5, 10, 15, 20, 25, 30, 35, 40, 45])"
      ]
     },
     "execution_count": 52,
     "metadata": {},
     "output_type": "execute_result"
    }
   ],
   "source": [
    "np.arange(5,50,5)"
   ]
  },
  {
   "cell_type": "markdown",
   "id": "5a857a02-703a-4658-8a7f-17363eaa7618",
   "metadata": {},
   "source": [
    "#### 🎯 Use Cases\n",
    "\n",
    "- Loop indices\n",
    "- Time steps in simulations\n",
    "- Grid generation\n",
    "- Sampling ranges\n"
   ]
  },
  {
   "cell_type": "markdown",
   "id": "941d5476-c570-42f3-8150-4855c68a73a1",
   "metadata": {},
   "source": [
    "_________"
   ]
  },
  {
   "cell_type": "markdown",
   "id": "066c5c29-efde-4def-933e-20b42b1e7e57",
   "metadata": {},
   "source": [
    "## ⚜️ np.linspace METHOD"
   ]
  },
  {
   "cell_type": "markdown",
   "id": "387fab7e-3acf-4892-bfce-7f6ea26857f2",
   "metadata": {},
   "source": [
    "- linspace—a NumPy function that’s all about creating evenly spaced numbers over a specified interval.\n",
    "- It's like drawing a perfect gradient between two points 🌈.\n",
    "\n",
    "\n",
    "\n",
    "\n",
    "\n",
    "\n",
    "\n"
   ]
  },
  {
   "cell_type": "markdown",
   "id": "74034f05-756b-4f7c-a7b4-1eb79ad0f888",
   "metadata": {},
   "source": [
    "### 📐 What Is linspace?\n",
    "\n",
    "numpy.linspace(start, stop, num) generates num evenly spaced values from start to stop, inclusive.\n"
   ]
  },
  {
   "cell_type": "code",
   "execution_count": 46,
   "id": "adbd736c-4f5a-4b67-b29a-84a8f5e7a30a",
   "metadata": {},
   "outputs": [
    {
     "data": {
      "text/plain": [
       "array([ 1. ,  5.5, 10. ])"
      ]
     },
     "execution_count": 46,
     "metadata": {},
     "output_type": "execute_result"
    }
   ],
   "source": [
    "np.linspace(1, 10, 3)"
   ]
  },
  {
   "cell_type": "code",
   "execution_count": 47,
   "id": "acf5e0f1-1815-49f6-a3d6-be532841bbf8",
   "metadata": {},
   "outputs": [
    {
     "data": {
      "text/plain": [
       "array([ 10.,  20.,  30.,  40.,  50.,  60.,  70.,  80.,  90., 100.])"
      ]
     },
     "execution_count": 47,
     "metadata": {},
     "output_type": "execute_result"
    }
   ],
   "source": [
    "np.linspace(10,100,10)"
   ]
  },
  {
   "cell_type": "code",
   "execution_count": 51,
   "id": "7773283f-1a1f-4054-b879-a4e22849412e",
   "metadata": {},
   "outputs": [
    {
     "data": {
      "text/plain": [
       "array([ 1., 10.])"
      ]
     },
     "execution_count": 51,
     "metadata": {},
     "output_type": "execute_result"
    }
   ],
   "source": [
    "np.linspace(1,10,2)"
   ]
  },
  {
   "cell_type": "markdown",
   "id": "01e97988-24f5-410f-93f4-f294ac33ad62",
   "metadata": {},
   "source": [
    "### 🎯 Use Cases"
   ]
  },
  {
   "cell_type": "markdown",
   "id": "2439708e-562c-4543-81b1-43eb06fed5ff",
   "metadata": {},
   "source": [
    "\n",
    "- Plotting smooth curves\n",
    "- Creating time intervals\n",
    "- Sampling functions\n",
    "- Interpolation"
   ]
  },
  {
   "cell_type": "markdown",
   "id": "ec095808-97d6-43f2-b2d9-1ba6f01e196f",
   "metadata": {},
   "source": [
    "____________"
   ]
  },
  {
   "cell_type": "markdown",
   "id": "1bf65649-2014-4f88-863c-f8656048a790",
   "metadata": {},
   "source": [
    "## ⚜️  .reshape()\n"
   ]
  },
  {
   "cell_type": "markdown",
   "id": "a5e10bad-9524-497c-ab1e-71527846ca34",
   "metadata": {},
   "source": [
    "### 🔧 What .reshape() Does\n",
    "\n",
    "\n",
    "\n",
    "\n",
    "\n",
    "\n",
    "\n",
    "\n",
    "\n",
    "\n",
    "\n",
    "\n"
   ]
  },
  {
   "cell_type": "markdown",
   "id": "dade76dc-16dd-48b5-a929-1a36d1105619",
   "metadata": {},
   "source": [
    "- It changes the shape of an array to a new configuration, as long as the total number of elements stays the same.\n",
    "-  .reshape—the shape-shifter of NumPy arrays 🧙‍♂️.\n",
    "-  It lets you transform the dimensions of an array without changing its data.\n"
   ]
  },
  {
   "cell_type": "code",
   "execution_count": 65,
   "id": "413899cf-d7fb-4046-bbaf-df3be28a5e4a",
   "metadata": {},
   "outputs": [
    {
     "name": "stdout",
     "output_type": "stream",
     "text": [
      "[[1 2 3]\n",
      " [4 5 6]]\n"
     ]
    }
   ],
   "source": [
    "arr = np.array([1, 2, 3, 4, 5, 6])\n",
    "\n",
    "reshaped = arr.reshape(2, 3)  # 2 rows, 3 columns\n",
    "print(reshaped)"
   ]
  },
  {
   "cell_type": "code",
   "execution_count": 69,
   "id": "ae9e1784-ce5d-41ce-aa3a-d00d0ddc5cf5",
   "metadata": {},
   "outputs": [
    {
     "data": {
      "text/plain": [
       "array([[10, 12, 13, 14, 15],\n",
       "       [16, 17, 18, 19, 20],\n",
       "       [21, 22, 23, 24, 25],\n",
       "       [26, 27, 28, 29, 30]])"
      ]
     },
     "execution_count": 69,
     "metadata": {},
     "output_type": "execute_result"
    }
   ],
   "source": [
    "arr = np.array([10,12,13,14,15,16,17,18,19,20,21,22,23,24,25,26,27,28,29,30])\n",
    "\n",
    "r = arr.reshape(4,5) #(hint;use multiples)\n",
    "r"
   ]
  },
  {
   "cell_type": "code",
   "execution_count": 73,
   "id": "12717842-3b23-43e5-bd13-cad61b64f481",
   "metadata": {},
   "outputs": [
    {
     "data": {
      "text/plain": [
       "array([[10, 12, 13, 14, 15, 16, 17, 18, 19, 20],\n",
       "       [21, 22, 23, 24, 25, 26, 27, 28, 29, 30]])"
      ]
     },
     "execution_count": 73,
     "metadata": {},
     "output_type": "execute_result"
    }
   ],
   "source": [
    "rs = arr.reshape(2,10)\n",
    "\n",
    "rs"
   ]
  },
  {
   "cell_type": "markdown",
   "id": "520b7f59-6fcb-4416-8d57-2ba579b0a6bd",
   "metadata": {},
   "source": [
    "### 🔄 Common Use Cases\n",
    "______________________________________\n",
    "| Use Case | Example | \n",
    "|--------|--------|\n",
    "| Flattening an array | arr.reshape(-1) | \n",
    "| Converting 1D to 2D | arr.reshape(1, -1) or arr.reshape(-1, 1) | \n",
    "| Preparing image data | arr.reshape(height, width, channels) | \n",
    "| Reshaping for ML | arr.reshape(samples, features) | \n",
    "__________________________"
   ]
  },
  {
   "cell_type": "markdown",
   "id": "d06de51c-9c58-4c48-a74e-eacefbfcb041",
   "metadata": {},
   "source": [
    "________________\n"
   ]
  },
  {
   "cell_type": "markdown",
   "id": "44f550df-0ce6-4b0f-b243-e8b2da60ac40",
   "metadata": {},
   "source": [
    "## ⚜️ np.zeros"
   ]
  },
  {
   "cell_type": "markdown",
   "id": "33fa73c4-c86c-4db0-bb0c-c65eae87bd16",
   "metadata": {},
   "source": [
    "- np.zeros is one of NumPy’s simplest yet most useful functions—it creates an array filled entirely with zeros.\n",
    "-  Perfect for initializing arrays when you know the shape but not the values yet."
   ]
  },
  {
   "cell_type": "markdown",
   "id": "6d9c5c34-71d7-49ce-bd03-6d3286b91a30",
   "metadata": {},
   "source": [
    "### 🔧 Syntax\n",
    "\n",
    "\n",
    "### 🔰                                   np.zeros(shape, dtype=float)\n"
   ]
  },
  {
   "cell_type": "markdown",
   "id": "c0bb96b1-08f3-4798-b7d5-44e06618af51",
   "metadata": {},
   "source": [
    "- shape : Tuple indicating the dimensions of the array\n",
    "- dtype : Optional; specifies the data type (default is float)"
   ]
  },
  {
   "cell_type": "markdown",
   "id": "38689093-e5da-4b51-ae2e-732452d1e02d",
   "metadata": {},
   "source": [
    "### 1. 🔰 1D Array of Zeros"
   ]
  },
  {
   "cell_type": "code",
   "execution_count": 74,
   "id": "3cc5fc4a-6e5d-4b50-abb9-074507b36578",
   "metadata": {},
   "outputs": [
    {
     "name": "stdout",
     "output_type": "stream",
     "text": [
      "[0. 0. 0. 0. 0.]\n"
     ]
    }
   ],
   "source": [
    "arr = np.zeros(5)\n",
    "\n",
    "print(arr)"
   ]
  },
  {
   "cell_type": "markdown",
   "id": "afa36432-b176-4a8c-8aac-411d0f8270cb",
   "metadata": {},
   "source": [
    "### 🔰 2. 2D Array (Matrix) of Zeros"
   ]
  },
  {
   "cell_type": "code",
   "execution_count": 79,
   "id": "06d4fa97-f103-459c-8f7a-c2fe55cc7561",
   "metadata": {},
   "outputs": [
    {
     "name": "stdout",
     "output_type": "stream",
     "text": [
      "[[0. 0. 0. 0.]\n",
      " [0. 0. 0. 0.]\n",
      " [0. 0. 0. 0.]]\n"
     ]
    }
   ],
   "source": [
    "matrix = np.zeros((3, 4))\n",
    "\n",
    "print(matrix)"
   ]
  },
  {
   "cell_type": "markdown",
   "id": "c96da3e7-8254-41e4-83d5-5085f317c144",
   "metadata": {},
   "source": [
    "### 🔰 3. 3D Array of Zeros"
   ]
  },
  {
   "cell_type": "code",
   "execution_count": 86,
   "id": "8d73a18c-95d6-463f-9283-01bd878c5c2c",
   "metadata": {},
   "outputs": [
    {
     "data": {
      "text/plain": [
       "array([[[0., 0., 0., 0.],\n",
       "        [0., 0., 0., 0.],\n",
       "        [0., 0., 0., 0.]],\n",
       "\n",
       "       [[0., 0., 0., 0.],\n",
       "        [0., 0., 0., 0.],\n",
       "        [0., 0., 0., 0.]]])"
      ]
     },
     "execution_count": 86,
     "metadata": {},
     "output_type": "execute_result"
    }
   ],
   "source": [
    "cube = np.zeros((2, 3, 4))\n",
    "\n",
    "cube"
   ]
  },
  {
   "cell_type": "markdown",
   "id": "a23a794d-ed43-4630-8156-207bea6c4f9c",
   "metadata": {},
   "source": [
    "### 🔰 4. Integer Zeros"
   ]
  },
  {
   "cell_type": "code",
   "execution_count": 85,
   "id": "9d3a2351-7aaf-4594-974f-47b3e43b81e9",
   "metadata": {},
   "outputs": [
    {
     "data": {
      "text/plain": [
       "array([[0, 0],\n",
       "       [0, 0]])"
      ]
     },
     "execution_count": 85,
     "metadata": {},
     "output_type": "execute_result"
    }
   ],
   "source": [
    "int_arr = np.zeros((2, 2), dtype=int)\n",
    "\n",
    "int_arr"
   ]
  },
  {
   "cell_type": "markdown",
   "id": "4a2d30e2-2baa-4b29-b4d2-89774c776013",
   "metadata": {},
   "source": [
    "_____________"
   ]
  },
  {
   "cell_type": "markdown",
   "id": "1fd317ae-36f5-4cb3-a4a3-2b248482b39f",
   "metadata": {},
   "source": [
    "\n",
    "### 🎯 Use Cases\n",
    "\n",
    "- Initializing weights in machine learning\n",
    "- Creating placeholder arrays for computations\n",
    "- Setting up grids or matrices for simulations\n",
    "- Preallocating memory for performance"
   ]
  },
  {
   "cell_type": "markdown",
   "id": "fa51c19b-bdd9-4657-87af-500f1f3d5c44",
   "metadata": {},
   "source": [
    "__________________"
   ]
  },
  {
   "cell_type": "markdown",
   "id": "950c0291-32ba-4b98-9053-fd8a879b56b0",
   "metadata": {},
   "source": [
    "_________________"
   ]
  },
  {
   "cell_type": "markdown",
   "id": "fbe904ad-0857-4fb0-8888-fc6edf5bc955",
   "metadata": {},
   "source": [
    "## ⚜️ np.ones"
   ]
  },
  {
   "cell_type": "markdown",
   "id": "e6b2bfb5-67fa-4688-bad1-3f1042136130",
   "metadata": {},
   "source": [
    "- np.ones is NumPy’s way of saying, “Let there be light!”—or at least, let there be a bunch of 1s 🔢.\n",
    "- It creates an array filled entirely with ones, which is super handy when you need a default value or a starting point for calculations."
   ]
  },
  {
   "cell_type": "markdown",
   "id": "2bf595ed-4354-41ad-a735-baceeb2e5da0",
   "metadata": {},
   "source": [
    "### 🧰 Syntax"
   ]
  },
  {
   "cell_type": "code",
   "execution_count": null,
   "id": "0ed98b93-f206-4b5a-9d7f-d3fe4b46de88",
   "metadata": {},
   "outputs": [],
   "source": [
    "np.ones(shape, dtype=None)"
   ]
  },
  {
   "cell_type": "markdown",
   "id": "7e0ef808-2231-4135-a448-7f5e6a5d9491",
   "metadata": {},
   "source": [
    "- shape: Tuple that defines the dimensions of the array\n",
    "- dtype: Optional; specifies the data type (default is float)"
   ]
  },
  {
   "cell_type": "markdown",
   "id": "0a8faa05-9ed9-4afb-b6a1-e118cfd8898e",
   "metadata": {},
   "source": [
    "### 🔰 1. 1D Array of Ones"
   ]
  },
  {
   "cell_type": "code",
   "execution_count": 92,
   "id": "4a04e7e7-bd48-4f71-ba8e-cc064b61c47a",
   "metadata": {},
   "outputs": [
    {
     "name": "stdout",
     "output_type": "stream",
     "text": [
      "[1. 1. 1. 1. 1.]\n"
     ]
    }
   ],
   "source": [
    "arr = np.ones(5)\n",
    "\n",
    "print(arr)"
   ]
  },
  {
   "cell_type": "markdown",
   "id": "d3e11b19-3c9d-4044-97b4-f214c6c6146a",
   "metadata": {},
   "source": [
    "### 🔰 2. 2D Matrix of Ones"
   ]
  },
  {
   "cell_type": "code",
   "execution_count": 96,
   "id": "4df28126-8a45-4f69-bb5e-af6a2b5dc5e8",
   "metadata": {},
   "outputs": [
    {
     "data": {
      "text/plain": [
       "array([[1., 1., 1., 1.],\n",
       "       [1., 1., 1., 1.],\n",
       "       [1., 1., 1., 1.]])"
      ]
     },
     "execution_count": 96,
     "metadata": {},
     "output_type": "execute_result"
    }
   ],
   "source": [
    "matrix = np.ones((3, 4))\n",
    "matrix"
   ]
  },
  {
   "cell_type": "markdown",
   "id": "56731d98-3609-4356-b743-a006cb6eeecb",
   "metadata": {},
   "source": [
    "### 🔰 3. Integer Ones"
   ]
  },
  {
   "cell_type": "code",
   "execution_count": 95,
   "id": "a044a182-bc2a-4f14-82a0-5ac7774e70c3",
   "metadata": {},
   "outputs": [
    {
     "data": {
      "text/plain": [
       "array([[1, 1],\n",
       "       [1, 1]])"
      ]
     },
     "execution_count": 95,
     "metadata": {},
     "output_type": "execute_result"
    }
   ],
   "source": [
    "int_matrix = np.ones((2, 2), dtype=int)\n",
    "int_matrix"
   ]
  },
  {
   "cell_type": "markdown",
   "id": "dea4e9dd-afd8-4c9d-87b7-3cd2303e4f2e",
   "metadata": {},
   "source": [
    "### 🔰 4.  3D Array of Ones"
   ]
  },
  {
   "cell_type": "code",
   "execution_count": 94,
   "id": "17e4f273-36fb-49cb-b7ee-0faac06001f0",
   "metadata": {},
   "outputs": [
    {
     "data": {
      "text/plain": [
       "array([[[1., 1., 1., 1.],\n",
       "        [1., 1., 1., 1.],\n",
       "        [1., 1., 1., 1.]],\n",
       "\n",
       "       [[1., 1., 1., 1.],\n",
       "        [1., 1., 1., 1.],\n",
       "        [1., 1., 1., 1.]]])"
      ]
     },
     "execution_count": 94,
     "metadata": {},
     "output_type": "execute_result"
    }
   ],
   "source": [
    "cube = np.ones((2, 3, 4))\n",
    "cube"
   ]
  },
  {
   "cell_type": "markdown",
   "id": "33d329ff-ffb9-421d-ac04-cae96da2385e",
   "metadata": {},
   "source": [
    "______________________"
   ]
  },
  {
   "cell_type": "markdown",
   "id": "3dbd5301-2bc1-473b-b621-e9990fdab7f1",
   "metadata": {},
   "source": [
    "#### 🎯 Use Cases"
   ]
  },
  {
   "cell_type": "markdown",
   "id": "dbf13e49-d073-4938-87ad-b9cc9019e8a1",
   "metadata": {},
   "source": [
    "\n",
    "- Initializing weights or biases in neural networks\n",
    "- Creating masks or identity-like matrices\n",
    "- Placeholder arrays for testing or debugging\n",
    "- Simulating binary states (e.g., “on” or “active”)"
   ]
  },
  {
   "cell_type": "markdown",
   "id": "8910ac25-a1ea-45b9-b048-972ea87f36c2",
   "metadata": {},
   "source": [
    "_______________________________"
   ]
  },
  {
   "cell_type": "markdown",
   "id": "2dc1707d-ac28-482f-94d9-49225d0dfcb8",
   "metadata": {},
   "source": [
    "___________"
   ]
  },
  {
   "cell_type": "markdown",
   "id": "8f9a31ba-614c-473d-a8e0-a041f9728a38",
   "metadata": {},
   "source": [
    "### ✨ Array Creation Functions"
   ]
  },
  {
   "cell_type": "markdown",
   "id": "4c49d228-2ec8-4eb2-ad89-2d1989af0466",
   "metadata": {},
   "source": [
    "_____________________\n",
    "| Function | Description | Example | \n",
    "|-------------|----------|--------|\n",
    "| np.array() | Create an array from a list or tuple | np.array([1, 2, 3]) | \n",
    "| np.zeros() | Create an array filled with zeros | np.zeros((2, 3)) | \n",
    "| np.ones() | Create an array filled with ones | np.ones((3, 3)) | \n",
    "| np.eye() | Create an identity matrix | np.eye(3) | \n",
    "| np.arange() | Create evenly spaced values within a range | np.arange(0, 10, 2) | \n",
    "| np.linspace() | Create evenly spaced values over an interval | np.linspace(0, 1, 5) | \n",
    "| np.full() | Create an array filled with a specific value | np.full((2, 2), 7) | \n",
    "________________\n",
    "\n",
    "\n",
    "\n"
   ]
  },
  {
   "cell_type": "markdown",
   "id": "cc107117-2a8b-4a5e-8644-b4e9bd880142",
   "metadata": {},
   "source": [
    "### 🧮 Mathematical Functions"
   ]
  },
  {
   "cell_type": "markdown",
   "id": "54e650e4-01fb-4f76-b407-8c12008e7ed6",
   "metadata": {},
   "source": [
    "_______________\n",
    "| Function | Description | Example | \n",
    "|--------|-----------|---------|\n",
    "| np.sum() | Sum of array elements | np.sum(arr) | \n",
    "| np.mean() | Mean of array elements | np.mean(arr) | \n",
    "| np.std() | Standard deviation | np.std(arr) | \n",
    "| np.min() / np.max() | Minimum / Maximum value | np.min(arr) | \n",
    "| np.prod() | Product of all elements | np.prod(arr) | \n",
    "| np.cumsum() | Cumulative sum | np.cumsum(arr) | \n",
    "| np.exp() | Exponential of elements | np.exp(arr) | \n",
    "| np.log() | Natural logarithm | np.log(arr) | \n",
    "| np.sqrt() | Square root | np.sqrt(arr) | \n",
    "| np.abs() | Absolute value | np.abs(arr) | \n",
    "___________________\n",
    "\n",
    "\n",
    "\n"
   ]
  },
  {
   "cell_type": "markdown",
   "id": "2d7eb26d-6f1b-4305-a7e1-f6b86251805e",
   "metadata": {},
   "source": [
    "### 🔄 Array Manipulation Functions"
   ]
  },
  {
   "cell_type": "markdown",
   "id": "bb97e2da-ea56-4bb9-b1ef-49eda9730003",
   "metadata": {},
   "source": [
    "________________\n",
    "| Function | Description | Example | \n",
    "|---------|------------|---------|\n",
    "| np.reshape() | Change shape of array | arr.reshape(2, 3) | \n",
    "| np.transpose() | Transpose matrix | arr.T | \n",
    "| np.concatenate() | Join arrays | np.concatenate([a, b]) | \n",
    "| np.vstack() / np.hstack() | Stack vertically / horizontally | np.vstack([a, b]) | \n",
    "| np.split() | Split array into multiple sub-arrays | np.split(arr, 2) | \n",
    "| np.flatten() | Flatten multi-dimensional array | arr.flatten() | \n",
    "______________________\n",
    "\n",
    "\n",
    "\n"
   ]
  },
  {
   "cell_type": "markdown",
   "id": "ddc3e4b4-a6cb-46df-8d5a-57c2c49050f4",
   "metadata": {},
   "source": [
    "### 🔄 Array Operations"
   ]
  },
  {
   "cell_type": "markdown",
   "id": "eabfe2e9-aa39-4adf-833a-308e584fdcad",
   "metadata": {},
   "source": [
    "\n",
    "- Arithmetic: a + b, a * 2, np.sqrt(a)\n",
    "- Reshape: a.reshape(2, 3)\n",
    "- Indexing: a[0], a[:, 1]\n",
    "- Slicing: a[1:4]\n",
    "- Aggregation: np.mean(a), np.sum(a)\n",
    "\n",
    "\n"
   ]
  },
  {
   "cell_type": "markdown",
   "id": "ac5547b5-89be-4edd-8328-5b9e098a0025",
   "metadata": {},
   "source": [
    "________________________"
   ]
  },
  {
   "cell_type": "markdown",
   "id": "d754eccd-18ac-438d-88ec-c92e0c725e77",
   "metadata": {},
   "source": [
    "_______________"
   ]
  },
  {
   "cell_type": "markdown",
   "id": "8b5abb3a-717b-4a15-b655-47295e4b3137",
   "metadata": {},
   "source": [
    "### 🔢 Indexing: Accessing Specific Elements"
   ]
  },
  {
   "cell_type": "markdown",
   "id": "afda09a2-017b-4b15-8d1b-47b25c0b22f3",
   "metadata": {},
   "source": [
    "- You use square brackets [] to access elements by their position."
   ]
  },
  {
   "cell_type": "markdown",
   "id": "e2c1fc68-b2e7-4de2-ba03-0aaf5fd1d260",
   "metadata": {},
   "source": [
    "### 🔰 1D Array"
   ]
  },
  {
   "cell_type": "code",
   "execution_count": 104,
   "id": "233476f0-f1ec-4284-9b3e-4a6cf567f552",
   "metadata": {},
   "outputs": [
    {
     "name": "stdout",
     "output_type": "stream",
     "text": [
      "30\n"
     ]
    }
   ],
   "source": [
    "arr = np.array([10, 20, 30, 40])\n",
    "\n",
    "print(arr[2])"
   ]
  },
  {
   "cell_type": "markdown",
   "id": "b2770f41-f02e-4421-97ac-9a43d2d27146",
   "metadata": {},
   "source": [
    "### 🔰 2D Array"
   ]
  },
  {
   "cell_type": "code",
   "execution_count": 111,
   "id": "d1d7a462-f26a-4b8c-8558-6798bb188b28",
   "metadata": {},
   "outputs": [
    {
     "name": "stdout",
     "output_type": "stream",
     "text": [
      "3\n"
     ]
    },
    {
     "data": {
      "text/plain": [
       "array([1, 2])"
      ]
     },
     "execution_count": 111,
     "metadata": {},
     "output_type": "execute_result"
    }
   ],
   "source": [
    "matrix = np.array([[1, 2], [3, 4]])\n",
    "\n",
    "print(matrix[1, 0])\n",
    "matrix[0]"
   ]
  },
  {
   "cell_type": "markdown",
   "id": "805f660d-55cf-4b47-9a77-0299b0494081",
   "metadata": {},
   "source": [
    "### 🔰 3D Array"
   ]
  },
  {
   "cell_type": "code",
   "execution_count": 102,
   "id": "dd25e99d-64bf-4b8f-b388-052daabfc487",
   "metadata": {},
   "outputs": [
    {
     "name": "stdout",
     "output_type": "stream",
     "text": [
      "6\n"
     ]
    }
   ],
   "source": [
    "cube = np.array([[[1, 2], [3, 4]], [[5, 6], [7, 8]]])\n",
    "\n",
    "print(cube[1, 0, 1])"
   ]
  },
  {
   "cell_type": "markdown",
   "id": "611a9fdf-9926-4836-812a-5ab6388cf20f",
   "metadata": {},
   "source": [
    "### 🔰 Reverse Indexing"
   ]
  },
  {
   "cell_type": "code",
   "execution_count": 108,
   "id": "82e049e0-0542-438c-868a-f58710dea9f4",
   "metadata": {},
   "outputs": [
    {
     "name": "stdout",
     "output_type": "stream",
     "text": [
      "50\n",
      "30\n"
     ]
    }
   ],
   "source": [
    "arr = np.array([10, 20, 30, 40, 50])\n",
    "\n",
    "print(arr[-1]) \n",
    "print(arr[-3])"
   ]
  },
  {
   "cell_type": "markdown",
   "id": "d425a6a9-7529-4c35-8e53-8513ae8babdd",
   "metadata": {},
   "source": [
    "__________________"
   ]
  },
  {
   "cell_type": "markdown",
   "id": "11f280f1-9ccd-49c2-96da-2d2041f1519f",
   "metadata": {},
   "source": [
    "________________"
   ]
  },
  {
   "cell_type": "markdown",
   "id": "ed67d58f-8a78-415f-8bb3-4b1e7da30c16",
   "metadata": {},
   "source": [
    "### ✂️ Slicing: Grabbing Subsets"
   ]
  },
  {
   "cell_type": "markdown",
   "id": "8c853cbe-5836-47a2-b677-c41998de6ee9",
   "metadata": {},
   "source": [
    "- Slicing uses the format [start:stop:step] to extract parts of an array."
   ]
  },
  {
   "cell_type": "markdown",
   "id": "6b94a4e4-875b-4b32-ad4a-d71803d9fb92",
   "metadata": {},
   "source": [
    "### 🔰 1D Slice"
   ]
  },
  {
   "cell_type": "code",
   "execution_count": 105,
   "id": "a0cde1d2-aee4-435d-90c4-7094232c796d",
   "metadata": {},
   "outputs": [
    {
     "name": "stdout",
     "output_type": "stream",
     "text": [
      "[20 30 40]\n"
     ]
    }
   ],
   "source": [
    "arr = np.array([10, 20, 30, 40, 50])\n",
    "\n",
    "print(arr[1:4])  "
   ]
  },
  {
   "cell_type": "markdown",
   "id": "c06c7c16-dac4-442d-8121-63315227eb22",
   "metadata": {},
   "source": [
    "### 🔰 2D Slice"
   ]
  },
  {
   "cell_type": "code",
   "execution_count": 109,
   "id": "9b42253a-6e2d-47df-9bd6-2dd81547c198",
   "metadata": {},
   "outputs": [
    {
     "name": "stdout",
     "output_type": "stream",
     "text": [
      "[[2 3]\n",
      " [5 6]]\n"
     ]
    },
    {
     "data": {
      "text/plain": [
       "array([4, 5, 6])"
      ]
     },
     "execution_count": 109,
     "metadata": {},
     "output_type": "execute_result"
    }
   ],
   "source": [
    "matrix = np.array([[1, 2, 3], [4, 5, 6], [7, 8, 9]])\n",
    "\n",
    "print(matrix[0:2, 1:])\n",
    "matrix[1]"
   ]
  },
  {
   "cell_type": "markdown",
   "id": "abb4fbea-3875-43e6-bc55-078b49259fec",
   "metadata": {},
   "source": [
    "### 🔰 Step and Reverse"
   ]
  },
  {
   "cell_type": "code",
   "execution_count": 107,
   "id": "664a8929-c5c0-4f7c-a24d-a77bd01c08eb",
   "metadata": {},
   "outputs": [
    {
     "name": "stdout",
     "output_type": "stream",
     "text": [
      "[10 30 50]\n",
      "[50 40 30 20 10]\n"
     ]
    }
   ],
   "source": [
    "print(arr[::2])   # Every second element → [10 30 50]\n",
    "print(arr[::-1])  # Reverse the array → [50 40 30 20 10]"
   ]
  },
  {
   "cell_type": "code",
   "execution_count": 134,
   "id": "4d22f069-08cf-48c8-b959-3009750ebe58",
   "metadata": {},
   "outputs": [],
   "source": [
    "arr = np.array([[10, 12, 13, 14, 15], #0 - 0-4\n",
    "       [16, 17, 18, 19, 20],          #1 - 0-4\n",
    "       [21, 22, 23, 24, 25],          #2 - 0-4\n",
    "       [26, 27, 28, 29, 30]])         #3 - 0-4"
   ]
  },
  {
   "cell_type": "code",
   "execution_count": 128,
   "id": "5d9b6545-ccc3-4c4c-b8ac-ae7a81c82243",
   "metadata": {},
   "outputs": [
    {
     "data": {
      "text/plain": [
       "14"
      ]
     },
     "execution_count": 128,
     "metadata": {},
     "output_type": "execute_result"
    }
   ],
   "source": [
    "arr[0][3]"
   ]
  },
  {
   "cell_type": "code",
   "execution_count": 129,
   "id": "ee6214b3-7cfd-4479-9784-859cdeac4215",
   "metadata": {},
   "outputs": [
    {
     "data": {
      "text/plain": [
       "array([[16, 17, 18, 19, 20],\n",
       "       [21, 22, 23, 24, 25]])"
      ]
     },
     "execution_count": 129,
     "metadata": {},
     "output_type": "execute_result"
    }
   ],
   "source": [
    "arr[1:3]         # 1-2 columns, slicing columns"
   ]
  },
  {
   "cell_type": "code",
   "execution_count": 130,
   "id": "aea6bc3c-a320-4807-8d05-9c19d5cae935",
   "metadata": {},
   "outputs": [
    {
     "data": {
      "text/plain": [
       "array([[17, 18, 19],\n",
       "       [22, 23, 24]])"
      ]
     },
     "execution_count": 130,
     "metadata": {},
     "output_type": "execute_result"
    }
   ],
   "source": [
    "arr[1:3,1:4]     # 1-2 rows, 1-3 values (rows and column slicing)"
   ]
  },
  {
   "cell_type": "code",
   "execution_count": 137,
   "id": "46244c22-dd0f-43ec-91bf-057b3763f4cb",
   "metadata": {},
   "outputs": [
    {
     "data": {
      "text/plain": [
       "array([[21, 22],\n",
       "       [26, 27]])"
      ]
     },
     "execution_count": 137,
     "metadata": {},
     "output_type": "execute_result"
    }
   ],
   "source": [
    "arr[2:5, 0:2]"
   ]
  },
  {
   "cell_type": "code",
   "execution_count": 132,
   "id": "87e759f3-0d65-435b-ac87-90b215ab2a05",
   "metadata": {},
   "outputs": [],
   "source": [
    "arr = np.array([\n",
    "    [ 0,  1,  2,  3,  4],\n",
    "    [ 5,  6,  7,  8,  9],\n",
    "    [10, 11, 12, 13, 14],\n",
    "    [15, 16, 17, 18, 19]\n",
    "])"
   ]
  },
  {
   "cell_type": "code",
   "execution_count": 131,
   "id": "7973a1b9-8b57-466f-92d5-64bb65fb226d",
   "metadata": {},
   "outputs": [
    {
     "name": "stdout",
     "output_type": "stream",
     "text": [
      "[[17 18 19]\n",
      " [22 23 24]]\n"
     ]
    }
   ],
   "source": [
    "# Slice\n",
    "result = arr[1:3, 1:4]\n",
    "\n",
    "print(result)"
   ]
  },
  {
   "cell_type": "markdown",
   "id": "2675dc8d-1131-4bb4-8b0a-0e399104373e",
   "metadata": {},
   "source": [
    "### 🎯 Advanced Indexing\n",
    "\n",
    "- Boolean indexing: arr[arr > 25]\n",
    "- Fancy indexing: arr[[0, 2, 4]]"
   ]
  },
  {
   "cell_type": "markdown",
   "id": "78263bf6-dcf4-4570-9157-1f713bb0ee51",
   "metadata": {},
   "source": [
    "____________"
   ]
  },
  {
   "cell_type": "markdown",
   "id": "22056a11-b978-4a07-af1f-9dbb00ab67f4",
   "metadata": {},
   "source": [
    "_____________"
   ]
  },
  {
   "cell_type": "markdown",
   "id": "d2e9683a-6729-429b-872d-2e9a078e9668",
   "metadata": {},
   "source": [
    "## ⚜️ np.concatenate()"
   ]
  },
  {
   "cell_type": "code",
   "execution_count": 138,
   "id": "70542dcb-f364-4bf6-a94f-a269b85adc41",
   "metadata": {},
   "outputs": [],
   "source": [
    "a = np.array([10,20,30,40])"
   ]
  },
  {
   "cell_type": "code",
   "execution_count": 139,
   "id": "7b0429f1-d41a-4c2b-9896-376e346eb51f",
   "metadata": {},
   "outputs": [],
   "source": [
    "b = np.array(['abc', 'def', 'ghi', 'jkl'])"
   ]
  },
  {
   "cell_type": "code",
   "execution_count": 140,
   "id": "c1f402a3-a942-4d6f-bd1f-d753c66b5702",
   "metadata": {},
   "outputs": [
    {
     "data": {
      "text/plain": [
       "array(['10', '20', '30', '40', 'abc', 'def', 'ghi', 'jkl'], dtype='<U11')"
      ]
     },
     "execution_count": 140,
     "metadata": {},
     "output_type": "execute_result"
    }
   ],
   "source": [
    "np.concatenate([a,b])"
   ]
  },
  {
   "cell_type": "markdown",
   "id": "c1961186-fb01-44fd-a69c-faed50843601",
   "metadata": {},
   "source": [
    "______________________________"
   ]
  },
  {
   "cell_type": "markdown",
   "id": "50cc14de-3f2a-483d-b8b0-e7e6e66249ef",
   "metadata": {},
   "source": [
    "### ⚜️ COPY v/s VIEW"
   ]
  },
  {
   "cell_type": "markdown",
   "id": "3a890bac-eb31-4db5-b9bc-0908a4875d99",
   "metadata": {},
   "source": [
    "- A copy creates a new array with its own data.\n",
    "- It’s independent of the original, so changes to one don’t affect the other.\n"
   ]
  },
  {
   "cell_type": "markdown",
   "id": "b74f5501-d70d-4812-be4e-b2fbfb4895e3",
   "metadata": {},
   "source": [
    "##### EXERCISE 1"
   ]
  },
  {
   "cell_type": "code",
   "execution_count": 144,
   "id": "a52fa63a-c762-449d-90d3-82317bdadeea",
   "metadata": {},
   "outputs": [
    {
     "data": {
      "text/plain": [
       "array([10, 20, 30])"
      ]
     },
     "execution_count": 144,
     "metadata": {},
     "output_type": "execute_result"
    }
   ],
   "source": [
    "a = np.array([10, 20, 30])\n",
    "\n",
    "b = a.copy()\n",
    "b\n"
   ]
  },
  {
   "cell_type": "code",
   "execution_count": 148,
   "id": "48e64cb5-04ad-4c2c-8051-a93ed139b2bf",
   "metadata": {},
   "outputs": [
    {
     "data": {
      "text/plain": [
       "array([99,  2,  3])"
      ]
     },
     "execution_count": 148,
     "metadata": {},
     "output_type": "execute_result"
    }
   ],
   "source": [
    "a = np.array([1, 2, 3])\n",
    "\n",
    "b = a.view()\n",
    "b[0] = 99\n",
    "b"
   ]
  },
  {
   "cell_type": "markdown",
   "id": "b646ee90-f4aa-432f-8eef-44c349d0bfac",
   "metadata": {},
   "source": [
    "##### EXERCISE 2"
   ]
  },
  {
   "cell_type": "code",
   "execution_count": 151,
   "id": "a69b2e54-25c2-4696-b313-50c15cdf3906",
   "metadata": {},
   "outputs": [
    {
     "data": {
      "text/plain": [
       "array([15, 16, 17, 18, 19, 20, 21, 22, 23, 24])"
      ]
     },
     "execution_count": 151,
     "metadata": {},
     "output_type": "execute_result"
    }
   ],
   "source": [
    "x = np.arange(15,25)\n",
    "x"
   ]
  },
  {
   "cell_type": "code",
   "execution_count": 160,
   "id": "b7ae788c-42e8-4182-9c94-c14a1ebe0cf8",
   "metadata": {},
   "outputs": [
    {
     "data": {
      "text/plain": [
       "array([15, 16, 17, 18, 19, 20, 21, 22, 23, 24])"
      ]
     },
     "execution_count": 160,
     "metadata": {},
     "output_type": "execute_result"
    }
   ],
   "source": [
    "y = x.copy()\n",
    "\n",
    "y"
   ]
  },
  {
   "cell_type": "code",
   "execution_count": 161,
   "id": "6f5acceb-45a9-49c2-b655-aab44f6d4198",
   "metadata": {},
   "outputs": [
    {
     "data": {
      "text/plain": [
       "array([100, 100, 100, 100, 100, 100, 100, 100, 100, 100])"
      ]
     },
     "execution_count": 161,
     "metadata": {},
     "output_type": "execute_result"
    }
   ],
   "source": [
    "y[::] = 100\n",
    "y"
   ]
  },
  {
   "cell_type": "code",
   "execution_count": 162,
   "id": "5cc2c15f-0db2-4799-841f-30d1507e2ac6",
   "metadata": {},
   "outputs": [
    {
     "data": {
      "text/plain": [
       "array([15, 16, 17, 18, 19, 20, 21, 22, 23, 24])"
      ]
     },
     "execution_count": 162,
     "metadata": {},
     "output_type": "execute_result"
    }
   ],
   "source": [
    "x.view()"
   ]
  },
  {
   "cell_type": "code",
   "execution_count": 163,
   "id": "9375e726-b76d-4c1d-87c7-422fef9cfcfe",
   "metadata": {},
   "outputs": [
    {
     "data": {
      "text/plain": [
       "array([100, 100, 100, 100, 100, 100, 100, 100, 100, 100])"
      ]
     },
     "execution_count": 163,
     "metadata": {},
     "output_type": "execute_result"
    }
   ],
   "source": [
    "y.view()"
   ]
  },
  {
   "cell_type": "markdown",
   "id": "83ce824b-dc67-4b41-b259-a619a6288398",
   "metadata": {},
   "source": [
    "### 🧬 Copy vs View in NumPy"
   ]
  },
  {
   "cell_type": "markdown",
   "id": "25831ec0-eb89-4eb6-ba30-e55e68a07f3e",
   "metadata": {},
   "source": [
    "___________________________________________\n",
    "| Feature | Copy | View | \n",
    "|------|-----|-------|\n",
    "| Definition | Creates a new array with its own data | Creates a shallow replica that shares data with the original | \n",
    "| Memory | Allocates new memory | Shares same memory as original array | \n",
    "| Changes | Changes to copy do not affect original | Changes to view do affect original | \n",
    "| Use Case | When you want to preserve original data | When you want a temporary slice or reshape | \n",
    "___________________\n",
    "\n"
   ]
  },
  {
   "cell_type": "markdown",
   "id": "231a7522-b4eb-4319-aba0-36c3423f05c6",
   "metadata": {},
   "source": [
    "### ☘️ NUMPY SEARCHING ARRAY"
   ]
  },
  {
   "cell_type": "markdown",
   "id": "da22d732-6345-4724-9f84-ce42e3f99f12",
   "metadata": {},
   "source": [
    "- NumPy is like having a supercharged magnifying glass 🔍—you can find values, positions, or patterns with just a few lines of code.\n",
    "\n",
    "- Here's a breakdown of the most useful tools for searching within arrays:\n"
   ]
  },
  {
   "cell_type": "markdown",
   "id": "d79db961-56dc-4a04-908b-4205d6fa0796",
   "metadata": {},
   "source": [
    "### ⚜️ 1. np.where() – Find Indices Based on Condition\n",
    "\n"
   ]
  },
  {
   "cell_type": "markdown",
   "id": "19197711-cd56-435e-ae05-ef169f24ea2a",
   "metadata": {},
   "source": [
    "- Returns the indices of elements that satisfy a condition."
   ]
  },
  {
   "cell_type": "code",
   "execution_count": 165,
   "id": "5b57cbfd-c526-4474-99f0-8f8bc9ccf054",
   "metadata": {},
   "outputs": [
    {
     "data": {
      "text/plain": [
       "array([10, 11, 12, 13, 14, 15, 16])"
      ]
     },
     "execution_count": 165,
     "metadata": {},
     "output_type": "execute_result"
    }
   ],
   "source": [
    "arr = np.arange(10,17)\n",
    "arr"
   ]
  },
  {
   "cell_type": "code",
   "execution_count": 166,
   "id": "dfdeb489-20cf-405a-99bc-f96ae4aeaf9c",
   "metadata": {},
   "outputs": [
    {
     "data": {
      "text/plain": [
       "(array([2], dtype=int64),)"
      ]
     },
     "execution_count": 166,
     "metadata": {},
     "output_type": "execute_result"
    }
   ],
   "source": [
    "np.where(arr == 12)"
   ]
  },
  {
   "cell_type": "markdown",
   "id": "a964773b-f1ba-43e0-968b-379cf4d27826",
   "metadata": {},
   "source": [
    "___________"
   ]
  },
  {
   "cell_type": "markdown",
   "id": "16888f64-a33c-4e34-a2b8-a0fbd0f315c6",
   "metadata": {},
   "source": [
    "### ⚜️ 2. Conditional Filtering"
   ]
  },
  {
   "cell_type": "code",
   "execution_count": 167,
   "id": "82801478-5bfd-4826-a93f-367bc138d95c",
   "metadata": {},
   "outputs": [
    {
     "data": {
      "text/plain": [
       "array([55, 77, 55, 89, 67, 55, 78, 71])"
      ]
     },
     "execution_count": 167,
     "metadata": {},
     "output_type": "execute_result"
    }
   ],
   "source": [
    "numbers = np.array([55,77,55,89,67,55,78,71])\n",
    "numbers"
   ]
  },
  {
   "cell_type": "code",
   "execution_count": 168,
   "id": "a8345a07-b6f0-436c-87f1-8d1c0fc215aa",
   "metadata": {},
   "outputs": [
    {
     "data": {
      "text/plain": [
       "array([False,  True, False,  True, False, False,  True,  True])"
      ]
     },
     "execution_count": 168,
     "metadata": {},
     "output_type": "execute_result"
    }
   ],
   "source": [
    "numbers >= 70     # returns true or false"
   ]
  },
  {
   "cell_type": "code",
   "execution_count": 169,
   "id": "76a6b398-03d5-4427-9136-67fc6f349d0f",
   "metadata": {},
   "outputs": [
    {
     "data": {
      "text/plain": [
       "array([77, 89, 78, 71])"
      ]
     },
     "execution_count": 169,
     "metadata": {},
     "output_type": "execute_result"
    }
   ],
   "source": [
    "numbers[numbers>=70]   # prints values grater than 70"
   ]
  },
  {
   "cell_type": "markdown",
   "id": "b6bef2db-d853-4a0a-960c-2b1f725c2b53",
   "metadata": {},
   "source": [
    "_______________"
   ]
  },
  {
   "cell_type": "markdown",
   "id": "f77e332a-3b73-46ee-9ed0-46cae3b276bb",
   "metadata": {},
   "source": [
    "### ⚜️ 3.numpy.extract()"
   ]
  },
  {
   "cell_type": "markdown",
   "id": "b39bba41-5459-4af5-9d81-7e15d6f04b7b",
   "metadata": {},
   "source": [
    "- The numpy.extract() function is a handy way to pull out elements from an array based on a condition.\n"
   ]
  },
  {
   "cell_type": "markdown",
   "id": "cb148513-644a-4ef2-a8f7-e44c03ecf365",
   "metadata": {},
   "source": [
    "#### 🧠 Syntax"
   ]
  },
  {
   "cell_type": "code",
   "execution_count": null,
   "id": "fedf9c0f-110c-40df-ae4b-f93bbf4e5c25",
   "metadata": {},
   "outputs": [],
   "source": [
    "numpy.extract(condition, arr)\n"
   ]
  },
  {
   "cell_type": "markdown",
   "id": "73b11a4d-d3ff-4cd3-a27d-f9cf9fb450c2",
   "metadata": {},
   "source": [
    "#### 📌 Parameters\n",
    "\n",
    "- condition: A boolean array (same shape as arr) that tells which elements to extract.\n",
    "- arr: The input array from which values are extracted.\n"
   ]
  },
  {
   "cell_type": "code",
   "execution_count": 171,
   "id": "13bc22c8-aadc-419e-ad15-bf4da5aa9467",
   "metadata": {},
   "outputs": [
    {
     "data": {
      "text/plain": [
       "array([ 0,  1,  2,  3,  4,  5,  6,  7,  8,  9, 10, 11, 12, 13, 14, 15, 16,\n",
       "       17, 18, 19, 20])"
      ]
     },
     "execution_count": 171,
     "metadata": {},
     "output_type": "execute_result"
    }
   ],
   "source": [
    "arr_new = np.arange(0,21)\n",
    "\n",
    "arr_new"
   ]
  },
  {
   "cell_type": "markdown",
   "id": "ca896391-8120-4dfc-ba16-567a8a545995",
   "metadata": {},
   "source": [
    "- To Extract Even Numbers"
   ]
  },
  {
   "cell_type": "code",
   "execution_count": 174,
   "id": "6e275497-01fb-4df1-9763-b20ba09d8388",
   "metadata": {},
   "outputs": [
    {
     "data": {
      "text/plain": [
       "array([ True, False,  True, False,  True, False,  True, False,  True,\n",
       "       False,  True, False,  True, False,  True, False,  True, False,\n",
       "        True, False,  True])"
      ]
     },
     "execution_count": 174,
     "metadata": {},
     "output_type": "execute_result"
    }
   ],
   "source": [
    "result = np.mod(arr_new, 2) == 0                # mod -> modulus, condition = result\n",
    "result"
   ]
  },
  {
   "cell_type": "code",
   "execution_count": 175,
   "id": "729b41a9-1e32-4d78-a891-d7f0871030c5",
   "metadata": {},
   "outputs": [
    {
     "data": {
      "text/plain": [
       "array([ 0,  2,  4,  6,  8, 10, 12, 14, 16, 18, 20])"
      ]
     },
     "execution_count": 175,
     "metadata": {},
     "output_type": "execute_result"
    }
   ],
   "source": [
    "np.extract(result, arr_new)"
   ]
  },
  {
   "cell_type": "markdown",
   "id": "172f06dd-4587-4302-b405-c31db0fe217f",
   "metadata": {},
   "source": [
    "______________"
   ]
  },
  {
   "cell_type": "markdown",
   "id": "8149a535-37bd-4122-bd4d-9bb1623de612",
   "metadata": {},
   "source": [
    "### ⚜️ SORTING - np.sort(array_name)"
   ]
  },
  {
   "cell_type": "code",
   "execution_count": 178,
   "id": "96558ebd-9933-46e1-b778-1bf0011a702a",
   "metadata": {},
   "outputs": [
    {
     "data": {
      "text/plain": [
       "array([66, 56, 78, 22, 31, 22, 33, 34, 37])"
      ]
     },
     "execution_count": 178,
     "metadata": {},
     "output_type": "execute_result"
    }
   ],
   "source": [
    "arr1 = np.array([66,56,78,22,31,22,33,34,37])\n",
    "arr1"
   ]
  },
  {
   "cell_type": "markdown",
   "id": "90ab76cb-f31d-4b69-a87c-8831512cdffa",
   "metadata": {},
   "source": [
    "#### 🔰 SORTING IN ASCENDING ORDER"
   ]
  },
  {
   "cell_type": "code",
   "execution_count": 181,
   "id": "60ce4198-cd99-4d40-9fcc-24edf672f738",
   "metadata": {},
   "outputs": [
    {
     "data": {
      "text/plain": [
       "array([22, 22, 31, 33, 34, 37, 56, 66, 78])"
      ]
     },
     "execution_count": 181,
     "metadata": {},
     "output_type": "execute_result"
    }
   ],
   "source": [
    "np.sort(arr1)"
   ]
  },
  {
   "cell_type": "markdown",
   "id": "f588fbc5-cdcb-4556-aa5d-ffb75def4841",
   "metadata": {},
   "source": [
    "#### 🔰 SORTING IN DESCENDING ORDER"
   ]
  },
  {
   "cell_type": "code",
   "execution_count": 184,
   "id": "6e5a4d00-668d-4547-83d1-d3da0878cdd7",
   "metadata": {},
   "outputs": [
    {
     "data": {
      "text/plain": [
       "array([78, 66, 56, 37, 34, 33, 31, 22, 22])"
      ]
     },
     "execution_count": 184,
     "metadata": {},
     "output_type": "execute_result"
    }
   ],
   "source": [
    "np.sort(arr1)[::-1]"
   ]
  },
  {
   "cell_type": "markdown",
   "id": "1321e80f-ba8e-425d-92ee-651a31655290",
   "metadata": {},
   "source": [
    "_____________________________________"
   ]
  },
  {
   "cell_type": "markdown",
   "id": "30b27bb0-59a0-42b4-b4dc-3d414b7eaef0",
   "metadata": {},
   "source": [
    "_______________________"
   ]
  },
  {
   "cell_type": "code",
   "execution_count": null,
   "id": "529729e8-f272-4f39-9c78-b39d5528e13c",
   "metadata": {},
   "outputs": [],
   "source": []
  }
 ],
 "metadata": {
  "kernelspec": {
   "display_name": "Python 3 (ipykernel)",
   "language": "python",
   "name": "python3"
  },
  "language_info": {
   "codemirror_mode": {
    "name": "ipython",
    "version": 3
   },
   "file_extension": ".py",
   "mimetype": "text/x-python",
   "name": "python",
   "nbconvert_exporter": "python",
   "pygments_lexer": "ipython3",
   "version": "3.12.7"
  }
 },
 "nbformat": 4,
 "nbformat_minor": 5
}
