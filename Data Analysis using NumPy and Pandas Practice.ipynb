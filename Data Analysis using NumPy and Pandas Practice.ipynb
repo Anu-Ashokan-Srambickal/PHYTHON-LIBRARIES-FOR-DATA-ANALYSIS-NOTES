{
 "cells": [
  {
   "cell_type": "markdown",
   "id": "40579087-6463-4d01-8c66-54d42afa1b51",
   "metadata": {},
   "source": [
    "# Data Analysis using NumPy and Pandas"
   ]
  },
  {
   "cell_type": "code",
   "execution_count": 6,
   "id": "93bfc46e-ca87-4660-b301-d1d3f229685b",
   "metadata": {},
   "outputs": [],
   "source": [
    "import numpy as np"
   ]
  },
  {
   "cell_type": "markdown",
   "id": "99064a9b-7ab0-47fe-9034-a557631d66e8",
   "metadata": {},
   "source": [
    "Step wise Instructions:\n",
    "\n",
    "1. Create a 1D NumPy Array:\n",
    "\n",
    "Create a 1D NumPy array named temperatures_w1 for Week 1 with the following values:\n",
    "\n",
    "[22.5, 25.3, 20.8, 23.4, 26.1, 24.8, 21.9]"
   ]
  },
  {
   "cell_type": "code",
   "execution_count": 7,
   "id": "5d581ff5-77a9-4e4d-a893-485bdd505444",
   "metadata": {},
   "outputs": [
    {
     "data": {
      "text/plain": [
       "array([22.5, 25.3, 20.8, 23.4, 26.1, 24.8, 21.9])"
      ]
     },
     "execution_count": 7,
     "metadata": {},
     "output_type": "execute_result"
    }
   ],
   "source": [
    "temperatures_w1 = np.array([22.5, 25.3, 20.8, 23.4, 26.1, 24.8, 21.9])\n",
    "temperatures_w1"
   ]
  },
  {
   "cell_type": "markdown",
   "id": "f6a310f0-a39f-4521-aa3e-37af69459aa4",
   "metadata": {},
   "source": [
    "_______________"
   ]
  },
  {
   "cell_type": "markdown",
   "id": "251df9d3-cc36-43c1-b79a-3ee562e99b0c",
   "metadata": {},
   "source": [
    "2. Inspection and Properties:\n",
    "\n",
    "● Inspect the shape, data type, and the number of elements in the array.\n",
    "\n",
    "Inspect the shape of the temperatures_w1 array."
   ]
  },
  {
   "cell_type": "code",
   "execution_count": 10,
   "id": "1eaa15e6-a716-49b4-b8aa-0b0d8b57aa70",
   "metadata": {},
   "outputs": [
    {
     "data": {
      "text/plain": [
       "(7,)"
      ]
     },
     "execution_count": 10,
     "metadata": {},
     "output_type": "execute_result"
    }
   ],
   "source": [
    "temperatures_w1.shape"
   ]
  },
  {
   "cell_type": "code",
   "execution_count": 11,
   "id": "bc612dcb-ee6d-4275-a861-8767bf11f009",
   "metadata": {},
   "outputs": [
    {
     "data": {
      "text/plain": [
       "dtype('float64')"
      ]
     },
     "execution_count": 11,
     "metadata": {},
     "output_type": "execute_result"
    }
   ],
   "source": [
    "temperatures_w1.dtype"
   ]
  },
  {
   "cell_type": "code",
   "execution_count": 12,
   "id": "7b766c9d-0878-4f80-9d11-d9c929dd7709",
   "metadata": {},
   "outputs": [
    {
     "data": {
      "text/plain": [
       "1"
      ]
     },
     "execution_count": 12,
     "metadata": {},
     "output_type": "execute_result"
    }
   ],
   "source": [
    "temperatures_w1.ndim"
   ]
  },
  {
   "cell_type": "code",
   "execution_count": 13,
   "id": "ab8205cc-aac7-4ab0-92ab-77faacc45005",
   "metadata": {},
   "outputs": [
    {
     "data": {
      "text/plain": [
       "7"
      ]
     },
     "execution_count": 13,
     "metadata": {},
     "output_type": "execute_result"
    }
   ],
   "source": [
    "temperatures_w1.size"
   ]
  },
  {
   "cell_type": "markdown",
   "id": "06ef2a1c-139a-44e6-ae4d-850ffaf95b00",
   "metadata": {},
   "source": [
    "____________"
   ]
  },
  {
   "cell_type": "markdown",
   "id": "c5e0a295-8a43-43f9-a485-a7252379e5be",
   "metadata": {},
   "source": [
    "3. Array Operations:\n",
    "\n",
    "● Convert the temperatures_w1 from Celsius to Fahrenheit using the formula: Fahrenheit = (Celsius * 9/5) + 32\n",
    "\n",
    "● Find the maximum, minimum, and mean temperatures for the week."
   ]
  },
  {
   "cell_type": "code",
   "execution_count": 16,
   "id": "94cdb797-9d12-43c1-a7a0-b61066cd692e",
   "metadata": {},
   "outputs": [
    {
     "data": {
      "text/plain": [
       "array([22.5, 25.3, 20.8, 23.4, 26.1, 24.8, 21.9])"
      ]
     },
     "execution_count": 16,
     "metadata": {},
     "output_type": "execute_result"
    }
   ],
   "source": [
    "temperatures_w1"
   ]
  },
  {
   "cell_type": "code",
   "execution_count": null,
   "id": "527339e9-02f4-4b96-ac5f-7b9148804af6",
   "metadata": {},
   "outputs": [],
   "source": [
    "Fahrenheit = (Celsius * 9/5) + 32"
   ]
  },
  {
   "cell_type": "code",
   "execution_count": 14,
   "id": "c0f7859f-db4a-4ada-a505-2aad312e2851",
   "metadata": {},
   "outputs": [],
   "source": [
    "Fahrenheit = (temperatures_w1 * 1.8) + 32"
   ]
  },
  {
   "cell_type": "code",
   "execution_count": 15,
   "id": "1f2ec547-1578-428e-9c60-8a615ee26f09",
   "metadata": {},
   "outputs": [
    {
     "data": {
      "text/plain": [
       "array([72.5 , 77.54, 69.44, 74.12, 78.98, 76.64, 71.42])"
      ]
     },
     "execution_count": 15,
     "metadata": {},
     "output_type": "execute_result"
    }
   ],
   "source": [
    "Fahrenheit"
   ]
  },
  {
   "cell_type": "code",
   "execution_count": 17,
   "id": "e52b8f4d-ad23-430a-aede-660c46440ef6",
   "metadata": {},
   "outputs": [
    {
     "data": {
      "text/plain": [
       "78.98"
      ]
     },
     "execution_count": 17,
     "metadata": {},
     "output_type": "execute_result"
    }
   ],
   "source": [
    "Fahrenheit.max()"
   ]
  },
  {
   "cell_type": "code",
   "execution_count": 18,
   "id": "13a99b0d-d231-4ecd-afc9-c312c95eebe1",
   "metadata": {},
   "outputs": [
    {
     "data": {
      "text/plain": [
       "69.44"
      ]
     },
     "execution_count": 18,
     "metadata": {},
     "output_type": "execute_result"
    }
   ],
   "source": [
    "Fahrenheit.min()"
   ]
  },
  {
   "cell_type": "code",
   "execution_count": 19,
   "id": "ef337047-0c18-4f80-b9e2-b5e7f192fe01",
   "metadata": {},
   "outputs": [
    {
     "data": {
      "text/plain": [
       "74.37714285714286"
      ]
     },
     "execution_count": 19,
     "metadata": {},
     "output_type": "execute_result"
    }
   ],
   "source": [
    "Fahrenheit.mean()"
   ]
  },
  {
   "cell_type": "markdown",
   "id": "56cdc333-b993-4fc6-8711-aef1d11e8a2f",
   "metadata": {},
   "source": [
    "________________"
   ]
  },
  {
   "cell_type": "code",
   "execution_count": null,
   "id": "35596f82-82c3-42a1-9064-c111c23df2e7",
   "metadata": {},
   "outputs": [],
   "source": [
    "4. Array Slicing and Indexing:\n",
    "● Extract the temperatures for the first three days of the week.\n",
    "● Extract the temperatures for the weekend (last two days).\n",
    "● Extract the temperatures for the middle three days of the week."
   ]
  },
  {
   "cell_type": "code",
   "execution_count": 20,
   "id": "ae1aa344-6078-4f33-9817-cc132ea2337d",
   "metadata": {},
   "outputs": [
    {
     "data": {
      "text/plain": [
       "array([22.5, 25.3, 20.8, 23.4, 26.1, 24.8, 21.9])"
      ]
     },
     "execution_count": 20,
     "metadata": {},
     "output_type": "execute_result"
    }
   ],
   "source": [
    "temperatures_w1 "
   ]
  },
  {
   "cell_type": "code",
   "execution_count": 21,
   "id": "a5c92532-3eed-4e32-8be8-9bd813b9e99e",
   "metadata": {},
   "outputs": [
    {
     "data": {
      "text/plain": [
       "array([22.5, 25.3, 20.8])"
      ]
     },
     "execution_count": 21,
     "metadata": {},
     "output_type": "execute_result"
    }
   ],
   "source": [
    "temperatures_w1[0:3]"
   ]
  },
  {
   "cell_type": "code",
   "execution_count": 27,
   "id": "b9d48da1-52e2-4240-8a8f-ca8b3b8fea1a",
   "metadata": {},
   "outputs": [
    {
     "data": {
      "text/plain": [
       "array([24.8, 21.9])"
      ]
     },
     "execution_count": 27,
     "metadata": {},
     "output_type": "execute_result"
    }
   ],
   "source": [
    "temperatures_w1[5:7]"
   ]
  },
  {
   "cell_type": "code",
   "execution_count": 29,
   "id": "7adb763e-7458-4957-8ace-37c788523e84",
   "metadata": {},
   "outputs": [
    {
     "data": {
      "text/plain": [
       "23.4"
      ]
     },
     "execution_count": 29,
     "metadata": {},
     "output_type": "execute_result"
    }
   ],
   "source": [
    "temperatures_w1[3]"
   ]
  },
  {
   "cell_type": "markdown",
   "id": "2a07855e-3d42-45dd-a28c-1d83bd25c0ff",
   "metadata": {},
   "source": [
    "___________"
   ]
  },
  {
   "cell_type": "code",
   "execution_count": null,
   "id": "23599822-f4d1-4939-868d-ad3c95ac9ec7",
   "metadata": {},
   "outputs": [],
   "source": [
    "5. Create a 2D Array:\n",
    "Create a 2D NumPy array named temperatures where each row represents temperatures for a different week:\n",
    "★ Row 1: [22.5, 25.3, 20.8, 23.4, 26.1, 24.8, 21.9] (Week 1)\n",
    "★ Row 2: [19.2, 22.5, 21.3, 24.0, 23.5, 22.8, 20.1] (Week 2)"
   ]
  },
  {
   "cell_type": "code",
   "execution_count": 31,
   "id": "714a1b3f-fc3c-4494-8d02-1e5563898f3c",
   "metadata": {},
   "outputs": [
    {
     "data": {
      "text/plain": [
       "array([[22.5, 25.3, 20.8, 23.4, 26.1, 24.8, 21.9],\n",
       "       [19.2, 22.5, 21.3, 24. , 23.5, 22.8, 20.1]])"
      ]
     },
     "execution_count": 31,
     "metadata": {},
     "output_type": "execute_result"
    }
   ],
   "source": [
    "t = np.array([[22.5, 25.3, 20.8, 23.4, 26.1, 24.8, 21.9],  [19.2, 22.5, 21.3, 24.0, 23.5, 22.8, 20.1]])\n",
    "t"
   ]
  },
  {
   "cell_type": "markdown",
   "id": "d4ed6f2f-b2ca-4b81-837c-326929dafdd1",
   "metadata": {},
   "source": [
    "______________"
   ]
  },
  {
   "cell_type": "code",
   "execution_count": null,
   "id": "9468eb94-e335-4552-a72b-a55d56b8ee76",
   "metadata": {},
   "outputs": [],
   "source": [
    "6. Inspect and Slice the 2D Array:\n",
    "● Inspect and print the shape, data type, and total number of elements in the temperatures array.\n",
    "● Extract the temperatures for each week and the weekends (last two days) for both weeks."
   ]
  },
  {
   "cell_type": "code",
   "execution_count": 32,
   "id": "c377563b-13c9-4d8a-8bf7-9a002f4d245b",
   "metadata": {},
   "outputs": [
    {
     "data": {
      "text/plain": [
       "(2, 7)"
      ]
     },
     "execution_count": 32,
     "metadata": {},
     "output_type": "execute_result"
    }
   ],
   "source": [
    "t.shape"
   ]
  },
  {
   "cell_type": "code",
   "execution_count": 33,
   "id": "d19b1986-df99-43d4-af96-6831a0f3a66e",
   "metadata": {},
   "outputs": [
    {
     "data": {
      "text/plain": [
       "dtype('float64')"
      ]
     },
     "execution_count": 33,
     "metadata": {},
     "output_type": "execute_result"
    }
   ],
   "source": [
    "t.dtype"
   ]
  },
  {
   "cell_type": "code",
   "execution_count": 34,
   "id": "d6c7628a-0bac-4044-aa9f-90d2a4457955",
   "metadata": {},
   "outputs": [
    {
     "data": {
      "text/plain": [
       "14"
      ]
     },
     "execution_count": 34,
     "metadata": {},
     "output_type": "execute_result"
    }
   ],
   "source": [
    "t.size"
   ]
  },
  {
   "cell_type": "code",
   "execution_count": 35,
   "id": "331f4903-1707-4a2f-ac13-b6e5654fa0b9",
   "metadata": {},
   "outputs": [
    {
     "data": {
      "text/plain": [
       "array([[22.5, 25.3, 20.8, 23.4, 26.1, 24.8, 21.9],\n",
       "       [19.2, 22.5, 21.3, 24. , 23.5, 22.8, 20.1]])"
      ]
     },
     "execution_count": 35,
     "metadata": {},
     "output_type": "execute_result"
    }
   ],
   "source": [
    "t"
   ]
  },
  {
   "cell_type": "code",
   "execution_count": 36,
   "id": "eb51d77a-1c25-49ce-8122-d4a170fde377",
   "metadata": {},
   "outputs": [
    {
     "data": {
      "text/plain": [
       "array([22.5, 25.3, 20.8, 23.4, 26.1, 24.8, 21.9])"
      ]
     },
     "execution_count": 36,
     "metadata": {},
     "output_type": "execute_result"
    }
   ],
   "source": [
    "t[0]"
   ]
  },
  {
   "cell_type": "code",
   "execution_count": 37,
   "id": "b20a7d1a-b8d3-46e7-9975-42c91620b2e9",
   "metadata": {},
   "outputs": [
    {
     "data": {
      "text/plain": [
       "array([19.2, 22.5, 21.3, 24. , 23.5, 22.8, 20.1])"
      ]
     },
     "execution_count": 37,
     "metadata": {},
     "output_type": "execute_result"
    }
   ],
   "source": [
    "t[1]"
   ]
  },
  {
   "cell_type": "code",
   "execution_count": 38,
   "id": "e701d40e-827c-4210-82b5-bb7658780ee3",
   "metadata": {},
   "outputs": [
    {
     "data": {
      "text/plain": [
       "array([24.8, 21.9])"
      ]
     },
     "execution_count": 38,
     "metadata": {},
     "output_type": "execute_result"
    }
   ],
   "source": [
    "t[0, 5:7]"
   ]
  },
  {
   "cell_type": "code",
   "execution_count": 39,
   "id": "445479bc-babb-470f-9b16-9742cf3f93ea",
   "metadata": {},
   "outputs": [
    {
     "data": {
      "text/plain": [
       "array([22.8, 20.1])"
      ]
     },
     "execution_count": 39,
     "metadata": {},
     "output_type": "execute_result"
    }
   ],
   "source": [
    "t[1, 5:7]"
   ]
  },
  {
   "cell_type": "markdown",
   "id": "bd47f4de-dca3-4567-ac86-5a8835c9502a",
   "metadata": {},
   "source": [
    "_______________"
   ]
  },
  {
   "cell_type": "markdown",
   "id": "84158de1-42ab-4f47-a999-d16fbf7caa35",
   "metadata": {},
   "source": [
    "______"
   ]
  },
  {
   "cell_type": "markdown",
   "id": "382475c5-51ef-44ca-96fc-0d8dbf8a243d",
   "metadata": {},
   "source": [
    "### Pandas Series"
   ]
  },
  {
   "cell_type": "code",
   "execution_count": 41,
   "id": "1a2bbe93-9808-44ab-8712-d85a8a7af7ce",
   "metadata": {},
   "outputs": [],
   "source": [
    "import pandas as pd"
   ]
  },
  {
   "cell_type": "code",
   "execution_count": null,
   "id": "292ab6e7-d22f-4c55-b6fc-d12e210d94ee",
   "metadata": {},
   "outputs": [],
   "source": [
    "1. Creating Pandas Series:\n",
    "● Create a Pandas Series named marks with the following data:\n",
    "➢ Marks: 95, 92, 89, 85, 80\n",
    "➢ Custom Indices: 'Rank1', 'Rank2', 'Rank3', 'Rank4', 'Rank5'"
   ]
  },
  {
   "cell_type": "code",
   "execution_count": 43,
   "id": "dd62111e-d3ac-4cfc-92b5-f97fdcce6bff",
   "metadata": {},
   "outputs": [
    {
     "data": {
      "text/plain": [
       "Rank1    95\n",
       "Rank2    92\n",
       "Rank3    89\n",
       "Rank4    85\n",
       "Rank5    80\n",
       "dtype: int64"
      ]
     },
     "execution_count": 43,
     "metadata": {},
     "output_type": "execute_result"
    }
   ],
   "source": [
    "marks = pd.Series([95, 92, 89, 85, 80], index = ['Rank1', 'Rank2', 'Rank3', 'Rank4', 'Rank5'])\n",
    "marks"
   ]
  },
  {
   "cell_type": "markdown",
   "id": "e194cfee-ff7d-4fe9-bfdd-ea13c5cbf001",
   "metadata": {},
   "source": [
    "______________"
   ]
  },
  {
   "cell_type": "code",
   "execution_count": null,
   "id": "8e0cad0e-cf03-462d-8683-20aa431ce68f",
   "metadata": {},
   "outputs": [],
   "source": [
    "2. Indexing and Slicing:\n",
    "● Use the integer index position to access the mark of the 1st rank student.\n",
    "● Use the loc accessor to retrieve the marks of the top 3 ranks by specifying their index labels.\n",
    "● Use the iloc accessor to retrieve the mark of the 3rd rank student.\n",
    "● Apply a boolean mask to filter the Series and retrieve the ranks where the marks are greater than 90."
   ]
  },
  {
   "cell_type": "code",
   "execution_count": 45,
   "id": "a78ed999-a49a-4105-aa6b-1d1bb842154c",
   "metadata": {},
   "outputs": [
    {
     "data": {
      "text/plain": [
       "Rank1    95\n",
       "Rank2    92\n",
       "Rank3    89\n",
       "Rank4    85\n",
       "Rank5    80\n",
       "dtype: int64"
      ]
     },
     "execution_count": 45,
     "metadata": {},
     "output_type": "execute_result"
    }
   ],
   "source": [
    "marks"
   ]
  },
  {
   "cell_type": "code",
   "execution_count": 47,
   "id": "1f0a419a-6de3-4a71-9f9a-45fc5a15d9e3",
   "metadata": {},
   "outputs": [
    {
     "name": "stderr",
     "output_type": "stream",
     "text": [
      "C:\\Users\\Surface Pro\\AppData\\Local\\Temp\\ipykernel_1380\\1318454221.py:1: FutureWarning: Series.__getitem__ treating keys as positions is deprecated. In a future version, integer keys will always be treated as labels (consistent with DataFrame behavior). To access a value by position, use `ser.iloc[pos]`\n",
      "  marks[0]\n"
     ]
    },
    {
     "data": {
      "text/plain": [
       "95"
      ]
     },
     "execution_count": 47,
     "metadata": {},
     "output_type": "execute_result"
    }
   ],
   "source": [
    "marks[0]"
   ]
  },
  {
   "cell_type": "code",
   "execution_count": 60,
   "id": "e5e32b47-3d51-41e3-b915-0735a838ae5c",
   "metadata": {},
   "outputs": [
    {
     "data": {
      "text/plain": [
       "Rank1    95\n",
       "Rank2    92\n",
       "Rank3    89\n",
       "dtype: int64"
      ]
     },
     "execution_count": 60,
     "metadata": {},
     "output_type": "execute_result"
    }
   ],
   "source": [
    "marks.loc['Rank1':'Rank3']"
   ]
  },
  {
   "cell_type": "code",
   "execution_count": 61,
   "id": "0a3f16a3-38a0-497b-8cfe-e59af24dc43f",
   "metadata": {},
   "outputs": [
    {
     "data": {
      "text/plain": [
       "Rank1    95\n",
       "Rank2    92\n",
       "Rank3    89\n",
       "dtype: int64"
      ]
     },
     "execution_count": 61,
     "metadata": {},
     "output_type": "execute_result"
    }
   ],
   "source": [
    "marks.iloc[0:3]"
   ]
  },
  {
   "cell_type": "code",
   "execution_count": 62,
   "id": "d99b7477-eb86-4f13-a5c4-701d607b81a1",
   "metadata": {},
   "outputs": [
    {
     "data": {
      "text/plain": [
       "Rank1     True\n",
       "Rank2     True\n",
       "Rank3    False\n",
       "Rank4    False\n",
       "Rank5    False\n",
       "dtype: bool"
      ]
     },
     "execution_count": 62,
     "metadata": {},
     "output_type": "execute_result"
    }
   ],
   "source": [
    "marks > 90"
   ]
  },
  {
   "cell_type": "markdown",
   "id": "97619c45-9cda-4d12-a477-6b209ea26546",
   "metadata": {},
   "source": [
    "__________"
   ]
  },
  {
   "cell_type": "code",
   "execution_count": null,
   "id": "137a008b-021e-4919-bd43-6902a974a1be",
   "metadata": {},
   "outputs": [],
   "source": [
    "3. Manipulating Series:\n",
    "● Modify the mark of the student with the 1st rank to 100.\n",
    "● Remove the entry corresponding to the last rank from the Series.\n",
    "● Compute the CGPA by dividing each mark in the Series by 10."
   ]
  },
  {
   "cell_type": "code",
   "execution_count": 64,
   "id": "a799e5ea-3943-4f45-b72b-57f067452bf1",
   "metadata": {},
   "outputs": [
    {
     "data": {
      "text/plain": [
       "Rank1    100\n",
       "Rank2     92\n",
       "Rank3     89\n",
       "Rank4     85\n",
       "Rank5     80\n",
       "dtype: int64"
      ]
     },
     "execution_count": 64,
     "metadata": {},
     "output_type": "execute_result"
    }
   ],
   "source": [
    "marks['Rank1'] = 100\n",
    "marks"
   ]
  },
  {
   "cell_type": "code",
   "execution_count": 68,
   "id": "fc5f44ee-71f7-4727-9f99-c705560146fe",
   "metadata": {},
   "outputs": [
    {
     "data": {
      "text/plain": [
       "Rank1    100\n",
       "Rank2     92\n",
       "Rank3     89\n",
       "Rank4     85\n",
       "dtype: int64"
      ]
     },
     "execution_count": 68,
     "metadata": {},
     "output_type": "execute_result"
    }
   ],
   "source": [
    "marks.drop('Rank5')"
   ]
  },
  {
   "cell_type": "code",
   "execution_count": 69,
   "id": "9fcce5bb-d1c8-49a8-ae38-83af670d9bcd",
   "metadata": {},
   "outputs": [
    {
     "data": {
      "text/plain": [
       "446"
      ]
     },
     "execution_count": 69,
     "metadata": {},
     "output_type": "execute_result"
    }
   ],
   "source": [
    "marks.sum()"
   ]
  },
  {
   "cell_type": "markdown",
   "id": "920bd073-ea72-4939-baa0-7e15580683bc",
   "metadata": {},
   "source": [
    "________"
   ]
  },
  {
   "cell_type": "markdown",
   "id": "47367f9f-8dd1-47f8-a312-51ad1ce9bdf4",
   "metadata": {},
   "source": [
    "## Pandas DataFrame"
   ]
  },
  {
   "cell_type": "code",
   "execution_count": null,
   "id": "e1fa2aa6-b3bc-4da8-ab3e-6a2454827c82",
   "metadata": {},
   "outputs": [],
   "source": [
    "1. Creating Pandas DataFrame:\n",
    "● Create a Pandas DataFrame named transactions with the following data:\n",
    "➢ TransactionID: 101, 102, 103, 104, 105, 106, 107, 108, 109, 110\n",
    "➢ ProductCategory: 'Electronics', 'Clothing', 'Electronics', 'Furniture',\n",
    "'Clothing', 'Electronics', 'Furniture', 'Clothing', 'Furniture', 'Electronics'\n",
    "➢ Region: 'North', 'South', 'North', 'East', 'West', 'North', 'East', 'West',\n",
    "'South', 'North'\n",
    "➢ Amount: 200, 150, 300, 450, 200, 250, 300, 180, 350, 400"
   ]
  },
  {
   "cell_type": "code",
   "execution_count": 80,
   "id": "93407bc7-0d77-487b-8103-4357cd967822",
   "metadata": {},
   "outputs": [],
   "source": [
    "data = {  'TransactionID': [101, 102, 103, 104, 105, 106, 107, 108, 109, 110], \n",
    "        'ProductCategory' : ['Electronics', 'Clothing', 'Electronics', 'Furniture',\n",
    "'Clothing', 'Electronics', 'Furniture', 'Clothing', 'Furniture', 'Electronics'], \n",
    " 'Region': ['North', 'South', 'North', 'East', 'West', 'North', 'East', 'West',\n",
    "'South', 'North'],\n",
    "        'Amount': [200, 150, 300, 450, 200, 250, 300, 180, 350, 400] }"
   ]
  },
  {
   "cell_type": "code",
   "execution_count": 86,
   "id": "4753b1c3-1cf4-4e14-b0a8-943dc547bf18",
   "metadata": {},
   "outputs": [
    {
     "data": {
      "text/html": [
       "<div>\n",
       "<style scoped>\n",
       "    .dataframe tbody tr th:only-of-type {\n",
       "        vertical-align: middle;\n",
       "    }\n",
       "\n",
       "    .dataframe tbody tr th {\n",
       "        vertical-align: top;\n",
       "    }\n",
       "\n",
       "    .dataframe thead th {\n",
       "        text-align: right;\n",
       "    }\n",
       "</style>\n",
       "<table border=\"1\" class=\"dataframe\">\n",
       "  <thead>\n",
       "    <tr style=\"text-align: right;\">\n",
       "      <th></th>\n",
       "      <th>TransactionID</th>\n",
       "      <th>ProductCategory</th>\n",
       "      <th>Region</th>\n",
       "      <th>Amount</th>\n",
       "    </tr>\n",
       "  </thead>\n",
       "  <tbody>\n",
       "    <tr>\n",
       "      <th>0</th>\n",
       "      <td>101</td>\n",
       "      <td>Electronics</td>\n",
       "      <td>North</td>\n",
       "      <td>200</td>\n",
       "    </tr>\n",
       "    <tr>\n",
       "      <th>1</th>\n",
       "      <td>102</td>\n",
       "      <td>Clothing</td>\n",
       "      <td>South</td>\n",
       "      <td>150</td>\n",
       "    </tr>\n",
       "    <tr>\n",
       "      <th>2</th>\n",
       "      <td>103</td>\n",
       "      <td>Electronics</td>\n",
       "      <td>North</td>\n",
       "      <td>300</td>\n",
       "    </tr>\n",
       "    <tr>\n",
       "      <th>3</th>\n",
       "      <td>104</td>\n",
       "      <td>Furniture</td>\n",
       "      <td>East</td>\n",
       "      <td>450</td>\n",
       "    </tr>\n",
       "    <tr>\n",
       "      <th>4</th>\n",
       "      <td>105</td>\n",
       "      <td>Clothing</td>\n",
       "      <td>West</td>\n",
       "      <td>200</td>\n",
       "    </tr>\n",
       "    <tr>\n",
       "      <th>5</th>\n",
       "      <td>106</td>\n",
       "      <td>Electronics</td>\n",
       "      <td>North</td>\n",
       "      <td>250</td>\n",
       "    </tr>\n",
       "    <tr>\n",
       "      <th>6</th>\n",
       "      <td>107</td>\n",
       "      <td>Furniture</td>\n",
       "      <td>East</td>\n",
       "      <td>300</td>\n",
       "    </tr>\n",
       "    <tr>\n",
       "      <th>7</th>\n",
       "      <td>108</td>\n",
       "      <td>Clothing</td>\n",
       "      <td>West</td>\n",
       "      <td>180</td>\n",
       "    </tr>\n",
       "    <tr>\n",
       "      <th>8</th>\n",
       "      <td>109</td>\n",
       "      <td>Furniture</td>\n",
       "      <td>South</td>\n",
       "      <td>350</td>\n",
       "    </tr>\n",
       "    <tr>\n",
       "      <th>9</th>\n",
       "      <td>110</td>\n",
       "      <td>Electronics</td>\n",
       "      <td>North</td>\n",
       "      <td>400</td>\n",
       "    </tr>\n",
       "  </tbody>\n",
       "</table>\n",
       "</div>"
      ],
      "text/plain": [
       "   TransactionID ProductCategory Region  Amount\n",
       "0            101     Electronics  North     200\n",
       "1            102        Clothing  South     150\n",
       "2            103     Electronics  North     300\n",
       "3            104       Furniture   East     450\n",
       "4            105        Clothing   West     200\n",
       "5            106     Electronics  North     250\n",
       "6            107       Furniture   East     300\n",
       "7            108        Clothing   West     180\n",
       "8            109       Furniture  South     350\n",
       "9            110     Electronics  North     400"
      ]
     },
     "execution_count": 86,
     "metadata": {},
     "output_type": "execute_result"
    }
   ],
   "source": [
    "transactions = pd.DataFrame(data )\n",
    "transactions"
   ]
  },
  {
   "cell_type": "code",
   "execution_count": 88,
   "id": "2ac9dd78-b564-4347-8143-388fe3a7c945",
   "metadata": {},
   "outputs": [
    {
     "data": {
      "text/html": [
       "<div>\n",
       "<style scoped>\n",
       "    .dataframe tbody tr th:only-of-type {\n",
       "        vertical-align: middle;\n",
       "    }\n",
       "\n",
       "    .dataframe tbody tr th {\n",
       "        vertical-align: top;\n",
       "    }\n",
       "\n",
       "    .dataframe thead th {\n",
       "        text-align: right;\n",
       "    }\n",
       "</style>\n",
       "<table border=\"1\" class=\"dataframe\">\n",
       "  <thead>\n",
       "    <tr style=\"text-align: right;\">\n",
       "      <th></th>\n",
       "      <th>ProductCategory</th>\n",
       "      <th>Region</th>\n",
       "      <th>Amount</th>\n",
       "    </tr>\n",
       "    <tr>\n",
       "      <th>TransactionID</th>\n",
       "      <th></th>\n",
       "      <th></th>\n",
       "      <th></th>\n",
       "    </tr>\n",
       "  </thead>\n",
       "  <tbody>\n",
       "    <tr>\n",
       "      <th>101</th>\n",
       "      <td>Electronics</td>\n",
       "      <td>North</td>\n",
       "      <td>200</td>\n",
       "    </tr>\n",
       "    <tr>\n",
       "      <th>102</th>\n",
       "      <td>Clothing</td>\n",
       "      <td>South</td>\n",
       "      <td>150</td>\n",
       "    </tr>\n",
       "    <tr>\n",
       "      <th>103</th>\n",
       "      <td>Electronics</td>\n",
       "      <td>North</td>\n",
       "      <td>300</td>\n",
       "    </tr>\n",
       "    <tr>\n",
       "      <th>104</th>\n",
       "      <td>Furniture</td>\n",
       "      <td>East</td>\n",
       "      <td>450</td>\n",
       "    </tr>\n",
       "    <tr>\n",
       "      <th>105</th>\n",
       "      <td>Clothing</td>\n",
       "      <td>West</td>\n",
       "      <td>200</td>\n",
       "    </tr>\n",
       "    <tr>\n",
       "      <th>106</th>\n",
       "      <td>Electronics</td>\n",
       "      <td>North</td>\n",
       "      <td>250</td>\n",
       "    </tr>\n",
       "    <tr>\n",
       "      <th>107</th>\n",
       "      <td>Furniture</td>\n",
       "      <td>East</td>\n",
       "      <td>300</td>\n",
       "    </tr>\n",
       "    <tr>\n",
       "      <th>108</th>\n",
       "      <td>Clothing</td>\n",
       "      <td>West</td>\n",
       "      <td>180</td>\n",
       "    </tr>\n",
       "    <tr>\n",
       "      <th>109</th>\n",
       "      <td>Furniture</td>\n",
       "      <td>South</td>\n",
       "      <td>350</td>\n",
       "    </tr>\n",
       "    <tr>\n",
       "      <th>110</th>\n",
       "      <td>Electronics</td>\n",
       "      <td>North</td>\n",
       "      <td>400</td>\n",
       "    </tr>\n",
       "  </tbody>\n",
       "</table>\n",
       "</div>"
      ],
      "text/plain": [
       "              ProductCategory Region  Amount\n",
       "TransactionID                               \n",
       "101               Electronics  North     200\n",
       "102                  Clothing  South     150\n",
       "103               Electronics  North     300\n",
       "104                 Furniture   East     450\n",
       "105                  Clothing   West     200\n",
       "106               Electronics  North     250\n",
       "107                 Furniture   East     300\n",
       "108                  Clothing   West     180\n",
       "109                 Furniture  South     350\n",
       "110               Electronics  North     400"
      ]
     },
     "execution_count": 88,
     "metadata": {},
     "output_type": "execute_result"
    }
   ],
   "source": [
    "transactions.set_index('TransactionID')"
   ]
  },
  {
   "cell_type": "markdown",
   "id": "f0609a95-308c-4dae-ba60-34b08f137f46",
   "metadata": {},
   "source": [
    "__________"
   ]
  },
  {
   "cell_type": "code",
   "execution_count": null,
   "id": "0e59a489-ae72-4d18-86cd-216d883bd8ef",
   "metadata": {},
   "outputs": [],
   "source": [
    "2. Data Exploration:\n",
    "● Display the transactions DataFrame and its basic information, including head, tail, shape, column names, and data types.\n",
    "● Display only the 'ProductCategory' and 'Amount' columns.\n",
    "● Retrieve the last 3 columns of the DataFrame using iloc or loc.\n",
    "● Filter rows where the 'Region' is 'North' and 'Amount' is greater than 200.\n",
    "● Find the value counts for the 'ProductCategory' column.\n",
    "● Find the unique values in the 'Region' column.\n",
    "● Group by 'Region' and find the mean amount for each region."
   ]
  },
  {
   "cell_type": "code",
   "execution_count": 87,
   "id": "db7f6806-d681-4c1a-b84b-c3026dfd9096",
   "metadata": {},
   "outputs": [
    {
     "data": {
      "text/html": [
       "<div>\n",
       "<style scoped>\n",
       "    .dataframe tbody tr th:only-of-type {\n",
       "        vertical-align: middle;\n",
       "    }\n",
       "\n",
       "    .dataframe tbody tr th {\n",
       "        vertical-align: top;\n",
       "    }\n",
       "\n",
       "    .dataframe thead th {\n",
       "        text-align: right;\n",
       "    }\n",
       "</style>\n",
       "<table border=\"1\" class=\"dataframe\">\n",
       "  <thead>\n",
       "    <tr style=\"text-align: right;\">\n",
       "      <th></th>\n",
       "      <th>TransactionID</th>\n",
       "      <th>ProductCategory</th>\n",
       "      <th>Region</th>\n",
       "      <th>Amount</th>\n",
       "    </tr>\n",
       "  </thead>\n",
       "  <tbody>\n",
       "    <tr>\n",
       "      <th>0</th>\n",
       "      <td>101</td>\n",
       "      <td>Electronics</td>\n",
       "      <td>North</td>\n",
       "      <td>200</td>\n",
       "    </tr>\n",
       "    <tr>\n",
       "      <th>1</th>\n",
       "      <td>102</td>\n",
       "      <td>Clothing</td>\n",
       "      <td>South</td>\n",
       "      <td>150</td>\n",
       "    </tr>\n",
       "    <tr>\n",
       "      <th>2</th>\n",
       "      <td>103</td>\n",
       "      <td>Electronics</td>\n",
       "      <td>North</td>\n",
       "      <td>300</td>\n",
       "    </tr>\n",
       "    <tr>\n",
       "      <th>3</th>\n",
       "      <td>104</td>\n",
       "      <td>Furniture</td>\n",
       "      <td>East</td>\n",
       "      <td>450</td>\n",
       "    </tr>\n",
       "    <tr>\n",
       "      <th>4</th>\n",
       "      <td>105</td>\n",
       "      <td>Clothing</td>\n",
       "      <td>West</td>\n",
       "      <td>200</td>\n",
       "    </tr>\n",
       "  </tbody>\n",
       "</table>\n",
       "</div>"
      ],
      "text/plain": [
       "   TransactionID ProductCategory Region  Amount\n",
       "0            101     Electronics  North     200\n",
       "1            102        Clothing  South     150\n",
       "2            103     Electronics  North     300\n",
       "3            104       Furniture   East     450\n",
       "4            105        Clothing   West     200"
      ]
     },
     "execution_count": 87,
     "metadata": {},
     "output_type": "execute_result"
    }
   ],
   "source": [
    "transactions.head()"
   ]
  },
  {
   "cell_type": "code",
   "execution_count": 89,
   "id": "2d9e29a3-1c67-4ab3-b986-bc74603aea84",
   "metadata": {},
   "outputs": [
    {
     "data": {
      "text/html": [
       "<div>\n",
       "<style scoped>\n",
       "    .dataframe tbody tr th:only-of-type {\n",
       "        vertical-align: middle;\n",
       "    }\n",
       "\n",
       "    .dataframe tbody tr th {\n",
       "        vertical-align: top;\n",
       "    }\n",
       "\n",
       "    .dataframe thead th {\n",
       "        text-align: right;\n",
       "    }\n",
       "</style>\n",
       "<table border=\"1\" class=\"dataframe\">\n",
       "  <thead>\n",
       "    <tr style=\"text-align: right;\">\n",
       "      <th></th>\n",
       "      <th>TransactionID</th>\n",
       "      <th>ProductCategory</th>\n",
       "      <th>Region</th>\n",
       "      <th>Amount</th>\n",
       "    </tr>\n",
       "  </thead>\n",
       "  <tbody>\n",
       "    <tr>\n",
       "      <th>5</th>\n",
       "      <td>106</td>\n",
       "      <td>Electronics</td>\n",
       "      <td>North</td>\n",
       "      <td>250</td>\n",
       "    </tr>\n",
       "    <tr>\n",
       "      <th>6</th>\n",
       "      <td>107</td>\n",
       "      <td>Furniture</td>\n",
       "      <td>East</td>\n",
       "      <td>300</td>\n",
       "    </tr>\n",
       "    <tr>\n",
       "      <th>7</th>\n",
       "      <td>108</td>\n",
       "      <td>Clothing</td>\n",
       "      <td>West</td>\n",
       "      <td>180</td>\n",
       "    </tr>\n",
       "    <tr>\n",
       "      <th>8</th>\n",
       "      <td>109</td>\n",
       "      <td>Furniture</td>\n",
       "      <td>South</td>\n",
       "      <td>350</td>\n",
       "    </tr>\n",
       "    <tr>\n",
       "      <th>9</th>\n",
       "      <td>110</td>\n",
       "      <td>Electronics</td>\n",
       "      <td>North</td>\n",
       "      <td>400</td>\n",
       "    </tr>\n",
       "  </tbody>\n",
       "</table>\n",
       "</div>"
      ],
      "text/plain": [
       "   TransactionID ProductCategory Region  Amount\n",
       "5            106     Electronics  North     250\n",
       "6            107       Furniture   East     300\n",
       "7            108        Clothing   West     180\n",
       "8            109       Furniture  South     350\n",
       "9            110     Electronics  North     400"
      ]
     },
     "execution_count": 89,
     "metadata": {},
     "output_type": "execute_result"
    }
   ],
   "source": [
    "transactions.tail()"
   ]
  },
  {
   "cell_type": "code",
   "execution_count": 91,
   "id": "4a1a7c1e-6e92-4d9d-b830-99f1032ab01e",
   "metadata": {},
   "outputs": [
    {
     "data": {
      "text/plain": [
       "(10, 4)"
      ]
     },
     "execution_count": 91,
     "metadata": {},
     "output_type": "execute_result"
    }
   ],
   "source": [
    "transactions.shape"
   ]
  },
  {
   "cell_type": "code",
   "execution_count": 93,
   "id": "8ecb287f-c2f9-44c1-9695-4fcb6243c210",
   "metadata": {},
   "outputs": [
    {
     "data": {
      "text/plain": [
       "Index(['TransactionID', 'ProductCategory', 'Region', 'Amount'], dtype='object')"
      ]
     },
     "execution_count": 93,
     "metadata": {},
     "output_type": "execute_result"
    }
   ],
   "source": [
    "transactions.columns"
   ]
  },
  {
   "cell_type": "code",
   "execution_count": 94,
   "id": "fdc82300-ecc0-4ad5-86b1-932328024a25",
   "metadata": {},
   "outputs": [
    {
     "data": {
      "text/plain": [
       "TransactionID       int64\n",
       "ProductCategory    object\n",
       "Region             object\n",
       "Amount              int64\n",
       "dtype: object"
      ]
     },
     "execution_count": 94,
     "metadata": {},
     "output_type": "execute_result"
    }
   ],
   "source": [
    "transactions.dtypes"
   ]
  },
  {
   "cell_type": "markdown",
   "id": "e2320a4a-32a1-46a2-b14e-8eee7950aca1",
   "metadata": {},
   "source": [
    "__________________"
   ]
  },
  {
   "cell_type": "code",
   "execution_count": 105,
   "id": "5d715b77-00d9-46a6-aaf2-47b93e25ff7f",
   "metadata": {},
   "outputs": [
    {
     "data": {
      "text/html": [
       "<div>\n",
       "<style scoped>\n",
       "    .dataframe tbody tr th:only-of-type {\n",
       "        vertical-align: middle;\n",
       "    }\n",
       "\n",
       "    .dataframe tbody tr th {\n",
       "        vertical-align: top;\n",
       "    }\n",
       "\n",
       "    .dataframe thead th {\n",
       "        text-align: right;\n",
       "    }\n",
       "</style>\n",
       "<table border=\"1\" class=\"dataframe\">\n",
       "  <thead>\n",
       "    <tr style=\"text-align: right;\">\n",
       "      <th></th>\n",
       "      <th>ProductCategory</th>\n",
       "      <th>Amount</th>\n",
       "    </tr>\n",
       "  </thead>\n",
       "  <tbody>\n",
       "    <tr>\n",
       "      <th>0</th>\n",
       "      <td>Electronics</td>\n",
       "      <td>200</td>\n",
       "    </tr>\n",
       "    <tr>\n",
       "      <th>1</th>\n",
       "      <td>Clothing</td>\n",
       "      <td>150</td>\n",
       "    </tr>\n",
       "    <tr>\n",
       "      <th>2</th>\n",
       "      <td>Electronics</td>\n",
       "      <td>300</td>\n",
       "    </tr>\n",
       "    <tr>\n",
       "      <th>3</th>\n",
       "      <td>Furniture</td>\n",
       "      <td>450</td>\n",
       "    </tr>\n",
       "    <tr>\n",
       "      <th>4</th>\n",
       "      <td>Clothing</td>\n",
       "      <td>200</td>\n",
       "    </tr>\n",
       "    <tr>\n",
       "      <th>5</th>\n",
       "      <td>Electronics</td>\n",
       "      <td>250</td>\n",
       "    </tr>\n",
       "    <tr>\n",
       "      <th>6</th>\n",
       "      <td>Furniture</td>\n",
       "      <td>300</td>\n",
       "    </tr>\n",
       "    <tr>\n",
       "      <th>7</th>\n",
       "      <td>Clothing</td>\n",
       "      <td>180</td>\n",
       "    </tr>\n",
       "    <tr>\n",
       "      <th>8</th>\n",
       "      <td>Furniture</td>\n",
       "      <td>350</td>\n",
       "    </tr>\n",
       "    <tr>\n",
       "      <th>9</th>\n",
       "      <td>Electronics</td>\n",
       "      <td>400</td>\n",
       "    </tr>\n",
       "  </tbody>\n",
       "</table>\n",
       "</div>"
      ],
      "text/plain": [
       "  ProductCategory  Amount\n",
       "0     Electronics     200\n",
       "1        Clothing     150\n",
       "2     Electronics     300\n",
       "3       Furniture     450\n",
       "4        Clothing     200\n",
       "5     Electronics     250\n",
       "6       Furniture     300\n",
       "7        Clothing     180\n",
       "8       Furniture     350\n",
       "9     Electronics     400"
      ]
     },
     "execution_count": 105,
     "metadata": {},
     "output_type": "execute_result"
    }
   ],
   "source": [
    "transactions[['ProductCategory', 'Amount']]"
   ]
  },
  {
   "cell_type": "code",
   "execution_count": 106,
   "id": "cb149cac-4fc6-4fd5-b4ab-02d6048a839e",
   "metadata": {},
   "outputs": [
    {
     "data": {
      "text/html": [
       "<div>\n",
       "<style scoped>\n",
       "    .dataframe tbody tr th:only-of-type {\n",
       "        vertical-align: middle;\n",
       "    }\n",
       "\n",
       "    .dataframe tbody tr th {\n",
       "        vertical-align: top;\n",
       "    }\n",
       "\n",
       "    .dataframe thead th {\n",
       "        text-align: right;\n",
       "    }\n",
       "</style>\n",
       "<table border=\"1\" class=\"dataframe\">\n",
       "  <thead>\n",
       "    <tr style=\"text-align: right;\">\n",
       "      <th></th>\n",
       "      <th>TransactionID</th>\n",
       "      <th>ProductCategory</th>\n",
       "      <th>Region</th>\n",
       "      <th>Amount</th>\n",
       "    </tr>\n",
       "  </thead>\n",
       "  <tbody>\n",
       "    <tr>\n",
       "      <th>0</th>\n",
       "      <td>101</td>\n",
       "      <td>Electronics</td>\n",
       "      <td>North</td>\n",
       "      <td>200</td>\n",
       "    </tr>\n",
       "    <tr>\n",
       "      <th>1</th>\n",
       "      <td>102</td>\n",
       "      <td>Clothing</td>\n",
       "      <td>South</td>\n",
       "      <td>150</td>\n",
       "    </tr>\n",
       "    <tr>\n",
       "      <th>2</th>\n",
       "      <td>103</td>\n",
       "      <td>Electronics</td>\n",
       "      <td>North</td>\n",
       "      <td>300</td>\n",
       "    </tr>\n",
       "    <tr>\n",
       "      <th>3</th>\n",
       "      <td>104</td>\n",
       "      <td>Furniture</td>\n",
       "      <td>East</td>\n",
       "      <td>450</td>\n",
       "    </tr>\n",
       "    <tr>\n",
       "      <th>4</th>\n",
       "      <td>105</td>\n",
       "      <td>Clothing</td>\n",
       "      <td>West</td>\n",
       "      <td>200</td>\n",
       "    </tr>\n",
       "    <tr>\n",
       "      <th>5</th>\n",
       "      <td>106</td>\n",
       "      <td>Electronics</td>\n",
       "      <td>North</td>\n",
       "      <td>250</td>\n",
       "    </tr>\n",
       "    <tr>\n",
       "      <th>6</th>\n",
       "      <td>107</td>\n",
       "      <td>Furniture</td>\n",
       "      <td>East</td>\n",
       "      <td>300</td>\n",
       "    </tr>\n",
       "    <tr>\n",
       "      <th>7</th>\n",
       "      <td>108</td>\n",
       "      <td>Clothing</td>\n",
       "      <td>West</td>\n",
       "      <td>180</td>\n",
       "    </tr>\n",
       "    <tr>\n",
       "      <th>8</th>\n",
       "      <td>109</td>\n",
       "      <td>Furniture</td>\n",
       "      <td>South</td>\n",
       "      <td>350</td>\n",
       "    </tr>\n",
       "    <tr>\n",
       "      <th>9</th>\n",
       "      <td>110</td>\n",
       "      <td>Electronics</td>\n",
       "      <td>North</td>\n",
       "      <td>400</td>\n",
       "    </tr>\n",
       "  </tbody>\n",
       "</table>\n",
       "</div>"
      ],
      "text/plain": [
       "   TransactionID ProductCategory Region  Amount\n",
       "0            101     Electronics  North     200\n",
       "1            102        Clothing  South     150\n",
       "2            103     Electronics  North     300\n",
       "3            104       Furniture   East     450\n",
       "4            105        Clothing   West     200\n",
       "5            106     Electronics  North     250\n",
       "6            107       Furniture   East     300\n",
       "7            108        Clothing   West     180\n",
       "8            109       Furniture  South     350\n",
       "9            110     Electronics  North     400"
      ]
     },
     "execution_count": 106,
     "metadata": {},
     "output_type": "execute_result"
    }
   ],
   "source": [
    "transactions"
   ]
  },
  {
   "cell_type": "code",
   "execution_count": 114,
   "id": "31b5c733-c56d-4def-88ce-cfffd9c46f65",
   "metadata": {},
   "outputs": [
    {
     "data": {
      "text/html": [
       "<div>\n",
       "<style scoped>\n",
       "    .dataframe tbody tr th:only-of-type {\n",
       "        vertical-align: middle;\n",
       "    }\n",
       "\n",
       "    .dataframe tbody tr th {\n",
       "        vertical-align: top;\n",
       "    }\n",
       "\n",
       "    .dataframe thead th {\n",
       "        text-align: right;\n",
       "    }\n",
       "</style>\n",
       "<table border=\"1\" class=\"dataframe\">\n",
       "  <thead>\n",
       "    <tr style=\"text-align: right;\">\n",
       "      <th></th>\n",
       "      <th>TransactionID</th>\n",
       "      <th>ProductCategory</th>\n",
       "      <th>Region</th>\n",
       "      <th>Amount</th>\n",
       "    </tr>\n",
       "  </thead>\n",
       "  <tbody>\n",
       "    <tr>\n",
       "      <th>1</th>\n",
       "      <td>102</td>\n",
       "      <td>Clothing</td>\n",
       "      <td>South</td>\n",
       "      <td>150</td>\n",
       "    </tr>\n",
       "    <tr>\n",
       "      <th>2</th>\n",
       "      <td>103</td>\n",
       "      <td>Electronics</td>\n",
       "      <td>North</td>\n",
       "      <td>300</td>\n",
       "    </tr>\n",
       "    <tr>\n",
       "      <th>3</th>\n",
       "      <td>104</td>\n",
       "      <td>Furniture</td>\n",
       "      <td>East</td>\n",
       "      <td>450</td>\n",
       "    </tr>\n",
       "  </tbody>\n",
       "</table>\n",
       "</div>"
      ],
      "text/plain": [
       "   TransactionID ProductCategory Region  Amount\n",
       "1            102        Clothing  South     150\n",
       "2            103     Electronics  North     300\n",
       "3            104       Furniture   East     450"
      ]
     },
     "execution_count": 114,
     "metadata": {},
     "output_type": "execute_result"
    }
   ],
   "source": [
    "transactions.iloc[1:4]"
   ]
  },
  {
   "cell_type": "code",
   "execution_count": 115,
   "id": "8bf41d7d-9b73-4585-8529-c53beccd6928",
   "metadata": {},
   "outputs": [
    {
     "data": {
      "text/html": [
       "<div>\n",
       "<style scoped>\n",
       "    .dataframe tbody tr th:only-of-type {\n",
       "        vertical-align: middle;\n",
       "    }\n",
       "\n",
       "    .dataframe tbody tr th {\n",
       "        vertical-align: top;\n",
       "    }\n",
       "\n",
       "    .dataframe thead th {\n",
       "        text-align: right;\n",
       "    }\n",
       "</style>\n",
       "<table border=\"1\" class=\"dataframe\">\n",
       "  <thead>\n",
       "    <tr style=\"text-align: right;\">\n",
       "      <th></th>\n",
       "      <th>ProductCategory</th>\n",
       "      <th>Region</th>\n",
       "      <th>Amount</th>\n",
       "    </tr>\n",
       "  </thead>\n",
       "  <tbody>\n",
       "    <tr>\n",
       "      <th>0</th>\n",
       "      <td>Electronics</td>\n",
       "      <td>North</td>\n",
       "      <td>200</td>\n",
       "    </tr>\n",
       "    <tr>\n",
       "      <th>1</th>\n",
       "      <td>Clothing</td>\n",
       "      <td>South</td>\n",
       "      <td>150</td>\n",
       "    </tr>\n",
       "    <tr>\n",
       "      <th>2</th>\n",
       "      <td>Electronics</td>\n",
       "      <td>North</td>\n",
       "      <td>300</td>\n",
       "    </tr>\n",
       "    <tr>\n",
       "      <th>3</th>\n",
       "      <td>Furniture</td>\n",
       "      <td>East</td>\n",
       "      <td>450</td>\n",
       "    </tr>\n",
       "    <tr>\n",
       "      <th>4</th>\n",
       "      <td>Clothing</td>\n",
       "      <td>West</td>\n",
       "      <td>200</td>\n",
       "    </tr>\n",
       "    <tr>\n",
       "      <th>5</th>\n",
       "      <td>Electronics</td>\n",
       "      <td>North</td>\n",
       "      <td>250</td>\n",
       "    </tr>\n",
       "    <tr>\n",
       "      <th>6</th>\n",
       "      <td>Furniture</td>\n",
       "      <td>East</td>\n",
       "      <td>300</td>\n",
       "    </tr>\n",
       "    <tr>\n",
       "      <th>7</th>\n",
       "      <td>Clothing</td>\n",
       "      <td>West</td>\n",
       "      <td>180</td>\n",
       "    </tr>\n",
       "    <tr>\n",
       "      <th>8</th>\n",
       "      <td>Furniture</td>\n",
       "      <td>South</td>\n",
       "      <td>350</td>\n",
       "    </tr>\n",
       "    <tr>\n",
       "      <th>9</th>\n",
       "      <td>Electronics</td>\n",
       "      <td>North</td>\n",
       "      <td>400</td>\n",
       "    </tr>\n",
       "  </tbody>\n",
       "</table>\n",
       "</div>"
      ],
      "text/plain": [
       "  ProductCategory Region  Amount\n",
       "0     Electronics  North     200\n",
       "1        Clothing  South     150\n",
       "2     Electronics  North     300\n",
       "3       Furniture   East     450\n",
       "4        Clothing   West     200\n",
       "5     Electronics  North     250\n",
       "6       Furniture   East     300\n",
       "7        Clothing   West     180\n",
       "8       Furniture  South     350\n",
       "9     Electronics  North     400"
      ]
     },
     "execution_count": 115,
     "metadata": {},
     "output_type": "execute_result"
    }
   ],
   "source": [
    "transactions.loc[:, ['ProductCategory', 'Region', 'Amount']]"
   ]
  },
  {
   "cell_type": "code",
   "execution_count": 116,
   "id": "c94315ef-26ea-4637-8a23-150e53c8b0d8",
   "metadata": {},
   "outputs": [
    {
     "data": {
      "text/html": [
       "<div>\n",
       "<style scoped>\n",
       "    .dataframe tbody tr th:only-of-type {\n",
       "        vertical-align: middle;\n",
       "    }\n",
       "\n",
       "    .dataframe tbody tr th {\n",
       "        vertical-align: top;\n",
       "    }\n",
       "\n",
       "    .dataframe thead th {\n",
       "        text-align: right;\n",
       "    }\n",
       "</style>\n",
       "<table border=\"1\" class=\"dataframe\">\n",
       "  <thead>\n",
       "    <tr style=\"text-align: right;\">\n",
       "      <th></th>\n",
       "      <th>ProductCategory</th>\n",
       "      <th>Region</th>\n",
       "      <th>Amount</th>\n",
       "    </tr>\n",
       "  </thead>\n",
       "  <tbody>\n",
       "    <tr>\n",
       "      <th>0</th>\n",
       "      <td>Electronics</td>\n",
       "      <td>North</td>\n",
       "      <td>200</td>\n",
       "    </tr>\n",
       "    <tr>\n",
       "      <th>1</th>\n",
       "      <td>Clothing</td>\n",
       "      <td>South</td>\n",
       "      <td>150</td>\n",
       "    </tr>\n",
       "    <tr>\n",
       "      <th>2</th>\n",
       "      <td>Electronics</td>\n",
       "      <td>North</td>\n",
       "      <td>300</td>\n",
       "    </tr>\n",
       "    <tr>\n",
       "      <th>3</th>\n",
       "      <td>Furniture</td>\n",
       "      <td>East</td>\n",
       "      <td>450</td>\n",
       "    </tr>\n",
       "    <tr>\n",
       "      <th>4</th>\n",
       "      <td>Clothing</td>\n",
       "      <td>West</td>\n",
       "      <td>200</td>\n",
       "    </tr>\n",
       "    <tr>\n",
       "      <th>5</th>\n",
       "      <td>Electronics</td>\n",
       "      <td>North</td>\n",
       "      <td>250</td>\n",
       "    </tr>\n",
       "    <tr>\n",
       "      <th>6</th>\n",
       "      <td>Furniture</td>\n",
       "      <td>East</td>\n",
       "      <td>300</td>\n",
       "    </tr>\n",
       "    <tr>\n",
       "      <th>7</th>\n",
       "      <td>Clothing</td>\n",
       "      <td>West</td>\n",
       "      <td>180</td>\n",
       "    </tr>\n",
       "    <tr>\n",
       "      <th>8</th>\n",
       "      <td>Furniture</td>\n",
       "      <td>South</td>\n",
       "      <td>350</td>\n",
       "    </tr>\n",
       "    <tr>\n",
       "      <th>9</th>\n",
       "      <td>Electronics</td>\n",
       "      <td>North</td>\n",
       "      <td>400</td>\n",
       "    </tr>\n",
       "  </tbody>\n",
       "</table>\n",
       "</div>"
      ],
      "text/plain": [
       "  ProductCategory Region  Amount\n",
       "0     Electronics  North     200\n",
       "1        Clothing  South     150\n",
       "2     Electronics  North     300\n",
       "3       Furniture   East     450\n",
       "4        Clothing   West     200\n",
       "5     Electronics  North     250\n",
       "6       Furniture   East     300\n",
       "7        Clothing   West     180\n",
       "8       Furniture  South     350\n",
       "9     Electronics  North     400"
      ]
     },
     "execution_count": 116,
     "metadata": {},
     "output_type": "execute_result"
    }
   ],
   "source": [
    "transactions.iloc[:, -3:]"
   ]
  },
  {
   "cell_type": "code",
   "execution_count": 122,
   "id": "070b7a42-ab9a-4a39-a0db-cf3a07bb5fc2",
   "metadata": {},
   "outputs": [
    {
     "data": {
      "text/html": [
       "<div>\n",
       "<style scoped>\n",
       "    .dataframe tbody tr th:only-of-type {\n",
       "        vertical-align: middle;\n",
       "    }\n",
       "\n",
       "    .dataframe tbody tr th {\n",
       "        vertical-align: top;\n",
       "    }\n",
       "\n",
       "    .dataframe thead th {\n",
       "        text-align: right;\n",
       "    }\n",
       "</style>\n",
       "<table border=\"1\" class=\"dataframe\">\n",
       "  <thead>\n",
       "    <tr style=\"text-align: right;\">\n",
       "      <th></th>\n",
       "      <th>TransactionID</th>\n",
       "      <th>ProductCategory</th>\n",
       "      <th>Region</th>\n",
       "      <th>Amount</th>\n",
       "    </tr>\n",
       "  </thead>\n",
       "  <tbody>\n",
       "    <tr>\n",
       "      <th>2</th>\n",
       "      <td>103</td>\n",
       "      <td>Electronics</td>\n",
       "      <td>North</td>\n",
       "      <td>300</td>\n",
       "    </tr>\n",
       "    <tr>\n",
       "      <th>5</th>\n",
       "      <td>106</td>\n",
       "      <td>Electronics</td>\n",
       "      <td>North</td>\n",
       "      <td>250</td>\n",
       "    </tr>\n",
       "    <tr>\n",
       "      <th>9</th>\n",
       "      <td>110</td>\n",
       "      <td>Electronics</td>\n",
       "      <td>North</td>\n",
       "      <td>400</td>\n",
       "    </tr>\n",
       "  </tbody>\n",
       "</table>\n",
       "</div>"
      ],
      "text/plain": [
       "   TransactionID ProductCategory Region  Amount\n",
       "2            103     Electronics  North     300\n",
       "5            106     Electronics  North     250\n",
       "9            110     Electronics  North     400"
      ]
     },
     "execution_count": 122,
     "metadata": {},
     "output_type": "execute_result"
    }
   ],
   "source": [
    "transactions[(transactions['Region'] == 'North') & (transactions['Amount'] > 200)]"
   ]
  },
  {
   "cell_type": "markdown",
   "id": "9e245744-8ee8-46c8-aea2-6258a3591289",
   "metadata": {},
   "source": [
    "### ● Find the value counts for the 'ProductCategory' column."
   ]
  },
  {
   "cell_type": "code",
   "execution_count": 124,
   "id": "c78ac43f-77c9-4488-a38f-a3d1fa049c45",
   "metadata": {},
   "outputs": [
    {
     "data": {
      "text/plain": [
       "ProductCategory\n",
       "Electronics    4\n",
       "Clothing       3\n",
       "Furniture      3\n",
       "Name: count, dtype: int64"
      ]
     },
     "execution_count": 124,
     "metadata": {},
     "output_type": "execute_result"
    }
   ],
   "source": [
    "transactions['ProductCategory'].value_counts()"
   ]
  },
  {
   "cell_type": "markdown",
   "id": "6642e9a6-dc0d-4ed7-a427-4369b85b1330",
   "metadata": {},
   "source": [
    "### ● Find the unique values in the 'Region' column."
   ]
  },
  {
   "cell_type": "code",
   "execution_count": 157,
   "id": "996e4223-fad0-4a0a-a7f8-c7f207671924",
   "metadata": {},
   "outputs": [
    {
     "data": {
      "text/plain": [
       "<bound method Series.unique of 0    North\n",
       "1    South\n",
       "2    North\n",
       "3     East\n",
       "4     West\n",
       "5    North\n",
       "6     East\n",
       "7     West\n",
       "8    South\n",
       "9    North\n",
       "Name: Region, dtype: object>"
      ]
     },
     "execution_count": 157,
     "metadata": {},
     "output_type": "execute_result"
    }
   ],
   "source": [
    "transactions['Region'].unique"
   ]
  },
  {
   "cell_type": "markdown",
   "id": "e90ee181-2be3-438c-bccf-353af1e57d4a",
   "metadata": {},
   "source": [
    "### ● Group by 'Region' and find the mean amount for each region."
   ]
  },
  {
   "cell_type": "code",
   "execution_count": 156,
   "id": "00319b7a-2b26-4af2-b7a0-6c2d98ca5b2a",
   "metadata": {},
   "outputs": [
    {
     "data": {
      "text/html": [
       "<div>\n",
       "<style scoped>\n",
       "    .dataframe tbody tr th:only-of-type {\n",
       "        vertical-align: middle;\n",
       "    }\n",
       "\n",
       "    .dataframe tbody tr th {\n",
       "        vertical-align: top;\n",
       "    }\n",
       "\n",
       "    .dataframe thead th {\n",
       "        text-align: right;\n",
       "    }\n",
       "</style>\n",
       "<table border=\"1\" class=\"dataframe\">\n",
       "  <thead>\n",
       "    <tr style=\"text-align: right;\">\n",
       "      <th></th>\n",
       "      <th>TransactionID</th>\n",
       "      <th>Amount</th>\n",
       "    </tr>\n",
       "    <tr>\n",
       "      <th>Region</th>\n",
       "      <th></th>\n",
       "      <th></th>\n",
       "    </tr>\n",
       "  </thead>\n",
       "  <tbody>\n",
       "    <tr>\n",
       "      <th>East</th>\n",
       "      <td>105.5</td>\n",
       "      <td>375.0</td>\n",
       "    </tr>\n",
       "    <tr>\n",
       "      <th>North</th>\n",
       "      <td>105.0</td>\n",
       "      <td>287.5</td>\n",
       "    </tr>\n",
       "    <tr>\n",
       "      <th>South</th>\n",
       "      <td>105.5</td>\n",
       "      <td>250.0</td>\n",
       "    </tr>\n",
       "    <tr>\n",
       "      <th>West</th>\n",
       "      <td>106.5</td>\n",
       "      <td>190.0</td>\n",
       "    </tr>\n",
       "  </tbody>\n",
       "</table>\n",
       "</div>"
      ],
      "text/plain": [
       "        TransactionID  Amount\n",
       "Region                       \n",
       "East            105.5   375.0\n",
       "North           105.0   287.5\n",
       "South           105.5   250.0\n",
       "West            106.5   190.0"
      ]
     },
     "execution_count": 156,
     "metadata": {},
     "output_type": "execute_result"
    }
   ],
   "source": [
    "transactions.groupby(['Region']).mean(numeric_only = True)"
   ]
  },
  {
   "cell_type": "markdown",
   "id": "4c842fa8-ec21-448f-9827-d8fb824e8681",
   "metadata": {},
   "source": [
    "______"
   ]
  },
  {
   "cell_type": "code",
   "execution_count": null,
   "id": "f216bb2d-9fe2-4bc9-906e-359153161c51",
   "metadata": {},
   "outputs": [],
   "source": [
    "3. Manipulating the DataFrame:\n",
    "● Modify the 'Amount' for the transaction with TransactionID 102 to 165.\n",
    "● Add a new column 'Discount' by calculating 10% of the 'Amount'.\n",
    "● Remove the row with TransactionID 109.\n",
    "● Delete the 'Discount' column from the DataFrame."
   ]
  },
  {
   "cell_type": "code",
   "execution_count": 158,
   "id": "fc98a274-5379-49e1-91b0-8d1eab788fba",
   "metadata": {},
   "outputs": [
    {
     "data": {
      "text/html": [
       "<div>\n",
       "<style scoped>\n",
       "    .dataframe tbody tr th:only-of-type {\n",
       "        vertical-align: middle;\n",
       "    }\n",
       "\n",
       "    .dataframe tbody tr th {\n",
       "        vertical-align: top;\n",
       "    }\n",
       "\n",
       "    .dataframe thead th {\n",
       "        text-align: right;\n",
       "    }\n",
       "</style>\n",
       "<table border=\"1\" class=\"dataframe\">\n",
       "  <thead>\n",
       "    <tr style=\"text-align: right;\">\n",
       "      <th></th>\n",
       "      <th>TransactionID</th>\n",
       "      <th>ProductCategory</th>\n",
       "      <th>Region</th>\n",
       "      <th>Amount</th>\n",
       "    </tr>\n",
       "  </thead>\n",
       "  <tbody>\n",
       "    <tr>\n",
       "      <th>0</th>\n",
       "      <td>101</td>\n",
       "      <td>Electronics</td>\n",
       "      <td>North</td>\n",
       "      <td>200</td>\n",
       "    </tr>\n",
       "    <tr>\n",
       "      <th>1</th>\n",
       "      <td>102</td>\n",
       "      <td>Clothing</td>\n",
       "      <td>South</td>\n",
       "      <td>150</td>\n",
       "    </tr>\n",
       "    <tr>\n",
       "      <th>2</th>\n",
       "      <td>103</td>\n",
       "      <td>Electronics</td>\n",
       "      <td>North</td>\n",
       "      <td>300</td>\n",
       "    </tr>\n",
       "    <tr>\n",
       "      <th>3</th>\n",
       "      <td>104</td>\n",
       "      <td>Furniture</td>\n",
       "      <td>East</td>\n",
       "      <td>450</td>\n",
       "    </tr>\n",
       "    <tr>\n",
       "      <th>4</th>\n",
       "      <td>105</td>\n",
       "      <td>Clothing</td>\n",
       "      <td>West</td>\n",
       "      <td>200</td>\n",
       "    </tr>\n",
       "    <tr>\n",
       "      <th>5</th>\n",
       "      <td>106</td>\n",
       "      <td>Electronics</td>\n",
       "      <td>North</td>\n",
       "      <td>250</td>\n",
       "    </tr>\n",
       "    <tr>\n",
       "      <th>6</th>\n",
       "      <td>107</td>\n",
       "      <td>Furniture</td>\n",
       "      <td>East</td>\n",
       "      <td>300</td>\n",
       "    </tr>\n",
       "    <tr>\n",
       "      <th>7</th>\n",
       "      <td>108</td>\n",
       "      <td>Clothing</td>\n",
       "      <td>West</td>\n",
       "      <td>180</td>\n",
       "    </tr>\n",
       "    <tr>\n",
       "      <th>8</th>\n",
       "      <td>109</td>\n",
       "      <td>Furniture</td>\n",
       "      <td>South</td>\n",
       "      <td>350</td>\n",
       "    </tr>\n",
       "    <tr>\n",
       "      <th>9</th>\n",
       "      <td>110</td>\n",
       "      <td>Electronics</td>\n",
       "      <td>North</td>\n",
       "      <td>400</td>\n",
       "    </tr>\n",
       "  </tbody>\n",
       "</table>\n",
       "</div>"
      ],
      "text/plain": [
       "   TransactionID ProductCategory Region  Amount\n",
       "0            101     Electronics  North     200\n",
       "1            102        Clothing  South     150\n",
       "2            103     Electronics  North     300\n",
       "3            104       Furniture   East     450\n",
       "4            105        Clothing   West     200\n",
       "5            106     Electronics  North     250\n",
       "6            107       Furniture   East     300\n",
       "7            108        Clothing   West     180\n",
       "8            109       Furniture  South     350\n",
       "9            110     Electronics  North     400"
      ]
     },
     "execution_count": 158,
     "metadata": {},
     "output_type": "execute_result"
    }
   ],
   "source": [
    "transactions"
   ]
  },
  {
   "cell_type": "code",
   "execution_count": null,
   "id": "d6c031a1-5ab7-46ec-adf5-d11c015fc8bf",
   "metadata": {},
   "outputs": [],
   "source": [
    "● Modify the 'Amount' for the transaction with TransactionID 102 to 165."
   ]
  },
  {
   "cell_type": "code",
   "execution_count": 161,
   "id": "9205b820-9962-4ac6-bc90-5091df7201ca",
   "metadata": {},
   "outputs": [
    {
     "data": {
      "text/html": [
       "<div>\n",
       "<style scoped>\n",
       "    .dataframe tbody tr th:only-of-type {\n",
       "        vertical-align: middle;\n",
       "    }\n",
       "\n",
       "    .dataframe tbody tr th {\n",
       "        vertical-align: top;\n",
       "    }\n",
       "\n",
       "    .dataframe thead th {\n",
       "        text-align: right;\n",
       "    }\n",
       "</style>\n",
       "<table border=\"1\" class=\"dataframe\">\n",
       "  <thead>\n",
       "    <tr style=\"text-align: right;\">\n",
       "      <th></th>\n",
       "      <th>TransactionID</th>\n",
       "      <th>ProductCategory</th>\n",
       "      <th>Region</th>\n",
       "      <th>Amount</th>\n",
       "    </tr>\n",
       "  </thead>\n",
       "  <tbody>\n",
       "    <tr>\n",
       "      <th>0</th>\n",
       "      <td>101.0</td>\n",
       "      <td>Electronics</td>\n",
       "      <td>North</td>\n",
       "      <td>200.0</td>\n",
       "    </tr>\n",
       "    <tr>\n",
       "      <th>1</th>\n",
       "      <td>102.0</td>\n",
       "      <td>Clothing</td>\n",
       "      <td>South</td>\n",
       "      <td>150.0</td>\n",
       "    </tr>\n",
       "    <tr>\n",
       "      <th>2</th>\n",
       "      <td>103.0</td>\n",
       "      <td>Electronics</td>\n",
       "      <td>North</td>\n",
       "      <td>300.0</td>\n",
       "    </tr>\n",
       "    <tr>\n",
       "      <th>3</th>\n",
       "      <td>104.0</td>\n",
       "      <td>Furniture</td>\n",
       "      <td>East</td>\n",
       "      <td>450.0</td>\n",
       "    </tr>\n",
       "    <tr>\n",
       "      <th>4</th>\n",
       "      <td>105.0</td>\n",
       "      <td>Clothing</td>\n",
       "      <td>West</td>\n",
       "      <td>200.0</td>\n",
       "    </tr>\n",
       "    <tr>\n",
       "      <th>5</th>\n",
       "      <td>106.0</td>\n",
       "      <td>Electronics</td>\n",
       "      <td>North</td>\n",
       "      <td>250.0</td>\n",
       "    </tr>\n",
       "    <tr>\n",
       "      <th>6</th>\n",
       "      <td>107.0</td>\n",
       "      <td>Furniture</td>\n",
       "      <td>East</td>\n",
       "      <td>300.0</td>\n",
       "    </tr>\n",
       "    <tr>\n",
       "      <th>7</th>\n",
       "      <td>108.0</td>\n",
       "      <td>Clothing</td>\n",
       "      <td>West</td>\n",
       "      <td>180.0</td>\n",
       "    </tr>\n",
       "    <tr>\n",
       "      <th>8</th>\n",
       "      <td>109.0</td>\n",
       "      <td>Furniture</td>\n",
       "      <td>South</td>\n",
       "      <td>350.0</td>\n",
       "    </tr>\n",
       "    <tr>\n",
       "      <th>9</th>\n",
       "      <td>110.0</td>\n",
       "      <td>Electronics</td>\n",
       "      <td>North</td>\n",
       "      <td>400.0</td>\n",
       "    </tr>\n",
       "    <tr>\n",
       "      <th>102</th>\n",
       "      <td>NaN</td>\n",
       "      <td>NaN</td>\n",
       "      <td>NaN</td>\n",
       "      <td>165.0</td>\n",
       "    </tr>\n",
       "  </tbody>\n",
       "</table>\n",
       "</div>"
      ],
      "text/plain": [
       "     TransactionID ProductCategory Region  Amount\n",
       "0            101.0     Electronics  North   200.0\n",
       "1            102.0        Clothing  South   150.0\n",
       "2            103.0     Electronics  North   300.0\n",
       "3            104.0       Furniture   East   450.0\n",
       "4            105.0        Clothing   West   200.0\n",
       "5            106.0     Electronics  North   250.0\n",
       "6            107.0       Furniture   East   300.0\n",
       "7            108.0        Clothing   West   180.0\n",
       "8            109.0       Furniture  South   350.0\n",
       "9            110.0     Electronics  North   400.0\n",
       "102            NaN             NaN    NaN   165.0"
      ]
     },
     "execution_count": 161,
     "metadata": {},
     "output_type": "execute_result"
    }
   ],
   "source": [
    "transactions.loc[102, 'Amount'] = 165\n",
    "transactions"
   ]
  },
  {
   "cell_type": "markdown",
   "id": "fadf77f2-34b8-43c2-a4d6-3b095f4e55ee",
   "metadata": {},
   "source": [
    "___________"
   ]
  },
  {
   "cell_type": "code",
   "execution_count": null,
   "id": "13f11bcc-48c0-4e95-b810-81d032cc6a2f",
   "metadata": {},
   "outputs": [],
   "source": [
    "● Add a new column 'Discount' by calculating 10% of the 'Amount'."
   ]
  },
  {
   "cell_type": "code",
   "execution_count": 165,
   "id": "02428b39-5654-4b92-9f96-6512826a080f",
   "metadata": {},
   "outputs": [
    {
     "data": {
      "text/html": [
       "<div>\n",
       "<style scoped>\n",
       "    .dataframe tbody tr th:only-of-type {\n",
       "        vertical-align: middle;\n",
       "    }\n",
       "\n",
       "    .dataframe tbody tr th {\n",
       "        vertical-align: top;\n",
       "    }\n",
       "\n",
       "    .dataframe thead th {\n",
       "        text-align: right;\n",
       "    }\n",
       "</style>\n",
       "<table border=\"1\" class=\"dataframe\">\n",
       "  <thead>\n",
       "    <tr style=\"text-align: right;\">\n",
       "      <th></th>\n",
       "      <th>TransactionID</th>\n",
       "      <th>ProductCategory</th>\n",
       "      <th>Region</th>\n",
       "      <th>Amount</th>\n",
       "      <th>Discount</th>\n",
       "    </tr>\n",
       "  </thead>\n",
       "  <tbody>\n",
       "    <tr>\n",
       "      <th>0</th>\n",
       "      <td>101.0</td>\n",
       "      <td>Electronics</td>\n",
       "      <td>North</td>\n",
       "      <td>200.0</td>\n",
       "      <td>20.0</td>\n",
       "    </tr>\n",
       "    <tr>\n",
       "      <th>1</th>\n",
       "      <td>102.0</td>\n",
       "      <td>Clothing</td>\n",
       "      <td>South</td>\n",
       "      <td>150.0</td>\n",
       "      <td>15.0</td>\n",
       "    </tr>\n",
       "    <tr>\n",
       "      <th>2</th>\n",
       "      <td>103.0</td>\n",
       "      <td>Electronics</td>\n",
       "      <td>North</td>\n",
       "      <td>300.0</td>\n",
       "      <td>30.0</td>\n",
       "    </tr>\n",
       "    <tr>\n",
       "      <th>3</th>\n",
       "      <td>104.0</td>\n",
       "      <td>Furniture</td>\n",
       "      <td>East</td>\n",
       "      <td>450.0</td>\n",
       "      <td>45.0</td>\n",
       "    </tr>\n",
       "    <tr>\n",
       "      <th>4</th>\n",
       "      <td>105.0</td>\n",
       "      <td>Clothing</td>\n",
       "      <td>West</td>\n",
       "      <td>200.0</td>\n",
       "      <td>20.0</td>\n",
       "    </tr>\n",
       "    <tr>\n",
       "      <th>5</th>\n",
       "      <td>106.0</td>\n",
       "      <td>Electronics</td>\n",
       "      <td>North</td>\n",
       "      <td>250.0</td>\n",
       "      <td>25.0</td>\n",
       "    </tr>\n",
       "    <tr>\n",
       "      <th>6</th>\n",
       "      <td>107.0</td>\n",
       "      <td>Furniture</td>\n",
       "      <td>East</td>\n",
       "      <td>300.0</td>\n",
       "      <td>30.0</td>\n",
       "    </tr>\n",
       "    <tr>\n",
       "      <th>7</th>\n",
       "      <td>108.0</td>\n",
       "      <td>Clothing</td>\n",
       "      <td>West</td>\n",
       "      <td>180.0</td>\n",
       "      <td>18.0</td>\n",
       "    </tr>\n",
       "    <tr>\n",
       "      <th>8</th>\n",
       "      <td>109.0</td>\n",
       "      <td>Furniture</td>\n",
       "      <td>South</td>\n",
       "      <td>350.0</td>\n",
       "      <td>35.0</td>\n",
       "    </tr>\n",
       "    <tr>\n",
       "      <th>9</th>\n",
       "      <td>110.0</td>\n",
       "      <td>Electronics</td>\n",
       "      <td>North</td>\n",
       "      <td>400.0</td>\n",
       "      <td>40.0</td>\n",
       "    </tr>\n",
       "    <tr>\n",
       "      <th>102</th>\n",
       "      <td>NaN</td>\n",
       "      <td>NaN</td>\n",
       "      <td>NaN</td>\n",
       "      <td>165.0</td>\n",
       "      <td>16.5</td>\n",
       "    </tr>\n",
       "  </tbody>\n",
       "</table>\n",
       "</div>"
      ],
      "text/plain": [
       "     TransactionID ProductCategory Region  Amount  Discount\n",
       "0            101.0     Electronics  North   200.0      20.0\n",
       "1            102.0        Clothing  South   150.0      15.0\n",
       "2            103.0     Electronics  North   300.0      30.0\n",
       "3            104.0       Furniture   East   450.0      45.0\n",
       "4            105.0        Clothing   West   200.0      20.0\n",
       "5            106.0     Electronics  North   250.0      25.0\n",
       "6            107.0       Furniture   East   300.0      30.0\n",
       "7            108.0        Clothing   West   180.0      18.0\n",
       "8            109.0       Furniture  South   350.0      35.0\n",
       "9            110.0     Electronics  North   400.0      40.0\n",
       "102            NaN             NaN    NaN   165.0      16.5"
      ]
     },
     "execution_count": 165,
     "metadata": {},
     "output_type": "execute_result"
    }
   ],
   "source": [
    "transactions['Discount'] = 0.1 * transactions['Amount']\n",
    "transactions"
   ]
  },
  {
   "cell_type": "markdown",
   "id": "02ac7c87-6bde-4a60-b027-2628ed080fee",
   "metadata": {},
   "source": [
    "_________"
   ]
  },
  {
   "cell_type": "code",
   "execution_count": null,
   "id": "f750f1bd-9571-445e-b9ac-7cd350cac6b1",
   "metadata": {},
   "outputs": [],
   "source": [
    "● Remove the row with TransactionID 109."
   ]
  },
  {
   "cell_type": "code",
   "execution_count": 178,
   "id": "5b6811c1-9cf2-4f4d-8171-5d17a449f902",
   "metadata": {},
   "outputs": [
    {
     "data": {
      "text/html": [
       "<div>\n",
       "<style scoped>\n",
       "    .dataframe tbody tr th:only-of-type {\n",
       "        vertical-align: middle;\n",
       "    }\n",
       "\n",
       "    .dataframe tbody tr th {\n",
       "        vertical-align: top;\n",
       "    }\n",
       "\n",
       "    .dataframe thead th {\n",
       "        text-align: right;\n",
       "    }\n",
       "</style>\n",
       "<table border=\"1\" class=\"dataframe\">\n",
       "  <thead>\n",
       "    <tr style=\"text-align: right;\">\n",
       "      <th></th>\n",
       "      <th>TransactionID</th>\n",
       "      <th>ProductCategory</th>\n",
       "      <th>Region</th>\n",
       "      <th>Amount</th>\n",
       "      <th>Discount</th>\n",
       "    </tr>\n",
       "  </thead>\n",
       "  <tbody>\n",
       "    <tr>\n",
       "      <th>0</th>\n",
       "      <td>101.0</td>\n",
       "      <td>Electronics</td>\n",
       "      <td>North</td>\n",
       "      <td>200.0</td>\n",
       "      <td>20.0</td>\n",
       "    </tr>\n",
       "    <tr>\n",
       "      <th>1</th>\n",
       "      <td>102.0</td>\n",
       "      <td>Clothing</td>\n",
       "      <td>South</td>\n",
       "      <td>150.0</td>\n",
       "      <td>15.0</td>\n",
       "    </tr>\n",
       "    <tr>\n",
       "      <th>2</th>\n",
       "      <td>103.0</td>\n",
       "      <td>Electronics</td>\n",
       "      <td>North</td>\n",
       "      <td>300.0</td>\n",
       "      <td>30.0</td>\n",
       "    </tr>\n",
       "    <tr>\n",
       "      <th>3</th>\n",
       "      <td>104.0</td>\n",
       "      <td>Furniture</td>\n",
       "      <td>East</td>\n",
       "      <td>450.0</td>\n",
       "      <td>45.0</td>\n",
       "    </tr>\n",
       "    <tr>\n",
       "      <th>4</th>\n",
       "      <td>105.0</td>\n",
       "      <td>Clothing</td>\n",
       "      <td>West</td>\n",
       "      <td>200.0</td>\n",
       "      <td>20.0</td>\n",
       "    </tr>\n",
       "    <tr>\n",
       "      <th>5</th>\n",
       "      <td>106.0</td>\n",
       "      <td>Electronics</td>\n",
       "      <td>North</td>\n",
       "      <td>250.0</td>\n",
       "      <td>25.0</td>\n",
       "    </tr>\n",
       "    <tr>\n",
       "      <th>6</th>\n",
       "      <td>107.0</td>\n",
       "      <td>Furniture</td>\n",
       "      <td>East</td>\n",
       "      <td>300.0</td>\n",
       "      <td>30.0</td>\n",
       "    </tr>\n",
       "    <tr>\n",
       "      <th>7</th>\n",
       "      <td>108.0</td>\n",
       "      <td>Clothing</td>\n",
       "      <td>West</td>\n",
       "      <td>180.0</td>\n",
       "      <td>18.0</td>\n",
       "    </tr>\n",
       "    <tr>\n",
       "      <th>9</th>\n",
       "      <td>110.0</td>\n",
       "      <td>Electronics</td>\n",
       "      <td>North</td>\n",
       "      <td>400.0</td>\n",
       "      <td>40.0</td>\n",
       "    </tr>\n",
       "    <tr>\n",
       "      <th>102</th>\n",
       "      <td>NaN</td>\n",
       "      <td>NaN</td>\n",
       "      <td>NaN</td>\n",
       "      <td>165.0</td>\n",
       "      <td>16.5</td>\n",
       "    </tr>\n",
       "  </tbody>\n",
       "</table>\n",
       "</div>"
      ],
      "text/plain": [
       "     TransactionID ProductCategory Region  Amount  Discount\n",
       "0            101.0     Electronics  North   200.0      20.0\n",
       "1            102.0        Clothing  South   150.0      15.0\n",
       "2            103.0     Electronics  North   300.0      30.0\n",
       "3            104.0       Furniture   East   450.0      45.0\n",
       "4            105.0        Clothing   West   200.0      20.0\n",
       "5            106.0     Electronics  North   250.0      25.0\n",
       "6            107.0       Furniture   East   300.0      30.0\n",
       "7            108.0        Clothing   West   180.0      18.0\n",
       "9            110.0     Electronics  North   400.0      40.0\n",
       "102            NaN             NaN    NaN   165.0      16.5"
      ]
     },
     "execution_count": 178,
     "metadata": {},
     "output_type": "execute_result"
    }
   ],
   "source": [
    "transactions.drop(8, axis =0)"
   ]
  },
  {
   "cell_type": "markdown",
   "id": "fe57fac4-3003-45bc-b6a8-ce3a37bc4e0a",
   "metadata": {},
   "source": [
    "__________"
   ]
  },
  {
   "cell_type": "code",
   "execution_count": null,
   "id": "b32fc54e-fb37-4a5b-8c8b-cc0919082e6c",
   "metadata": {},
   "outputs": [],
   "source": [
    "● Delete the 'Discount' column from the DataFrame."
   ]
  },
  {
   "cell_type": "code",
   "execution_count": 180,
   "id": "c2a5a0a2-4fef-4cfd-8a01-442da0f63ca3",
   "metadata": {},
   "outputs": [
    {
     "data": {
      "text/html": [
       "<div>\n",
       "<style scoped>\n",
       "    .dataframe tbody tr th:only-of-type {\n",
       "        vertical-align: middle;\n",
       "    }\n",
       "\n",
       "    .dataframe tbody tr th {\n",
       "        vertical-align: top;\n",
       "    }\n",
       "\n",
       "    .dataframe thead th {\n",
       "        text-align: right;\n",
       "    }\n",
       "</style>\n",
       "<table border=\"1\" class=\"dataframe\">\n",
       "  <thead>\n",
       "    <tr style=\"text-align: right;\">\n",
       "      <th></th>\n",
       "      <th>TransactionID</th>\n",
       "      <th>ProductCategory</th>\n",
       "      <th>Region</th>\n",
       "      <th>Amount</th>\n",
       "    </tr>\n",
       "  </thead>\n",
       "  <tbody>\n",
       "    <tr>\n",
       "      <th>0</th>\n",
       "      <td>101.0</td>\n",
       "      <td>Electronics</td>\n",
       "      <td>North</td>\n",
       "      <td>200.0</td>\n",
       "    </tr>\n",
       "    <tr>\n",
       "      <th>1</th>\n",
       "      <td>102.0</td>\n",
       "      <td>Clothing</td>\n",
       "      <td>South</td>\n",
       "      <td>150.0</td>\n",
       "    </tr>\n",
       "    <tr>\n",
       "      <th>2</th>\n",
       "      <td>103.0</td>\n",
       "      <td>Electronics</td>\n",
       "      <td>North</td>\n",
       "      <td>300.0</td>\n",
       "    </tr>\n",
       "    <tr>\n",
       "      <th>3</th>\n",
       "      <td>104.0</td>\n",
       "      <td>Furniture</td>\n",
       "      <td>East</td>\n",
       "      <td>450.0</td>\n",
       "    </tr>\n",
       "    <tr>\n",
       "      <th>4</th>\n",
       "      <td>105.0</td>\n",
       "      <td>Clothing</td>\n",
       "      <td>West</td>\n",
       "      <td>200.0</td>\n",
       "    </tr>\n",
       "    <tr>\n",
       "      <th>5</th>\n",
       "      <td>106.0</td>\n",
       "      <td>Electronics</td>\n",
       "      <td>North</td>\n",
       "      <td>250.0</td>\n",
       "    </tr>\n",
       "    <tr>\n",
       "      <th>6</th>\n",
       "      <td>107.0</td>\n",
       "      <td>Furniture</td>\n",
       "      <td>East</td>\n",
       "      <td>300.0</td>\n",
       "    </tr>\n",
       "    <tr>\n",
       "      <th>7</th>\n",
       "      <td>108.0</td>\n",
       "      <td>Clothing</td>\n",
       "      <td>West</td>\n",
       "      <td>180.0</td>\n",
       "    </tr>\n",
       "    <tr>\n",
       "      <th>8</th>\n",
       "      <td>109.0</td>\n",
       "      <td>Furniture</td>\n",
       "      <td>South</td>\n",
       "      <td>350.0</td>\n",
       "    </tr>\n",
       "    <tr>\n",
       "      <th>9</th>\n",
       "      <td>110.0</td>\n",
       "      <td>Electronics</td>\n",
       "      <td>North</td>\n",
       "      <td>400.0</td>\n",
       "    </tr>\n",
       "    <tr>\n",
       "      <th>102</th>\n",
       "      <td>NaN</td>\n",
       "      <td>NaN</td>\n",
       "      <td>NaN</td>\n",
       "      <td>165.0</td>\n",
       "    </tr>\n",
       "  </tbody>\n",
       "</table>\n",
       "</div>"
      ],
      "text/plain": [
       "     TransactionID ProductCategory Region  Amount\n",
       "0            101.0     Electronics  North   200.0\n",
       "1            102.0        Clothing  South   150.0\n",
       "2            103.0     Electronics  North   300.0\n",
       "3            104.0       Furniture   East   450.0\n",
       "4            105.0        Clothing   West   200.0\n",
       "5            106.0     Electronics  North   250.0\n",
       "6            107.0       Furniture   East   300.0\n",
       "7            108.0        Clothing   West   180.0\n",
       "8            109.0       Furniture  South   350.0\n",
       "9            110.0     Electronics  North   400.0\n",
       "102            NaN             NaN    NaN   165.0"
      ]
     },
     "execution_count": 180,
     "metadata": {},
     "output_type": "execute_result"
    }
   ],
   "source": [
    "transactions.drop('Discount', axis=1)"
   ]
  },
  {
   "cell_type": "markdown",
   "id": "8ef1715b-857b-4676-9f40-bf3132ffb144",
   "metadata": {},
   "source": [
    "___________"
   ]
  },
  {
   "cell_type": "code",
   "execution_count": null,
   "id": "67fe33a2-e5bc-4e60-858f-b8abf5785afa",
   "metadata": {},
   "outputs": [],
   "source": []
  }
 ],
 "metadata": {
  "kernelspec": {
   "display_name": "Python 3 (ipykernel)",
   "language": "python",
   "name": "python3"
  },
  "language_info": {
   "codemirror_mode": {
    "name": "ipython",
    "version": 3
   },
   "file_extension": ".py",
   "mimetype": "text/x-python",
   "name": "python",
   "nbconvert_exporter": "python",
   "pygments_lexer": "ipython3",
   "version": "3.12.7"
  }
 },
 "nbformat": 4,
 "nbformat_minor": 5
}
