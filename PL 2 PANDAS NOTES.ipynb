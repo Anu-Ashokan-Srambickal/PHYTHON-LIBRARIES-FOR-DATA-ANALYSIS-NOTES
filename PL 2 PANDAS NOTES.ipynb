{
 "cells": [
  {
   "cell_type": "markdown",
   "id": "62c407e0-2db2-4f2c-b9c8-b1f363e7b82e",
   "metadata": {},
   "source": [
    "## 🍁 PANDAS(Python For Data Analysis)"
   ]
  },
  {
   "cell_type": "markdown",
   "id": "012fd1ea-51e4-40bb-9821-31a0625bcaf7",
   "metadata": {},
   "source": [
    "- Pandas is a popular open-source software library for the Python programming language, specifically designed for data manipulation and analysis."
   ]
  },
  {
   "cell_type": "markdown",
   "id": "0afca934-bf9c-4ebb-b9bf-80874edd3c9f",
   "metadata": {},
   "source": [
    "### ☘️ Key Features of Pandas\n",
    "\n",
    "-\tFast and efficient DataFrame object with default and customized indexing.\n",
    "-\tTools for loading data into in-memory data objects from different file formats.\n",
    "-\tData alignment and integrated handling of missing data.\n",
    "-\tReshaping and pivoting of date sets.\n",
    "-\tLabel-based slicing, indexing and subsetting of large data sets.\n",
    "-\tColumns from a data structure can be deleted or inserted.\n",
    "-\tGroup by data for aggregation and transformations.\n",
    "-\tHigh performance merging and joining of data.\n",
    "-\tTime Series functionality.\n"
   ]
  },
  {
   "cell_type": "markdown",
   "id": "2971b23b-44a2-4a26-a3c1-2b780438bd2d",
   "metadata": {},
   "source": [
    "### ☘️ Difference b/w Pandas and NumPY\n",
    "\n",
    "- Numpy works with arrays while Pandas works with data frames and series.\n",
    "- Numpy is best suited for working homogenous data while Pandas is best suited for working with tabular and heterogeneous i.e. different kind of data.\n"
   ]
  },
  {
   "cell_type": "markdown",
   "id": "0b73c56e-7788-45e5-bfc5-8534774da5e6",
   "metadata": {},
   "source": [
    "### 🎍 Pandas generally provide two data structure for manipulating data, They are:\n",
    "                               •\tSeries\n",
    "\n",
    "                               •\tDataFrame\n"
   ]
  },
  {
   "cell_type": "code",
   "execution_count": 53,
   "id": "b2e06324-f87b-4a45-9876-da2ef9674b07",
   "metadata": {},
   "outputs": [],
   "source": [
    "import pandas as pd\n",
    "import numpy as np"
   ]
  },
  {
   "cell_type": "markdown",
   "id": "8e668973-23ce-44d8-82ac-5567adf2a1bc",
   "metadata": {},
   "source": [
    "### ⚜️ SERIES CREATION"
   ]
  },
  {
   "cell_type": "markdown",
   "id": "6d3d5152-6d27-4380-9204-b135362e1a74",
   "metadata": {},
   "source": [
    "- pd.Series(List)  "
   ]
  },
  {
   "cell_type": "code",
   "execution_count": 3,
   "id": "363da224-16d5-4eb2-93fa-c837acf78525",
   "metadata": {},
   "outputs": [
    {
     "data": {
      "text/plain": [
       "0      Tom\n",
       "1     Zara\n",
       "2     Nora\n",
       "3    Jerry\n",
       "dtype: object"
      ]
     },
     "execution_count": 3,
     "metadata": {},
     "output_type": "execute_result"
    }
   ],
   "source": [
    "pd.Series(['Tom', 'Zara', 'Nora', 'Jerry'])"
   ]
  },
  {
   "cell_type": "markdown",
   "id": "52e7c889-f1b3-46d5-aecd-a0cf3bc96c8e",
   "metadata": {},
   "source": [
    "__________________"
   ]
  },
  {
   "cell_type": "markdown",
   "id": "0662baf5-257a-433f-a44c-e50a5f978fe0",
   "metadata": {},
   "source": [
    "#### 🔰 INDEXING OF SERIES"
   ]
  },
  {
   "cell_type": "code",
   "execution_count": 7,
   "id": "251a5fcc-ac3a-4877-b070-e5b4515cf46b",
   "metadata": {},
   "outputs": [
    {
     "data": {
      "text/plain": [
       "EMP1      Tom\n",
       "EMP2     Zara\n",
       "EMP3     Nora\n",
       "EMP4    Jerry\n",
       "dtype: object"
      ]
     },
     "execution_count": 7,
     "metadata": {},
     "output_type": "execute_result"
    }
   ],
   "source": [
    "pd.Series(['Tom', 'Zara', 'Nora', 'Jerry'], index = ['EMP1', 'EMP2', 'EMP3', 'EMP4'])"
   ]
  },
  {
   "cell_type": "markdown",
   "id": "afe7c35d-cf81-4450-93db-1ab94ab87c2b",
   "metadata": {},
   "source": [
    "________________"
   ]
  },
  {
   "cell_type": "markdown",
   "id": "a3cb3ea7-eafc-44a4-b183-b8f8a9e66f52",
   "metadata": {},
   "source": [
    "#### 🔰 SERIES OF DICTIONARY"
   ]
  },
  {
   "cell_type": "code",
   "execution_count": 8,
   "id": "2841c3f6-e182-4845-9beb-13d248dcbd79",
   "metadata": {},
   "outputs": [
    {
     "data": {
      "text/plain": [
       "{'Rahul': 45, 'John': 48, 'Ram': 33, 'Sam': 36}"
      ]
     },
     "execution_count": 8,
     "metadata": {},
     "output_type": "execute_result"
    }
   ],
   "source": [
    "details = { 'Rahul': 45, 'John':48, 'Ram':33, 'Sam':36}\n",
    "details"
   ]
  },
  {
   "cell_type": "code",
   "execution_count": 9,
   "id": "829841c7-2953-4914-a847-0923d8a224f3",
   "metadata": {},
   "outputs": [
    {
     "data": {
      "text/plain": [
       "dict"
      ]
     },
     "execution_count": 9,
     "metadata": {},
     "output_type": "execute_result"
    }
   ],
   "source": [
    "type(details)"
   ]
  },
  {
   "cell_type": "code",
   "execution_count": 10,
   "id": "0316c325-9eb4-42e1-9f82-9157557c4720",
   "metadata": {},
   "outputs": [
    {
     "data": {
      "text/plain": [
       "Rahul    45\n",
       "John     48\n",
       "Ram      33\n",
       "Sam      36\n",
       "dtype: int64"
      ]
     },
     "execution_count": 10,
     "metadata": {},
     "output_type": "execute_result"
    }
   ],
   "source": [
    "pd.Series(details)"
   ]
  },
  {
   "cell_type": "markdown",
   "id": "e23050b0-dd90-4187-9aba-8f1fc308f585",
   "metadata": {},
   "source": [
    "______________"
   ]
  },
  {
   "cell_type": "markdown",
   "id": "033ca566-cf1a-40c8-8444-db6d8d45cdd9",
   "metadata": {},
   "source": [
    "#### 🔰 FILTERING BY INDEX"
   ]
  },
  {
   "cell_type": "code",
   "execution_count": 13,
   "id": "e196cacf-607d-4aef-9915-2aa18cb75ef5",
   "metadata": {},
   "outputs": [
    {
     "data": {
      "text/plain": [
       "Rahul    Rahul\n",
       "Sam      Rahul\n",
       "dtype: object"
      ]
     },
     "execution_count": 13,
     "metadata": {},
     "output_type": "execute_result"
    }
   ],
   "source": [
    "pd.Series(details , index = ['Rahul','Sam'])"
   ]
  },
  {
   "cell_type": "code",
   "execution_count": 15,
   "id": "dc4a36ea-027c-4981-b1ee-0f5c5c8464be",
   "metadata": {},
   "outputs": [
    {
     "data": {
      "text/plain": [
       "Rahul    Rahul\n",
       "Sam      Rahul\n",
       "dtype: object"
      ]
     },
     "execution_count": 15,
     "metadata": {},
     "output_type": "execute_result"
    }
   ],
   "source": [
    "b = pd.Series(details , index = ['Rahul','Sam'])\n",
    "b"
   ]
  },
  {
   "cell_type": "markdown",
   "id": "314ddf45-6a9d-4a47-8495-8c94acb644f3",
   "metadata": {},
   "source": [
    "____________"
   ]
  },
  {
   "cell_type": "markdown",
   "id": "6afeed15-844e-4ad9-b19a-c4c355f04262",
   "metadata": {},
   "source": [
    "#### 🔰 CREATING A SERIES FROM SCALAR"
   ]
  },
  {
   "cell_type": "code",
   "execution_count": 16,
   "id": "a35e8155-add5-4602-a8ca-9cf7bbbfe584",
   "metadata": {},
   "outputs": [
    {
     "data": {
      "text/plain": [
       "1    5\n",
       "2    5\n",
       "3    5\n",
       "4    5\n",
       "dtype: int64"
      ]
     },
     "execution_count": 16,
     "metadata": {},
     "output_type": "execute_result"
    }
   ],
   "source": [
    "s = pd.Series(5, index=[1,2,3,4])\n",
    "s"
   ]
  },
  {
   "cell_type": "markdown",
   "id": "eb5a8365-2407-4411-9116-b9a1dba2f6cb",
   "metadata": {},
   "source": [
    "_______________"
   ]
  },
  {
   "cell_type": "markdown",
   "id": "a7f10fc7-6375-44c8-aeac-2d64a1f2ac4f",
   "metadata": {},
   "source": [
    "#### 🔰 RETRIVING DATA FROM SERIES"
   ]
  },
  {
   "cell_type": "code",
   "execution_count": 17,
   "id": "6d74805e-22d4-489b-ba39-b25ebcb26527",
   "metadata": {},
   "outputs": [
    {
     "data": {
      "text/plain": [
       "{'Rahul': 45, 'John': 48, 'Ram': 33, 'Sam': 36}"
      ]
     },
     "execution_count": 17,
     "metadata": {},
     "output_type": "execute_result"
    }
   ],
   "source": [
    "details = { 'Rahul': 45, 'John':48, 'Ram':33, 'Sam':36}\n",
    "details"
   ]
  },
  {
   "cell_type": "code",
   "execution_count": 18,
   "id": "61766043-e170-445f-aef0-61c02a09971b",
   "metadata": {},
   "outputs": [
    {
     "data": {
      "text/plain": [
       "45"
      ]
     },
     "execution_count": 18,
     "metadata": {},
     "output_type": "execute_result"
    }
   ],
   "source": [
    "details['Rahul']"
   ]
  },
  {
   "cell_type": "markdown",
   "id": "eddd6034-0144-4b9a-8590-46e45ff5e0c3",
   "metadata": {},
   "source": [
    "_______________________"
   ]
  },
  {
   "cell_type": "markdown",
   "id": "e270b18b-b101-4acf-b822-a1bd06a3996e",
   "metadata": {},
   "source": [
    "### 🔰 iloc - Integer Location"
   ]
  },
  {
   "cell_type": "markdown",
   "id": "fc4c5563-5858-4f0e-8ce9-cb1fff9c86ee",
   "metadata": {},
   "source": [
    "- Used If index is an integer "
   ]
  },
  {
   "cell_type": "code",
   "execution_count": 24,
   "id": "a3c06bfa-5419-4638-b7cc-4fdb51dc5c79",
   "metadata": {},
   "outputs": [
    {
     "data": {
      "text/plain": [
       "0      Tom\n",
       "1     Zara\n",
       "2     Nora\n",
       "3    Jerry\n",
       "dtype: object"
      ]
     },
     "execution_count": 24,
     "metadata": {},
     "output_type": "execute_result"
    }
   ],
   "source": [
    "a = pd.Series(['Tom', 'Zara', 'Nora', 'Jerry'])\n",
    "a"
   ]
  },
  {
   "cell_type": "code",
   "execution_count": 25,
   "id": "26a1faef-d702-4221-8dae-28fa561b46ad",
   "metadata": {},
   "outputs": [
    {
     "data": {
      "text/plain": [
       "'Tom'"
      ]
     },
     "execution_count": 25,
     "metadata": {},
     "output_type": "execute_result"
    }
   ],
   "source": [
    "a.iloc[0]"
   ]
  },
  {
   "cell_type": "markdown",
   "id": "971da7a4-f703-4f7e-b066-de84e001c638",
   "metadata": {},
   "source": [
    "_________________"
   ]
  },
  {
   "cell_type": "markdown",
   "id": "bbeea21a-23b8-4e91-a959-36ebd7ea6a67",
   "metadata": {},
   "source": [
    "### 🔰 loc - Location"
   ]
  },
  {
   "cell_type": "markdown",
   "id": "44149097-0a51-4af7-865e-cc22b6c8b74c",
   "metadata": {},
   "source": [
    "- Used If Index is Text"
   ]
  },
  {
   "cell_type": "code",
   "execution_count": 31,
   "id": "90863c9f-fa14-4155-b625-3a4d1398c167",
   "metadata": {},
   "outputs": [
    {
     "data": {
      "text/plain": [
       "EMP1      Tom\n",
       "EMP2     Zara\n",
       "EMP3     Nora\n",
       "EMP4    Jerry\n",
       "dtype: object"
      ]
     },
     "execution_count": 31,
     "metadata": {},
     "output_type": "execute_result"
    }
   ],
   "source": [
    "b = pd.Series(['Tom', 'Zara', 'Nora', 'Jerry'], index = ['EMP1', 'EMP2', 'EMP3', 'EMP4'])\n",
    "b"
   ]
  },
  {
   "cell_type": "code",
   "execution_count": 33,
   "id": "8b6faaaa-589d-44ee-b5e7-8b2c2c0087d3",
   "metadata": {},
   "outputs": [
    {
     "data": {
      "text/plain": [
       "'Tom'"
      ]
     },
     "execution_count": 33,
     "metadata": {},
     "output_type": "execute_result"
    }
   ],
   "source": [
    "b.loc['EMP1']"
   ]
  },
  {
   "cell_type": "markdown",
   "id": "5f8d6617-0b4e-4db4-adf3-e83fb1472ac3",
   "metadata": {},
   "source": [
    "_____________________"
   ]
  },
  {
   "cell_type": "markdown",
   "id": "7a0b7b3b-beac-4bdc-b098-6a6bb9fc8661",
   "metadata": {},
   "source": [
    "_______________"
   ]
  },
  {
   "cell_type": "markdown",
   "id": "92e51f88-4389-4cdc-88bb-0ee89ea66045",
   "metadata": {},
   "source": [
    "### ⚜️ DATA FRAME"
   ]
  },
  {
   "cell_type": "markdown",
   "id": "69dd7fd9-e031-4a40-a179-7563f674bdb9",
   "metadata": {},
   "source": [
    "#### 🔰 LIST"
   ]
  },
  {
   "cell_type": "code",
   "execution_count": 36,
   "id": "a4e42abc-654b-4f62-bc51-0a44bc20d8a2",
   "metadata": {},
   "outputs": [
    {
     "data": {
      "text/plain": [
       "[['Tom', 18, 77], ['James', 17, 81], ['Zara', 19, 67], ['Nora', 16, 56]]"
      ]
     },
     "execution_count": 36,
     "metadata": {},
     "output_type": "execute_result"
    }
   ],
   "source": [
    "students = [['Tom', 18, 77], ['James', 17, 81], ['Zara', 19, 67], ['Nora', 16, 56]]\n",
    "students"
   ]
  },
  {
   "cell_type": "code",
   "execution_count": 41,
   "id": "1d567f88-5ffd-4807-918c-bc25ca0a467f",
   "metadata": {},
   "outputs": [
    {
     "data": {
      "text/html": [
       "<div>\n",
       "<style scoped>\n",
       "    .dataframe tbody tr th:only-of-type {\n",
       "        vertical-align: middle;\n",
       "    }\n",
       "\n",
       "    .dataframe tbody tr th {\n",
       "        vertical-align: top;\n",
       "    }\n",
       "\n",
       "    .dataframe thead th {\n",
       "        text-align: right;\n",
       "    }\n",
       "</style>\n",
       "<table border=\"1\" class=\"dataframe\">\n",
       "  <thead>\n",
       "    <tr style=\"text-align: right;\">\n",
       "      <th></th>\n",
       "      <th>Name</th>\n",
       "      <th>Age</th>\n",
       "      <th>Marks</th>\n",
       "    </tr>\n",
       "  </thead>\n",
       "  <tbody>\n",
       "    <tr>\n",
       "      <th>Stud1</th>\n",
       "      <td>Tom</td>\n",
       "      <td>18</td>\n",
       "      <td>77</td>\n",
       "    </tr>\n",
       "    <tr>\n",
       "      <th>Stud2</th>\n",
       "      <td>James</td>\n",
       "      <td>17</td>\n",
       "      <td>81</td>\n",
       "    </tr>\n",
       "    <tr>\n",
       "      <th>Stud3</th>\n",
       "      <td>Zara</td>\n",
       "      <td>19</td>\n",
       "      <td>67</td>\n",
       "    </tr>\n",
       "    <tr>\n",
       "      <th>Stud4</th>\n",
       "      <td>Nora</td>\n",
       "      <td>16</td>\n",
       "      <td>56</td>\n",
       "    </tr>\n",
       "  </tbody>\n",
       "</table>\n",
       "</div>"
      ],
      "text/plain": [
       "        Name  Age  Marks\n",
       "Stud1    Tom   18     77\n",
       "Stud2  James   17     81\n",
       "Stud3   Zara   19     67\n",
       "Stud4   Nora   16     56"
      ]
     },
     "execution_count": 41,
     "metadata": {},
     "output_type": "execute_result"
    }
   ],
   "source": [
    "pd.DataFrame(students, index = ['Stud1', 'Stud2', 'Stud3', 'Stud4'], columns = ['Name', 'Age', 'Marks'])"
   ]
  },
  {
   "cell_type": "markdown",
   "id": "12918e37-b974-4ddb-9d5d-be546286961d",
   "metadata": {},
   "source": [
    "_____"
   ]
  },
  {
   "cell_type": "markdown",
   "id": "6a285f43-e035-4611-b57c-748ce698b63b",
   "metadata": {},
   "source": [
    "#### 🔰 DICTIONARY"
   ]
  },
  {
   "cell_type": "code",
   "execution_count": 48,
   "id": "10a79bb7-15fa-4b92-a3f2-40191ab444da",
   "metadata": {},
   "outputs": [],
   "source": [
    "vehicle_details ={ 'Brand' : ['BMW', 'Toyota', 'Infinity', 'Land Rover'], \n",
    "                  'Model' :['7 Series', 'Land Crusier', 'QX60', 'Defender'],\n",
    "                  'Color' : ['Black', 'White', 'Blue', 'Green'],\n",
    "                  }"
   ]
  },
  {
   "cell_type": "code",
   "execution_count": 49,
   "id": "eadfb69d-edbf-4a14-8b33-96e71f9220bc",
   "metadata": {},
   "outputs": [
    {
     "data": {
      "text/html": [
       "<div>\n",
       "<style scoped>\n",
       "    .dataframe tbody tr th:only-of-type {\n",
       "        vertical-align: middle;\n",
       "    }\n",
       "\n",
       "    .dataframe tbody tr th {\n",
       "        vertical-align: top;\n",
       "    }\n",
       "\n",
       "    .dataframe thead th {\n",
       "        text-align: right;\n",
       "    }\n",
       "</style>\n",
       "<table border=\"1\" class=\"dataframe\">\n",
       "  <thead>\n",
       "    <tr style=\"text-align: right;\">\n",
       "      <th></th>\n",
       "      <th>Brand</th>\n",
       "      <th>Model</th>\n",
       "      <th>Color</th>\n",
       "    </tr>\n",
       "  </thead>\n",
       "  <tbody>\n",
       "    <tr>\n",
       "      <th>Car1</th>\n",
       "      <td>BMW</td>\n",
       "      <td>7 Series</td>\n",
       "      <td>Black</td>\n",
       "    </tr>\n",
       "    <tr>\n",
       "      <th>Car2</th>\n",
       "      <td>Toyota</td>\n",
       "      <td>Land Crusier</td>\n",
       "      <td>White</td>\n",
       "    </tr>\n",
       "    <tr>\n",
       "      <th>Car3</th>\n",
       "      <td>Infinity</td>\n",
       "      <td>QX60</td>\n",
       "      <td>Blue</td>\n",
       "    </tr>\n",
       "    <tr>\n",
       "      <th>Car4</th>\n",
       "      <td>Land Rover</td>\n",
       "      <td>Defender</td>\n",
       "      <td>Green</td>\n",
       "    </tr>\n",
       "  </tbody>\n",
       "</table>\n",
       "</div>"
      ],
      "text/plain": [
       "           Brand         Model  Color\n",
       "Car1         BMW      7 Series  Black\n",
       "Car2      Toyota  Land Crusier  White\n",
       "Car3    Infinity          QX60   Blue\n",
       "Car4  Land Rover      Defender  Green"
      ]
     },
     "execution_count": 49,
     "metadata": {},
     "output_type": "execute_result"
    }
   ],
   "source": [
    "pd.DataFrame(vehicle_details, index = ['Car1', 'Car2', 'Car3', 'Car4'])"
   ]
  },
  {
   "cell_type": "markdown",
   "id": "eb40c1c9-580c-4cdd-be13-fbd75bb34f2e",
   "metadata": {},
   "source": [
    "______________"
   ]
  },
  {
   "cell_type": "markdown",
   "id": "0377e421-9d80-4c95-a9b2-1bec6eddb517",
   "metadata": {},
   "source": [
    "#### 🔰 DATAFRAMES FROM SERIES"
   ]
  },
  {
   "cell_type": "code",
   "execution_count": null,
   "id": "bc8d9df9-812d-4d35-bf39-e524abd869dd",
   "metadata": {},
   "outputs": [],
   "source": [
    "d ={'one':pd.Series([1,2,3], index=['a','b','c']),\n",
    "'two':pd.Series([1,2,3,4], index=['a','b','c','d'])}\n",
    "\n"
   ]
  },
  {
   "cell_type": "code",
   "execution_count": 52,
   "id": "c9d21385-f6b8-4c6c-963d-c44b91d23a8e",
   "metadata": {},
   "outputs": [
    {
     "data": {
      "text/html": [
       "<div>\n",
       "<style scoped>\n",
       "    .dataframe tbody tr th:only-of-type {\n",
       "        vertical-align: middle;\n",
       "    }\n",
       "\n",
       "    .dataframe tbody tr th {\n",
       "        vertical-align: top;\n",
       "    }\n",
       "\n",
       "    .dataframe thead th {\n",
       "        text-align: right;\n",
       "    }\n",
       "</style>\n",
       "<table border=\"1\" class=\"dataframe\">\n",
       "  <thead>\n",
       "    <tr style=\"text-align: right;\">\n",
       "      <th></th>\n",
       "      <th>one</th>\n",
       "      <th>two</th>\n",
       "    </tr>\n",
       "  </thead>\n",
       "  <tbody>\n",
       "    <tr>\n",
       "      <th>a</th>\n",
       "      <td>1.0</td>\n",
       "      <td>1</td>\n",
       "    </tr>\n",
       "    <tr>\n",
       "      <th>b</th>\n",
       "      <td>2.0</td>\n",
       "      <td>2</td>\n",
       "    </tr>\n",
       "    <tr>\n",
       "      <th>c</th>\n",
       "      <td>3.0</td>\n",
       "      <td>3</td>\n",
       "    </tr>\n",
       "    <tr>\n",
       "      <th>d</th>\n",
       "      <td>NaN</td>\n",
       "      <td>4</td>\n",
       "    </tr>\n",
       "  </tbody>\n",
       "</table>\n",
       "</div>"
      ],
      "text/plain": [
       "   one  two\n",
       "a  1.0    1\n",
       "b  2.0    2\n",
       "c  3.0    3\n",
       "d  NaN    4"
      ]
     },
     "execution_count": 52,
     "metadata": {},
     "output_type": "execute_result"
    }
   ],
   "source": [
    "pd.DataFrame(d)"
   ]
  },
  {
   "cell_type": "markdown",
   "id": "5baa5adb-fa70-4825-a820-2a2ca38f262e",
   "metadata": {},
   "source": [
    "________________________"
   ]
  },
  {
   "cell_type": "markdown",
   "id": "becb6e6a-16cb-4285-acc6-393da0b13f5d",
   "metadata": {},
   "source": [
    "____________________"
   ]
  },
  {
   "cell_type": "code",
   "execution_count": 54,
   "id": "3acd2f8a-f2d4-407e-8576-8c0dba9a3b79",
   "metadata": {},
   "outputs": [],
   "source": [
    "Employees = { 'Employee_Name': ['Jack', 'Jim', 'James', 'John'], \n",
    "                    'Employee_Experience' : [2, 4, 3, 5],\n",
    "                    'Employee_Salary' : [20000, 25000, 30000, 35000]}\n",
    "                    "
   ]
  },
  {
   "cell_type": "code",
   "execution_count": 63,
   "id": "6cb93f44-ce17-46e0-807d-e9f840862993",
   "metadata": {},
   "outputs": [
    {
     "data": {
      "text/html": [
       "<div>\n",
       "<style scoped>\n",
       "    .dataframe tbody tr th:only-of-type {\n",
       "        vertical-align: middle;\n",
       "    }\n",
       "\n",
       "    .dataframe tbody tr th {\n",
       "        vertical-align: top;\n",
       "    }\n",
       "\n",
       "    .dataframe thead th {\n",
       "        text-align: right;\n",
       "    }\n",
       "</style>\n",
       "<table border=\"1\" class=\"dataframe\">\n",
       "  <thead>\n",
       "    <tr style=\"text-align: right;\">\n",
       "      <th></th>\n",
       "      <th>Employee_Name</th>\n",
       "      <th>Employee_Experience</th>\n",
       "      <th>Employee_Salary</th>\n",
       "    </tr>\n",
       "  </thead>\n",
       "  <tbody>\n",
       "    <tr>\n",
       "      <th>0</th>\n",
       "      <td>Jack</td>\n",
       "      <td>2</td>\n",
       "      <td>20000</td>\n",
       "    </tr>\n",
       "    <tr>\n",
       "      <th>1</th>\n",
       "      <td>Jim</td>\n",
       "      <td>4</td>\n",
       "      <td>25000</td>\n",
       "    </tr>\n",
       "    <tr>\n",
       "      <th>2</th>\n",
       "      <td>James</td>\n",
       "      <td>3</td>\n",
       "      <td>30000</td>\n",
       "    </tr>\n",
       "    <tr>\n",
       "      <th>3</th>\n",
       "      <td>John</td>\n",
       "      <td>5</td>\n",
       "      <td>35000</td>\n",
       "    </tr>\n",
       "  </tbody>\n",
       "</table>\n",
       "</div>"
      ],
      "text/plain": [
       "  Employee_Name  Employee_Experience  Employee_Salary\n",
       "0          Jack                    2            20000\n",
       "1           Jim                    4            25000\n",
       "2         James                    3            30000\n",
       "3          John                    5            35000"
      ]
     },
     "execution_count": 63,
     "metadata": {},
     "output_type": "execute_result"
    }
   ],
   "source": [
    "employee_details = pd.DataFrame(Employees)\n",
    "employee_details"
   ]
  },
  {
   "cell_type": "markdown",
   "id": "716dfda2-c6d6-4664-b7cc-517ef004a9c4",
   "metadata": {},
   "source": [
    "### ⚜️ FILTERATION"
   ]
  },
  {
   "cell_type": "markdown",
   "id": "8ebd0aa2-05f5-4b9c-b755-de9c09a9ca1e",
   "metadata": {},
   "source": [
    "#### 🔰 FILTERING COLUMNS"
   ]
  },
  {
   "cell_type": "code",
   "execution_count": 58,
   "id": "9e750d8d-0799-4810-8179-ec87a5c0b770",
   "metadata": {},
   "outputs": [
    {
     "data": {
      "text/plain": [
       "0     Jack\n",
       "1      Jim\n",
       "2    James\n",
       "3     John\n",
       "Name: Employee_Name, dtype: object"
      ]
     },
     "execution_count": 58,
     "metadata": {},
     "output_type": "execute_result"
    }
   ],
   "source": [
    "employee_details['Employee_Name']"
   ]
  },
  {
   "cell_type": "code",
   "execution_count": 64,
   "id": "20719e00-c12d-4247-bd35-424904c30f56",
   "metadata": {},
   "outputs": [
    {
     "data": {
      "text/plain": [
       "pandas.core.frame.DataFrame"
      ]
     },
     "execution_count": 64,
     "metadata": {},
     "output_type": "execute_result"
    }
   ],
   "source": [
    "type(employee_details)"
   ]
  },
  {
   "cell_type": "markdown",
   "id": "fc8974f5-646c-415b-9b02-b0aa8aff1195",
   "metadata": {},
   "source": [
    "#### 🔰 FILTERING MULTIPLE COLUMNS USING LIST"
   ]
  },
  {
   "cell_type": "code",
   "execution_count": 68,
   "id": "461ceeaa-4c20-40ff-8387-73948108a1e9",
   "metadata": {},
   "outputs": [
    {
     "data": {
      "text/html": [
       "<div>\n",
       "<style scoped>\n",
       "    .dataframe tbody tr th:only-of-type {\n",
       "        vertical-align: middle;\n",
       "    }\n",
       "\n",
       "    .dataframe tbody tr th {\n",
       "        vertical-align: top;\n",
       "    }\n",
       "\n",
       "    .dataframe thead th {\n",
       "        text-align: right;\n",
       "    }\n",
       "</style>\n",
       "<table border=\"1\" class=\"dataframe\">\n",
       "  <thead>\n",
       "    <tr style=\"text-align: right;\">\n",
       "      <th></th>\n",
       "      <th>Employee_Name</th>\n",
       "      <th>Employee_Salary</th>\n",
       "    </tr>\n",
       "  </thead>\n",
       "  <tbody>\n",
       "    <tr>\n",
       "      <th>0</th>\n",
       "      <td>Jack</td>\n",
       "      <td>20000</td>\n",
       "    </tr>\n",
       "    <tr>\n",
       "      <th>1</th>\n",
       "      <td>Jim</td>\n",
       "      <td>25000</td>\n",
       "    </tr>\n",
       "    <tr>\n",
       "      <th>2</th>\n",
       "      <td>James</td>\n",
       "      <td>30000</td>\n",
       "    </tr>\n",
       "    <tr>\n",
       "      <th>3</th>\n",
       "      <td>John</td>\n",
       "      <td>35000</td>\n",
       "    </tr>\n",
       "  </tbody>\n",
       "</table>\n",
       "</div>"
      ],
      "text/plain": [
       "  Employee_Name  Employee_Salary\n",
       "0          Jack            20000\n",
       "1           Jim            25000\n",
       "2         James            30000\n",
       "3          John            35000"
      ]
     },
     "execution_count": 68,
     "metadata": {},
     "output_type": "execute_result"
    }
   ],
   "source": [
    "employee_details[['Employee_Name', 'Employee_Salary']]"
   ]
  },
  {
   "cell_type": "markdown",
   "id": "576ce8d0-ad5a-44d2-a8be-ed1a5a8ebc91",
   "metadata": {},
   "source": [
    "________________"
   ]
  },
  {
   "cell_type": "markdown",
   "id": "dd343709-c9d3-4e4a-95f4-d146fdd519d0",
   "metadata": {},
   "source": [
    "#### 🔰 FILTERING USING LOC & ILOC"
   ]
  },
  {
   "cell_type": "code",
   "execution_count": 69,
   "id": "299d62f2-6b45-4319-a818-3e54557daf01",
   "metadata": {},
   "outputs": [
    {
     "data": {
      "text/plain": [
       "Employee_Name            Jim\n",
       "Employee_Experience        4\n",
       "Employee_Salary        25000\n",
       "Name: 1, dtype: object"
      ]
     },
     "execution_count": 69,
     "metadata": {},
     "output_type": "execute_result"
    }
   ],
   "source": [
    "employee_details.iloc[1]"
   ]
  },
  {
   "cell_type": "code",
   "execution_count": 72,
   "id": "42125fbc-1687-451d-90e5-ad12b0a33647",
   "metadata": {},
   "outputs": [
    {
     "data": {
      "text/html": [
       "<div>\n",
       "<style scoped>\n",
       "    .dataframe tbody tr th:only-of-type {\n",
       "        vertical-align: middle;\n",
       "    }\n",
       "\n",
       "    .dataframe tbody tr th {\n",
       "        vertical-align: top;\n",
       "    }\n",
       "\n",
       "    .dataframe thead th {\n",
       "        text-align: right;\n",
       "    }\n",
       "</style>\n",
       "<table border=\"1\" class=\"dataframe\">\n",
       "  <thead>\n",
       "    <tr style=\"text-align: right;\">\n",
       "      <th></th>\n",
       "      <th>Employee_Name</th>\n",
       "      <th>Employee_Experience</th>\n",
       "      <th>Employee_Salary</th>\n",
       "    </tr>\n",
       "  </thead>\n",
       "  <tbody>\n",
       "    <tr>\n",
       "      <th>1</th>\n",
       "      <td>Jim</td>\n",
       "      <td>4</td>\n",
       "      <td>25000</td>\n",
       "    </tr>\n",
       "    <tr>\n",
       "      <th>2</th>\n",
       "      <td>James</td>\n",
       "      <td>3</td>\n",
       "      <td>30000</td>\n",
       "    </tr>\n",
       "  </tbody>\n",
       "</table>\n",
       "</div>"
      ],
      "text/plain": [
       "  Employee_Name  Employee_Experience  Employee_Salary\n",
       "1           Jim                    4            25000\n",
       "2         James                    3            30000"
      ]
     },
     "execution_count": 72,
     "metadata": {},
     "output_type": "execute_result"
    }
   ],
   "source": [
    "employee_details[1:3]"
   ]
  },
  {
   "cell_type": "markdown",
   "id": "212e4f6f-01f2-4750-9106-3c7773871b74",
   "metadata": {},
   "source": [
    "_________________________"
   ]
  },
  {
   "cell_type": "markdown",
   "id": "65f7da15-7349-41b5-8faf-cee80bbde859",
   "metadata": {},
   "source": [
    "### ⚜️ ADDING COLUMNS TO EXISTING COLUMNS"
   ]
  },
  {
   "cell_type": "code",
   "execution_count": 76,
   "id": "3d0b626f-cc48-4424-874b-c135fc870cc0",
   "metadata": {},
   "outputs": [],
   "source": [
    "employee_details['Employee_Department'] = ['IT', 'Finance', 'HR', 'Sales']"
   ]
  },
  {
   "cell_type": "code",
   "execution_count": 77,
   "id": "3a561f65-683a-4a24-99da-8dae58c89f11",
   "metadata": {},
   "outputs": [
    {
     "data": {
      "text/html": [
       "<div>\n",
       "<style scoped>\n",
       "    .dataframe tbody tr th:only-of-type {\n",
       "        vertical-align: middle;\n",
       "    }\n",
       "\n",
       "    .dataframe tbody tr th {\n",
       "        vertical-align: top;\n",
       "    }\n",
       "\n",
       "    .dataframe thead th {\n",
       "        text-align: right;\n",
       "    }\n",
       "</style>\n",
       "<table border=\"1\" class=\"dataframe\">\n",
       "  <thead>\n",
       "    <tr style=\"text-align: right;\">\n",
       "      <th></th>\n",
       "      <th>Employee_Name</th>\n",
       "      <th>Employee_Experience</th>\n",
       "      <th>Employee_Salary</th>\n",
       "      <th>Employee_Department</th>\n",
       "    </tr>\n",
       "  </thead>\n",
       "  <tbody>\n",
       "    <tr>\n",
       "      <th>0</th>\n",
       "      <td>Jack</td>\n",
       "      <td>2</td>\n",
       "      <td>20000</td>\n",
       "      <td>IT</td>\n",
       "    </tr>\n",
       "    <tr>\n",
       "      <th>1</th>\n",
       "      <td>Jim</td>\n",
       "      <td>4</td>\n",
       "      <td>25000</td>\n",
       "      <td>Finance</td>\n",
       "    </tr>\n",
       "    <tr>\n",
       "      <th>2</th>\n",
       "      <td>James</td>\n",
       "      <td>3</td>\n",
       "      <td>30000</td>\n",
       "      <td>HR</td>\n",
       "    </tr>\n",
       "    <tr>\n",
       "      <th>3</th>\n",
       "      <td>John</td>\n",
       "      <td>5</td>\n",
       "      <td>35000</td>\n",
       "      <td>Sales</td>\n",
       "    </tr>\n",
       "  </tbody>\n",
       "</table>\n",
       "</div>"
      ],
      "text/plain": [
       "  Employee_Name  Employee_Experience  Employee_Salary Employee_Department\n",
       "0          Jack                    2            20000                  IT\n",
       "1           Jim                    4            25000             Finance\n",
       "2         James                    3            30000                  HR\n",
       "3          John                    5            35000               Sales"
      ]
     },
     "execution_count": 77,
     "metadata": {},
     "output_type": "execute_result"
    }
   ],
   "source": [
    "employee_details"
   ]
  },
  {
   "cell_type": "code",
   "execution_count": 79,
   "id": "1ad4b4b7-130c-4636-bf22-7cf2f0e4293a",
   "metadata": {},
   "outputs": [],
   "source": [
    "employee_details['Employee_Department'] = ['Sales'] * 4"
   ]
  },
  {
   "cell_type": "code",
   "execution_count": 80,
   "id": "f8f310b6-e119-4a87-a681-5c5f3905193f",
   "metadata": {},
   "outputs": [
    {
     "data": {
      "text/html": [
       "<div>\n",
       "<style scoped>\n",
       "    .dataframe tbody tr th:only-of-type {\n",
       "        vertical-align: middle;\n",
       "    }\n",
       "\n",
       "    .dataframe tbody tr th {\n",
       "        vertical-align: top;\n",
       "    }\n",
       "\n",
       "    .dataframe thead th {\n",
       "        text-align: right;\n",
       "    }\n",
       "</style>\n",
       "<table border=\"1\" class=\"dataframe\">\n",
       "  <thead>\n",
       "    <tr style=\"text-align: right;\">\n",
       "      <th></th>\n",
       "      <th>Employee_Name</th>\n",
       "      <th>Employee_Experience</th>\n",
       "      <th>Employee_Salary</th>\n",
       "      <th>Employee_Department</th>\n",
       "    </tr>\n",
       "  </thead>\n",
       "  <tbody>\n",
       "    <tr>\n",
       "      <th>0</th>\n",
       "      <td>Jack</td>\n",
       "      <td>2</td>\n",
       "      <td>20000</td>\n",
       "      <td>Sales</td>\n",
       "    </tr>\n",
       "    <tr>\n",
       "      <th>1</th>\n",
       "      <td>Jim</td>\n",
       "      <td>4</td>\n",
       "      <td>25000</td>\n",
       "      <td>Sales</td>\n",
       "    </tr>\n",
       "    <tr>\n",
       "      <th>2</th>\n",
       "      <td>James</td>\n",
       "      <td>3</td>\n",
       "      <td>30000</td>\n",
       "      <td>Sales</td>\n",
       "    </tr>\n",
       "    <tr>\n",
       "      <th>3</th>\n",
       "      <td>John</td>\n",
       "      <td>5</td>\n",
       "      <td>35000</td>\n",
       "      <td>Sales</td>\n",
       "    </tr>\n",
       "  </tbody>\n",
       "</table>\n",
       "</div>"
      ],
      "text/plain": [
       "  Employee_Name  Employee_Experience  Employee_Salary Employee_Department\n",
       "0          Jack                    2            20000               Sales\n",
       "1           Jim                    4            25000               Sales\n",
       "2         James                    3            30000               Sales\n",
       "3          John                    5            35000               Sales"
      ]
     },
     "execution_count": 80,
     "metadata": {},
     "output_type": "execute_result"
    }
   ],
   "source": [
    "employee_details"
   ]
  },
  {
   "cell_type": "markdown",
   "id": "8ab19e8f-ed00-457e-b80d-ad42ab3dc59f",
   "metadata": {},
   "source": [
    "_______________"
   ]
  },
  {
   "cell_type": "markdown",
   "id": "d4dc56df-ed5c-4143-9b37-74f172e9231c",
   "metadata": {},
   "source": [
    "_____________________"
   ]
  },
  {
   "cell_type": "markdown",
   "id": "ca91a431-3f56-4a66-91b7-1df246db3824",
   "metadata": {},
   "source": [
    "### ⚜️ DELETING A ROW OR COLUMN"
   ]
  },
  {
   "cell_type": "code",
   "execution_count": 81,
   "id": "b009758e-e280-484e-961b-e615e28257b1",
   "metadata": {},
   "outputs": [
    {
     "data": {
      "text/html": [
       "<div>\n",
       "<style scoped>\n",
       "    .dataframe tbody tr th:only-of-type {\n",
       "        vertical-align: middle;\n",
       "    }\n",
       "\n",
       "    .dataframe tbody tr th {\n",
       "        vertical-align: top;\n",
       "    }\n",
       "\n",
       "    .dataframe thead th {\n",
       "        text-align: right;\n",
       "    }\n",
       "</style>\n",
       "<table border=\"1\" class=\"dataframe\">\n",
       "  <thead>\n",
       "    <tr style=\"text-align: right;\">\n",
       "      <th></th>\n",
       "      <th>Employee_Name</th>\n",
       "      <th>Employee_Experience</th>\n",
       "      <th>Employee_Salary</th>\n",
       "      <th>Employee_Department</th>\n",
       "    </tr>\n",
       "  </thead>\n",
       "  <tbody>\n",
       "    <tr>\n",
       "      <th>0</th>\n",
       "      <td>Jack</td>\n",
       "      <td>2</td>\n",
       "      <td>20000</td>\n",
       "      <td>Sales</td>\n",
       "    </tr>\n",
       "    <tr>\n",
       "      <th>1</th>\n",
       "      <td>Jim</td>\n",
       "      <td>4</td>\n",
       "      <td>25000</td>\n",
       "      <td>Sales</td>\n",
       "    </tr>\n",
       "    <tr>\n",
       "      <th>2</th>\n",
       "      <td>James</td>\n",
       "      <td>3</td>\n",
       "      <td>30000</td>\n",
       "      <td>Sales</td>\n",
       "    </tr>\n",
       "    <tr>\n",
       "      <th>3</th>\n",
       "      <td>John</td>\n",
       "      <td>5</td>\n",
       "      <td>35000</td>\n",
       "      <td>Sales</td>\n",
       "    </tr>\n",
       "  </tbody>\n",
       "</table>\n",
       "</div>"
      ],
      "text/plain": [
       "  Employee_Name  Employee_Experience  Employee_Salary Employee_Department\n",
       "0          Jack                    2            20000               Sales\n",
       "1           Jim                    4            25000               Sales\n",
       "2         James                    3            30000               Sales\n",
       "3          John                    5            35000               Sales"
      ]
     },
     "execution_count": 81,
     "metadata": {},
     "output_type": "execute_result"
    }
   ],
   "source": [
    "employee_details"
   ]
  },
  {
   "cell_type": "markdown",
   "id": "e2856f28-b1fb-428b-b9bf-d1be47aa06fa",
   "metadata": {},
   "source": [
    "_____________________"
   ]
  },
  {
   "cell_type": "markdown",
   "id": "8f81bd49-2d61-4ee9-9798-7e24c819a0cf",
   "metadata": {},
   "source": [
    "#### 🔰 DELETING A COLUMN"
   ]
  },
  {
   "cell_type": "markdown",
   "id": "9694c3a7-eeff-4f19-a88b-5c147e48ba36",
   "metadata": {},
   "source": [
    "- dataframename.drop()   - used to delete Rows but NOT Columns\n",
    "- But the Column can be Deleted using 'axis = 1'\n",
    "- axis = 0 : means rows\n",
    "- axis = 1 : means columns"
   ]
  },
  {
   "cell_type": "code",
   "execution_count": 83,
   "id": "77c2ce68-b3c3-4064-b272-cd9d7851d41c",
   "metadata": {},
   "outputs": [
    {
     "data": {
      "text/html": [
       "<div>\n",
       "<style scoped>\n",
       "    .dataframe tbody tr th:only-of-type {\n",
       "        vertical-align: middle;\n",
       "    }\n",
       "\n",
       "    .dataframe tbody tr th {\n",
       "        vertical-align: top;\n",
       "    }\n",
       "\n",
       "    .dataframe thead th {\n",
       "        text-align: right;\n",
       "    }\n",
       "</style>\n",
       "<table border=\"1\" class=\"dataframe\">\n",
       "  <thead>\n",
       "    <tr style=\"text-align: right;\">\n",
       "      <th></th>\n",
       "      <th>Employee_Name</th>\n",
       "      <th>Employee_Experience</th>\n",
       "      <th>Employee_Salary</th>\n",
       "    </tr>\n",
       "  </thead>\n",
       "  <tbody>\n",
       "    <tr>\n",
       "      <th>0</th>\n",
       "      <td>Jack</td>\n",
       "      <td>2</td>\n",
       "      <td>20000</td>\n",
       "    </tr>\n",
       "    <tr>\n",
       "      <th>1</th>\n",
       "      <td>Jim</td>\n",
       "      <td>4</td>\n",
       "      <td>25000</td>\n",
       "    </tr>\n",
       "    <tr>\n",
       "      <th>2</th>\n",
       "      <td>James</td>\n",
       "      <td>3</td>\n",
       "      <td>30000</td>\n",
       "    </tr>\n",
       "    <tr>\n",
       "      <th>3</th>\n",
       "      <td>John</td>\n",
       "      <td>5</td>\n",
       "      <td>35000</td>\n",
       "    </tr>\n",
       "  </tbody>\n",
       "</table>\n",
       "</div>"
      ],
      "text/plain": [
       "  Employee_Name  Employee_Experience  Employee_Salary\n",
       "0          Jack                    2            20000\n",
       "1           Jim                    4            25000\n",
       "2         James                    3            30000\n",
       "3          John                    5            35000"
      ]
     },
     "execution_count": 83,
     "metadata": {},
     "output_type": "execute_result"
    }
   ],
   "source": [
    "employee_details.drop('Employee_Department', axis = 1)"
   ]
  },
  {
   "cell_type": "markdown",
   "id": "b995637c-ddbc-4fd7-937b-dc87e326be01",
   "metadata": {},
   "source": [
    "__________________"
   ]
  },
  {
   "cell_type": "markdown",
   "id": "80635e7a-6cfa-4c7b-96f7-eba02b458948",
   "metadata": {},
   "source": [
    "#### 🔰 DELETING A ROWS"
   ]
  },
  {
   "cell_type": "markdown",
   "id": "78e43488-4d3e-4a84-90f6-9f3fc898de89",
   "metadata": {},
   "source": [
    "- dataframe_name.drop(index_number, axis = 0)"
   ]
  },
  {
   "cell_type": "code",
   "execution_count": 84,
   "id": "dbfafd03-7317-4000-b09a-24ff13a391ee",
   "metadata": {},
   "outputs": [
    {
     "data": {
      "text/html": [
       "<div>\n",
       "<style scoped>\n",
       "    .dataframe tbody tr th:only-of-type {\n",
       "        vertical-align: middle;\n",
       "    }\n",
       "\n",
       "    .dataframe tbody tr th {\n",
       "        vertical-align: top;\n",
       "    }\n",
       "\n",
       "    .dataframe thead th {\n",
       "        text-align: right;\n",
       "    }\n",
       "</style>\n",
       "<table border=\"1\" class=\"dataframe\">\n",
       "  <thead>\n",
       "    <tr style=\"text-align: right;\">\n",
       "      <th></th>\n",
       "      <th>Employee_Name</th>\n",
       "      <th>Employee_Experience</th>\n",
       "      <th>Employee_Salary</th>\n",
       "      <th>Employee_Department</th>\n",
       "    </tr>\n",
       "  </thead>\n",
       "  <tbody>\n",
       "    <tr>\n",
       "      <th>0</th>\n",
       "      <td>Jack</td>\n",
       "      <td>2</td>\n",
       "      <td>20000</td>\n",
       "      <td>Sales</td>\n",
       "    </tr>\n",
       "    <tr>\n",
       "      <th>1</th>\n",
       "      <td>Jim</td>\n",
       "      <td>4</td>\n",
       "      <td>25000</td>\n",
       "      <td>Sales</td>\n",
       "    </tr>\n",
       "    <tr>\n",
       "      <th>2</th>\n",
       "      <td>James</td>\n",
       "      <td>3</td>\n",
       "      <td>30000</td>\n",
       "      <td>Sales</td>\n",
       "    </tr>\n",
       "    <tr>\n",
       "      <th>3</th>\n",
       "      <td>John</td>\n",
       "      <td>5</td>\n",
       "      <td>35000</td>\n",
       "      <td>Sales</td>\n",
       "    </tr>\n",
       "  </tbody>\n",
       "</table>\n",
       "</div>"
      ],
      "text/plain": [
       "  Employee_Name  Employee_Experience  Employee_Salary Employee_Department\n",
       "0          Jack                    2            20000               Sales\n",
       "1           Jim                    4            25000               Sales\n",
       "2         James                    3            30000               Sales\n",
       "3          John                    5            35000               Sales"
      ]
     },
     "execution_count": 84,
     "metadata": {},
     "output_type": "execute_result"
    }
   ],
   "source": [
    "employee_details"
   ]
  },
  {
   "cell_type": "code",
   "execution_count": 89,
   "id": "a9d65b9d-45b0-490f-b66e-8e11e4e1f5aa",
   "metadata": {},
   "outputs": [
    {
     "data": {
      "text/html": [
       "<div>\n",
       "<style scoped>\n",
       "    .dataframe tbody tr th:only-of-type {\n",
       "        vertical-align: middle;\n",
       "    }\n",
       "\n",
       "    .dataframe tbody tr th {\n",
       "        vertical-align: top;\n",
       "    }\n",
       "\n",
       "    .dataframe thead th {\n",
       "        text-align: right;\n",
       "    }\n",
       "</style>\n",
       "<table border=\"1\" class=\"dataframe\">\n",
       "  <thead>\n",
       "    <tr style=\"text-align: right;\">\n",
       "      <th></th>\n",
       "      <th>Employee_Name</th>\n",
       "      <th>Employee_Experience</th>\n",
       "      <th>Employee_Salary</th>\n",
       "      <th>Employee_Department</th>\n",
       "    </tr>\n",
       "  </thead>\n",
       "  <tbody>\n",
       "    <tr>\n",
       "      <th>0</th>\n",
       "      <td>Jack</td>\n",
       "      <td>2</td>\n",
       "      <td>20000</td>\n",
       "      <td>Sales</td>\n",
       "    </tr>\n",
       "    <tr>\n",
       "      <th>1</th>\n",
       "      <td>Jim</td>\n",
       "      <td>4</td>\n",
       "      <td>25000</td>\n",
       "      <td>Sales</td>\n",
       "    </tr>\n",
       "    <tr>\n",
       "      <th>2</th>\n",
       "      <td>James</td>\n",
       "      <td>3</td>\n",
       "      <td>30000</td>\n",
       "      <td>Sales</td>\n",
       "    </tr>\n",
       "  </tbody>\n",
       "</table>\n",
       "</div>"
      ],
      "text/plain": [
       "  Employee_Name  Employee_Experience  Employee_Salary Employee_Department\n",
       "0          Jack                    2            20000               Sales\n",
       "1           Jim                    4            25000               Sales\n",
       "2         James                    3            30000               Sales"
      ]
     },
     "execution_count": 89,
     "metadata": {},
     "output_type": "execute_result"
    }
   ],
   "source": [
    "employee_details.drop(3, axis = 0)"
   ]
  },
  {
   "cell_type": "markdown",
   "id": "3fd402c4-4208-422c-8b46-9e43488dbd3c",
   "metadata": {},
   "source": [
    "- Rows and Columns deleted by drop method is not permenent with this method.\n",
    "- But Rows and Columns can be Deleted Permently by using 'inplace=True'."
   ]
  },
  {
   "cell_type": "code",
   "execution_count": null,
   "id": "fe3451f4-9503-4192-af9f-a28e5a9dfe8b",
   "metadata": {},
   "outputs": [],
   "source": [
    "employee_details=employee_details.drop('Employee_Department', axis=1, inplace=True)"
   ]
  },
  {
   "cell_type": "code",
   "execution_count": null,
   "id": "25435067-1c71-4b89-9212-bf2be02f1520",
   "metadata": {},
   "outputs": [],
   "source": [
    "employee_details = employee_details.drop(3, inplace = True)"
   ]
  },
  {
   "cell_type": "markdown",
   "id": "f87d200c-2052-4774-be9b-ccfe6214437e",
   "metadata": {},
   "source": [
    "_____________________"
   ]
  },
  {
   "cell_type": "code",
   "execution_count": 20,
   "id": "864871dd-44af-4422-b1e7-77f20b44401a",
   "metadata": {},
   "outputs": [],
   "source": [
    "Employees = { 'Employee_Name': ['Jack', 'Jim', 'James', 'John'], \n",
    "                    'Employee_Experience' : [2, 4, 3, 5],\n",
    "                    'Employee_Salary' : [20000, 25000, 30000, 35000]}\n",
    "                    "
   ]
  },
  {
   "cell_type": "code",
   "execution_count": 28,
   "id": "eb6980bd-e8d2-454d-acc0-be0ab8d4132a",
   "metadata": {},
   "outputs": [
    {
     "data": {
      "text/html": [
       "<div>\n",
       "<style scoped>\n",
       "    .dataframe tbody tr th:only-of-type {\n",
       "        vertical-align: middle;\n",
       "    }\n",
       "\n",
       "    .dataframe tbody tr th {\n",
       "        vertical-align: top;\n",
       "    }\n",
       "\n",
       "    .dataframe thead th {\n",
       "        text-align: right;\n",
       "    }\n",
       "</style>\n",
       "<table border=\"1\" class=\"dataframe\">\n",
       "  <thead>\n",
       "    <tr style=\"text-align: right;\">\n",
       "      <th></th>\n",
       "      <th>Employee_Name</th>\n",
       "      <th>Employee_Experience</th>\n",
       "      <th>Employee_Salary</th>\n",
       "    </tr>\n",
       "  </thead>\n",
       "  <tbody>\n",
       "    <tr>\n",
       "      <th>0</th>\n",
       "      <td>Jack</td>\n",
       "      <td>2</td>\n",
       "      <td>20000</td>\n",
       "    </tr>\n",
       "    <tr>\n",
       "      <th>1</th>\n",
       "      <td>Jim</td>\n",
       "      <td>4</td>\n",
       "      <td>25000</td>\n",
       "    </tr>\n",
       "    <tr>\n",
       "      <th>2</th>\n",
       "      <td>James</td>\n",
       "      <td>3</td>\n",
       "      <td>30000</td>\n",
       "    </tr>\n",
       "    <tr>\n",
       "      <th>3</th>\n",
       "      <td>John</td>\n",
       "      <td>5</td>\n",
       "      <td>35000</td>\n",
       "    </tr>\n",
       "  </tbody>\n",
       "</table>\n",
       "</div>"
      ],
      "text/plain": [
       "  Employee_Name  Employee_Experience  Employee_Salary\n",
       "0          Jack                    2            20000\n",
       "1           Jim                    4            25000\n",
       "2         James                    3            30000\n",
       "3          John                    5            35000"
      ]
     },
     "execution_count": 28,
     "metadata": {},
     "output_type": "execute_result"
    }
   ],
   "source": [
    "df = pd.DataFrame(Employees)\n",
    "df"
   ]
  },
  {
   "cell_type": "markdown",
   "id": "d2da4bda-c8dd-4c13-a1de-7d38f4bc2c4a",
   "metadata": {},
   "source": [
    "#### 🔰 DELETING MORE THAN ONE COLUMNS"
   ]
  },
  {
   "cell_type": "markdown",
   "id": "08b3290d-bdd2-491c-bd8d-d1b51653f0b3",
   "metadata": {},
   "source": [
    "#### ⚡️ ANOTHER APPROCH OF PERMENENTLY DELETING COLUMNS"
   ]
  },
  {
   "cell_type": "code",
   "execution_count": 30,
   "id": "c8c141d5-d25f-4b2c-91bd-2643cbda386c",
   "metadata": {},
   "outputs": [
    {
     "data": {
      "text/html": [
       "<div>\n",
       "<style scoped>\n",
       "    .dataframe tbody tr th:only-of-type {\n",
       "        vertical-align: middle;\n",
       "    }\n",
       "\n",
       "    .dataframe tbody tr th {\n",
       "        vertical-align: top;\n",
       "    }\n",
       "\n",
       "    .dataframe thead th {\n",
       "        text-align: right;\n",
       "    }\n",
       "</style>\n",
       "<table border=\"1\" class=\"dataframe\">\n",
       "  <thead>\n",
       "    <tr style=\"text-align: right;\">\n",
       "      <th></th>\n",
       "      <th>Employee_Name</th>\n",
       "    </tr>\n",
       "  </thead>\n",
       "  <tbody>\n",
       "    <tr>\n",
       "      <th>0</th>\n",
       "      <td>Jack</td>\n",
       "    </tr>\n",
       "    <tr>\n",
       "      <th>1</th>\n",
       "      <td>Jim</td>\n",
       "    </tr>\n",
       "    <tr>\n",
       "      <th>2</th>\n",
       "      <td>James</td>\n",
       "    </tr>\n",
       "    <tr>\n",
       "      <th>3</th>\n",
       "      <td>John</td>\n",
       "    </tr>\n",
       "  </tbody>\n",
       "</table>\n",
       "</div>"
      ],
      "text/plain": [
       "  Employee_Name\n",
       "0          Jack\n",
       "1           Jim\n",
       "2         James\n",
       "3          John"
      ]
     },
     "execution_count": 30,
     "metadata": {},
     "output_type": "execute_result"
    }
   ],
   "source": [
    "df = df.drop(['Employee_Salary', 'Employee_Experience'], axis=1)\n",
    "df"
   ]
  },
  {
   "cell_type": "markdown",
   "id": "44b324b9-cdd6-4297-8b97-5b886a428a5d",
   "metadata": {},
   "source": [
    "_______________"
   ]
  },
  {
   "cell_type": "markdown",
   "id": "bf9d367b-ad20-470e-adcb-1536067a7909",
   "metadata": {},
   "source": [
    "### ⚜️ READING FILE"
   ]
  },
  {
   "cell_type": "markdown",
   "id": "113d08ad-0e78-4487-ae80-72d96ba7590b",
   "metadata": {},
   "source": [
    "#### 🔰 READING CSV FILE"
   ]
  },
  {
   "cell_type": "code",
   "execution_count": 31,
   "id": "b69f6541-d137-4788-a3d7-437768ab3269",
   "metadata": {},
   "outputs": [],
   "source": [
    "df = pd.read_csv(r'C:\\Users\\Surface Pro\\Desktop\\ENTRI APP\\phython\\Ivin notes\\dm_office_sales.csv')    # or using double slash "
   ]
  },
  {
   "cell_type": "markdown",
   "id": "c624c544-69aa-4083-8271-718c1c7ffc66",
   "metadata": {},
   "source": [
    "_____________"
   ]
  },
  {
   "cell_type": "markdown",
   "id": "cd64904e-14c0-4412-bc34-3fa4c2a1dd7d",
   "metadata": {},
   "source": [
    "#### 🔰 FOR LOADING FIRST 5 ROWS"
   ]
  },
  {
   "cell_type": "code",
   "execution_count": 32,
   "id": "74fe4d24-7ec8-4b07-a42b-4acaa22a4383",
   "metadata": {},
   "outputs": [
    {
     "data": {
      "text/html": [
       "<div>\n",
       "<style scoped>\n",
       "    .dataframe tbody tr th:only-of-type {\n",
       "        vertical-align: middle;\n",
       "    }\n",
       "\n",
       "    .dataframe tbody tr th {\n",
       "        vertical-align: top;\n",
       "    }\n",
       "\n",
       "    .dataframe thead th {\n",
       "        text-align: right;\n",
       "    }\n",
       "</style>\n",
       "<table border=\"1\" class=\"dataframe\">\n",
       "  <thead>\n",
       "    <tr style=\"text-align: right;\">\n",
       "      <th></th>\n",
       "      <th>division</th>\n",
       "      <th>level of education</th>\n",
       "      <th>training level</th>\n",
       "      <th>work experience</th>\n",
       "      <th>salary</th>\n",
       "      <th>sales</th>\n",
       "    </tr>\n",
       "  </thead>\n",
       "  <tbody>\n",
       "    <tr>\n",
       "      <th>0</th>\n",
       "      <td>printers</td>\n",
       "      <td>some college</td>\n",
       "      <td>2</td>\n",
       "      <td>6</td>\n",
       "      <td>91684</td>\n",
       "      <td>372302</td>\n",
       "    </tr>\n",
       "    <tr>\n",
       "      <th>1</th>\n",
       "      <td>printers</td>\n",
       "      <td>associate's degree</td>\n",
       "      <td>2</td>\n",
       "      <td>10</td>\n",
       "      <td>119679</td>\n",
       "      <td>495660</td>\n",
       "    </tr>\n",
       "    <tr>\n",
       "      <th>2</th>\n",
       "      <td>peripherals</td>\n",
       "      <td>high school</td>\n",
       "      <td>0</td>\n",
       "      <td>9</td>\n",
       "      <td>82045</td>\n",
       "      <td>320453</td>\n",
       "    </tr>\n",
       "    <tr>\n",
       "      <th>3</th>\n",
       "      <td>office supplies</td>\n",
       "      <td>associate's degree</td>\n",
       "      <td>2</td>\n",
       "      <td>5</td>\n",
       "      <td>92949</td>\n",
       "      <td>377148</td>\n",
       "    </tr>\n",
       "    <tr>\n",
       "      <th>4</th>\n",
       "      <td>office supplies</td>\n",
       "      <td>high school</td>\n",
       "      <td>1</td>\n",
       "      <td>5</td>\n",
       "      <td>71280</td>\n",
       "      <td>312802</td>\n",
       "    </tr>\n",
       "  </tbody>\n",
       "</table>\n",
       "</div>"
      ],
      "text/plain": [
       "          division  level of education  training level  work experience  \\\n",
       "0         printers        some college               2                6   \n",
       "1         printers  associate's degree               2               10   \n",
       "2      peripherals         high school               0                9   \n",
       "3  office supplies  associate's degree               2                5   \n",
       "4  office supplies         high school               1                5   \n",
       "\n",
       "   salary   sales  \n",
       "0   91684  372302  \n",
       "1  119679  495660  \n",
       "2   82045  320453  \n",
       "3   92949  377148  \n",
       "4   71280  312802  "
      ]
     },
     "execution_count": 32,
     "metadata": {},
     "output_type": "execute_result"
    }
   ],
   "source": [
    "df.head()"
   ]
  },
  {
   "cell_type": "markdown",
   "id": "1aa091cf-e919-4ca4-a907-eb6899882017",
   "metadata": {},
   "source": [
    "#### 🔰 FOR LOADING LAST 5 ROWS"
   ]
  },
  {
   "cell_type": "code",
   "execution_count": 33,
   "id": "ed61a745-967a-4e3e-8f7d-644d2bfa7035",
   "metadata": {},
   "outputs": [
    {
     "data": {
      "text/html": [
       "<div>\n",
       "<style scoped>\n",
       "    .dataframe tbody tr th:only-of-type {\n",
       "        vertical-align: middle;\n",
       "    }\n",
       "\n",
       "    .dataframe tbody tr th {\n",
       "        vertical-align: top;\n",
       "    }\n",
       "\n",
       "    .dataframe thead th {\n",
       "        text-align: right;\n",
       "    }\n",
       "</style>\n",
       "<table border=\"1\" class=\"dataframe\">\n",
       "  <thead>\n",
       "    <tr style=\"text-align: right;\">\n",
       "      <th></th>\n",
       "      <th>division</th>\n",
       "      <th>level of education</th>\n",
       "      <th>training level</th>\n",
       "      <th>work experience</th>\n",
       "      <th>salary</th>\n",
       "      <th>sales</th>\n",
       "    </tr>\n",
       "  </thead>\n",
       "  <tbody>\n",
       "    <tr>\n",
       "      <th>995</th>\n",
       "      <td>computer hardware</td>\n",
       "      <td>associate's degree</td>\n",
       "      <td>1</td>\n",
       "      <td>1</td>\n",
       "      <td>70083</td>\n",
       "      <td>177953</td>\n",
       "    </tr>\n",
       "    <tr>\n",
       "      <th>996</th>\n",
       "      <td>computer software</td>\n",
       "      <td>associate's degree</td>\n",
       "      <td>1</td>\n",
       "      <td>0</td>\n",
       "      <td>68648</td>\n",
       "      <td>103703</td>\n",
       "    </tr>\n",
       "    <tr>\n",
       "      <th>997</th>\n",
       "      <td>peripherals</td>\n",
       "      <td>associate's degree</td>\n",
       "      <td>2</td>\n",
       "      <td>8</td>\n",
       "      <td>108354</td>\n",
       "      <td>450011</td>\n",
       "    </tr>\n",
       "    <tr>\n",
       "      <th>998</th>\n",
       "      <td>peripherals</td>\n",
       "      <td>associate's degree</td>\n",
       "      <td>2</td>\n",
       "      <td>3</td>\n",
       "      <td>79035</td>\n",
       "      <td>330354</td>\n",
       "    </tr>\n",
       "    <tr>\n",
       "      <th>999</th>\n",
       "      <td>computer hardware</td>\n",
       "      <td>some college</td>\n",
       "      <td>0</td>\n",
       "      <td>9</td>\n",
       "      <td>108444</td>\n",
       "      <td>364436</td>\n",
       "    </tr>\n",
       "  </tbody>\n",
       "</table>\n",
       "</div>"
      ],
      "text/plain": [
       "              division  level of education  training level  work experience  \\\n",
       "995  computer hardware  associate's degree               1                1   \n",
       "996  computer software  associate's degree               1                0   \n",
       "997        peripherals  associate's degree               2                8   \n",
       "998        peripherals  associate's degree               2                3   \n",
       "999  computer hardware        some college               0                9   \n",
       "\n",
       "     salary   sales  \n",
       "995   70083  177953  \n",
       "996   68648  103703  \n",
       "997  108354  450011  \n",
       "998   79035  330354  \n",
       "999  108444  364436  "
      ]
     },
     "execution_count": 33,
     "metadata": {},
     "output_type": "execute_result"
    }
   ],
   "source": [
    "df.tail()"
   ]
  },
  {
   "cell_type": "markdown",
   "id": "7e24f437-fc65-4a00-bf7e-47d612d94f5d",
   "metadata": {},
   "source": [
    "#### 🔰 iloc FOR LOADING DESIRED ROWS BY SPECIFYING THE ROW INDEX"
   ]
  },
  {
   "cell_type": "code",
   "execution_count": 36,
   "id": "809e0793-3ee8-4244-9581-0c66a51c3219",
   "metadata": {},
   "outputs": [
    {
     "data": {
      "text/html": [
       "<div>\n",
       "<style scoped>\n",
       "    .dataframe tbody tr th:only-of-type {\n",
       "        vertical-align: middle;\n",
       "    }\n",
       "\n",
       "    .dataframe tbody tr th {\n",
       "        vertical-align: top;\n",
       "    }\n",
       "\n",
       "    .dataframe thead th {\n",
       "        text-align: right;\n",
       "    }\n",
       "</style>\n",
       "<table border=\"1\" class=\"dataframe\">\n",
       "  <thead>\n",
       "    <tr style=\"text-align: right;\">\n",
       "      <th></th>\n",
       "      <th>division</th>\n",
       "      <th>level of education</th>\n",
       "      <th>training level</th>\n",
       "      <th>work experience</th>\n",
       "      <th>salary</th>\n",
       "      <th>sales</th>\n",
       "    </tr>\n",
       "  </thead>\n",
       "  <tbody>\n",
       "    <tr>\n",
       "      <th>4</th>\n",
       "      <td>office supplies</td>\n",
       "      <td>high school</td>\n",
       "      <td>1</td>\n",
       "      <td>5</td>\n",
       "      <td>71280</td>\n",
       "      <td>312802</td>\n",
       "    </tr>\n",
       "    <tr>\n",
       "      <th>5</th>\n",
       "      <td>computer hardware</td>\n",
       "      <td>some college</td>\n",
       "      <td>0</td>\n",
       "      <td>10</td>\n",
       "      <td>102401</td>\n",
       "      <td>366451</td>\n",
       "    </tr>\n",
       "    <tr>\n",
       "      <th>6</th>\n",
       "      <td>peripherals</td>\n",
       "      <td>associate's degree</td>\n",
       "      <td>0</td>\n",
       "      <td>5</td>\n",
       "      <td>77548</td>\n",
       "      <td>230899</td>\n",
       "    </tr>\n",
       "    <tr>\n",
       "      <th>7</th>\n",
       "      <td>office supplies</td>\n",
       "      <td>some college</td>\n",
       "      <td>0</td>\n",
       "      <td>6</td>\n",
       "      <td>81966</td>\n",
       "      <td>265915</td>\n",
       "    </tr>\n",
       "  </tbody>\n",
       "</table>\n",
       "</div>"
      ],
      "text/plain": [
       "            division  level of education  training level  work experience  \\\n",
       "4    office supplies         high school               1                5   \n",
       "5  computer hardware        some college               0               10   \n",
       "6        peripherals  associate's degree               0                5   \n",
       "7    office supplies        some college               0                6   \n",
       "\n",
       "   salary   sales  \n",
       "4   71280  312802  \n",
       "5  102401  366451  \n",
       "6   77548  230899  \n",
       "7   81966  265915  "
      ]
     },
     "execution_count": 36,
     "metadata": {},
     "output_type": "execute_result"
    }
   ],
   "source": [
    "df.iloc[4:8]"
   ]
  },
  {
   "cell_type": "markdown",
   "id": "f6a99835-8d42-4e08-8587-1822f5ce46ae",
   "metadata": {},
   "source": [
    "#### 🔰 FOR LOADING THE COLUMN NAMES"
   ]
  },
  {
   "cell_type": "code",
   "execution_count": 37,
   "id": "a6eaf9cc-9654-4128-a32f-2426a07dfa59",
   "metadata": {},
   "outputs": [
    {
     "data": {
      "text/plain": [
       "Index(['division', 'level of education', 'training level', 'work experience',\n",
       "       'salary', 'sales'],\n",
       "      dtype='object')"
      ]
     },
     "execution_count": 37,
     "metadata": {},
     "output_type": "execute_result"
    }
   ],
   "source": [
    "df.columns"
   ]
  },
  {
   "cell_type": "markdown",
   "id": "98ecaf33-b217-405d-b347-53d1501890a2",
   "metadata": {},
   "source": [
    "#### 🔰 TO GET AN OVERALL DETAILED INFORMATION OF DATA SET"
   ]
  },
  {
   "cell_type": "code",
   "execution_count": 38,
   "id": "d743383a-6a2b-4b7e-85cf-4ff7491cdef8",
   "metadata": {},
   "outputs": [
    {
     "name": "stdout",
     "output_type": "stream",
     "text": [
      "<class 'pandas.core.frame.DataFrame'>\n",
      "RangeIndex: 1000 entries, 0 to 999\n",
      "Data columns (total 6 columns):\n",
      " #   Column              Non-Null Count  Dtype \n",
      "---  ------              --------------  ----- \n",
      " 0   division            1000 non-null   object\n",
      " 1   level of education  1000 non-null   object\n",
      " 2   training level      1000 non-null   int64 \n",
      " 3   work experience     1000 non-null   int64 \n",
      " 4   salary              1000 non-null   int64 \n",
      " 5   sales               1000 non-null   int64 \n",
      "dtypes: int64(4), object(2)\n",
      "memory usage: 47.0+ KB\n"
     ]
    }
   ],
   "source": [
    "df.info()"
   ]
  },
  {
   "cell_type": "markdown",
   "id": "6e6d7bdc-a285-462a-9e30-4d207f61b9c1",
   "metadata": {},
   "source": [
    "#### 🔰 STATISTICAL SUMMARY OF NUMERICAL DATA"
   ]
  },
  {
   "cell_type": "code",
   "execution_count": 39,
   "id": "9fb8b4e3-5b5a-4f4d-bb3d-bf90e01f2a34",
   "metadata": {},
   "outputs": [
    {
     "data": {
      "text/html": [
       "<div>\n",
       "<style scoped>\n",
       "    .dataframe tbody tr th:only-of-type {\n",
       "        vertical-align: middle;\n",
       "    }\n",
       "\n",
       "    .dataframe tbody tr th {\n",
       "        vertical-align: top;\n",
       "    }\n",
       "\n",
       "    .dataframe thead th {\n",
       "        text-align: right;\n",
       "    }\n",
       "</style>\n",
       "<table border=\"1\" class=\"dataframe\">\n",
       "  <thead>\n",
       "    <tr style=\"text-align: right;\">\n",
       "      <th></th>\n",
       "      <th>training level</th>\n",
       "      <th>work experience</th>\n",
       "      <th>salary</th>\n",
       "      <th>sales</th>\n",
       "    </tr>\n",
       "  </thead>\n",
       "  <tbody>\n",
       "    <tr>\n",
       "      <th>count</th>\n",
       "      <td>1000.000000</td>\n",
       "      <td>1000.00000</td>\n",
       "      <td>1000.000000</td>\n",
       "      <td>1000.000000</td>\n",
       "    </tr>\n",
       "    <tr>\n",
       "      <th>mean</th>\n",
       "      <td>1.262000</td>\n",
       "      <td>6.14200</td>\n",
       "      <td>90264.207000</td>\n",
       "      <td>339833.846000</td>\n",
       "    </tr>\n",
       "    <tr>\n",
       "      <th>std</th>\n",
       "      <td>0.925317</td>\n",
       "      <td>2.94797</td>\n",
       "      <td>17398.617174</td>\n",
       "      <td>108555.773316</td>\n",
       "    </tr>\n",
       "    <tr>\n",
       "      <th>min</th>\n",
       "      <td>0.000000</td>\n",
       "      <td>0.00000</td>\n",
       "      <td>41660.000000</td>\n",
       "      <td>53067.000000</td>\n",
       "    </tr>\n",
       "    <tr>\n",
       "      <th>25%</th>\n",
       "      <td>1.000000</td>\n",
       "      <td>4.00000</td>\n",
       "      <td>77584.000000</td>\n",
       "      <td>259257.500000</td>\n",
       "    </tr>\n",
       "    <tr>\n",
       "      <th>50%</th>\n",
       "      <td>1.000000</td>\n",
       "      <td>6.00000</td>\n",
       "      <td>89946.000000</td>\n",
       "      <td>338145.500000</td>\n",
       "    </tr>\n",
       "    <tr>\n",
       "      <th>75%</th>\n",
       "      <td>2.000000</td>\n",
       "      <td>8.00000</td>\n",
       "      <td>101834.250000</td>\n",
       "      <td>415210.250000</td>\n",
       "    </tr>\n",
       "    <tr>\n",
       "      <th>max</th>\n",
       "      <td>3.000000</td>\n",
       "      <td>16.00000</td>\n",
       "      <td>159148.000000</td>\n",
       "      <td>761477.000000</td>\n",
       "    </tr>\n",
       "  </tbody>\n",
       "</table>\n",
       "</div>"
      ],
      "text/plain": [
       "       training level  work experience         salary          sales\n",
       "count     1000.000000       1000.00000    1000.000000    1000.000000\n",
       "mean         1.262000          6.14200   90264.207000  339833.846000\n",
       "std          0.925317          2.94797   17398.617174  108555.773316\n",
       "min          0.000000          0.00000   41660.000000   53067.000000\n",
       "25%          1.000000          4.00000   77584.000000  259257.500000\n",
       "50%          1.000000          6.00000   89946.000000  338145.500000\n",
       "75%          2.000000          8.00000  101834.250000  415210.250000\n",
       "max          3.000000         16.00000  159148.000000  761477.000000"
      ]
     },
     "execution_count": 39,
     "metadata": {},
     "output_type": "execute_result"
    }
   ],
   "source": [
    "df.describe()"
   ]
  },
  {
   "cell_type": "markdown",
   "id": "d84dce3f-eb35-470b-afd0-7a10e495e94d",
   "metadata": {},
   "source": [
    "#### 🔰 STATISTICAL SUMMARY OF NON NUMERICAL COLUMNS"
   ]
  },
  {
   "cell_type": "code",
   "execution_count": 42,
   "id": "e0ee0b48-52b7-4468-960e-57ebd620b722",
   "metadata": {},
   "outputs": [
    {
     "data": {
      "text/html": [
       "<div>\n",
       "<style scoped>\n",
       "    .dataframe tbody tr th:only-of-type {\n",
       "        vertical-align: middle;\n",
       "    }\n",
       "\n",
       "    .dataframe tbody tr th {\n",
       "        vertical-align: top;\n",
       "    }\n",
       "\n",
       "    .dataframe thead th {\n",
       "        text-align: right;\n",
       "    }\n",
       "</style>\n",
       "<table border=\"1\" class=\"dataframe\">\n",
       "  <thead>\n",
       "    <tr style=\"text-align: right;\">\n",
       "      <th></th>\n",
       "      <th>count</th>\n",
       "      <th>unique</th>\n",
       "      <th>top</th>\n",
       "      <th>freq</th>\n",
       "    </tr>\n",
       "  </thead>\n",
       "  <tbody>\n",
       "    <tr>\n",
       "      <th>division</th>\n",
       "      <td>1000</td>\n",
       "      <td>5</td>\n",
       "      <td>office supplies</td>\n",
       "      <td>252</td>\n",
       "    </tr>\n",
       "    <tr>\n",
       "      <th>level of education</th>\n",
       "      <td>1000</td>\n",
       "      <td>5</td>\n",
       "      <td>associate's degree</td>\n",
       "      <td>412</td>\n",
       "    </tr>\n",
       "  </tbody>\n",
       "</table>\n",
       "</div>"
      ],
      "text/plain": [
       "                   count unique                 top freq\n",
       "division            1000      5     office supplies  252\n",
       "level of education  1000      5  associate's degree  412"
      ]
     },
     "execution_count": 42,
     "metadata": {},
     "output_type": "execute_result"
    }
   ],
   "source": [
    "df.describe(include = object).T   # T for transponse"
   ]
  },
  {
   "cell_type": "markdown",
   "id": "5cbff380-f6fe-4bb4-99f1-fdd80e22fdd2",
   "metadata": {},
   "source": [
    "__________"
   ]
  },
  {
   "cell_type": "markdown",
   "id": "1fea8b79-1074-4f1b-aba5-d993d25038d7",
   "metadata": {},
   "source": [
    "#### 🔰 FIND MISSING VALUES"
   ]
  },
  {
   "cell_type": "code",
   "execution_count": 43,
   "id": "238f160f-c49b-4b82-b5ea-c64bb1ff6dbd",
   "metadata": {},
   "outputs": [
    {
     "data": {
      "text/plain": [
       "<bound method DataFrame.isnull of               division  level of education  training level  work experience  \\\n",
       "0             printers        some college               2                6   \n",
       "1             printers  associate's degree               2               10   \n",
       "2          peripherals         high school               0                9   \n",
       "3      office supplies  associate's degree               2                5   \n",
       "4      office supplies         high school               1                5   \n",
       "..                 ...                 ...             ...              ...   \n",
       "995  computer hardware  associate's degree               1                1   \n",
       "996  computer software  associate's degree               1                0   \n",
       "997        peripherals  associate's degree               2                8   \n",
       "998        peripherals  associate's degree               2                3   \n",
       "999  computer hardware        some college               0                9   \n",
       "\n",
       "     salary   sales  \n",
       "0     91684  372302  \n",
       "1    119679  495660  \n",
       "2     82045  320453  \n",
       "3     92949  377148  \n",
       "4     71280  312802  \n",
       "..      ...     ...  \n",
       "995   70083  177953  \n",
       "996   68648  103703  \n",
       "997  108354  450011  \n",
       "998   79035  330354  \n",
       "999  108444  364436  \n",
       "\n",
       "[1000 rows x 6 columns]>"
      ]
     },
     "execution_count": 43,
     "metadata": {},
     "output_type": "execute_result"
    }
   ],
   "source": [
    "df.isnull"
   ]
  },
  {
   "cell_type": "markdown",
   "id": "e5110014-23e5-4bae-81f0-2b9cfa3c5883",
   "metadata": {},
   "source": [
    "- If null shows True else False"
   ]
  },
  {
   "cell_type": "markdown",
   "id": "c3657e30-d7ce-4300-b91b-e656d412ce78",
   "metadata": {},
   "source": [
    "#### 🔰 FIND THE TOTAL SUM OF MISSING VALUE"
   ]
  },
  {
   "cell_type": "code",
   "execution_count": 46,
   "id": "0b080cd1-75ed-4c33-b5ca-44f724a854a7",
   "metadata": {},
   "outputs": [
    {
     "data": {
      "text/plain": [
       "division              0\n",
       "level of education    0\n",
       "training level        0\n",
       "work experience       0\n",
       "salary                0\n",
       "sales                 0\n",
       "dtype: int64"
      ]
     },
     "execution_count": 46,
     "metadata": {},
     "output_type": "execute_result"
    }
   ],
   "source": [
    "df.isnull().sum()"
   ]
  },
  {
   "cell_type": "markdown",
   "id": "ea8bdcb1-3ea6-4f55-a0ce-003a3f5a1bcf",
   "metadata": {},
   "source": [
    "____________"
   ]
  },
  {
   "cell_type": "markdown",
   "id": "5dc9af86-d3f2-4b25-82ed-dbc38a31ee1f",
   "metadata": {},
   "source": [
    "### 🔰 HANDILING MISSING VALUES"
   ]
  },
  {
   "cell_type": "markdown",
   "id": "8e2f795f-3bb5-4889-91d2-bd60f3c4a9b5",
   "metadata": {},
   "source": [
    "- DROPNA()\n",
    "- FILLNA()"
   ]
  },
  {
   "cell_type": "markdown",
   "id": "c8276345-4676-49f0-a922-afc7bfee73f8",
   "metadata": {},
   "source": [
    "#### 🔰 DELETING THE MISSING VALUES"
   ]
  },
  {
   "cell_type": "code",
   "execution_count": 48,
   "id": "c5ba6dfd-74d8-4d33-9c3e-910467155e4e",
   "metadata": {},
   "outputs": [
    {
     "data": {
      "text/html": [
       "<div>\n",
       "<style scoped>\n",
       "    .dataframe tbody tr th:only-of-type {\n",
       "        vertical-align: middle;\n",
       "    }\n",
       "\n",
       "    .dataframe tbody tr th {\n",
       "        vertical-align: top;\n",
       "    }\n",
       "\n",
       "    .dataframe thead th {\n",
       "        text-align: right;\n",
       "    }\n",
       "</style>\n",
       "<table border=\"1\" class=\"dataframe\">\n",
       "  <thead>\n",
       "    <tr style=\"text-align: right;\">\n",
       "      <th></th>\n",
       "      <th>division</th>\n",
       "      <th>level of education</th>\n",
       "      <th>training level</th>\n",
       "      <th>work experience</th>\n",
       "      <th>salary</th>\n",
       "      <th>sales</th>\n",
       "    </tr>\n",
       "  </thead>\n",
       "  <tbody>\n",
       "    <tr>\n",
       "      <th>0</th>\n",
       "      <td>printers</td>\n",
       "      <td>some college</td>\n",
       "      <td>2</td>\n",
       "      <td>6</td>\n",
       "      <td>91684</td>\n",
       "      <td>372302</td>\n",
       "    </tr>\n",
       "    <tr>\n",
       "      <th>1</th>\n",
       "      <td>printers</td>\n",
       "      <td>associate's degree</td>\n",
       "      <td>2</td>\n",
       "      <td>10</td>\n",
       "      <td>119679</td>\n",
       "      <td>495660</td>\n",
       "    </tr>\n",
       "    <tr>\n",
       "      <th>2</th>\n",
       "      <td>peripherals</td>\n",
       "      <td>high school</td>\n",
       "      <td>0</td>\n",
       "      <td>9</td>\n",
       "      <td>82045</td>\n",
       "      <td>320453</td>\n",
       "    </tr>\n",
       "    <tr>\n",
       "      <th>3</th>\n",
       "      <td>office supplies</td>\n",
       "      <td>associate's degree</td>\n",
       "      <td>2</td>\n",
       "      <td>5</td>\n",
       "      <td>92949</td>\n",
       "      <td>377148</td>\n",
       "    </tr>\n",
       "    <tr>\n",
       "      <th>4</th>\n",
       "      <td>office supplies</td>\n",
       "      <td>high school</td>\n",
       "      <td>1</td>\n",
       "      <td>5</td>\n",
       "      <td>71280</td>\n",
       "      <td>312802</td>\n",
       "    </tr>\n",
       "    <tr>\n",
       "      <th>...</th>\n",
       "      <td>...</td>\n",
       "      <td>...</td>\n",
       "      <td>...</td>\n",
       "      <td>...</td>\n",
       "      <td>...</td>\n",
       "      <td>...</td>\n",
       "    </tr>\n",
       "    <tr>\n",
       "      <th>995</th>\n",
       "      <td>computer hardware</td>\n",
       "      <td>associate's degree</td>\n",
       "      <td>1</td>\n",
       "      <td>1</td>\n",
       "      <td>70083</td>\n",
       "      <td>177953</td>\n",
       "    </tr>\n",
       "    <tr>\n",
       "      <th>996</th>\n",
       "      <td>computer software</td>\n",
       "      <td>associate's degree</td>\n",
       "      <td>1</td>\n",
       "      <td>0</td>\n",
       "      <td>68648</td>\n",
       "      <td>103703</td>\n",
       "    </tr>\n",
       "    <tr>\n",
       "      <th>997</th>\n",
       "      <td>peripherals</td>\n",
       "      <td>associate's degree</td>\n",
       "      <td>2</td>\n",
       "      <td>8</td>\n",
       "      <td>108354</td>\n",
       "      <td>450011</td>\n",
       "    </tr>\n",
       "    <tr>\n",
       "      <th>998</th>\n",
       "      <td>peripherals</td>\n",
       "      <td>associate's degree</td>\n",
       "      <td>2</td>\n",
       "      <td>3</td>\n",
       "      <td>79035</td>\n",
       "      <td>330354</td>\n",
       "    </tr>\n",
       "    <tr>\n",
       "      <th>999</th>\n",
       "      <td>computer hardware</td>\n",
       "      <td>some college</td>\n",
       "      <td>0</td>\n",
       "      <td>9</td>\n",
       "      <td>108444</td>\n",
       "      <td>364436</td>\n",
       "    </tr>\n",
       "  </tbody>\n",
       "</table>\n",
       "<p>1000 rows × 6 columns</p>\n",
       "</div>"
      ],
      "text/plain": [
       "              division  level of education  training level  work experience  \\\n",
       "0             printers        some college               2                6   \n",
       "1             printers  associate's degree               2               10   \n",
       "2          peripherals         high school               0                9   \n",
       "3      office supplies  associate's degree               2                5   \n",
       "4      office supplies         high school               1                5   \n",
       "..                 ...                 ...             ...              ...   \n",
       "995  computer hardware  associate's degree               1                1   \n",
       "996  computer software  associate's degree               1                0   \n",
       "997        peripherals  associate's degree               2                8   \n",
       "998        peripherals  associate's degree               2                3   \n",
       "999  computer hardware        some college               0                9   \n",
       "\n",
       "     salary   sales  \n",
       "0     91684  372302  \n",
       "1    119679  495660  \n",
       "2     82045  320453  \n",
       "3     92949  377148  \n",
       "4     71280  312802  \n",
       "..      ...     ...  \n",
       "995   70083  177953  \n",
       "996   68648  103703  \n",
       "997  108354  450011  \n",
       "998   79035  330354  \n",
       "999  108444  364436  \n",
       "\n",
       "[1000 rows x 6 columns]"
      ]
     },
     "execution_count": 48,
     "metadata": {},
     "output_type": "execute_result"
    }
   ],
   "source": [
    "df.dropna()     # drops na and nan\n",
    "                # not a permenent operation"
   ]
  },
  {
   "cell_type": "markdown",
   "id": "6cfed81c-c911-4f90-8bd8-490d54bfb3c3",
   "metadata": {},
   "source": [
    "#### 🔰 FOR PERMENENT DELETION - 2 METHODS"
   ]
  },
  {
   "cell_type": "code",
   "execution_count": null,
   "id": "d49c4598-8870-44bb-94f4-fa2a2a56a7a7",
   "metadata": {},
   "outputs": [],
   "source": [
    "df.dropna(inplace = True)    # or"
   ]
  },
  {
   "cell_type": "code",
   "execution_count": null,
   "id": "52c878e8-4291-42fd-927f-27337b83c4a0",
   "metadata": {},
   "outputs": [],
   "source": [
    "df = df.dropna()"
   ]
  },
  {
   "cell_type": "markdown",
   "id": "f9a018e9-8b02-488d-86a2-21cf6e823f39",
   "metadata": {},
   "source": [
    "#### 🔰 FOR FILLING VALUES WITH MISSING VALUES"
   ]
  },
  {
   "cell_type": "markdown",
   "id": "5ce0895e-e0cd-44a4-9066-17769751c0ed",
   "metadata": {},
   "source": [
    "- Values to be filled, should be provided inside the brackets.\n",
    "- Since it is generic, it fills the Missing values through out the rows and columns."
   ]
  },
  {
   "cell_type": "code",
   "execution_count": 49,
   "id": "96680b01-5099-445d-9c79-1a93e07598d8",
   "metadata": {},
   "outputs": [
    {
     "data": {
      "text/html": [
       "<div>\n",
       "<style scoped>\n",
       "    .dataframe tbody tr th:only-of-type {\n",
       "        vertical-align: middle;\n",
       "    }\n",
       "\n",
       "    .dataframe tbody tr th {\n",
       "        vertical-align: top;\n",
       "    }\n",
       "\n",
       "    .dataframe thead th {\n",
       "        text-align: right;\n",
       "    }\n",
       "</style>\n",
       "<table border=\"1\" class=\"dataframe\">\n",
       "  <thead>\n",
       "    <tr style=\"text-align: right;\">\n",
       "      <th></th>\n",
       "      <th>division</th>\n",
       "      <th>level of education</th>\n",
       "      <th>training level</th>\n",
       "      <th>work experience</th>\n",
       "      <th>salary</th>\n",
       "      <th>sales</th>\n",
       "    </tr>\n",
       "  </thead>\n",
       "  <tbody>\n",
       "    <tr>\n",
       "      <th>0</th>\n",
       "      <td>printers</td>\n",
       "      <td>some college</td>\n",
       "      <td>2</td>\n",
       "      <td>6</td>\n",
       "      <td>91684</td>\n",
       "      <td>372302</td>\n",
       "    </tr>\n",
       "    <tr>\n",
       "      <th>1</th>\n",
       "      <td>printers</td>\n",
       "      <td>associate's degree</td>\n",
       "      <td>2</td>\n",
       "      <td>10</td>\n",
       "      <td>119679</td>\n",
       "      <td>495660</td>\n",
       "    </tr>\n",
       "    <tr>\n",
       "      <th>2</th>\n",
       "      <td>peripherals</td>\n",
       "      <td>high school</td>\n",
       "      <td>0</td>\n",
       "      <td>9</td>\n",
       "      <td>82045</td>\n",
       "      <td>320453</td>\n",
       "    </tr>\n",
       "    <tr>\n",
       "      <th>3</th>\n",
       "      <td>office supplies</td>\n",
       "      <td>associate's degree</td>\n",
       "      <td>2</td>\n",
       "      <td>5</td>\n",
       "      <td>92949</td>\n",
       "      <td>377148</td>\n",
       "    </tr>\n",
       "    <tr>\n",
       "      <th>4</th>\n",
       "      <td>office supplies</td>\n",
       "      <td>high school</td>\n",
       "      <td>1</td>\n",
       "      <td>5</td>\n",
       "      <td>71280</td>\n",
       "      <td>312802</td>\n",
       "    </tr>\n",
       "    <tr>\n",
       "      <th>...</th>\n",
       "      <td>...</td>\n",
       "      <td>...</td>\n",
       "      <td>...</td>\n",
       "      <td>...</td>\n",
       "      <td>...</td>\n",
       "      <td>...</td>\n",
       "    </tr>\n",
       "    <tr>\n",
       "      <th>995</th>\n",
       "      <td>computer hardware</td>\n",
       "      <td>associate's degree</td>\n",
       "      <td>1</td>\n",
       "      <td>1</td>\n",
       "      <td>70083</td>\n",
       "      <td>177953</td>\n",
       "    </tr>\n",
       "    <tr>\n",
       "      <th>996</th>\n",
       "      <td>computer software</td>\n",
       "      <td>associate's degree</td>\n",
       "      <td>1</td>\n",
       "      <td>0</td>\n",
       "      <td>68648</td>\n",
       "      <td>103703</td>\n",
       "    </tr>\n",
       "    <tr>\n",
       "      <th>997</th>\n",
       "      <td>peripherals</td>\n",
       "      <td>associate's degree</td>\n",
       "      <td>2</td>\n",
       "      <td>8</td>\n",
       "      <td>108354</td>\n",
       "      <td>450011</td>\n",
       "    </tr>\n",
       "    <tr>\n",
       "      <th>998</th>\n",
       "      <td>peripherals</td>\n",
       "      <td>associate's degree</td>\n",
       "      <td>2</td>\n",
       "      <td>3</td>\n",
       "      <td>79035</td>\n",
       "      <td>330354</td>\n",
       "    </tr>\n",
       "    <tr>\n",
       "      <th>999</th>\n",
       "      <td>computer hardware</td>\n",
       "      <td>some college</td>\n",
       "      <td>0</td>\n",
       "      <td>9</td>\n",
       "      <td>108444</td>\n",
       "      <td>364436</td>\n",
       "    </tr>\n",
       "  </tbody>\n",
       "</table>\n",
       "<p>1000 rows × 6 columns</p>\n",
       "</div>"
      ],
      "text/plain": [
       "              division  level of education  training level  work experience  \\\n",
       "0             printers        some college               2                6   \n",
       "1             printers  associate's degree               2               10   \n",
       "2          peripherals         high school               0                9   \n",
       "3      office supplies  associate's degree               2                5   \n",
       "4      office supplies         high school               1                5   \n",
       "..                 ...                 ...             ...              ...   \n",
       "995  computer hardware  associate's degree               1                1   \n",
       "996  computer software  associate's degree               1                0   \n",
       "997        peripherals  associate's degree               2                8   \n",
       "998        peripherals  associate's degree               2                3   \n",
       "999  computer hardware        some college               0                9   \n",
       "\n",
       "     salary   sales  \n",
       "0     91684  372302  \n",
       "1    119679  495660  \n",
       "2     82045  320453  \n",
       "3     92949  377148  \n",
       "4     71280  312802  \n",
       "..      ...     ...  \n",
       "995   70083  177953  \n",
       "996   68648  103703  \n",
       "997  108354  450011  \n",
       "998   79035  330354  \n",
       "999  108444  364436  \n",
       "\n",
       "[1000 rows x 6 columns]"
      ]
     },
     "execution_count": 49,
     "metadata": {},
     "output_type": "execute_result"
    }
   ],
   "source": [
    "df.fillna('value')"
   ]
  },
  {
   "cell_type": "markdown",
   "id": "8f64a932-9000-45d0-ad3f-9f3fc33b22b6",
   "metadata": {},
   "source": [
    "#### 🔰 FOR FILLING VALUES TO SPECIFIC COLUMNS "
   ]
  },
  {
   "cell_type": "code",
   "execution_count": 51,
   "id": "15ea8c65-b4ae-428e-91ae-2719b2d96879",
   "metadata": {},
   "outputs": [
    {
     "data": {
      "text/plain": [
       "0               printers\n",
       "1               printers\n",
       "2            peripherals\n",
       "3        office supplies\n",
       "4        office supplies\n",
       "             ...        \n",
       "995    computer hardware\n",
       "996    computer software\n",
       "997          peripherals\n",
       "998          peripherals\n",
       "999    computer hardware\n",
       "Name: division, Length: 1000, dtype: object"
      ]
     },
     "execution_count": 51,
     "metadata": {},
     "output_type": "execute_result"
    }
   ],
   "source": [
    "df['division'].fillna('printers')"
   ]
  },
  {
   "cell_type": "code",
   "execution_count": 54,
   "id": "22dad55f-bd76-4de7-8fc6-59d67090a810",
   "metadata": {},
   "outputs": [
    {
     "data": {
      "text/plain": [
       "90264.207"
      ]
     },
     "execution_count": 54,
     "metadata": {},
     "output_type": "execute_result"
    }
   ],
   "source": [
    "np.mean(df['salary'])"
   ]
  },
  {
   "cell_type": "code",
   "execution_count": 55,
   "id": "dd5caa0c-3b62-4781-b8bf-b44fbb589238",
   "metadata": {},
   "outputs": [
    {
     "data": {
      "text/plain": [
       "0       91684\n",
       "1      119679\n",
       "2       82045\n",
       "3       92949\n",
       "4       71280\n",
       "        ...  \n",
       "995     70083\n",
       "996     68648\n",
       "997    108354\n",
       "998     79035\n",
       "999    108444\n",
       "Name: salary, Length: 1000, dtype: int64"
      ]
     },
     "execution_count": 55,
     "metadata": {},
     "output_type": "execute_result"
    }
   ],
   "source": [
    "df['salary'].fillna(90264.20)"
   ]
  },
  {
   "cell_type": "markdown",
   "id": "e37d935f-3162-4ff8-ac1d-42febea0fade",
   "metadata": {},
   "source": [
    "_________________"
   ]
  },
  {
   "cell_type": "markdown",
   "id": "aca66cb8-bfba-44fb-9d6f-43e0d6e0b937",
   "metadata": {},
   "source": [
    "### ⚜️ FINDING VALUE COUNTS OF CATEGORICAL COLUMN"
   ]
  },
  {
   "cell_type": "code",
   "execution_count": 56,
   "id": "7511f547-65ba-465e-9a26-9682db52a994",
   "metadata": {},
   "outputs": [
    {
     "data": {
      "text/plain": [
       "division\n",
       "office supplies      252\n",
       "printers             250\n",
       "peripherals          243\n",
       "computer hardware    159\n",
       "computer software     96\n",
       "Name: count, dtype: int64"
      ]
     },
     "execution_count": 56,
     "metadata": {},
     "output_type": "execute_result"
    }
   ],
   "source": [
    "df['division'].value_counts()"
   ]
  },
  {
   "cell_type": "markdown",
   "id": "18b702d2-09f8-4816-b34f-9df1451b2e60",
   "metadata": {},
   "source": [
    "________________________"
   ]
  },
  {
   "cell_type": "markdown",
   "id": "06de0b7f-180f-4ecf-888c-6039ac274488",
   "metadata": {},
   "source": [
    "#### ⚜️ SUMMARIZING DATA BY  WITH CATEGORICAL COLUMN WITH GROUPBY AND AGGREGATION FUNCTION"
   ]
  },
  {
   "cell_type": "markdown",
   "id": "ec157cba-c70d-49e3-9045-00ce457ffbf0",
   "metadata": {},
   "source": [
    "- aggregation function: sum(), max(), min(), count(), describe() etc\n",
    "- For mean(), it gives Type Error"
   ]
  },
  {
   "cell_type": "code",
   "execution_count": 59,
   "id": "416c5b2f-5838-4dcd-9695-6bb0261dbd2b",
   "metadata": {},
   "outputs": [
    {
     "data": {
      "text/html": [
       "<div>\n",
       "<style scoped>\n",
       "    .dataframe tbody tr th:only-of-type {\n",
       "        vertical-align: middle;\n",
       "    }\n",
       "\n",
       "    .dataframe tbody tr th {\n",
       "        vertical-align: top;\n",
       "    }\n",
       "\n",
       "    .dataframe thead th {\n",
       "        text-align: right;\n",
       "    }\n",
       "</style>\n",
       "<table border=\"1\" class=\"dataframe\">\n",
       "  <thead>\n",
       "    <tr style=\"text-align: right;\">\n",
       "      <th></th>\n",
       "      <th>division</th>\n",
       "      <th>training level</th>\n",
       "      <th>work experience</th>\n",
       "      <th>salary</th>\n",
       "      <th>sales</th>\n",
       "    </tr>\n",
       "    <tr>\n",
       "      <th>level of education</th>\n",
       "      <th></th>\n",
       "      <th></th>\n",
       "      <th></th>\n",
       "      <th></th>\n",
       "      <th></th>\n",
       "    </tr>\n",
       "  </thead>\n",
       "  <tbody>\n",
       "    <tr>\n",
       "      <th>associate's degree</th>\n",
       "      <td>printers</td>\n",
       "      <td>3</td>\n",
       "      <td>15</td>\n",
       "      <td>159148</td>\n",
       "      <td>761477</td>\n",
       "    </tr>\n",
       "    <tr>\n",
       "      <th>bachelor's degree</th>\n",
       "      <td>printers</td>\n",
       "      <td>3</td>\n",
       "      <td>14</td>\n",
       "      <td>131252</td>\n",
       "      <td>547429</td>\n",
       "    </tr>\n",
       "    <tr>\n",
       "      <th>high school</th>\n",
       "      <td>printers</td>\n",
       "      <td>3</td>\n",
       "      <td>14</td>\n",
       "      <td>128460</td>\n",
       "      <td>615221</td>\n",
       "    </tr>\n",
       "    <tr>\n",
       "      <th>master's degree</th>\n",
       "      <td>printers</td>\n",
       "      <td>3</td>\n",
       "      <td>8</td>\n",
       "      <td>96587</td>\n",
       "      <td>366637</td>\n",
       "    </tr>\n",
       "    <tr>\n",
       "      <th>some college</th>\n",
       "      <td>printers</td>\n",
       "      <td>3</td>\n",
       "      <td>16</td>\n",
       "      <td>143988</td>\n",
       "      <td>677672</td>\n",
       "    </tr>\n",
       "  </tbody>\n",
       "</table>\n",
       "</div>"
      ],
      "text/plain": [
       "                    division  training level  work experience  salary   sales\n",
       "level of education                                                           \n",
       "associate's degree  printers               3               15  159148  761477\n",
       "bachelor's degree   printers               3               14  131252  547429\n",
       "high school         printers               3               14  128460  615221\n",
       "master's degree     printers               3                8   96587  366637\n",
       "some college        printers               3               16  143988  677672"
      ]
     },
     "execution_count": 59,
     "metadata": {},
     "output_type": "execute_result"
    }
   ],
   "source": [
    "df.groupby('level of education').max()"
   ]
  },
  {
   "cell_type": "code",
   "execution_count": 63,
   "id": "ad482620-a272-46ad-9792-befd6d02e898",
   "metadata": {},
   "outputs": [
    {
     "data": {
      "text/html": [
       "<div>\n",
       "<style scoped>\n",
       "    .dataframe tbody tr th:only-of-type {\n",
       "        vertical-align: middle;\n",
       "    }\n",
       "\n",
       "    .dataframe tbody tr th {\n",
       "        vertical-align: top;\n",
       "    }\n",
       "\n",
       "    .dataframe thead th {\n",
       "        text-align: right;\n",
       "    }\n",
       "</style>\n",
       "<table border=\"1\" class=\"dataframe\">\n",
       "  <thead>\n",
       "    <tr style=\"text-align: right;\">\n",
       "      <th></th>\n",
       "      <th>division</th>\n",
       "      <th>training level</th>\n",
       "      <th>work experience</th>\n",
       "      <th>salary</th>\n",
       "      <th>sales</th>\n",
       "    </tr>\n",
       "    <tr>\n",
       "      <th>level of education</th>\n",
       "      <th></th>\n",
       "      <th></th>\n",
       "      <th></th>\n",
       "      <th></th>\n",
       "      <th></th>\n",
       "    </tr>\n",
       "  </thead>\n",
       "  <tbody>\n",
       "    <tr>\n",
       "      <th>associate's degree</th>\n",
       "      <td>printersoffice suppliesperipheralsprinterscomp...</td>\n",
       "      <td>507</td>\n",
       "      <td>2599</td>\n",
       "      <td>38380441</td>\n",
       "      <td>141549223</td>\n",
       "    </tr>\n",
       "    <tr>\n",
       "      <th>bachelor's degree</th>\n",
       "      <td>printersoffice suppliescomputer softwareoffice...</td>\n",
       "      <td>106</td>\n",
       "      <td>490</td>\n",
       "      <td>8001370</td>\n",
       "      <td>27584129</td>\n",
       "    </tr>\n",
       "    <tr>\n",
       "      <th>high school</th>\n",
       "      <td>peripheralsoffice suppliesperipheralsperiphera...</td>\n",
       "      <td>149</td>\n",
       "      <td>634</td>\n",
       "      <td>9059834</td>\n",
       "      <td>36671585</td>\n",
       "    </tr>\n",
       "    <tr>\n",
       "      <th>master's degree</th>\n",
       "      <td>office suppliesprinterscomputer hardware</td>\n",
       "      <td>4</td>\n",
       "      <td>16</td>\n",
       "      <td>281154</td>\n",
       "      <td>986438</td>\n",
       "    </tr>\n",
       "    <tr>\n",
       "      <th>some college</th>\n",
       "      <td>printerscomputer hardwareoffice suppliesoffice...</td>\n",
       "      <td>496</td>\n",
       "      <td>2403</td>\n",
       "      <td>34541408</td>\n",
       "      <td>133042471</td>\n",
       "    </tr>\n",
       "  </tbody>\n",
       "</table>\n",
       "</div>"
      ],
      "text/plain": [
       "                                                             division  \\\n",
       "level of education                                                      \n",
       "associate's degree  printersoffice suppliesperipheralsprinterscomp...   \n",
       "bachelor's degree   printersoffice suppliescomputer softwareoffice...   \n",
       "high school         peripheralsoffice suppliesperipheralsperiphera...   \n",
       "master's degree              office suppliesprinterscomputer hardware   \n",
       "some college        printerscomputer hardwareoffice suppliesoffice...   \n",
       "\n",
       "                    training level  work experience    salary      sales  \n",
       "level of education                                                        \n",
       "associate's degree             507             2599  38380441  141549223  \n",
       "bachelor's degree              106              490   8001370   27584129  \n",
       "high school                    149              634   9059834   36671585  \n",
       "master's degree                  4               16    281154     986438  \n",
       "some college                   496             2403  34541408  133042471  "
      ]
     },
     "execution_count": 63,
     "metadata": {},
     "output_type": "execute_result"
    }
   ],
   "source": [
    "df.groupby('level of education').sum()"
   ]
  },
  {
   "cell_type": "code",
   "execution_count": 72,
   "id": "bd0ec2ba-7c8b-4d6f-817a-5dbf70ccecae",
   "metadata": {},
   "outputs": [
    {
     "data": {
      "text/html": [
       "<div>\n",
       "<style scoped>\n",
       "    .dataframe tbody tr th:only-of-type {\n",
       "        vertical-align: middle;\n",
       "    }\n",
       "\n",
       "    .dataframe tbody tr th {\n",
       "        vertical-align: top;\n",
       "    }\n",
       "\n",
       "    .dataframe thead th {\n",
       "        text-align: right;\n",
       "    }\n",
       "</style>\n",
       "<table border=\"1\" class=\"dataframe\">\n",
       "  <thead>\n",
       "    <tr style=\"text-align: right;\">\n",
       "      <th></th>\n",
       "      <th>division</th>\n",
       "      <th>level of education</th>\n",
       "    </tr>\n",
       "  </thead>\n",
       "  <tbody>\n",
       "    <tr>\n",
       "      <th>0</th>\n",
       "      <td>printers</td>\n",
       "      <td>some college</td>\n",
       "    </tr>\n",
       "    <tr>\n",
       "      <th>1</th>\n",
       "      <td>printers</td>\n",
       "      <td>associate's degree</td>\n",
       "    </tr>\n",
       "    <tr>\n",
       "      <th>2</th>\n",
       "      <td>peripherals</td>\n",
       "      <td>high school</td>\n",
       "    </tr>\n",
       "    <tr>\n",
       "      <th>3</th>\n",
       "      <td>office supplies</td>\n",
       "      <td>associate's degree</td>\n",
       "    </tr>\n",
       "    <tr>\n",
       "      <th>4</th>\n",
       "      <td>office supplies</td>\n",
       "      <td>high school</td>\n",
       "    </tr>\n",
       "    <tr>\n",
       "      <th>...</th>\n",
       "      <td>...</td>\n",
       "      <td>...</td>\n",
       "    </tr>\n",
       "    <tr>\n",
       "      <th>995</th>\n",
       "      <td>computer hardware</td>\n",
       "      <td>associate's degree</td>\n",
       "    </tr>\n",
       "    <tr>\n",
       "      <th>996</th>\n",
       "      <td>computer software</td>\n",
       "      <td>associate's degree</td>\n",
       "    </tr>\n",
       "    <tr>\n",
       "      <th>997</th>\n",
       "      <td>peripherals</td>\n",
       "      <td>associate's degree</td>\n",
       "    </tr>\n",
       "    <tr>\n",
       "      <th>998</th>\n",
       "      <td>peripherals</td>\n",
       "      <td>associate's degree</td>\n",
       "    </tr>\n",
       "    <tr>\n",
       "      <th>999</th>\n",
       "      <td>computer hardware</td>\n",
       "      <td>some college</td>\n",
       "    </tr>\n",
       "  </tbody>\n",
       "</table>\n",
       "<p>1000 rows × 2 columns</p>\n",
       "</div>"
      ],
      "text/plain": [
       "              division  level of education\n",
       "0             printers        some college\n",
       "1             printers  associate's degree\n",
       "2          peripherals         high school\n",
       "3      office supplies  associate's degree\n",
       "4      office supplies         high school\n",
       "..                 ...                 ...\n",
       "995  computer hardware  associate's degree\n",
       "996  computer software  associate's degree\n",
       "997        peripherals  associate's degree\n",
       "998        peripherals  associate's degree\n",
       "999  computer hardware        some college\n",
       "\n",
       "[1000 rows x 2 columns]"
      ]
     },
     "execution_count": 72,
     "metadata": {},
     "output_type": "execute_result"
    }
   ],
   "source": [
    "df.select_dtypes(include=object)"
   ]
  },
  {
   "cell_type": "code",
   "execution_count": 73,
   "id": "aac7ba72-f454-4fb2-921c-269fc7a67b0e",
   "metadata": {},
   "outputs": [
    {
     "data": {
      "text/html": [
       "<div>\n",
       "<style scoped>\n",
       "    .dataframe tbody tr th:only-of-type {\n",
       "        vertical-align: middle;\n",
       "    }\n",
       "\n",
       "    .dataframe tbody tr th {\n",
       "        vertical-align: top;\n",
       "    }\n",
       "\n",
       "    .dataframe thead th {\n",
       "        text-align: right;\n",
       "    }\n",
       "</style>\n",
       "<table border=\"1\" class=\"dataframe\">\n",
       "  <thead>\n",
       "    <tr style=\"text-align: right;\">\n",
       "      <th></th>\n",
       "      <th>training level</th>\n",
       "      <th>work experience</th>\n",
       "      <th>salary</th>\n",
       "      <th>sales</th>\n",
       "    </tr>\n",
       "  </thead>\n",
       "  <tbody>\n",
       "    <tr>\n",
       "      <th>0</th>\n",
       "      <td>2</td>\n",
       "      <td>6</td>\n",
       "      <td>91684</td>\n",
       "      <td>372302</td>\n",
       "    </tr>\n",
       "    <tr>\n",
       "      <th>1</th>\n",
       "      <td>2</td>\n",
       "      <td>10</td>\n",
       "      <td>119679</td>\n",
       "      <td>495660</td>\n",
       "    </tr>\n",
       "    <tr>\n",
       "      <th>2</th>\n",
       "      <td>0</td>\n",
       "      <td>9</td>\n",
       "      <td>82045</td>\n",
       "      <td>320453</td>\n",
       "    </tr>\n",
       "    <tr>\n",
       "      <th>3</th>\n",
       "      <td>2</td>\n",
       "      <td>5</td>\n",
       "      <td>92949</td>\n",
       "      <td>377148</td>\n",
       "    </tr>\n",
       "    <tr>\n",
       "      <th>4</th>\n",
       "      <td>1</td>\n",
       "      <td>5</td>\n",
       "      <td>71280</td>\n",
       "      <td>312802</td>\n",
       "    </tr>\n",
       "    <tr>\n",
       "      <th>...</th>\n",
       "      <td>...</td>\n",
       "      <td>...</td>\n",
       "      <td>...</td>\n",
       "      <td>...</td>\n",
       "    </tr>\n",
       "    <tr>\n",
       "      <th>995</th>\n",
       "      <td>1</td>\n",
       "      <td>1</td>\n",
       "      <td>70083</td>\n",
       "      <td>177953</td>\n",
       "    </tr>\n",
       "    <tr>\n",
       "      <th>996</th>\n",
       "      <td>1</td>\n",
       "      <td>0</td>\n",
       "      <td>68648</td>\n",
       "      <td>103703</td>\n",
       "    </tr>\n",
       "    <tr>\n",
       "      <th>997</th>\n",
       "      <td>2</td>\n",
       "      <td>8</td>\n",
       "      <td>108354</td>\n",
       "      <td>450011</td>\n",
       "    </tr>\n",
       "    <tr>\n",
       "      <th>998</th>\n",
       "      <td>2</td>\n",
       "      <td>3</td>\n",
       "      <td>79035</td>\n",
       "      <td>330354</td>\n",
       "    </tr>\n",
       "    <tr>\n",
       "      <th>999</th>\n",
       "      <td>0</td>\n",
       "      <td>9</td>\n",
       "      <td>108444</td>\n",
       "      <td>364436</td>\n",
       "    </tr>\n",
       "  </tbody>\n",
       "</table>\n",
       "<p>1000 rows × 4 columns</p>\n",
       "</div>"
      ],
      "text/plain": [
       "     training level  work experience  salary   sales\n",
       "0                 2                6   91684  372302\n",
       "1                 2               10  119679  495660\n",
       "2                 0                9   82045  320453\n",
       "3                 2                5   92949  377148\n",
       "4                 1                5   71280  312802\n",
       "..              ...              ...     ...     ...\n",
       "995               1                1   70083  177953\n",
       "996               1                0   68648  103703\n",
       "997               2                8  108354  450011\n",
       "998               2                3   79035  330354\n",
       "999               0                9  108444  364436\n",
       "\n",
       "[1000 rows x 4 columns]"
      ]
     },
     "execution_count": 73,
     "metadata": {},
     "output_type": "execute_result"
    }
   ],
   "source": [
    "df.select_dtypes(exclude=object)"
   ]
  },
  {
   "cell_type": "markdown",
   "id": "b3f3ef0e-36ba-4a97-998f-f40393f60a94",
   "metadata": {},
   "source": [
    "#### 💠 FOR GROUPING MEAN "
   ]
  },
  {
   "cell_type": "code",
   "execution_count": 68,
   "id": "63a12cf6-c97e-4aa5-9d77-c2576ab5d817",
   "metadata": {},
   "outputs": [
    {
     "data": {
      "text/html": [
       "<div>\n",
       "<style scoped>\n",
       "    .dataframe tbody tr th:only-of-type {\n",
       "        vertical-align: middle;\n",
       "    }\n",
       "\n",
       "    .dataframe tbody tr th {\n",
       "        vertical-align: top;\n",
       "    }\n",
       "\n",
       "    .dataframe thead th {\n",
       "        text-align: right;\n",
       "    }\n",
       "</style>\n",
       "<table border=\"1\" class=\"dataframe\">\n",
       "  <thead>\n",
       "    <tr style=\"text-align: right;\">\n",
       "      <th></th>\n",
       "      <th>training level</th>\n",
       "      <th>work experience</th>\n",
       "      <th>salary</th>\n",
       "      <th>sales</th>\n",
       "    </tr>\n",
       "  </thead>\n",
       "  <tbody>\n",
       "    <tr>\n",
       "      <th>0</th>\n",
       "      <td>2</td>\n",
       "      <td>6</td>\n",
       "      <td>91684</td>\n",
       "      <td>372302</td>\n",
       "    </tr>\n",
       "    <tr>\n",
       "      <th>1</th>\n",
       "      <td>2</td>\n",
       "      <td>10</td>\n",
       "      <td>119679</td>\n",
       "      <td>495660</td>\n",
       "    </tr>\n",
       "    <tr>\n",
       "      <th>2</th>\n",
       "      <td>0</td>\n",
       "      <td>9</td>\n",
       "      <td>82045</td>\n",
       "      <td>320453</td>\n",
       "    </tr>\n",
       "    <tr>\n",
       "      <th>3</th>\n",
       "      <td>2</td>\n",
       "      <td>5</td>\n",
       "      <td>92949</td>\n",
       "      <td>377148</td>\n",
       "    </tr>\n",
       "    <tr>\n",
       "      <th>4</th>\n",
       "      <td>1</td>\n",
       "      <td>5</td>\n",
       "      <td>71280</td>\n",
       "      <td>312802</td>\n",
       "    </tr>\n",
       "    <tr>\n",
       "      <th>...</th>\n",
       "      <td>...</td>\n",
       "      <td>...</td>\n",
       "      <td>...</td>\n",
       "      <td>...</td>\n",
       "    </tr>\n",
       "    <tr>\n",
       "      <th>995</th>\n",
       "      <td>1</td>\n",
       "      <td>1</td>\n",
       "      <td>70083</td>\n",
       "      <td>177953</td>\n",
       "    </tr>\n",
       "    <tr>\n",
       "      <th>996</th>\n",
       "      <td>1</td>\n",
       "      <td>0</td>\n",
       "      <td>68648</td>\n",
       "      <td>103703</td>\n",
       "    </tr>\n",
       "    <tr>\n",
       "      <th>997</th>\n",
       "      <td>2</td>\n",
       "      <td>8</td>\n",
       "      <td>108354</td>\n",
       "      <td>450011</td>\n",
       "    </tr>\n",
       "    <tr>\n",
       "      <th>998</th>\n",
       "      <td>2</td>\n",
       "      <td>3</td>\n",
       "      <td>79035</td>\n",
       "      <td>330354</td>\n",
       "    </tr>\n",
       "    <tr>\n",
       "      <th>999</th>\n",
       "      <td>0</td>\n",
       "      <td>9</td>\n",
       "      <td>108444</td>\n",
       "      <td>364436</td>\n",
       "    </tr>\n",
       "  </tbody>\n",
       "</table>\n",
       "<p>1000 rows × 4 columns</p>\n",
       "</div>"
      ],
      "text/plain": [
       "     training level  work experience  salary   sales\n",
       "0                 2                6   91684  372302\n",
       "1                 2               10  119679  495660\n",
       "2                 0                9   82045  320453\n",
       "3                 2                5   92949  377148\n",
       "4                 1                5   71280  312802\n",
       "..              ...              ...     ...     ...\n",
       "995               1                1   70083  177953\n",
       "996               1                0   68648  103703\n",
       "997               2                8  108354  450011\n",
       "998               2                3   79035  330354\n",
       "999               0                9  108444  364436\n",
       "\n",
       "[1000 rows x 4 columns]"
      ]
     },
     "execution_count": 68,
     "metadata": {},
     "output_type": "execute_result"
    }
   ],
   "source": [
    "numerical_df = df.select_dtypes(include = 'number')\n",
    "numerical_df"
   ]
  },
  {
   "cell_type": "code",
   "execution_count": 75,
   "id": "f89ea6d2-b9a9-4ec1-b53c-0b23b62cb174",
   "metadata": {},
   "outputs": [
    {
     "data": {
      "text/html": [
       "<div>\n",
       "<style scoped>\n",
       "    .dataframe tbody tr th:only-of-type {\n",
       "        vertical-align: middle;\n",
       "    }\n",
       "\n",
       "    .dataframe tbody tr th {\n",
       "        vertical-align: top;\n",
       "    }\n",
       "\n",
       "    .dataframe thead th {\n",
       "        text-align: right;\n",
       "    }\n",
       "</style>\n",
       "<table border=\"1\" class=\"dataframe\">\n",
       "  <thead>\n",
       "    <tr style=\"text-align: right;\">\n",
       "      <th></th>\n",
       "      <th>training level</th>\n",
       "      <th>salary</th>\n",
       "      <th>sales</th>\n",
       "    </tr>\n",
       "    <tr>\n",
       "      <th>work experience</th>\n",
       "      <th></th>\n",
       "      <th></th>\n",
       "      <th></th>\n",
       "    </tr>\n",
       "  </thead>\n",
       "  <tbody>\n",
       "    <tr>\n",
       "      <th>0</th>\n",
       "      <td>1.230769</td>\n",
       "      <td>58485.153846</td>\n",
       "      <td>146553.153846</td>\n",
       "    </tr>\n",
       "    <tr>\n",
       "      <th>1</th>\n",
       "      <td>1.607143</td>\n",
       "      <td>67835.214286</td>\n",
       "      <td>214623.928571</td>\n",
       "    </tr>\n",
       "    <tr>\n",
       "      <th>2</th>\n",
       "      <td>1.313725</td>\n",
       "      <td>68388.196078</td>\n",
       "      <td>214616.823529</td>\n",
       "    </tr>\n",
       "    <tr>\n",
       "      <th>3</th>\n",
       "      <td>1.205128</td>\n",
       "      <td>73935.051282</td>\n",
       "      <td>240141.512821</td>\n",
       "    </tr>\n",
       "    <tr>\n",
       "      <th>4</th>\n",
       "      <td>1.307692</td>\n",
       "      <td>81172.846154</td>\n",
       "      <td>281863.820513</td>\n",
       "    </tr>\n",
       "    <tr>\n",
       "      <th>5</th>\n",
       "      <td>1.135338</td>\n",
       "      <td>84280.781955</td>\n",
       "      <td>300920.774436</td>\n",
       "    </tr>\n",
       "    <tr>\n",
       "      <th>6</th>\n",
       "      <td>1.271318</td>\n",
       "      <td>89069.356589</td>\n",
       "      <td>335767.496124</td>\n",
       "    </tr>\n",
       "    <tr>\n",
       "      <th>7</th>\n",
       "      <td>1.240000</td>\n",
       "      <td>93783.832000</td>\n",
       "      <td>361387.176000</td>\n",
       "    </tr>\n",
       "    <tr>\n",
       "      <th>8</th>\n",
       "      <td>1.284314</td>\n",
       "      <td>99852.911765</td>\n",
       "      <td>394306.813725</td>\n",
       "    </tr>\n",
       "    <tr>\n",
       "      <th>9</th>\n",
       "      <td>1.350649</td>\n",
       "      <td>104834.194805</td>\n",
       "      <td>432249.961039</td>\n",
       "    </tr>\n",
       "    <tr>\n",
       "      <th>10</th>\n",
       "      <td>1.209677</td>\n",
       "      <td>109494.064516</td>\n",
       "      <td>450316.516129</td>\n",
       "    </tr>\n",
       "    <tr>\n",
       "      <th>11</th>\n",
       "      <td>1.433333</td>\n",
       "      <td>115050.833333</td>\n",
       "      <td>494266.066667</td>\n",
       "    </tr>\n",
       "    <tr>\n",
       "      <th>12</th>\n",
       "      <td>1.136364</td>\n",
       "      <td>119348.454545</td>\n",
       "      <td>516760.818182</td>\n",
       "    </tr>\n",
       "    <tr>\n",
       "      <th>13</th>\n",
       "      <td>1.083333</td>\n",
       "      <td>123281.083333</td>\n",
       "      <td>535809.083333</td>\n",
       "    </tr>\n",
       "    <tr>\n",
       "      <th>14</th>\n",
       "      <td>1.000000</td>\n",
       "      <td>123643.000000</td>\n",
       "      <td>559738.750000</td>\n",
       "    </tr>\n",
       "    <tr>\n",
       "      <th>15</th>\n",
       "      <td>1.666667</td>\n",
       "      <td>144669.666667</td>\n",
       "      <td>655399.666667</td>\n",
       "    </tr>\n",
       "    <tr>\n",
       "      <th>16</th>\n",
       "      <td>1.000000</td>\n",
       "      <td>138975.000000</td>\n",
       "      <td>595815.000000</td>\n",
       "    </tr>\n",
       "  </tbody>\n",
       "</table>\n",
       "</div>"
      ],
      "text/plain": [
       "                 training level         salary          sales\n",
       "work experience                                              \n",
       "0                      1.230769   58485.153846  146553.153846\n",
       "1                      1.607143   67835.214286  214623.928571\n",
       "2                      1.313725   68388.196078  214616.823529\n",
       "3                      1.205128   73935.051282  240141.512821\n",
       "4                      1.307692   81172.846154  281863.820513\n",
       "5                      1.135338   84280.781955  300920.774436\n",
       "6                      1.271318   89069.356589  335767.496124\n",
       "7                      1.240000   93783.832000  361387.176000\n",
       "8                      1.284314   99852.911765  394306.813725\n",
       "9                      1.350649  104834.194805  432249.961039\n",
       "10                     1.209677  109494.064516  450316.516129\n",
       "11                     1.433333  115050.833333  494266.066667\n",
       "12                     1.136364  119348.454545  516760.818182\n",
       "13                     1.083333  123281.083333  535809.083333\n",
       "14                     1.000000  123643.000000  559738.750000\n",
       "15                     1.666667  144669.666667  655399.666667\n",
       "16                     1.000000  138975.000000  595815.000000"
      ]
     },
     "execution_count": 75,
     "metadata": {},
     "output_type": "execute_result"
    }
   ],
   "source": [
    "numerical_df.groupby('work experience').mean()"
   ]
  },
  {
   "cell_type": "markdown",
   "id": "b9416001-de9f-483a-9ab4-4ee7b755dd85",
   "metadata": {},
   "source": [
    "_______________"
   ]
  },
  {
   "cell_type": "markdown",
   "id": "c1962812-f3ba-4c85-96f0-646d49a4636f",
   "metadata": {},
   "source": [
    "### ⚜️ COMBINING DATA FRAMES"
   ]
  },
  {
   "cell_type": "markdown",
   "id": "514041d8-9629-4471-85d8-0b05ce6823f8",
   "metadata": {},
   "source": [
    "- pd.concat() for combining data frames."
   ]
  },
  {
   "cell_type": "code",
   "execution_count": 76,
   "id": "350d01c4-3c23-4ba6-862d-90ff260fa072",
   "metadata": {},
   "outputs": [],
   "source": [
    "data_one = {'A':['A0', 'A1', 'A2', 'A3'], 'B':['B0','B1','B2','B3']}\n",
    "data_two = {'C':['C0','C1','C2','C3'], 'D':['C0','C1','C2','C3']}"
   ]
  },
  {
   "cell_type": "code",
   "execution_count": 77,
   "id": "6614b85a-f9dc-4bcd-9560-b1e88fa618b5",
   "metadata": {},
   "outputs": [
    {
     "data": {
      "text/plain": [
       "{'A': ['A0', 'A1', 'A2', 'A3'], 'B': ['B0', 'B1', 'B2', 'B3']}"
      ]
     },
     "execution_count": 77,
     "metadata": {},
     "output_type": "execute_result"
    }
   ],
   "source": [
    "data_one"
   ]
  },
  {
   "cell_type": "code",
   "execution_count": 78,
   "id": "35dbb21d-554c-4b63-ac16-194ca727f257",
   "metadata": {},
   "outputs": [
    {
     "data": {
      "text/plain": [
       "{'C': ['C0', 'C1', 'C2', 'C3'], 'D': ['C0', 'C1', 'C2', 'C3']}"
      ]
     },
     "execution_count": 78,
     "metadata": {},
     "output_type": "execute_result"
    }
   ],
   "source": [
    "data_two"
   ]
  },
  {
   "cell_type": "code",
   "execution_count": 81,
   "id": "6110d809-6e81-4b81-bd14-617d4bc46ed9",
   "metadata": {},
   "outputs": [
    {
     "data": {
      "text/html": [
       "<div>\n",
       "<style scoped>\n",
       "    .dataframe tbody tr th:only-of-type {\n",
       "        vertical-align: middle;\n",
       "    }\n",
       "\n",
       "    .dataframe tbody tr th {\n",
       "        vertical-align: top;\n",
       "    }\n",
       "\n",
       "    .dataframe thead th {\n",
       "        text-align: right;\n",
       "    }\n",
       "</style>\n",
       "<table border=\"1\" class=\"dataframe\">\n",
       "  <thead>\n",
       "    <tr style=\"text-align: right;\">\n",
       "      <th></th>\n",
       "      <th>A</th>\n",
       "      <th>B</th>\n",
       "    </tr>\n",
       "  </thead>\n",
       "  <tbody>\n",
       "    <tr>\n",
       "      <th>0</th>\n",
       "      <td>A0</td>\n",
       "      <td>B0</td>\n",
       "    </tr>\n",
       "    <tr>\n",
       "      <th>1</th>\n",
       "      <td>A1</td>\n",
       "      <td>B1</td>\n",
       "    </tr>\n",
       "    <tr>\n",
       "      <th>2</th>\n",
       "      <td>A2</td>\n",
       "      <td>B2</td>\n",
       "    </tr>\n",
       "    <tr>\n",
       "      <th>3</th>\n",
       "      <td>A3</td>\n",
       "      <td>B3</td>\n",
       "    </tr>\n",
       "  </tbody>\n",
       "</table>\n",
       "</div>"
      ],
      "text/plain": [
       "    A   B\n",
       "0  A0  B0\n",
       "1  A1  B1\n",
       "2  A2  B2\n",
       "3  A3  B3"
      ]
     },
     "execution_count": 81,
     "metadata": {},
     "output_type": "execute_result"
    }
   ],
   "source": [
    "one = pd.DataFrame(data_one)\n",
    "one"
   ]
  },
  {
   "cell_type": "code",
   "execution_count": 82,
   "id": "a8dc1058-f50d-49d5-8c19-0f5b48dbea01",
   "metadata": {},
   "outputs": [
    {
     "data": {
      "text/html": [
       "<div>\n",
       "<style scoped>\n",
       "    .dataframe tbody tr th:only-of-type {\n",
       "        vertical-align: middle;\n",
       "    }\n",
       "\n",
       "    .dataframe tbody tr th {\n",
       "        vertical-align: top;\n",
       "    }\n",
       "\n",
       "    .dataframe thead th {\n",
       "        text-align: right;\n",
       "    }\n",
       "</style>\n",
       "<table border=\"1\" class=\"dataframe\">\n",
       "  <thead>\n",
       "    <tr style=\"text-align: right;\">\n",
       "      <th></th>\n",
       "      <th>C</th>\n",
       "      <th>D</th>\n",
       "    </tr>\n",
       "  </thead>\n",
       "  <tbody>\n",
       "    <tr>\n",
       "      <th>0</th>\n",
       "      <td>C0</td>\n",
       "      <td>C0</td>\n",
       "    </tr>\n",
       "    <tr>\n",
       "      <th>1</th>\n",
       "      <td>C1</td>\n",
       "      <td>C1</td>\n",
       "    </tr>\n",
       "    <tr>\n",
       "      <th>2</th>\n",
       "      <td>C2</td>\n",
       "      <td>C2</td>\n",
       "    </tr>\n",
       "    <tr>\n",
       "      <th>3</th>\n",
       "      <td>C3</td>\n",
       "      <td>C3</td>\n",
       "    </tr>\n",
       "  </tbody>\n",
       "</table>\n",
       "</div>"
      ],
      "text/plain": [
       "    C   D\n",
       "0  C0  C0\n",
       "1  C1  C1\n",
       "2  C2  C2\n",
       "3  C3  C3"
      ]
     },
     "execution_count": 82,
     "metadata": {},
     "output_type": "execute_result"
    }
   ],
   "source": [
    "two = pd.DataFrame(data_two)\n",
    "two"
   ]
  },
  {
   "cell_type": "code",
   "execution_count": null,
   "id": "706132a0-eaea-4afd-b790-a4fe43c8ec36",
   "metadata": {},
   "outputs": [],
   "source": [
    "### axis = 0 concatenate vertically"
   ]
  },
  {
   "cell_type": "code",
   "execution_count": 83,
   "id": "06340fd5-f7f4-4693-8faf-23896c4dd001",
   "metadata": {},
   "outputs": [
    {
     "data": {
      "text/html": [
       "<div>\n",
       "<style scoped>\n",
       "    .dataframe tbody tr th:only-of-type {\n",
       "        vertical-align: middle;\n",
       "    }\n",
       "\n",
       "    .dataframe tbody tr th {\n",
       "        vertical-align: top;\n",
       "    }\n",
       "\n",
       "    .dataframe thead th {\n",
       "        text-align: right;\n",
       "    }\n",
       "</style>\n",
       "<table border=\"1\" class=\"dataframe\">\n",
       "  <thead>\n",
       "    <tr style=\"text-align: right;\">\n",
       "      <th></th>\n",
       "      <th>A</th>\n",
       "      <th>B</th>\n",
       "      <th>C</th>\n",
       "      <th>D</th>\n",
       "    </tr>\n",
       "  </thead>\n",
       "  <tbody>\n",
       "    <tr>\n",
       "      <th>0</th>\n",
       "      <td>A0</td>\n",
       "      <td>B0</td>\n",
       "      <td>NaN</td>\n",
       "      <td>NaN</td>\n",
       "    </tr>\n",
       "    <tr>\n",
       "      <th>1</th>\n",
       "      <td>A1</td>\n",
       "      <td>B1</td>\n",
       "      <td>NaN</td>\n",
       "      <td>NaN</td>\n",
       "    </tr>\n",
       "    <tr>\n",
       "      <th>2</th>\n",
       "      <td>A2</td>\n",
       "      <td>B2</td>\n",
       "      <td>NaN</td>\n",
       "      <td>NaN</td>\n",
       "    </tr>\n",
       "    <tr>\n",
       "      <th>3</th>\n",
       "      <td>A3</td>\n",
       "      <td>B3</td>\n",
       "      <td>NaN</td>\n",
       "      <td>NaN</td>\n",
       "    </tr>\n",
       "    <tr>\n",
       "      <th>0</th>\n",
       "      <td>NaN</td>\n",
       "      <td>NaN</td>\n",
       "      <td>C0</td>\n",
       "      <td>C0</td>\n",
       "    </tr>\n",
       "    <tr>\n",
       "      <th>1</th>\n",
       "      <td>NaN</td>\n",
       "      <td>NaN</td>\n",
       "      <td>C1</td>\n",
       "      <td>C1</td>\n",
       "    </tr>\n",
       "    <tr>\n",
       "      <th>2</th>\n",
       "      <td>NaN</td>\n",
       "      <td>NaN</td>\n",
       "      <td>C2</td>\n",
       "      <td>C2</td>\n",
       "    </tr>\n",
       "    <tr>\n",
       "      <th>3</th>\n",
       "      <td>NaN</td>\n",
       "      <td>NaN</td>\n",
       "      <td>C3</td>\n",
       "      <td>C3</td>\n",
       "    </tr>\n",
       "  </tbody>\n",
       "</table>\n",
       "</div>"
      ],
      "text/plain": [
       "     A    B    C    D\n",
       "0   A0   B0  NaN  NaN\n",
       "1   A1   B1  NaN  NaN\n",
       "2   A2   B2  NaN  NaN\n",
       "3   A3   B3  NaN  NaN\n",
       "0  NaN  NaN   C0   C0\n",
       "1  NaN  NaN   C1   C1\n",
       "2  NaN  NaN   C2   C2\n",
       "3  NaN  NaN   C3   C3"
      ]
     },
     "execution_count": 83,
     "metadata": {},
     "output_type": "execute_result"
    }
   ],
   "source": [
    "pd.concat([one, two], axis =0)"
   ]
  },
  {
   "cell_type": "code",
   "execution_count": 84,
   "id": "74a2c4db-5263-4504-aa3b-b922d6f6b10a",
   "metadata": {},
   "outputs": [
    {
     "data": {
      "text/html": [
       "<div>\n",
       "<style scoped>\n",
       "    .dataframe tbody tr th:only-of-type {\n",
       "        vertical-align: middle;\n",
       "    }\n",
       "\n",
       "    .dataframe tbody tr th {\n",
       "        vertical-align: top;\n",
       "    }\n",
       "\n",
       "    .dataframe thead th {\n",
       "        text-align: right;\n",
       "    }\n",
       "</style>\n",
       "<table border=\"1\" class=\"dataframe\">\n",
       "  <thead>\n",
       "    <tr style=\"text-align: right;\">\n",
       "      <th></th>\n",
       "      <th>A</th>\n",
       "      <th>B</th>\n",
       "      <th>C</th>\n",
       "      <th>D</th>\n",
       "    </tr>\n",
       "  </thead>\n",
       "  <tbody>\n",
       "    <tr>\n",
       "      <th>0</th>\n",
       "      <td>A0</td>\n",
       "      <td>B0</td>\n",
       "      <td>C0</td>\n",
       "      <td>C0</td>\n",
       "    </tr>\n",
       "    <tr>\n",
       "      <th>1</th>\n",
       "      <td>A1</td>\n",
       "      <td>B1</td>\n",
       "      <td>C1</td>\n",
       "      <td>C1</td>\n",
       "    </tr>\n",
       "    <tr>\n",
       "      <th>2</th>\n",
       "      <td>A2</td>\n",
       "      <td>B2</td>\n",
       "      <td>C2</td>\n",
       "      <td>C2</td>\n",
       "    </tr>\n",
       "    <tr>\n",
       "      <th>3</th>\n",
       "      <td>A3</td>\n",
       "      <td>B3</td>\n",
       "      <td>C3</td>\n",
       "      <td>C3</td>\n",
       "    </tr>\n",
       "  </tbody>\n",
       "</table>\n",
       "</div>"
      ],
      "text/plain": [
       "    A   B   C   D\n",
       "0  A0  B0  C0  C0\n",
       "1  A1  B1  C1  C1\n",
       "2  A2  B2  C2  C2\n",
       "3  A3  B3  C3  C3"
      ]
     },
     "execution_count": 84,
     "metadata": {},
     "output_type": "execute_result"
    }
   ],
   "source": [
    "pd.concat([one, two], axis =1)"
   ]
  },
  {
   "cell_type": "code",
   "execution_count": 85,
   "id": "3eb8202d-88e7-4cf9-ad34-0542c9e0e975",
   "metadata": {},
   "outputs": [],
   "source": [
    "# updating column headings"
   ]
  },
  {
   "cell_type": "code",
   "execution_count": 99,
   "id": "9ab4dabe-2a96-48f0-8ca5-43a5ffbf37ec",
   "metadata": {},
   "outputs": [
    {
     "data": {
      "text/plain": [
       "Index(['C', 'D'], dtype='object')"
      ]
     },
     "execution_count": 99,
     "metadata": {},
     "output_type": "execute_result"
    }
   ],
   "source": [
    "two.columns"
   ]
  },
  {
   "cell_type": "code",
   "execution_count": 104,
   "id": "9b0273a4-7c52-4de5-99ec-6da0ad2492c4",
   "metadata": {},
   "outputs": [],
   "source": [
    "two.columns = one.columns"
   ]
  },
  {
   "cell_type": "code",
   "execution_count": 105,
   "id": "5a04cd38-0abd-49cc-bfba-a5f52153b812",
   "metadata": {},
   "outputs": [
    {
     "data": {
      "text/plain": [
       "Index(['A', 'B'], dtype='object')"
      ]
     },
     "execution_count": 105,
     "metadata": {},
     "output_type": "execute_result"
    }
   ],
   "source": [
    "two.columns"
   ]
  },
  {
   "cell_type": "code",
   "execution_count": 106,
   "id": "e3678b05-d502-4ac3-89da-0bc085ed73ae",
   "metadata": {},
   "outputs": [
    {
     "data": {
      "text/plain": [
       "Index(['A', 'B'], dtype='object')"
      ]
     },
     "execution_count": 106,
     "metadata": {},
     "output_type": "execute_result"
    }
   ],
   "source": [
    "one.columns"
   ]
  },
  {
   "cell_type": "code",
   "execution_count": 108,
   "id": "3983eef8-89d2-427c-aa42-20fc6029a3a4",
   "metadata": {},
   "outputs": [],
   "source": [
    "a = pd.concat([one,two], axis =0)"
   ]
  },
  {
   "cell_type": "code",
   "execution_count": 109,
   "id": "25962307-5657-4d13-a063-dd63c76610ea",
   "metadata": {},
   "outputs": [
    {
     "data": {
      "text/html": [
       "<div>\n",
       "<style scoped>\n",
       "    .dataframe tbody tr th:only-of-type {\n",
       "        vertical-align: middle;\n",
       "    }\n",
       "\n",
       "    .dataframe tbody tr th {\n",
       "        vertical-align: top;\n",
       "    }\n",
       "\n",
       "    .dataframe thead th {\n",
       "        text-align: right;\n",
       "    }\n",
       "</style>\n",
       "<table border=\"1\" class=\"dataframe\">\n",
       "  <thead>\n",
       "    <tr style=\"text-align: right;\">\n",
       "      <th></th>\n",
       "      <th>A</th>\n",
       "      <th>B</th>\n",
       "    </tr>\n",
       "  </thead>\n",
       "  <tbody>\n",
       "    <tr>\n",
       "      <th>0</th>\n",
       "      <td>A0</td>\n",
       "      <td>B0</td>\n",
       "    </tr>\n",
       "    <tr>\n",
       "      <th>1</th>\n",
       "      <td>A1</td>\n",
       "      <td>B1</td>\n",
       "    </tr>\n",
       "    <tr>\n",
       "      <th>2</th>\n",
       "      <td>A2</td>\n",
       "      <td>B2</td>\n",
       "    </tr>\n",
       "    <tr>\n",
       "      <th>3</th>\n",
       "      <td>A3</td>\n",
       "      <td>B3</td>\n",
       "    </tr>\n",
       "    <tr>\n",
       "      <th>0</th>\n",
       "      <td>C0</td>\n",
       "      <td>C0</td>\n",
       "    </tr>\n",
       "    <tr>\n",
       "      <th>1</th>\n",
       "      <td>C1</td>\n",
       "      <td>C1</td>\n",
       "    </tr>\n",
       "    <tr>\n",
       "      <th>2</th>\n",
       "      <td>C2</td>\n",
       "      <td>C2</td>\n",
       "    </tr>\n",
       "    <tr>\n",
       "      <th>3</th>\n",
       "      <td>C3</td>\n",
       "      <td>C3</td>\n",
       "    </tr>\n",
       "  </tbody>\n",
       "</table>\n",
       "</div>"
      ],
      "text/plain": [
       "    A   B\n",
       "0  A0  B0\n",
       "1  A1  B1\n",
       "2  A2  B2\n",
       "3  A3  B3\n",
       "0  C0  C0\n",
       "1  C1  C1\n",
       "2  C2  C2\n",
       "3  C3  C3"
      ]
     },
     "execution_count": 109,
     "metadata": {},
     "output_type": "execute_result"
    }
   ],
   "source": [
    "a"
   ]
  },
  {
   "cell_type": "code",
   "execution_count": 110,
   "id": "b713fd31-fbff-414a-bd9d-f1d624e2f647",
   "metadata": {},
   "outputs": [],
   "source": [
    "# updating index"
   ]
  },
  {
   "cell_type": "code",
   "execution_count": 114,
   "id": "36acc490-5b41-427c-84c2-9adc64835448",
   "metadata": {},
   "outputs": [],
   "source": [
    "a.index = range(len(a))   # can be applied for large dataset"
   ]
  },
  {
   "cell_type": "code",
   "execution_count": 115,
   "id": "cc876ced-4fb8-4a20-b197-faefc9f01308",
   "metadata": {},
   "outputs": [
    {
     "data": {
      "text/html": [
       "<div>\n",
       "<style scoped>\n",
       "    .dataframe tbody tr th:only-of-type {\n",
       "        vertical-align: middle;\n",
       "    }\n",
       "\n",
       "    .dataframe tbody tr th {\n",
       "        vertical-align: top;\n",
       "    }\n",
       "\n",
       "    .dataframe thead th {\n",
       "        text-align: right;\n",
       "    }\n",
       "</style>\n",
       "<table border=\"1\" class=\"dataframe\">\n",
       "  <thead>\n",
       "    <tr style=\"text-align: right;\">\n",
       "      <th></th>\n",
       "      <th>A</th>\n",
       "      <th>B</th>\n",
       "    </tr>\n",
       "  </thead>\n",
       "  <tbody>\n",
       "    <tr>\n",
       "      <th>0</th>\n",
       "      <td>A0</td>\n",
       "      <td>B0</td>\n",
       "    </tr>\n",
       "    <tr>\n",
       "      <th>1</th>\n",
       "      <td>A1</td>\n",
       "      <td>B1</td>\n",
       "    </tr>\n",
       "    <tr>\n",
       "      <th>2</th>\n",
       "      <td>A2</td>\n",
       "      <td>B2</td>\n",
       "    </tr>\n",
       "    <tr>\n",
       "      <th>3</th>\n",
       "      <td>A3</td>\n",
       "      <td>B3</td>\n",
       "    </tr>\n",
       "    <tr>\n",
       "      <th>4</th>\n",
       "      <td>C0</td>\n",
       "      <td>C0</td>\n",
       "    </tr>\n",
       "    <tr>\n",
       "      <th>5</th>\n",
       "      <td>C1</td>\n",
       "      <td>C1</td>\n",
       "    </tr>\n",
       "    <tr>\n",
       "      <th>6</th>\n",
       "      <td>C2</td>\n",
       "      <td>C2</td>\n",
       "    </tr>\n",
       "    <tr>\n",
       "      <th>7</th>\n",
       "      <td>C3</td>\n",
       "      <td>C3</td>\n",
       "    </tr>\n",
       "  </tbody>\n",
       "</table>\n",
       "</div>"
      ],
      "text/plain": [
       "    A   B\n",
       "0  A0  B0\n",
       "1  A1  B1\n",
       "2  A2  B2\n",
       "3  A3  B3\n",
       "4  C0  C0\n",
       "5  C1  C1\n",
       "6  C2  C2\n",
       "7  C3  C3"
      ]
     },
     "execution_count": 115,
     "metadata": {},
     "output_type": "execute_result"
    }
   ],
   "source": [
    "a"
   ]
  },
  {
   "cell_type": "markdown",
   "id": "ba383d38-eb0c-4826-9991-8e18a0254483",
   "metadata": {},
   "source": [
    "__________________________________________"
   ]
  },
  {
   "cell_type": "markdown",
   "id": "37a34297-ab8d-460a-b4d6-570cfba58b15",
   "metadata": {},
   "source": [
    "_______________________"
   ]
  },
  {
   "cell_type": "code",
   "execution_count": null,
   "id": "876248b3-eac2-4ff9-bf63-a01d65f865fb",
   "metadata": {},
   "outputs": [],
   "source": []
  }
 ],
 "metadata": {
  "kernelspec": {
   "display_name": "Python 3 (ipykernel)",
   "language": "python",
   "name": "python3"
  },
  "language_info": {
   "codemirror_mode": {
    "name": "ipython",
    "version": 3
   },
   "file_extension": ".py",
   "mimetype": "text/x-python",
   "name": "python",
   "nbconvert_exporter": "python",
   "pygments_lexer": "ipython3",
   "version": "3.12.7"
  }
 },
 "nbformat": 4,
 "nbformat_minor": 5
}
